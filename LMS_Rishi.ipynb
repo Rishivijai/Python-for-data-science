{
 "cells": [
  {
   "cell_type": "code",
   "execution_count": 1,
   "id": "5c7c8694",
   "metadata": {},
   "outputs": [],
   "source": [
    "class vijAI_Library:\n",
    "    Books_list = ['python for data science','atomic habits','megaliving','machine learning','the leader who had no title','creativity','python','rich dad poor dad','chanakya niti','see you at the top']\n",
    "    Pbooks_list = ['python for data science','atomic habits','megaliving','machine learning','the leader who had no title','creativity','python','rich dad poor dad','chanakya niti','see you at the top']\n",
    "    ID = 1312\n",
    "    \n",
    "    def __init__(self,):\n",
    "        \n",
    "        self.name = input('Enter your name: ')\n",
    "        self.age = input('Enter your age: ')\n",
    "        self.gender = input('Enter your gender: ')\n",
    "        self.address = input('Enter your address: ')\n",
    "        self.phone_no = input('Enter your Phone number: ')\n",
    "        # why for loop\n",
    "        for i in range(1):\n",
    "            vijAI_Library.ID = vijAI_Library.ID + 1\n",
    "        # Store the id in self.id also. \n",
    "        # vijAI_Library.ID keeps changing as the customers keep coming\n",
    "        print('Your ID number is: ',vijAI_Library.ID)\n",
    "        print('\\n Books in the library: ',vijAI_Library.Books_list)\n",
    "    \n",
    "        \n",
    "    def borrow_book(self):\n",
    "        print('Available books: ',self.Books_list,'\\n')  # use books_present()\n",
    "        br = input('Enter the name of the book you want: ')\n",
    "        print('\\n','Name = ',self.name,'\\n','Age = ',self.age,'\\n','Gender = ',self.gender,'\\n','Address = ',self.address,'\\n','Phone number = ',self.phone_no,'\\n','ID = ',self.ID)\n",
    "        if br in self.Books_list:\n",
    "            self.Books_list.remove(br)\n",
    "            print('\\n The book you chose = ',br)\n",
    "            print('\\n Currently present books = ',self.Books_list)  # use books_present\n",
    "        else:\n",
    "            print('\\n Book is not present \\n check for spelling errors \\n CASE SENSETIVE')\n",
    "            \n",
    "    def return_book(self):\n",
    "        self.return_ = input('Enter the name of the book you are returning: ')\n",
    "        print('\\n','Name = ',self.name,'\\n','Age = ',self.age,'\\n','Gender = ',self.gender,'\\n','Address = ',self.address,'\\n','Phone number = ',self.phone_no,'\\n','ID = ',self.ID)\n",
    "        if self.return_ in vijAI_Library.Pbooks_list:\n",
    "            self.Books_list.append(self.return_)\n",
    "        else:\n",
    "            print('\\n This book is not of vijAI Library')\n",
    "        print('\\n','Currently present books in the library: ',self.Books_list)  # use books_present()\n",
    "     \n",
    "    @classmethod\n",
    "    def books_present(cls):\n",
    "        print('Available Books: ',cls.Books_list)\n",
    "    \n",
    "    @classmethod\n",
    "    def add_book(cls):\n",
    "        x = input('Enter the book name: ')\n",
    "        cls.Books_list.append(x)\n",
    "        cls.Pbooks_list.append(x)\n"
   ]
  },
  {
   "cell_type": "code",
   "execution_count": 2,
   "id": "abc53684",
   "metadata": {},
   "outputs": [
    {
     "name": "stdout",
     "output_type": "stream",
     "text": [
      "Enter your name: rishi\n",
      "Enter your age: 28\n",
      "Enter your gender: male\n",
      "Enter your address: hld\n",
      "Enter your Phone number: 98734233\n",
      "Your ID number is:  1313\n",
      "\n",
      " Books in the library:  ['python for data science', 'atomic habits', 'megaliving', 'machine learning', 'the leader who had no title', 'creativity', 'python', 'rich dad poor dad', 'chanakya niti', 'see you at the top']\n"
     ]
    }
   ],
   "source": [
    "Rishi = vijAI_Library()"
   ]
  },
  {
   "cell_type": "code",
   "execution_count": 4,
   "id": "d2a6c66d",
   "metadata": {},
   "outputs": [
    {
     "data": {
      "text/plain": [
       "1313"
      ]
     },
     "execution_count": 4,
     "metadata": {},
     "output_type": "execute_result"
    }
   ],
   "source": [
    "Rishi.ID"
   ]
  },
  {
   "cell_type": "code",
   "execution_count": 5,
   "id": "31f79bcf",
   "metadata": {},
   "outputs": [
    {
     "name": "stdout",
     "output_type": "stream",
     "text": [
      "Available books:  ['python for data science', 'atomic habits', 'megaliving', 'machine learning', 'the leader who had no title', 'creativity', 'python', 'rich dad poor dad', 'chanakya niti', 'see you at the top'] \n",
      "\n",
      "Enter the name of the book you want: atomic habits\n",
      "\n",
      " Name =  rishi \n",
      " Age =  28 \n",
      " Gender =  male \n",
      " Address =  hld \n",
      " Phone number =  98734233 \n",
      " ID =  1313\n",
      "\n",
      " The book you chose =  atomic habits\n",
      "\n",
      " Currently present books =  ['python for data science', 'megaliving', 'machine learning', 'the leader who had no title', 'creativity', 'python', 'rich dad poor dad', 'chanakya niti', 'see you at the top']\n"
     ]
    }
   ],
   "source": [
    "Rishi.borrow_book()"
   ]
  },
  {
   "cell_type": "code",
   "execution_count": 6,
   "id": "c667de3b",
   "metadata": {},
   "outputs": [
    {
     "name": "stdout",
     "output_type": "stream",
     "text": [
      "Enter the name of the book you are returning: atomic habits\n",
      "\n",
      " Name =  rishi \n",
      " Age =  28 \n",
      " Gender =  male \n",
      " Address =  hld \n",
      " Phone number =  98734233 \n",
      " ID =  1313\n",
      "\n",
      " Currently present books in the library:  ['python for data science', 'megaliving', 'machine learning', 'the leader who had no title', 'creativity', 'python', 'rich dad poor dad', 'chanakya niti', 'see you at the top', 'atomic habits']\n"
     ]
    }
   ],
   "source": [
    "Rishi.return_book()"
   ]
  },
  {
   "cell_type": "code",
   "execution_count": 7,
   "id": "7a09df12",
   "metadata": {},
   "outputs": [
    {
     "data": {
      "text/plain": [
       "1313"
      ]
     },
     "execution_count": 7,
     "metadata": {},
     "output_type": "execute_result"
    }
   ],
   "source": [
    "Rishi.ID"
   ]
  },
  {
   "cell_type": "code",
   "execution_count": null,
   "id": "a68a7096",
   "metadata": {},
   "outputs": [],
   "source": [
    "Rohit = vijAI_Library()"
   ]
  },
  {
   "cell_type": "code",
   "execution_count": null,
   "id": "68fa3b3a",
   "metadata": {},
   "outputs": [],
   "source": [
    "Rohit.borrow_book()"
   ]
  },
  {
   "cell_type": "markdown",
   "id": "ae77bd96",
   "metadata": {},
   "source": [
    "**Remarks**\n",
    "1. Use a set for the books in the library. The same book is being returned multiple times\n",
    "2. Revise usage of loops\n",
    "3. Use books_present() method\n"
   ]
  },
  {
   "cell_type": "code",
   "execution_count": null,
   "id": "b4ac38df",
   "metadata": {},
   "outputs": [],
   "source": []
  }
 ],
 "metadata": {
  "kernelspec": {
   "display_name": "Python 3 (ipykernel)",
   "language": "python",
   "name": "python3"
  },
  "language_info": {
   "codemirror_mode": {
    "name": "ipython",
    "version": 3
   },
   "file_extension": ".py",
   "mimetype": "text/x-python",
   "name": "python",
   "nbconvert_exporter": "python",
   "pygments_lexer": "ipython3",
   "version": "3.10.9"
  }
 },
 "nbformat": 4,
 "nbformat_minor": 5
}
