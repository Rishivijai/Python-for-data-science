{
 "cells": [
  {
   "cell_type": "markdown",
   "id": "41dd4276",
   "metadata": {},
   "source": [
    "# Keywords\n",
    "python keywords are reserved words."
   ]
  },
  {
   "cell_type": "code",
   "execution_count": 2,
   "id": "bd362d4d",
   "metadata": {},
   "outputs": [
    {
     "name": "stdout",
     "output_type": "stream",
     "text": [
      "\n",
      "Here is a list of the Python keywords.  Enter any keyword to get more help.\n",
      "\n",
      "False               class               from                or\n",
      "None                continue            global              pass\n",
      "True                def                 if                  raise\n",
      "and                 del                 import              return\n",
      "as                  elif                in                  try\n",
      "assert              else                is                  while\n",
      "async               except              lambda              with\n",
      "await               finally             nonlocal            yield\n",
      "break               for                 not                 \n",
      "\n"
     ]
    }
   ],
   "source": [
    "help('keywords') # to get all the keywords"
   ]
  },
  {
   "cell_type": "markdown",
   "id": "09a7ab92",
   "metadata": {},
   "source": [
    "# Colors"
   ]
  },
  {
   "cell_type": "code",
   "execution_count": null,
   "id": "74b10b72",
   "metadata": {},
   "outputs": [],
   "source": [
    "print(rishi') # string should be red but hers showing in black when written wrong\n",
    "             # comment becomes red when typed beside code and code is wrong"
   ]
  },
  {
   "cell_type": "code",
   "execution_count": null,
   "id": "87ca0742",
   "metadata": {},
   "outputs": [],
   "source": [
    "# All the functions and keywords are green in color\n",
    "print()\n",
    "True\n",
    "False\n",
    "# All the operator are blue in color\n",
    "+ - / // % **"
   ]
  },
  {
   "cell_type": "markdown",
   "id": "48a8493c",
   "metadata": {},
   "source": [
    "# Python Communities\n",
    "- discuss.python.org\n",
    "- stackoverflow.com/questions/tagged/python\n",
    "- reddit.com\n",
    "- https://discord.gg/pyhton\n",
    "- pythonistacafe.com\n",
    "- github (biggest community with maximum indians)\n",
    "- pythonweekly.com\n",
    "- pycon (annual conference for the python community featuring talks, workshops and networking opportunities.)"
   ]
  },
  {
   "cell_type": "code",
   "execution_count": null,
   "id": "9b56e4b1",
   "metadata": {},
   "outputs": [],
   "source": []
  }
 ],
 "metadata": {
  "kernelspec": {
   "display_name": "Python 3 (ipykernel)",
   "language": "python",
   "name": "python3"
  },
  "language_info": {
   "codemirror_mode": {
    "name": "ipython",
    "version": 3
   },
   "file_extension": ".py",
   "mimetype": "text/x-python",
   "name": "python",
   "nbconvert_exporter": "python",
   "pygments_lexer": "ipython3",
   "version": "3.10.9"
  }
 },
 "nbformat": 4,
 "nbformat_minor": 5
}
