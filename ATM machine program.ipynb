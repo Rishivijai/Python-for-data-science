{
 "cells": [
  {
   "cell_type": "code",
   "execution_count": 6,
   "id": "199af510",
   "metadata": {},
   "outputs": [
    {
     "name": "stdout",
     "output_type": "stream",
     "text": [
      "Your ATM pin is 2373\n"
     ]
    }
   ],
   "source": [
    "class ATM:\n",
    "    pin = 2361\n",
    "    def __init__(self):\n",
    "            ATM.pin = ATM.pin + 12\n",
    "            self.p = ATM.pin\n",
    "            self.balance = 0\n",
    "            print(\"Your ATM pin is\" ,ATM.pin)\n",
    "            \n",
    "    \n",
    "    def action(self):\n",
    "        self.action = int(input(\"1. Withdrawl\\n 2. Deposit\\n 3. Check Balance\\n 4. Pin change\\n \\n\"))\n",
    "        if self.action == 1:\n",
    "            self.p = int(input(\"Enter your pin number: \"))\n",
    "            if self.p != ATM.pin:\n",
    "                print(\"wrong pin\")\n",
    "            else:\n",
    "                self.withdraw = int(input(\"Enter the amount you want to withdraw: \"))\n",
    "                if self.balance<self.withdraw:\n",
    "                    print(\"Insufficient balance\")\n",
    "                else:\n",
    "                    self.balance = self.balance-self.withdraw\n",
    "                    print(\"Your account balance is: \",self.balance)\n",
    "        elif self.action == 2:\n",
    "            if self.p != ATM.pin:\n",
    "                print(\"wrong pin\")\n",
    "            else:\n",
    "                self.deposit = int(input(\"Enter the amount you want to deposit: \"))\n",
    "                ATM.balance += self.deposit\n",
    "                print(\"Your account balance is: \",self.balance)\n",
    "        elif self.action == 3:\n",
    "            if self.p != ATM.pin:\n",
    "                print(\"wrong pin\")\n",
    "            else:\n",
    "                print(\"Account Balance: \",self.balance)\n",
    "        elif self.action == 4:\n",
    "            self.old_pin = int(input(\"Enter your old pin: \"))\n",
    "            if self.old_pin == ATM.pin:\n",
    "                self.new_pin = int(input(\"Enter new pin: \"))\n",
    "                ATM.pin = self.new_pin\n",
    "                print(\"Pin change successful\")\n",
    "            else:\n",
    "                print(\"wrong pin\")\n",
    "            \n",
    "                \n",
    "        \n",
    "                \n",
    "a = ATM()\n",
    "\n"
   ]
  },
  {
   "cell_type": "code",
   "execution_count": 7,
   "id": "51daf09a",
   "metadata": {},
   "outputs": [
    {
     "data": {
      "text/plain": [
       "2373"
      ]
     },
     "execution_count": 7,
     "metadata": {},
     "output_type": "execute_result"
    }
   ],
   "source": [
    "a.pin"
   ]
  },
  {
   "cell_type": "code",
   "execution_count": 8,
   "id": "fffdbb27",
   "metadata": {},
   "outputs": [
    {
     "data": {
      "text/plain": [
       "0"
      ]
     },
     "execution_count": 8,
     "metadata": {},
     "output_type": "execute_result"
    }
   ],
   "source": [
    "a.balance"
   ]
  },
  {
   "cell_type": "code",
   "execution_count": null,
   "id": "3d3d9857",
   "metadata": {},
   "outputs": [],
   "source": []
  }
 ],
 "metadata": {
  "kernelspec": {
   "display_name": "Python 3 (ipykernel)",
   "language": "python",
   "name": "python3"
  },
  "language_info": {
   "codemirror_mode": {
    "name": "ipython",
    "version": 3
   },
   "file_extension": ".py",
   "mimetype": "text/x-python",
   "name": "python",
   "nbconvert_exporter": "python",
   "pygments_lexer": "ipython3",
   "version": "3.10.9"
  }
 },
 "nbformat": 4,
 "nbformat_minor": 5
}
