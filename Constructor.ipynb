{
 "cells": [
  {
   "cell_type": "markdown",
   "id": "3b2d5070",
   "metadata": {},
   "source": [
    "# Constructor\n",
    "\n",
    "**A constructor is a special method used to initialize an object of a class**"
   ]
  },
  {
   "cell_type": "markdown",
   "id": "78f0acb5",
   "metadata": {},
   "source": [
    "1. Defining constructors is optional, python will provide a default constructor if no constructor is defined\n",
    "2. The constructor is executed automatically at the time of object creation\n",
    "3. The primary use of a constructor is to initialize instance variables of an object. The xonstructor contains a collection of statements that executes at the time of object creation."
   ]
  },
  {
   "cell_type": "code",
   "execution_count": null,
   "id": "60a39101",
   "metadata": {},
   "outputs": [],
   "source": [
    "class Student:\n",
    "    pass\n",
    "\n",
    "# python gives default constructor\n",
    "s1 = Student()\n",
    "s2 = Student()\n",
    "s3 = Student()"
   ]
  },
  {
   "cell_type": "code",
   "execution_count": null,
   "id": "3c68fcfb",
   "metadata": {},
   "outputs": [],
   "source": [
    "s1.name = 'ram'\n",
    "s1.age = 17\n",
    "s1.profession = 'web developer'\n",
    "\n",
    "s2.name = 'shyam'\n",
    "s2.age = 18\n",
    "s2.profession = 'software developer'\n",
    "\n",
    "s3.name = 'neeraj'\n",
    "s3.age = 19\n",
    "s3.profession = 'data scientist'\n",
    "\n"
   ]
  },
  {
   "cell_type": "code",
   "execution_count": null,
   "id": "9c2dc2f0",
   "metadata": {},
   "outputs": [],
   "source": [
    "class Student:\n",
    "    # constructor\n",
    "    # initialize instance variable\n",
    "    def __init__(self,name,age,profession):\n",
    "        self.name = name\n",
    "        self.age = age\n",
    "        self.proffesion = profession\n",
    "    \n",
    "# creating object using constructor\n",
    "s1 = Student('ram',17,'web developer')\n",
    "s2 = Student('shyam',18,'softare developer')\n",
    "s3 = Student('neeraj',19,'data scientist')"
   ]
  },
  {
   "cell_type": "markdown",
   "id": "bb4582d4",
   "metadata": {},
   "source": [
    "# Destructor\n",
    "\n",
    "**A destructor is called when an object is deleted or destroyed**"
   ]
  },
  {
   "cell_type": "code",
   "execution_count": 3,
   "id": "d3a1b3a2",
   "metadata": {},
   "outputs": [
    {
     "name": "stdout",
     "output_type": "stream",
     "text": [
      "Inside constructor\n",
      "object initialized\n",
      "Inside destructor\n",
      "object destroyed\n",
      "Hello, my name is Emma\n",
      "Inside destructor\n",
      "object destroyed\n"
     ]
    }
   ],
   "source": [
    "class Student:\n",
    "    \n",
    "    # constructor\n",
    "    def __init__(self,name):\n",
    "        print('Inside constructor')\n",
    "        self.name = name\n",
    "        print('object initialized')\n",
    "        \n",
    "    def show(self):\n",
    "        print('Hello, my name is', self.name)\n",
    "        \n",
    "    # destructor\n",
    "    def __del__(self):\n",
    "        print('Inside destructor')\n",
    "        print('object destroyed')\n",
    "        \n",
    "# create object\n",
    "s1 = Student('Emma')\n",
    "s1.show()\n",
    "s1.__del__()\n",
    "# delete object"
   ]
  },
  {
   "cell_type": "code",
   "execution_count": 14,
   "id": "afd08dad",
   "metadata": {},
   "outputs": [
    {
     "name": "stdout",
     "output_type": "stream",
     "text": [
      "Inside constructor\n",
      "object initialized\n",
      "Inside destructor\n",
      "object destroyed\n",
      "Hello, my name is Emma\n"
     ]
    },
    {
     "ename": "TypeError",
     "evalue": "Student.__del__() missing 1 required positional argument: 'name'",
     "output_type": "error",
     "traceback": [
      "\u001b[1;31m---------------------------------------------------------------------------\u001b[0m",
      "\u001b[1;31mTypeError\u001b[0m                                 Traceback (most recent call last)",
      "Cell \u001b[1;32mIn[14], line 20\u001b[0m\n\u001b[0;32m     18\u001b[0m s1 \u001b[38;5;241m=\u001b[39m Student(\u001b[38;5;124m'\u001b[39m\u001b[38;5;124mEmma\u001b[39m\u001b[38;5;124m'\u001b[39m)\n\u001b[0;32m     19\u001b[0m s1\u001b[38;5;241m.\u001b[39mshow()\n\u001b[1;32m---> 20\u001b[0m \u001b[43ms1\u001b[49m\u001b[38;5;241;43m.\u001b[39;49m\u001b[38;5;21;43m__del__\u001b[39;49m\u001b[43m(\u001b[49m\u001b[43m)\u001b[49m\n",
      "\u001b[1;31mTypeError\u001b[0m: Student.__del__() missing 1 required positional argument: 'name'"
     ]
    }
   ],
   "source": [
    "class Student:\n",
    "    \n",
    "    # constructor\n",
    "    def __init__(self,name):\n",
    "        print('Inside constructor')\n",
    "        self.name = name\n",
    "        print('object initialized')\n",
    "        \n",
    "    def show(self):\n",
    "        print('Hello, my name is', self.name)\n",
    "        \n",
    "    # destructor\n",
    "    def __del__(self,name):\n",
    "        print('Inside destructor')\n",
    "        print('object destroyed')\n",
    "        \n",
    "# create object\n",
    "s1 = Student('Emma')\n",
    "s1.show()\n",
    "s1.__del__()\n",
    "# delete object"
   ]
  },
  {
   "cell_type": "markdown",
   "id": "1967e1af",
   "metadata": {},
   "source": [
    "# Instance Methods\n",
    "\n",
    "- Methods in which instance variables and class variables are used.\n",
    "- Used to access or modify both the object and class state.\n",
    "- It must have a self parameter to refer to the current object."
   ]
  },
  {
   "cell_type": "code",
   "execution_count": 1,
   "id": "d84e971f",
   "metadata": {},
   "outputs": [
    {
     "name": "stdout",
     "output_type": "stream",
     "text": [
      "Hey! I am a Data Scientist\n",
      "My name is  xyz\n"
     ]
    }
   ],
   "source": [
    "class Aspirant:\n",
    "    def __init__(self,name):  # Constructor or special methods\n",
    "        print('Hey! I am a Data Scientist')\n",
    "        self.name = name\n",
    "    def show(self):               # show() is an instance method\n",
    "        print('My name is ',self.name)\n",
    "        \n",
    "a1 = Aspirant('xyz')\n",
    "a1.show()  # Calling an instance method\n",
    "        \n",
    "    "
   ]
  },
  {
   "cell_type": "code",
   "execution_count": 17,
   "id": "38e97502",
   "metadata": {},
   "outputs": [
    {
     "name": "stdout",
     "output_type": "stream",
     "text": [
      "Web Developer\n"
     ]
    }
   ],
   "source": [
    "class Person:\n",
    "    job = 'Data Scientist'\n",
    "    def change_class_state(self):\n",
    "        Person.job = 'Web Developer' # Access class attributes and change the class variable\n",
    "        print(Person.job)\n",
    "p1 = Person()\n",
    "p1.change_class_state()"
   ]
  },
  {
   "cell_type": "code",
   "execution_count": 16,
   "id": "ff6ce861",
   "metadata": {},
   "outputs": [],
   "source": [
    "p1.job = 'web developer'"
   ]
  },
  {
   "cell_type": "markdown",
   "id": "1176a67d",
   "metadata": {},
   "source": [
    "# Class Methods\n",
    "\n",
    "- Methods in which only class variables are used\n",
    "- Take the cls parameter\n",
    "- Used to access or modify the class state"
   ]
  },
  {
   "cell_type": "code",
   "execution_count": 18,
   "id": "c98ff6a0",
   "metadata": {},
   "outputs": [
    {
     "name": "stdout",
     "output_type": "stream",
     "text": [
      "the value of x is  89  and the value of y is  78\n"
     ]
    }
   ],
   "source": [
    "x = 89\n",
    "y = 78\n",
    "print('the value of x is ',x,' and the value of y is ',y)"
   ]
  },
  {
   "cell_type": "code",
   "execution_count": 19,
   "id": "8309ba23",
   "metadata": {},
   "outputs": [
    {
     "name": "stdout",
     "output_type": "stream",
     "text": [
      "the value of x is 89 and the value of y is 78\n"
     ]
    }
   ],
   "source": [
    "x = 89\n",
    "y = 78\n",
    "print(f'the value of x is {x} and the value of y is {y}')"
   ]
  },
  {
   "cell_type": "code",
   "execution_count": 24,
   "id": "bbe4d788",
   "metadata": {},
   "outputs": [
    {
     "name": "stdout",
     "output_type": "stream",
     "text": [
      "Present school name is XYZ in Delhi\n",
      "<class '__main__.School'>\n",
      "Now school has been changed to ABC in Haldwani\n"
     ]
    }
   ],
   "source": [
    "class School:\n",
    "    school_name = 'XYZ'\n",
    "    loc = 'Delhi'\n",
    "    \n",
    "    @classmethod                            # decorator\n",
    "    def change_school(cls,name,loc1):\n",
    "        print(cls)\n",
    "        cls.school_name = name\n",
    "        cls.loc = loc1\n",
    "        \n",
    "std = School()\n",
    "print(f'Present school name is {School.school_name} in {School.loc}') # f-string (string formating)\n",
    "School.change_school('ABC','Haldwani')\n",
    "print(f'Now school has been changed to {School.school_name} in {School.loc}')\n"
   ]
  },
  {
   "cell_type": "code",
   "execution_count": 25,
   "id": "d3ce5c5b",
   "metadata": {},
   "outputs": [
    {
     "name": "stdout",
     "output_type": "stream",
     "text": [
      "Present school name is XYZ in Delhi\n"
     ]
    },
    {
     "ename": "TypeError",
     "evalue": "School.change_school() missing 1 required positional argument: 'loc1'",
     "output_type": "error",
     "traceback": [
      "\u001b[1;31m---------------------------------------------------------------------------\u001b[0m",
      "\u001b[1;31mTypeError\u001b[0m                                 Traceback (most recent call last)",
      "Cell \u001b[1;32mIn[25], line 13\u001b[0m\n\u001b[0;32m     11\u001b[0m std \u001b[38;5;241m=\u001b[39m School()\n\u001b[0;32m     12\u001b[0m \u001b[38;5;28mprint\u001b[39m(\u001b[38;5;124mf\u001b[39m\u001b[38;5;124m'\u001b[39m\u001b[38;5;124mPresent school name is \u001b[39m\u001b[38;5;132;01m{\u001b[39;00mSchool\u001b[38;5;241m.\u001b[39mschool_name\u001b[38;5;132;01m}\u001b[39;00m\u001b[38;5;124m in \u001b[39m\u001b[38;5;132;01m{\u001b[39;00mSchool\u001b[38;5;241m.\u001b[39mloc\u001b[38;5;132;01m}\u001b[39;00m\u001b[38;5;124m'\u001b[39m) \u001b[38;5;66;03m# f-string (string formating)\u001b[39;00m\n\u001b[1;32m---> 13\u001b[0m \u001b[43mSchool\u001b[49m\u001b[38;5;241;43m.\u001b[39;49m\u001b[43mchange_school\u001b[49m\u001b[43m(\u001b[49m\u001b[38;5;124;43m'\u001b[39;49m\u001b[38;5;124;43mABC\u001b[39;49m\u001b[38;5;124;43m'\u001b[39;49m\u001b[43m,\u001b[49m\u001b[38;5;124;43m'\u001b[39;49m\u001b[38;5;124;43mHaldwani\u001b[39;49m\u001b[38;5;124;43m'\u001b[39;49m\u001b[43m)\u001b[49m\n\u001b[0;32m     14\u001b[0m \u001b[38;5;28mprint\u001b[39m(\u001b[38;5;124mf\u001b[39m\u001b[38;5;124m'\u001b[39m\u001b[38;5;124mNow school has been changed to \u001b[39m\u001b[38;5;132;01m{\u001b[39;00mSchool\u001b[38;5;241m.\u001b[39mschool_name\u001b[38;5;132;01m}\u001b[39;00m\u001b[38;5;124m in \u001b[39m\u001b[38;5;132;01m{\u001b[39;00mSchool\u001b[38;5;241m.\u001b[39mloc\u001b[38;5;132;01m}\u001b[39;00m\u001b[38;5;124m'\u001b[39m)\n",
      "\u001b[1;31mTypeError\u001b[0m: School.change_school() missing 1 required positional argument: 'loc1'"
     ]
    }
   ],
   "source": [
    "class School:\n",
    "    school_name = 'XYZ'\n",
    "    loc = 'Delhi'\n",
    "    \n",
    "    # without decorator\n",
    "    def change_school(cls,name,loc1):\n",
    "        print(cls)\n",
    "        cls.school_name = name\n",
    "        cls.loc = loc1\n",
    "        \n",
    "std = School()\n",
    "print(f'Present school name is {School.school_name} in {School.loc}') # f-string (string formating)\n",
    "School.change_school('ABC','Haldwani')\n",
    "print(f'Now school has been changed to {School.school_name} in {School.loc}')\n"
   ]
  },
  {
   "cell_type": "code",
   "execution_count": 1,
   "id": "4f04937a",
   "metadata": {},
   "outputs": [
    {
     "name": "stdout",
     "output_type": "stream",
     "text": [
      "['Parag', '4th']\n",
      "Parag 4th\n"
     ]
    }
   ],
   "source": [
    "# using class methods as alternative constructors\n",
    "class School:\n",
    "    school_name = 'XYZ'\n",
    "    loc = 'Delhi'\n",
    "    \n",
    "    def __init__(self,name,class_):\n",
    "        self.name = name\n",
    "        self.class_ = class_\n",
    "        \n",
    "    @classmethod\n",
    "    def new_admission(cls,info):\n",
    "        lst = info.split('@')\n",
    "        print(lst)\n",
    "        return cls(lst[0],lst[1])\n",
    "    \n",
    "std2 = School.new_admission('Parag@4th')\n",
    "\n",
    "print(std2.name,std2.class_)"
   ]
  },
  {
   "cell_type": "markdown",
   "id": "08300274",
   "metadata": {},
   "source": [
    "# Static Method\n",
    "\n",
    "- Similar to a normal function\n",
    "- It does not take the cls and self parameters\n",
    "- It cannot modify the state of the object or class"
   ]
  },
  {
   "cell_type": "markdown",
   "id": "f47887ac",
   "metadata": {},
   "source": [
    "# Advantages\n",
    " \n",
    "- Safer code - as they cannot change the class ot instance variables"
   ]
  },
  {
   "cell_type": "code",
   "execution_count": 7,
   "id": "ebefb5bc",
   "metadata": {},
   "outputs": [
    {
     "name": "stdout",
     "output_type": "stream",
     "text": [
      "Inside static method  10\n",
      "Inside static method  10\n"
     ]
    }
   ],
   "source": [
    "class Employee:\n",
    "    @staticmethod\n",
    "    def sample(x):\n",
    "        print('Inside static method ',x)\n",
    "\n",
    "# call using class\n",
    "Employee.sample(10)\n",
    "\n",
    "# call using object\n",
    "emp = Employee()\n",
    "emp.sample(10)"
   ]
  },
  {
   "cell_type": "code",
   "execution_count": null,
   "id": "866d9764",
   "metadata": {},
   "outputs": [],
   "source": []
  }
 ],
 "metadata": {
  "kernelspec": {
   "display_name": "Python 3 (ipykernel)",
   "language": "python",
   "name": "python3"
  },
  "language_info": {
   "codemirror_mode": {
    "name": "ipython",
    "version": 3
   },
   "file_extension": ".py",
   "mimetype": "text/x-python",
   "name": "python",
   "nbconvert_exporter": "python",
   "pygments_lexer": "ipython3",
   "version": "3.10.9"
  }
 },
 "nbformat": 4,
 "nbformat_minor": 5
}
