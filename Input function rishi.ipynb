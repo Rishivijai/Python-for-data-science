{
 "cells": [
  {
   "cell_type": "markdown",
   "id": "25788c67",
   "metadata": {},
   "source": [
    "# Input function"
   ]
  },
  {
   "cell_type": "markdown",
   "id": "cad2c86f",
   "metadata": {},
   "source": [
    "In python, using the input() function we take input from a user and using the print() we display output on the screen. Any data given in input is string"
   ]
  },
  {
   "cell_type": "code",
   "execution_count": 5,
   "id": "b167c3bc",
   "metadata": {},
   "outputs": [
    {
     "name": "stdout",
     "output_type": "stream",
     "text": [
      "56\n",
      "<class 'str'>\n"
     ]
    }
   ],
   "source": [
    "# take  value from user\n",
    "print(type(input()))"
   ]
  },
  {
   "cell_type": "code",
   "execution_count": 28,
   "id": "ac98b1bb",
   "metadata": {},
   "outputs": [
    {
     "name": "stdout",
     "output_type": "stream",
     "text": [
      "even number :4\n",
      "odd number :5\n",
      "45\n"
     ]
    }
   ],
   "source": [
    "b = input(\"even number :\")\n",
    "c = input(\"odd number :\")\n",
    "r = b+c\n",
    "print(r)"
   ]
  },
  {
   "cell_type": "code",
   "execution_count": 24,
   "id": "937f6985",
   "metadata": {},
   "outputs": [
    {
     "name": "stdout",
     "output_type": "stream",
     "text": [
      "24rishi\n"
     ]
    }
   ],
   "source": [
    "x = input(24)"
   ]
  },
  {
   "cell_type": "code",
   "execution_count": 26,
   "id": "a4df606f",
   "metadata": {},
   "outputs": [
    {
     "name": "stdout",
     "output_type": "stream",
     "text": [
      "3himanshu\n"
     ]
    }
   ],
   "source": [
    "y = input(2+1)"
   ]
  },
  {
   "cell_type": "code",
   "execution_count": 27,
   "id": "476759d6",
   "metadata": {},
   "outputs": [
    {
     "name": "stdout",
     "output_type": "stream",
     "text": [
      "employee number$ and tag number with @ sign$ 345 @ 25\n"
     ]
    }
   ],
   "source": [
    "q = input(\"employee number$ and tag number with @ sign\")"
   ]
  },
  {
   "cell_type": "code",
   "execution_count": 25,
   "id": "c82841ee",
   "metadata": {},
   "outputs": [
    {
     "name": "stdout",
     "output_type": "stream",
     "text": [
      "employee name: rishi\n"
     ]
    }
   ],
   "source": [
    "x = input(\"employee name: \")"
   ]
  },
  {
   "cell_type": "code",
   "execution_count": 14,
   "id": "b927de25",
   "metadata": {},
   "outputs": [
    {
     "name": "stdout",
     "output_type": "stream",
     "text": [
      "Enter Your Age: 25\n"
     ]
    }
   ],
   "source": [
    "# Enter Your Age\n",
    "age = input(\"Enter Your Age: \")"
   ]
  },
  {
   "cell_type": "code",
   "execution_count": 2,
   "id": "aaae7b25",
   "metadata": {},
   "outputs": [
    {
     "name": "stdout",
     "output_type": "stream",
     "text": [
      "enter the number: rishi\n"
     ]
    }
   ],
   "source": [
    "# Using input function\n",
    "comp = input('enter the number: ')"
   ]
  },
  {
   "cell_type": "code",
   "execution_count": 5,
   "id": "5b760b73",
   "metadata": {},
   "outputs": [
    {
     "name": "stdout",
     "output_type": "stream",
     "text": [
      "enter your name: rishi\n",
      "hello,rishihow are you\n"
     ]
    }
   ],
   "source": [
    "name = input(\"enter your name: \")\n",
    "print(\"hello,\"+ name +\"how are you\")"
   ]
  },
  {
   "cell_type": "code",
   "execution_count": 9,
   "id": "9b31dc3f",
   "metadata": {},
   "outputs": [
    {
     "name": "stdout",
     "output_type": "stream",
     "text": [
      "enter your age28\n",
      "His age is\t28\n"
     ]
    }
   ],
   "source": [
    "age = input(\"enter your age\")\n",
    "print(\"His age is\\t\" +age)"
   ]
  },
  {
   "cell_type": "code",
   "execution_count": 2,
   "id": "02f61e1d",
   "metadata": {},
   "outputs": [
    {
     "name": "stdout",
     "output_type": "stream",
     "text": [
      "enter your name: Rishi Singh\n",
      "enter your salary: 50000000000000\n",
      "enter your age28\n",
      "enter fathers nameKanchan Singh\n",
      "enter your locationHaldwani\n",
      "\n",
      "\n",
      "Rishi Singh 50000000000000 28\n",
      "Kanchan Singh Haldwani\n",
      "<class 'str'>\n",
      "\n",
      "\n",
      "hello, my name is Rishi Singh i am 28 years old  my fathers name is Kanchan Singh my salary is 50000000000000 I am from Haldwani\n"
     ]
    }
   ],
   "source": [
    "name = input(\"enter your name: \")\n",
    "salary = input(\"enter your salary: \")\n",
    "age = input(\"enter your age\")\n",
    "fathersname = input(\"enter fathers name\")\n",
    "location = input(\"enter your location\")\n",
    "\n",
    "print(\"\\n\")\n",
    "print(name, salary, age)\n",
    "print(fathersname, location)\n",
    "print(type(salary))\n",
    "print(\"\\n\")\n",
    "print(\"hello, my name is \"+name+\" i am \"+age+\" years old \"+\" my fathers name is \"+fathersname+\" my salary is \"+salary+\" I am from \"+location)\n"
   ]
  },
  {
   "cell_type": "code",
   "execution_count": 16,
   "id": "e076af90",
   "metadata": {},
   "outputs": [
    {
     "name": "stdout",
     "output_type": "stream",
     "text": [
      "Enter Employe Name: nitin\n",
      "Enter Salary: 6000000\n",
      "Enter Company name: google\n",
      "\n",
      "\n",
      "Printing Empoyee Details\n",
      "Name nitin\n",
      "company google\n",
      "Salary 6000000\n",
      "nitin\n"
     ]
    },
    {
     "data": {
      "text/plain": [
       "NoneType"
      ]
     },
     "execution_count": 16,
     "metadata": {},
     "output_type": "execute_result"
    }
   ],
   "source": [
    "#take three values from user\n",
    "name = input(\"Enter Employe Name: \")\n",
    "salary = input(\"Enter Salary: \")\n",
    "company = input(\"Enter Company name: \")\n",
    "\n",
    "# Display all values on screen\n",
    "print(\"\\n\")\n",
    "print(\"Printing Empoyee Details\")\n",
    "print(\"Name\",name)\n",
    "print(\"company\",company)\n",
    "print(\"Salary\",salary)\n",
    "type(print(name))\n",
    "\n"
   ]
  },
  {
   "cell_type": "code",
   "execution_count": 4,
   "id": "1be44039",
   "metadata": {},
   "outputs": [
    {
     "name": "stdout",
     "output_type": "stream",
     "text": [
      "name: rishi\n"
     ]
    },
    {
     "data": {
      "text/plain": [
       "'name: rishi'"
      ]
     },
     "execution_count": 4,
     "metadata": {},
     "output_type": "execute_result"
    }
   ],
   "source": [
    "input() #returns string"
   ]
  },
  {
   "cell_type": "code",
   "execution_count": 5,
   "id": "ceff0bf9",
   "metadata": {},
   "outputs": [
    {
     "name": "stdout",
     "output_type": "stream",
     "text": [
      "44\n"
     ]
    },
    {
     "data": {
      "text/plain": [
       "'44'"
      ]
     },
     "execution_count": 5,
     "metadata": {},
     "output_type": "execute_result"
    }
   ],
   "source": [
    "input() #returns string"
   ]
  },
  {
   "cell_type": "code",
   "execution_count": 6,
   "id": "b55e9528",
   "metadata": {},
   "outputs": [
    {
     "name": "stdout",
     "output_type": "stream",
     "text": [
      "5j\n"
     ]
    },
    {
     "data": {
      "text/plain": [
       "'5j'"
      ]
     },
     "execution_count": 6,
     "metadata": {},
     "output_type": "execute_result"
    }
   ],
   "source": [
    "input() #returns string"
   ]
  },
  {
   "cell_type": "code",
   "execution_count": 7,
   "id": "2cb69650",
   "metadata": {},
   "outputs": [
    {
     "name": "stdout",
     "output_type": "stream",
     "text": [
      "45.78\n"
     ]
    },
    {
     "data": {
      "text/plain": [
       "'45.78'"
      ]
     },
     "execution_count": 7,
     "metadata": {},
     "output_type": "execute_result"
    }
   ],
   "source": [
    "input() #returns string"
   ]
  },
  {
   "cell_type": "code",
   "execution_count": 9,
   "id": "d7edda99",
   "metadata": {},
   "outputs": [
    {
     "name": "stdout",
     "output_type": "stream",
     "text": [
      "True\n"
     ]
    },
    {
     "data": {
      "text/plain": [
       "'True'"
      ]
     },
     "execution_count": 9,
     "metadata": {},
     "output_type": "execute_result"
    }
   ],
   "source": [
    "input() #returns string "
   ]
  },
  {
   "cell_type": "code",
   "execution_count": 12,
   "id": "9f0b8329",
   "metadata": {},
   "outputs": [
    {
     "name": "stdout",
     "output_type": "stream",
     "text": [
      "Printing Details\n",
      "fdfdgh\n",
      "456\n",
      "hjj\n"
     ]
    },
    {
     "data": {
      "text/plain": [
       "'hjj'"
      ]
     },
     "execution_count": 12,
     "metadata": {},
     "output_type": "execute_result"
    }
   ],
   "source": [
    "print(\"Printing Details\")\n",
    "\n",
    "input()\n",
    "input()\n",
    "input()\n",
    "\n"
   ]
  },
  {
   "cell_type": "code",
   "execution_count": 13,
   "id": "4afce7fb",
   "metadata": {},
   "outputs": [
    {
     "name": "stdout",
     "output_type": "stream",
     "text": [
      "4\n"
     ]
    }
   ],
   "source": [
    "x = input()"
   ]
  },
  {
   "cell_type": "code",
   "execution_count": 1,
   "id": "6462cd02",
   "metadata": {},
   "outputs": [
    {
     "name": "stdout",
     "output_type": "stream",
     "text": [
      "write even number4\n"
     ]
    }
   ],
   "source": [
    "x = input(\"write even number:  \")\n"
   ]
  },
  {
   "cell_type": "code",
   "execution_count": 2,
   "id": "a67ffb0d",
   "metadata": {},
   "outputs": [
    {
     "name": "stdout",
     "output_type": "stream",
     "text": [
      "Ques.1.\tTell me something about yourself?\n",
      "\n",
      "\n",
      "Ans.1.\tHello, my name is Rishi Singh\n"
     ]
    },
    {
     "data": {
      "text/plain": [
       "'Hello, my name is Rishi Singh'"
      ]
     },
     "execution_count": 2,
     "metadata": {},
     "output_type": "execute_result"
    }
   ],
   "source": [
    "print(\"Ques.1.\\tTell me something about yourself?\")\n",
    "print(\"\\n\")\n",
    "input(\"Ans.1.\\t\")\n",
    "\n"
   ]
  },
  {
   "cell_type": "code",
   "execution_count": 3,
   "id": "ba9c8b00",
   "metadata": {},
   "outputs": [
    {
     "name": "stdout",
     "output_type": "stream",
     "text": [
      "rishi singh\n"
     ]
    }
   ],
   "source": [
    "print(\"rishi singh\")"
   ]
  },
  {
   "cell_type": "code",
   "execution_count": 4,
   "id": "27d6f228",
   "metadata": {},
   "outputs": [
    {
     "name": "stdout",
     "output_type": "stream",
     "text": [
      "hem\n"
     ]
    }
   ],
   "source": [
    "print(\"hem\")"
   ]
  },
  {
   "cell_type": "code",
   "execution_count": 5,
   "id": "094f3759",
   "metadata": {},
   "outputs": [
    {
     "name": "stdout",
     "output_type": "stream",
     "text": [
      "ramesh chander\n"
     ]
    }
   ],
   "source": [
    "print(\"ramesh chander\")"
   ]
  },
  {
   "cell_type": "code",
   "execution_count": 6,
   "id": "f8b328d6",
   "metadata": {},
   "outputs": [
    {
     "name": "stdout",
     "output_type": "stream",
     "text": [
      "suresh chander\n"
     ]
    }
   ],
   "source": [
    "print(\"suresh chander\")"
   ]
  },
  {
   "cell_type": "code",
   "execution_count": 7,
   "id": "f3ffb32e",
   "metadata": {},
   "outputs": [
    {
     "name": "stdout",
     "output_type": "stream",
     "text": [
      "dinesh singh\n"
     ]
    }
   ],
   "source": [
    "print(\"dinesh singh\")"
   ]
  },
  {
   "cell_type": "code",
   "execution_count": 8,
   "id": "ed22a04b",
   "metadata": {},
   "outputs": [
    {
     "name": "stdout",
     "output_type": "stream",
     "text": [
      "tushar singh\n"
     ]
    }
   ],
   "source": [
    "print(\"tushar singh\")"
   ]
  },
  {
   "cell_type": "code",
   "execution_count": 9,
   "id": "0bcb2d04",
   "metadata": {},
   "outputs": [
    {
     "name": "stdout",
     "output_type": "stream",
     "text": [
      "erish\n"
     ]
    }
   ],
   "source": [
    "print(\"erish\")"
   ]
  },
  {
   "cell_type": "code",
   "execution_count": 10,
   "id": "f67ba2c2",
   "metadata": {},
   "outputs": [
    {
     "name": "stdout",
     "output_type": "stream",
     "text": [
      "fish\n"
     ]
    }
   ],
   "source": [
    "print(\"fish\")"
   ]
  },
  {
   "cell_type": "code",
   "execution_count": 11,
   "id": "c2a71a34",
   "metadata": {},
   "outputs": [
    {
     "name": "stdout",
     "output_type": "stream",
     "text": [
      "suresh\n"
     ]
    }
   ],
   "source": [
    "print(\"suresh\")"
   ]
  },
  {
   "cell_type": "code",
   "execution_count": 12,
   "id": "770d74bb",
   "metadata": {},
   "outputs": [
    {
     "name": "stdout",
     "output_type": "stream",
     "text": [
      "ganesh\n"
     ]
    }
   ],
   "source": [
    "print(\"ganesh\")"
   ]
  },
  {
   "cell_type": "code",
   "execution_count": 17,
   "id": "817f52fe",
   "metadata": {},
   "outputs": [
    {
     "name": "stdout",
     "output_type": "stream",
     "text": [
      "even number:4\n",
      "odd number:7\n",
      "47\n"
     ]
    }
   ],
   "source": [
    "x=input('even number:')\n",
    "y=input('odd number:')\n",
    "Z= x+y\n",
    "print(Z)"
   ]
  },
  {
   "cell_type": "code",
   "execution_count": 18,
   "id": "f6cdf728",
   "metadata": {},
   "outputs": [
    {
     "data": {
      "text/plain": [
       "str"
      ]
     },
     "execution_count": 18,
     "metadata": {},
     "output_type": "execute_result"
    }
   ],
   "source": [
    "type(Z)"
   ]
  },
  {
   "cell_type": "code",
   "execution_count": 8,
   "id": "f1e56b8e",
   "metadata": {},
   "outputs": [
    {
     "name": "stdout",
     "output_type": "stream",
     "text": [
      "enter a number23\n",
      "<class 'int'>\n"
     ]
    }
   ],
   "source": [
    "x = input(\"enter a number\")\n",
    "print(type(int(x)))"
   ]
  },
  {
   "cell_type": "code",
   "execution_count": 15,
   "id": "80aca25e",
   "metadata": {},
   "outputs": [
    {
     "name": "stdout",
     "output_type": "stream",
     "text": [
      "enter a number45\n",
      "45\n"
     ]
    },
    {
     "data": {
      "text/plain": [
       "NoneType"
      ]
     },
     "execution_count": 15,
     "metadata": {},
     "output_type": "execute_result"
    }
   ],
   "source": [
    "type(print(int(input(\"enter a number\")))) # have to ask about the none type"
   ]
  },
  {
   "cell_type": "code",
   "execution_count": 10,
   "id": "afb5ba83",
   "metadata": {},
   "outputs": [
    {
     "name": "stdout",
     "output_type": "stream",
     "text": [
      "even number 4\n",
      "odd number 5\n",
      "\n",
      "\n",
      "45\n",
      "\n",
      "\n",
      "45 <class 'int'> <class 'bool'> <class 'complex'> <class 'str'>\n"
     ]
    }
   ],
   "source": [
    "x = input(\"even number \")\n",
    "y = input(\"odd number \")\n",
    "z = x + y\n",
    "print(\"\\n\")\n",
    "print(z) \n",
    "print(\"\\n\")\n",
    "print((z), type(int(z)), type(bool(z)), type(complex(z)), type(str(z)))"
   ]
  },
  {
   "cell_type": "code",
   "execution_count": 12,
   "id": "e3c0ec49",
   "metadata": {},
   "outputs": [
    {
     "name": "stdout",
     "output_type": "stream",
     "text": [
      "enter a number: 4\n",
      "4 \n",
      " <class 'int'> <class 'bool'> <class 'complex'> <class 'str'>\n"
     ]
    }
   ],
   "source": [
    "z = input(\"enter a number: \")\n",
    "print((z),(\"\\n\"), type(int(z)), type(bool(z)), type(complex(z)), type(str(z)))"
   ]
  },
  {
   "cell_type": "code",
   "execution_count": 6,
   "id": "b7c61f5a",
   "metadata": {},
   "outputs": [
    {
     "name": "stdout",
     "output_type": "stream",
     "text": [
      "enter a number: 45\n",
      "45 \n",
      " 45 \t <class 'int'> \n",
      " True \t <class 'bool'> \n",
      " (45+0j) \t <class 'complex'>\n"
     ]
    }
   ],
   "source": [
    "z = input(\"enter a number: \")\n",
    "print((z),(\"\\n\"),int(z),(\"\\t\"),type(int(z)),(\"\\n\"),bool(z),(\"\\t\"),type(bool(z)),(\"\\n\"),complex(z),(\"\\t\"),type(complex(z)))"
   ]
  },
  {
   "cell_type": "code",
   "execution_count": 15,
   "id": "81e4cad1",
   "metadata": {},
   "outputs": [
    {
     "name": "stdout",
     "output_type": "stream",
     "text": [
      "enter the number: 45\n"
     ]
    },
    {
     "ename": "TypeError",
     "evalue": "'salary' is an invalid keyword argument for print()",
     "output_type": "error",
     "traceback": [
      "\u001b[1;31m---------------------------------------------------------------------------\u001b[0m",
      "\u001b[1;31mTypeError\u001b[0m                                 Traceback (most recent call last)",
      "Cell \u001b[1;32mIn[15], line 1\u001b[0m\n\u001b[1;32m----> 1\u001b[0m \u001b[38;5;28;43mprint\u001b[39;49m\u001b[43m(\u001b[49m\u001b[43msalary\u001b[49m\u001b[43m \u001b[49m\u001b[38;5;241;43m=\u001b[39;49m\u001b[43m \u001b[49m\u001b[38;5;28;43mint\u001b[39;49m\u001b[43m(\u001b[49m\u001b[38;5;28;43minput\u001b[39;49m\u001b[43m(\u001b[49m\u001b[38;5;124;43m'\u001b[39;49m\u001b[38;5;124;43menter the number: \u001b[39;49m\u001b[38;5;124;43m'\u001b[39;49m\u001b[43m)\u001b[49m\u001b[43m)\u001b[49m\u001b[43m)\u001b[49m\n",
      "\u001b[1;31mTypeError\u001b[0m: 'salary' is an invalid keyword argument for print()"
     ]
    }
   ],
   "source": [
    "print(salary = int(input('enter the number: ')))"
   ]
  },
  {
   "cell_type": "code",
   "execution_count": 16,
   "id": "6253f476",
   "metadata": {},
   "outputs": [
    {
     "ename": "NameError",
     "evalue": "name 'salary' is not defined",
     "output_type": "error",
     "traceback": [
      "\u001b[1;31m---------------------------------------------------------------------------\u001b[0m",
      "\u001b[1;31mNameError\u001b[0m                                 Traceback (most recent call last)",
      "Cell \u001b[1;32mIn[16], line 1\u001b[0m\n\u001b[1;32m----> 1\u001b[0m \u001b[38;5;28mprint\u001b[39m(\u001b[43msalary\u001b[49m)\n",
      "\u001b[1;31mNameError\u001b[0m: name 'salary' is not defined"
     ]
    }
   ],
   "source": [
    "print(salary)"
   ]
  },
  {
   "cell_type": "code",
   "execution_count": 17,
   "id": "3936bfba",
   "metadata": {},
   "outputs": [
    {
     "name": "stdout",
     "output_type": "stream",
     "text": [
      "enter salary: 45\n",
      "45\n"
     ]
    }
   ],
   "source": [
    "print(int(input('enter salary: ')))"
   ]
  },
  {
   "cell_type": "code",
   "execution_count": 8,
   "id": "4210647e",
   "metadata": {},
   "outputs": [
    {
     "ename": "NameError",
     "evalue": "name 'salary' is not defined",
     "output_type": "error",
     "traceback": [
      "\u001b[1;31m---------------------------------------------------------------------------\u001b[0m",
      "\u001b[1;31mNameError\u001b[0m                                 Traceback (most recent call last)",
      "Cell \u001b[1;32mIn[8], line 1\u001b[0m\n\u001b[1;32m----> 1\u001b[0m \u001b[38;5;28mprint\u001b[39m(\u001b[43msalary\u001b[49m)\n",
      "\u001b[1;31mNameError\u001b[0m: name 'salary' is not defined"
     ]
    }
   ],
   "source": [
    "\n",
    "print(salary)"
   ]
  },
  {
   "cell_type": "code",
   "execution_count": 7,
   "id": "580b36c7",
   "metadata": {},
   "outputs": [],
   "source": [
    "del(salary)"
   ]
  },
  {
   "cell_type": "code",
   "execution_count": 13,
   "id": "976524be",
   "metadata": {},
   "outputs": [
    {
     "name": "stdout",
     "output_type": "stream",
     "text": [
      "67\n",
      "<class 'int'>\n"
     ]
    }
   ],
   "source": [
    "print(type(int(input())))"
   ]
  },
  {
   "cell_type": "code",
   "execution_count": 2,
   "id": "2de24769",
   "metadata": {},
   "outputs": [
    {
     "name": "stdout",
     "output_type": "stream",
     "text": [
      "what is your name: Rishi Singh\n",
      "where do you live:  Haldwani\\n \n",
      "what is your proffesion: Data Scientist\n",
      "Rishi Singh Haldwani\\n Data Scientist\n"
     ]
    }
   ],
   "source": [
    "x = input(\"what is your name: \")\n",
    "y = input(\"where do you live: \")\n",
    "z = input(\"what is your proffesion: \")\n",
    "q = x + y + z\n",
    "print(q) # this q is not english as we have already defined q as a string by storing x+y+z in above line"
   ]
  },
  {
   "cell_type": "code",
   "execution_count": 4,
   "id": "da4329ab",
   "metadata": {},
   "outputs": [
    {
     "name": "stdout",
     "output_type": "stream",
     "text": [
      "Enter Employe Name: Rishi Singh\n",
      "Enter Salary: 5000000\n",
      "Enter Company name: vijai\n",
      "\n",
      "\n",
      "Printing Empoyee Details\n",
      "Name Rishi Singh\n",
      "company vijai\n",
      "Salary 5000000\n",
      "Rishi Singh\n"
     ]
    },
    {
     "data": {
      "text/plain": [
       "NoneType"
      ]
     },
     "execution_count": 4,
     "metadata": {},
     "output_type": "execute_result"
    }
   ],
   "source": [
    "name = input(\"Enter Employe Name: \")\n",
    "salary = input(\"Enter Salary: \")\n",
    "company = input(\"Enter Company name: \")\n",
    "\n",
    "# Display all values on screen\n",
    "print(\"\\n\")\n",
    "print(\"Printing Empoyee Details\")\n",
    "print(\"Name\",name)\n",
    "print(\"company\",company)\n",
    "print(\"Salary\",salary)\n",
    "type(print(name))"
   ]
  },
  {
   "cell_type": "code",
   "execution_count": 8,
   "id": "dedf2c30",
   "metadata": {},
   "outputs": [
    {
     "name": "stdout",
     "output_type": "stream",
     "text": [
      "name of the car: Jaguar\n",
      "color of the car: Z Black\n",
      "price of the car: 5000000\n",
      "\n",
      "name of the car\t- Jaguar \n",
      " color of the car\t- Z Black \n",
      " price of the car\t- 5000000\n",
      "\n",
      " <class 'str'> <class 'str'> <class 'str'>\n"
     ]
    }
   ],
   "source": [
    "Car = input('name of the car: ')\n",
    "Color = input('color of the car: ')\n",
    "Price = input('price of the car: ')\n",
    "\n",
    "print('\\n''name of the car\\t-',Car,\"\\n\",\"color of the car\\t-\",Color,\"\\n\",\"price of the car\\t-\",Price)\n",
    "print('\\n',type(Car),type(Color),type(str(Price)))"
   ]
  },
  {
   "cell_type": "code",
   "execution_count": 12,
   "id": "03cafb02",
   "metadata": {},
   "outputs": [
    {
     "name": "stdout",
     "output_type": "stream",
     "text": [
      "name of flowers: 66\n",
      "\n",
      "\n",
      "name of flowers Rishi\n",
      "<class 'complex'>\n"
     ]
    }
   ],
   "source": [
    "Name = 'Rishi'\n",
    "flowers = complex(input(\"name of flowers: \"))\n",
    "print(\"\\n\")\n",
    "print(\"name of flowers\", Name)\n",
    "print(type(flowers))"
   ]
  },
  {
   "cell_type": "code",
   "execution_count": 1,
   "id": "e784b358",
   "metadata": {},
   "outputs": [
    {
     "name": "stdout",
     "output_type": "stream",
     "text": [
      "Name \t Physics \t Chemistry \t Maths\n",
      "Rishi \t 99 \t \t 99 \t \t 99\n",
      "Gaurav \t 99 \t \t 99 \t \t 99\n",
      "Rohit \t 99 \t \t 99 \t \t 99\n"
     ]
    }
   ],
   "source": [
    "print('Name','\\t','Physics','\\t','Chemistry','\\t','Maths')\n",
    "print('Rishi','\\t','99','\\t','\\t','99','\\t','\\t','99')\n",
    "print('Gaurav','\\t','99','\\t','\\t','99','\\t','\\t','99')\n",
    "print('Rohit','\\t','99','\\t','\\t','99','\\t','\\t','99')"
   ]
  },
  {
   "cell_type": "code",
   "execution_count": 35,
   "id": "4a144210",
   "metadata": {},
   "outputs": [
    {
     "name": "stdout",
     "output_type": "stream",
     "text": [
      "'Name'      | \t 'Physics' | \t 'Chemistry' | \t 'Maths'\n",
      "________________________________________________________\n",
      "'Rishi'     | \t 99        | \t 99          |\t 99\n",
      "'Gaurav'    | \t 99        | \t 99          |\t 99\n",
      "'Rohit'     | \t 99        | \t 99          |\t 99\n"
     ]
    }
   ],
   "source": [
    "print('\\'Name\\'      |','\\t','\\'Physics\\' |','\\t','\\'Chemistry\\' |','\\t','\\'Maths\\'')\n",
    "print('________________________________________________________')\n",
    "print('\\'Rishi\\'     |','\\t','99        |','\\t','99          |\\t','99')\n",
    "print('\\'Gaurav\\'    |','\\t','99        |','\\t','99          |\\t','99')\n",
    "print('\\'Rohit\\'     |','\\t','99        |','\\t','99          |\\t','99')"
   ]
  },
  {
   "cell_type": "code",
   "execution_count": 11,
   "id": "79788a70",
   "metadata": {},
   "outputs": [
    {
     "name": "stdout",
     "output_type": "stream",
     "text": [
      "enter two digit integer: 67\n",
      "number at ones = 7\n"
     ]
    }
   ],
   "source": [
    "#ques2. Take a 2 digit integer as input from the user. Print the digit ones place seperately\n",
    "num = int(input(\"enter two digit integer: \"))\n",
    "mod = num%10\n",
    "print(\"number at ones =\",mod)\n",
    "\n",
    "\n"
   ]
  },
  {
   "cell_type": "code",
   "execution_count": 7,
   "id": "088b2a30",
   "metadata": {},
   "outputs": [
    {
     "name": "stdout",
     "output_type": "stream",
     "text": [
      "enter two digit integer: 34\n",
      "enter two digit integer: 78\n",
      "34 + 78 = 3478\n"
     ]
    }
   ],
   "source": [
    "# take two no.(positive integer) as input from the user. Add two numbers in this way- 25+59=2559\n",
    "num = int(input(\"enter two digit integer: \"))\n",
    "num2 = int(input(\"enter two digit integer: \"))\n",
    "print(num,'+',num2,'=',str(num)+str(num2))"
   ]
  },
  {
   "cell_type": "code",
   "execution_count": 5,
   "id": "889b1e06",
   "metadata": {},
   "outputs": [
    {
     "name": "stdout",
     "output_type": "stream",
     "text": [
      "enter two digit integer: 45\n",
      "enter two digit integer: 56\n",
      "4 * 6 + 5 * 5 = 49\n"
     ]
    }
   ],
   "source": [
    "# take any two numbers(two digit positive integers) as input from the user as 25,35 - 5*3+2*5 = 25\n",
    "numb = int(input(\"enter two digit integer: \"))\n",
    "numb2 = int(input(\"enter two digit integer: \"))\n",
    "n = numb%8\n",
    "n2 = numb2%10\n",
    "n3 = numb%41\n",
    "n4 = numb2%51\n",
    "print(n3,'*',n2,'+',n,'*',n4,'=',n3*n2+n*n4)"
   ]
  },
  {
   "cell_type": "code",
   "execution_count": 13,
   "id": "f5710a94",
   "metadata": {},
   "outputs": [
    {
     "name": "stdout",
     "output_type": "stream",
     "text": [
      "enter two digit integer: 25\n",
      "0.5\n"
     ]
    }
   ],
   "source": [
    "numb = int(input(\"enter two digit integer: \"))\n",
    "n = numb%10/10\n",
    "print(n)"
   ]
  },
  {
   "cell_type": "code",
   "execution_count": 4,
   "id": "1e4d22cf",
   "metadata": {},
   "outputs": [
    {
     "name": "stdout",
     "output_type": "stream",
     "text": [
      "enter two digit integer: 25\n"
     ]
    },
    {
     "ename": "NameError",
     "evalue": "name 'num' is not defined",
     "output_type": "error",
     "traceback": [
      "\u001b[1;31m---------------------------------------------------------------------------\u001b[0m",
      "\u001b[1;31mNameError\u001b[0m                                 Traceback (most recent call last)",
      "Cell \u001b[1;32mIn[4], line 3\u001b[0m\n\u001b[0;32m      1\u001b[0m numb \u001b[38;5;241m=\u001b[39m \u001b[38;5;28mint\u001b[39m(\u001b[38;5;28minput\u001b[39m(\u001b[38;5;124m\"\u001b[39m\u001b[38;5;124menter two digit integer: \u001b[39m\u001b[38;5;124m\"\u001b[39m))\n\u001b[0;32m      2\u001b[0m n \u001b[38;5;241m=\u001b[39m numb\u001b[38;5;241m/\u001b[39m\u001b[38;5;241m10\u001b[39m\n\u001b[1;32m----> 3\u001b[0m n2 \u001b[38;5;241m=\u001b[39m \u001b[43mnum\u001b[49m\u001b[38;5;241m%\u001b[39m\u001b[38;5;241m10\u001b[39m\n\u001b[0;32m      4\u001b[0m \u001b[38;5;28mprint\u001b[39m(n)\n",
      "\u001b[1;31mNameError\u001b[0m: name 'num' is not defined"
     ]
    }
   ],
   "source": [
    "numb = int(input(\"enter two digit integer: \"))\n",
    "n = numb/10\n",
    "n2 = num%10\n",
    "print(n)"
   ]
  },
  {
   "cell_type": "code",
   "execution_count": 4,
   "id": "184886cd",
   "metadata": {},
   "outputs": [
    {
     "name": "stdout",
     "output_type": "stream",
     "text": [
      "enter two digit integer: 45\n",
      "enter two digit integer: 56\n",
      "5 * 5 + 6 * 4 = 49\n"
     ]
    }
   ],
   "source": [
    "numb = int(input(\"enter two digit integer: \"))\n",
    "numb2 = int(input(\"enter two digit integer: \"))\n",
    "n = numb%10\n",
    "n2 = numb2%10\n",
    "n3 = numb//10\n",
    "n4 = numb2//10\n",
    "print(n,'*',n4,'+',n2,'*',n3,'=',n*n4+n2*n3)"
   ]
  },
  {
   "cell_type": "code",
   "execution_count": 8,
   "id": "6e92e460",
   "metadata": {},
   "outputs": [
    {
     "name": "stdout",
     "output_type": "stream",
     "text": [
      "enter two digit integer: 45\n",
      "enter two digit integer: 56\n",
      "49\n"
     ]
    }
   ],
   "source": [
    "numb = int(input(\"enter two digit integer: \"))\n",
    "numb2 = int(input(\"enter two digit integer: \"))\n",
    "print((((numb%10)*(numb2//10)+(numb2%10)*(numb//10))))\n"
   ]
  },
  {
   "cell_type": "code",
   "execution_count": null,
   "id": "451d9f5d",
   "metadata": {},
   "outputs": [],
   "source": [
    "numb = int(input(\"enter two digit integer: \"))\n",
    "numb2 = int(input(\"enter two digit integer: \"))\n",
    "n = numb%10\n",
    "n2 = numb2%10\n",
    "n3 = numb//10\n",
    "n4 = numb2//10"
   ]
  },
  {
   "cell_type": "code",
   "execution_count": null,
   "id": "5ddc5a88",
   "metadata": {},
   "outputs": [],
   "source": []
  },
  {
   "cell_type": "code",
   "execution_count": null,
   "id": "acc2395d",
   "metadata": {},
   "outputs": [],
   "source": []
  },
  {
   "cell_type": "code",
   "execution_count": 1,
   "id": "96cba0bc",
   "metadata": {},
   "outputs": [
    {
     "data": {
      "text/plain": [
       "'rishirishirishirishirishirishirishirishirishirishirishirishirishirishirishirishirishirishirishirishirishirishirishirishirishirishirishirishirishirishirishirishirishirishirishirishirishirishirishirishirishirishirishirishirishi'"
      ]
     },
     "execution_count": 1,
     "metadata": {},
     "output_type": "execute_result"
    }
   ],
   "source": [
    "'rishi'*45"
   ]
  },
  {
   "cell_type": "code",
   "execution_count": null,
   "id": "39fcfd15",
   "metadata": {},
   "outputs": [],
   "source": []
  },
  {
   "cell_type": "code",
   "execution_count": null,
   "id": "8da1cab0",
   "metadata": {},
   "outputs": [],
   "source": []
  },
  {
   "cell_type": "code",
   "execution_count": 1,
   "id": "d41a8923",
   "metadata": {},
   "outputs": [
    {
     "name": "stdout",
     "output_type": "stream",
     "text": [
      "enter a two digit number: 20\n",
      "enter a two digit number: 30\n",
      "20.0\n"
     ]
    }
   ],
   "source": [
    "num = int(input(\"enter a two digit number: \"))\n",
    "num2 = int(input(\"enter a two digit number: \"))\n",
    "avr = (num + num)/2\n",
    "print(avr)\n"
   ]
  },
  {
   "cell_type": "code",
   "execution_count": 3,
   "id": "240a7b97",
   "metadata": {},
   "outputs": [
    {
     "name": "stdout",
     "output_type": "stream",
     "text": [
      "enter a two digit number: 20\n",
      "enter a two digit number: 30\n",
      "25.0\n"
     ]
    }
   ],
   "source": [
    "num = int(input(\"enter a two digit number: \"))\n",
    "num2 = int(input(\"enter a two digit number: \"))\n",
    "avr = (num + num2)/2\n",
    "print(avr)"
   ]
  },
  {
   "cell_type": "code",
   "execution_count": 2,
   "id": "4ad90673",
   "metadata": {},
   "outputs": [
    {
     "data": {
      "text/plain": [
       "25.0"
      ]
     },
     "execution_count": 2,
     "metadata": {},
     "output_type": "execute_result"
    }
   ],
   "source": [
    "(20+30)/2"
   ]
  },
  {
   "cell_type": "code",
   "execution_count": null,
   "id": "ba71a7af",
   "metadata": {},
   "outputs": [],
   "source": []
  }
 ],
 "metadata": {
  "kernelspec": {
   "display_name": "Python 3 (ipykernel)",
   "language": "python",
   "name": "python3"
  },
  "language_info": {
   "codemirror_mode": {
    "name": "ipython",
    "version": 3
   },
   "file_extension": ".py",
   "mimetype": "text/x-python",
   "name": "python",
   "nbconvert_exporter": "python",
   "pygments_lexer": "ipython3",
   "version": "3.10.9"
  }
 },
 "nbformat": 4,
 "nbformat_minor": 5
}
