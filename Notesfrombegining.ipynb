{
 "cells": [
  {
   "cell_type": "markdown",
   "id": "af8e2f94",
   "metadata": {},
   "source": [
    "# Python\n",
    "\n",
    "**Father of python:-** **Guido Van Rossum**\n",
    "(worked on abc programing language (1980) and made a new command line to which he named **Python**\n",
    "- **Released Python 0.9.0 - 1991**\n",
    "- **Python 2.0 - 2000**\n",
    "- **Python 3.0 - 2008**\n",
    "- **Python 3.11.4 - current version**\n",
    "\n",
    "# Features\n",
    "\n",
    "- **High Level Language**\n",
    "- **GPL (General Purpose Programing Language**\n",
    "- **Dynamically Typed**\n",
    "- **Case Sensetive**\n",
    "\n",
    "# IDE\n",
    "**Integrated Development Environment:- Is a software where you can write your code**\n",
    "- **Ex:- Jupyter notebook, Jupyter lab, Pycharm, Spyder, etc**"
   ]
  },
  {
   "cell_type": "markdown",
   "id": "20bcb5c7",
   "metadata": {},
   "source": [
    "# Python for data science\n",
    "\n",
    "# Data Types\n",
    "\n",
    "**Primitive and Non Primitive**\n",
    "\n",
    "**Primitive:-**\n",
    "\n",
    "1. **String (str):-**\n",
    "2. **Number**\n",
    "- Integer **(int)**:- Any whole number\n",
    "- Complex **(complex)**:- Numbers with j\n",
    "- Float **(float)**:- Any decimal number\n",
    "- Boolean **(bool)** :- True[1] and False[0]\n",
    "3. **None:-** It is an empty memory location\n",
    " "
   ]
  },
  {
   "cell_type": "markdown",
   "id": "c0edb3eb",
   "metadata": {},
   "source": [
    "**Non Primitive:-**\n",
    "\n",
    "1. **List:-** **[ ]**\n",
    "2. **Set:-** **{ }**\n",
    "3. **Dictionary:-** **{ }**\n",
    "4. **Tuple:-** **( )**"
   ]
  },
  {
   "cell_type": "markdown",
   "id": "d7ce75af",
   "metadata": {},
   "source": [
    "# Comments and Docstring\n",
    "\n",
    "- **Comments:-** #\n",
    "- **Docstring:-** triple quotation mark ('''       ''')"
   ]
  },
  {
   "cell_type": "markdown",
   "id": "099141ea",
   "metadata": {},
   "source": [
    "# Python Fuctions\n",
    "\n",
    "- **Output Function:-** print( )\n",
    "- **Input Function:-** input( )\n",
    "- **Type Function:-** type( ) \n",
    "- **Len Function:-** len( )\n",
    "- **Count Function:-** count( )"
   ]
  },
  {
   "cell_type": "markdown",
   "id": "ad9ffa66",
   "metadata": {},
   "source": [
    "# Python Methods\n",
    "# String methods\n",
    "\n",
    "- **.endswith()**\n",
    "- **.split()**\n",
    "- **.find()**\n",
    "- **.count()**\n",
    "- **.upper()**\n",
    "- **.lower()**\n",
    "- **.replace()**\n",
    "- **.index()**\n",
    "\n",
    "# Tuple methods\n",
    "\n",
    "- **.index()**\n",
    "- **.count()**\n",
    "\n",
    "# List methods\n",
    "\n",
    "- **.extend()**\n",
    "- **.append()**\n",
    "- **.count()**\n",
    "- **.remove()**\n",
    "- **.pop()**\n",
    "- **.sort()**\n",
    "- **.reverse()**"
   ]
  },
  {
   "cell_type": "code",
   "execution_count": null,
   "id": "5d10149a",
   "metadata": {},
   "outputs": [],
   "source": []
  }
 ],
 "metadata": {
  "kernelspec": {
   "display_name": "Python 3 (ipykernel)",
   "language": "python",
   "name": "python3"
  },
  "language_info": {
   "codemirror_mode": {
    "name": "ipython",
    "version": 3
   },
   "file_extension": ".py",
   "mimetype": "text/x-python",
   "name": "python",
   "nbconvert_exporter": "python",
   "pygments_lexer": "ipython3",
   "version": "3.10.9"
  }
 },
 "nbformat": 4,
 "nbformat_minor": 5
}
