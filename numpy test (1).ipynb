{
 "cells": [
  {
   "cell_type": "code",
   "execution_count": 77,
   "id": "68a30957",
   "metadata": {},
   "outputs": [],
   "source": [
    "import numpy as np"
   ]
  },
  {
   "cell_type": "code",
   "execution_count": 95,
   "id": "dbd2c4f9",
   "metadata": {},
   "outputs": [
    {
     "name": "stdout",
     "output_type": "stream",
     "text": [
      "array\n",
      "numpy\n"
     ]
    }
   ],
   "source": [
    "# Ans.5\n",
    "lst = [\"array\",\"numpy\"]\n",
    "vow = ['a','e','i','o','u']\n",
    "for i in lst:\n",
    "    for j in vow:\n",
    "        if j in i and i.count(j)>1:"
   ]
  },
  {
   "cell_type": "code",
   "execution_count": 88,
   "id": "9166a2fc",
   "metadata": {},
   "outputs": [
    {
     "data": {
      "text/plain": [
       "array([[4, 3, 2, 1],\n",
       "       [8, 7, 6, 5]])"
      ]
     },
     "execution_count": 88,
     "metadata": {},
     "output_type": "execute_result"
    }
   ],
   "source": [
    "rev1 = np.array([[1,2,3,4],[5,6,7,8]])\n",
    "rev1[0]=rev1[0][::-1]\n",
    "rev1[1]=rev1[1][::-1]\n",
    "rev1"
   ]
  },
  {
   "cell_type": "code",
   "execution_count": 83,
   "id": "38cddd70",
   "metadata": {},
   "outputs": [
    {
     "data": {
      "text/plain": [
       "array([3, 4, 5, 6, 7])"
      ]
     },
     "execution_count": 83,
     "metadata": {},
     "output_type": "execute_result"
    }
   ],
   "source": [
    "nd = np.array([1,2,3,4,5,6,7,8,9])\n",
    "ndr = []\n",
    "for i in nd:\n",
    "    if i>2 and i<8:\n",
    "        ndr.append(i)\n",
    "a = np.array(ndr)\n",
    "a"
   ]
  },
  {
   "cell_type": "code",
   "execution_count": 87,
   "id": "5fbe994b",
   "metadata": {},
   "outputs": [
    {
     "data": {
      "text/plain": [
       "array([3, 4, 5, 6, 7])"
      ]
     },
     "execution_count": 87,
     "metadata": {},
     "output_type": "execute_result"
    }
   ],
   "source": [
    "nd = np.array([1,2,3,4,5,6,7,8,9])\n",
    "a = np.array([i for i in nd if i>2 and i <8])\n",
    "a"
   ]
  },
  {
   "cell_type": "code",
   "execution_count": 15,
   "id": "048c3fad",
   "metadata": {},
   "outputs": [
    {
     "data": {
      "text/plain": [
       "array([4, 5, 6, 7])"
      ]
     },
     "execution_count": 15,
     "metadata": {},
     "output_type": "execute_result"
    }
   ],
   "source": [
    "nd = np.array([1,2,3,4,5,6,7,8,9])\n",
    "nd[(nd>=4) & (nd<=7)] # performs logical AND element wise"
   ]
  },
  {
   "cell_type": "code",
   "execution_count": 16,
   "id": "23272042",
   "metadata": {},
   "outputs": [
    {
     "data": {
      "text/plain": [
       "array([5, 6, 7, 8, 9])"
      ]
     },
     "execution_count": 16,
     "metadata": {},
     "output_type": "execute_result"
    }
   ],
   "source": [
    "nd[nd>4]"
   ]
  },
  {
   "cell_type": "code",
   "execution_count": 18,
   "id": "f6410730",
   "metadata": {},
   "outputs": [
    {
     "data": {
      "text/plain": [
       "array([False, False, False,  True,  True,  True,  True,  True,  True])"
      ]
     },
     "execution_count": 18,
     "metadata": {},
     "output_type": "execute_result"
    }
   ],
   "source": [
    "nd>=4"
   ]
  },
  {
   "cell_type": "code",
   "execution_count": 20,
   "id": "e9f97cde",
   "metadata": {},
   "outputs": [
    {
     "ename": "ValueError",
     "evalue": "The truth value of an array with more than one element is ambiguous. Use a.any() or a.all()",
     "output_type": "error",
     "traceback": [
      "\u001b[1;31m---------------------------------------------------------------------------\u001b[0m",
      "\u001b[1;31mValueError\u001b[0m                                Traceback (most recent call last)",
      "Cell \u001b[1;32mIn[20], line 1\u001b[0m\n\u001b[1;32m----> 1\u001b[0m nd[nd\u001b[38;5;241m>\u001b[39m\u001b[38;5;241m4\u001b[39m \u001b[38;5;129;01mand\u001b[39;00m nd\u001b[38;5;241m<\u001b[39m\u001b[38;5;241m=\u001b[39m\u001b[38;5;241m8\u001b[39m]\n",
      "\u001b[1;31mValueError\u001b[0m: The truth value of an array with more than one element is ambiguous. Use a.any() or a.all()"
     ]
    }
   ],
   "source": [
    "nd[nd>4 and nd<=8]"
   ]
  },
  {
   "cell_type": "code",
   "execution_count": 77,
   "id": "b72b9752",
   "metadata": {},
   "outputs": [
    {
     "data": {
      "text/plain": [
       "array([ 1,  2,  3, 45])"
      ]
     },
     "execution_count": 77,
     "metadata": {},
     "output_type": "execute_result"
    }
   ],
   "source": [
    "lt = [1,2,3,45]\n",
    "a = np.array(lt)\n",
    "a"
   ]
  },
  {
   "cell_type": "code",
   "execution_count": null,
   "id": "1b460262",
   "metadata": {},
   "outputs": [],
   "source": []
  },
  {
   "cell_type": "code",
   "execution_count": null,
   "id": "dd410646",
   "metadata": {},
   "outputs": [],
   "source": []
  },
  {
   "cell_type": "code",
   "execution_count": null,
   "id": "a9020712",
   "metadata": {},
   "outputs": [],
   "source": []
  },
  {
   "cell_type": "markdown",
   "id": "f9d8fc2a",
   "metadata": {},
   "source": [
    "home solutions"
   ]
  },
  {
   "cell_type": "code",
   "execution_count": 80,
   "id": "e6c3a4a6",
   "metadata": {},
   "outputs": [
    {
     "name": "stdout",
     "output_type": "stream",
     "text": [
      "{'array', 'hello', 'numpey'}\n"
     ]
    }
   ],
   "source": [
    "lst = ['hello','array','lets','numpey','wht']\n",
    "vow = ['a','e','i','o','u']\n",
    "nlst = []\n",
    "for i in lst:\n",
    "    for j in i:\n",
    "        for k in vow:\n",
    "            if j==k:\n",
    "                nlst.append(i)\n",
    "for i in nlst:\n",
    "    if nlst.count(i)==1:\n",
    "        nlst.remove(i)\n",
    "        print(set(nlst))   "
   ]
  },
  {
   "cell_type": "code",
   "execution_count": 1,
   "id": "a3a76873",
   "metadata": {},
   "outputs": [
    {
     "name": "stdout",
     "output_type": "stream",
     "text": [
      "['hello', 'world', 'python', 'data science']\n"
     ]
    }
   ],
   "source": [
    "# class solution\n",
    "lst = ['hello','world','python','data science']\n",
    "vowel_words=[]\n",
    "for x in lst:\n",
    "    count=0\n",
    "    for i in 'aeiouAEIOU':\n",
    "        count+=1\n",
    "    if count>=2:\n",
    "        vowel_words.append(x)\n",
    "print(vowel_words)"
   ]
  },
  {
   "cell_type": "code",
   "execution_count": null,
   "id": "a09be2de",
   "metadata": {},
   "outputs": [],
   "source": []
  },
  {
   "cell_type": "code",
   "execution_count": null,
   "id": "576d3202",
   "metadata": {},
   "outputs": [],
   "source": []
  },
  {
   "cell_type": "code",
   "execution_count": null,
   "id": "106923dc",
   "metadata": {},
   "outputs": [],
   "source": []
  },
  {
   "cell_type": "code",
   "execution_count": 26,
   "id": "3371aa9e",
   "metadata": {},
   "outputs": [
    {
     "data": {
      "text/plain": [
       "array([[5, 6, 7, 8],\n",
       "       [1, 2, 3, 4]])"
      ]
     },
     "execution_count": 26,
     "metadata": {},
     "output_type": "execute_result"
    }
   ],
   "source": [
    "import numpy as np\n",
    "arr = np.array([[1,2,3,4],[5,6,7,8]])\n",
    "arr = arr[[1,0]]\n",
    "arr"
   ]
  },
  {
   "cell_type": "code",
   "execution_count": 59,
   "id": "9b4b7e96",
   "metadata": {},
   "outputs": [
    {
     "name": "stdout",
     "output_type": "stream",
     "text": [
      "[[1 2]\n",
      " [5 6]]\n"
     ]
    },
    {
     "data": {
      "text/plain": [
       "array([[2, 1],\n",
       "       [6, 5]])"
      ]
     },
     "execution_count": 59,
     "metadata": {},
     "output_type": "execute_result"
    }
   ],
   "source": [
    "arr = np.array([[1,2],[5,6]])\n",
    "print(arr)\n",
    "arr[0]=arr[0][::-1]\n",
    "arr[1]=arr[1][::-1]\n",
    "arr"
   ]
  },
  {
   "cell_type": "code",
   "execution_count": null,
   "id": "d3fcdb52",
   "metadata": {},
   "outputs": [],
   "source": []
  },
  {
   "cell_type": "code",
   "execution_count": null,
   "id": "71b8ebbb",
   "metadata": {},
   "outputs": [],
   "source": []
  },
  {
   "cell_type": "markdown",
   "id": "a0b12546",
   "metadata": {},
   "source": [
    "# class solution"
   ]
  },
  {
   "cell_type": "code",
   "execution_count": 4,
   "id": "b63e9fc6",
   "metadata": {},
   "outputs": [],
   "source": [
    "# swap two columns in a 2d numpy array \n",
    "import numpy as np"
   ]
  },
  {
   "cell_type": "code",
   "execution_count": 5,
   "id": "bafebe96",
   "metadata": {},
   "outputs": [
    {
     "data": {
      "text/plain": [
       "array([[2, 1, 3],\n",
       "       [5, 4, 6],\n",
       "       [8, 7, 9]])"
      ]
     },
     "execution_count": 5,
     "metadata": {},
     "output_type": "execute_result"
    }
   ],
   "source": [
    "x = np.array([[1,2,3],\n",
    "             [4,5,6],\n",
    "             [7,8,9]])\n",
    "\n",
    "x[:,[0,1]] = x[:,[1,0]]\n",
    "x"
   ]
  },
  {
   "cell_type": "code",
   "execution_count": 9,
   "id": "4a55ecef",
   "metadata": {},
   "outputs": [
    {
     "data": {
      "text/plain": [
       "6"
      ]
     },
     "execution_count": 9,
     "metadata": {},
     "output_type": "execute_result"
    }
   ],
   "source": [
    "# swap two rows in a 2d array\n",
    "x = np.array([[1,2,3],\n",
    "             [4,5,6],\n",
    "             [7,8,9]])\n",
    "\n",
    "x[[1,2]] = x [[2,1]]\n",
    "x"
   ]
  },
  {
   "cell_type": "code",
   "execution_count": 11,
   "id": "53b23124",
   "metadata": {},
   "outputs": [
    {
     "data": {
      "text/plain": [
       "array([[3, 2, 1],\n",
       "       [6, 5, 4],\n",
       "       [9, 8, 7]])"
      ]
     },
     "execution_count": 11,
     "metadata": {},
     "output_type": "execute_result"
    }
   ],
   "source": [
    "# reverse all the rows of a 2d ndarray\n",
    "x = np.array([[1,2,3],\n",
    "             [4,5,6],\n",
    "             [7,8,9]])\n",
    "\n",
    "x = x[:,::-1]\n",
    "x"
   ]
  },
  {
   "cell_type": "code",
   "execution_count": 13,
   "id": "4689fb1a",
   "metadata": {},
   "outputs": [
    {
     "data": {
      "text/plain": [
       "array([[1, 2, 3],\n",
       "       [4, 5, 6],\n",
       "       [7, 8, 9]])"
      ]
     },
     "execution_count": 13,
     "metadata": {},
     "output_type": "execute_result"
    }
   ],
   "source": [
    "# reverse all the rows of a 2d ndarray\n",
    "x = np.array([[1,2,3],\n",
    "             [4,5,6],\n",
    "             [7,8,9]])\n",
    "\n",
    "x[:]\n"
   ]
  },
  {
   "cell_type": "code",
   "execution_count": null,
   "id": "16e450ce",
   "metadata": {},
   "outputs": [],
   "source": []
  }
 ],
 "metadata": {
  "kernelspec": {
   "display_name": "Python 3 (ipykernel)",
   "language": "python",
   "name": "python3"
  },
  "language_info": {
   "codemirror_mode": {
    "name": "ipython",
    "version": 3
   },
   "file_extension": ".py",
   "mimetype": "text/x-python",
   "name": "python",
   "nbconvert_exporter": "python",
   "pygments_lexer": "ipython3",
   "version": "3.10.9"
  }
 },
 "nbformat": 4,
 "nbformat_minor": 5
}
