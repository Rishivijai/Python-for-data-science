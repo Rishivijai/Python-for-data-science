{
 "cells": [
  {
   "cell_type": "markdown",
   "id": "ddedc284",
   "metadata": {},
   "source": [
    "# What is a string? (\"  \",'  ')\n",
    " - A string is a sequence of character.\n",
    " - Strings can be created by enclosing characters inside a single quote or double quote.\n",
    " - Triple quotes can be used to represent a multiline string or to which we also call docstrings"
   ]
  },
  {
   "cell_type": "code",
   "execution_count": 3,
   "id": "70ef63c6",
   "metadata": {},
   "outputs": [
    {
     "name": "stdout",
     "output_type": "stream",
     "text": [
      "e\n",
      "y a e\n"
     ]
    }
   ],
   "source": [
    "name = ('my name is rishi')\n",
    "print(name[6])\n",
    "print(name[1],name[4],name[6])"
   ]
  },
  {
   "cell_type": "code",
   "execution_count": 7,
   "id": "f5268a20",
   "metadata": {},
   "outputs": [
    {
     "name": "stdout",
     "output_type": "stream",
     "text": [
      "t n o y\n"
     ]
    }
   ],
   "source": [
    "a = 'python is easy'\n",
    "print(a[2],a[-9],a[-10],a[-13])"
   ]
  },
  {
   "cell_type": "code",
   "execution_count": 4,
   "id": "ef6a14d1",
   "metadata": {},
   "outputs": [
    {
     "name": "stdout",
     "output_type": "stream",
     "text": [
      "  w s\n"
     ]
    }
   ],
   "source": [
    "y = 'hello sir how are you, good morning'\n",
    "print(y[9],y[12],y[6])"
   ]
  },
  {
   "cell_type": "code",
   "execution_count": 1,
   "id": "b02291a9",
   "metadata": {},
   "outputs": [
    {
     "name": "stdout",
     "output_type": "stream",
     "text": [
      "i\n"
     ]
    }
   ],
   "source": [
    "moon = \"moon is beautiful\"\n",
    "print(moon[5])"
   ]
  },
  {
   "cell_type": "code",
   "execution_count": 17,
   "id": "faf8847a",
   "metadata": {},
   "outputs": [
    {
     "name": "stdout",
     "output_type": "stream",
     "text": [
      "trying to understand\n"
     ]
    }
   ],
   "source": [
    "python = (\"trying to understand \")\n",
    "print(python[:-1])"
   ]
  },
  {
   "cell_type": "code",
   "execution_count": 20,
   "id": "eed9f7dc",
   "metadata": {},
   "outputs": [
    {
     "name": "stdout",
     "output_type": "stream",
     "text": [
      "i am learning python\n"
     ]
    }
   ],
   "source": [
    "d = (\"i am learning python \")\n",
    "print(d[0:-1])"
   ]
  },
  {
   "cell_type": "code",
   "execution_count": 21,
   "id": "df2843cc",
   "metadata": {},
   "outputs": [
    {
     "name": "stdout",
     "output_type": "stream",
     "text": [
      "i am learning python\n"
     ]
    }
   ],
   "source": [
    "a = \"i am learning python\"\n",
    "print(a[-20:20])"
   ]
  },
  {
   "cell_type": "markdown",
   "id": "df0c582c",
   "metadata": {},
   "source": [
    "# STRIDE - (Steps)\n",
    "\n",
    "- Stride slicing can also accept a third parameter, the stride, which refers to how many steps you want to take from the first character of the string. We can also call it step value.\n",
    "- slicing step cannot be zero."
   ]
  },
  {
   "cell_type": "code",
   "execution_count": 24,
   "id": "892e9b6a",
   "metadata": {},
   "outputs": [
    {
     "name": "stdout",
     "output_type": "stream",
     "text": [
      "python is easy \n",
      "python is easy \n"
     ]
    }
   ],
   "source": [
    "example = 'python is easy '\n",
    "print(example[0:15:1]) # as both the results are same. we can conclude that the default value of a \n",
    "print(example[0:15])  # stride is 1"
   ]
  },
  {
   "cell_type": "code",
   "execution_count": 9,
   "id": "e0e2b3cc",
   "metadata": {},
   "outputs": [
    {
     "data": {
      "text/plain": [
       "'pto ses'"
      ]
     },
     "execution_count": 9,
     "metadata": {},
     "output_type": "execute_result"
    }
   ],
   "source": [
    "example = 'python is easy '\n",
    "example[0:14:2]"
   ]
  },
  {
   "cell_type": "code",
   "execution_count": 10,
   "id": "816327a4",
   "metadata": {},
   "outputs": [
    {
     "data": {
      "text/plain": [
       "'ph  s'"
      ]
     },
     "execution_count": 10,
     "metadata": {},
     "output_type": "execute_result"
    }
   ],
   "source": [
    "example = 'python is easy '\n",
    "example[0:14:3]"
   ]
  },
  {
   "cell_type": "code",
   "execution_count": 26,
   "id": "f4326497",
   "metadata": {},
   "outputs": [
    {
     "name": "stdout",
     "output_type": "stream",
     "text": [
      "pto ses \n",
      "ph  s\n",
      "poss\n"
     ]
    }
   ],
   "source": [
    "example = 'python is easy '\n",
    "print(example[0:15:2])\n",
    "print(example[0:15:3])\n",
    "print(example[0:15:4])"
   ]
  },
  {
   "cell_type": "markdown",
   "id": "4ba1130f",
   "metadata": {},
   "source": [
    "# Negative Stride"
   ]
  },
  {
   "cell_type": "code",
   "execution_count": 28,
   "id": "b90a657b",
   "metadata": {},
   "outputs": [
    {
     "data": {
      "text/plain": [
       "'NOHTYP'"
      ]
     },
     "execution_count": 28,
     "metadata": {},
     "output_type": "execute_result"
    }
   ],
   "source": [
    "example = 'PYTHON IS EASY '\n",
    "example[-10::-1]"
   ]
  },
  {
   "cell_type": "code",
   "execution_count": 11,
   "id": "f184595f",
   "metadata": {},
   "outputs": [
    {
     "name": "stdout",
     "output_type": "stream",
     "text": [
      " eman \n"
     ]
    }
   ],
   "source": [
    "name = 'hello my name is rishi'\n",
    "print(name[-9:-15:-1])"
   ]
  },
  {
   "cell_type": "code",
   "execution_count": 13,
   "id": "50bbff7d",
   "metadata": {},
   "outputs": [
    {
     "name": "stdout",
     "output_type": "stream",
     "text": [
      "II\n"
     ]
    }
   ],
   "source": [
    "school = 'VIAJI'\n",
    "print(school[::-3])"
   ]
  },
  {
   "cell_type": "markdown",
   "id": "b6a87524",
   "metadata": {},
   "source": [
    "# Strings methods and functions"
   ]
  },
  {
   "cell_type": "code",
   "execution_count": 42,
   "id": "b1410c2b",
   "metadata": {},
   "outputs": [
    {
     "data": {
      "text/plain": [
       "'hello world'"
      ]
     },
     "execution_count": 42,
     "metadata": {},
     "output_type": "execute_result"
    }
   ],
   "source": [
    "x = \"hello world\"\n",
    "x"
   ]
  },
  {
   "cell_type": "code",
   "execution_count": 43,
   "id": "71db2380",
   "metadata": {},
   "outputs": [
    {
     "data": {
      "text/plain": [
       "'HELLO WORLD'"
      ]
     },
     "execution_count": 43,
     "metadata": {},
     "output_type": "execute_result"
    }
   ],
   "source": [
    "#   .upper()\n",
    "x.upper()"
   ]
  },
  {
   "cell_type": "code",
   "execution_count": 44,
   "id": "6c1334d5",
   "metadata": {},
   "outputs": [
    {
     "data": {
      "text/plain": [
       "'hello world'"
      ]
     },
     "execution_count": 44,
     "metadata": {},
     "output_type": "execute_result"
    }
   ],
   "source": [
    "x.lower()"
   ]
  },
  {
   "cell_type": "code",
   "execution_count": 45,
   "id": "6e94576c",
   "metadata": {},
   "outputs": [
    {
     "data": {
      "text/plain": [
       "'RISHI'"
      ]
     },
     "execution_count": 45,
     "metadata": {},
     "output_type": "execute_result"
    }
   ],
   "source": [
    "name = 'rishi'\n",
    "name.upper()"
   ]
  },
  {
   "cell_type": "code",
   "execution_count": 47,
   "id": "9613ee15",
   "metadata": {},
   "outputs": [
    {
     "data": {
      "text/plain": [
       "'rishi'"
      ]
     },
     "execution_count": 47,
     "metadata": {},
     "output_type": "execute_result"
    }
   ],
   "source": [
    "name.lower()"
   ]
  },
  {
   "cell_type": "code",
   "execution_count": 19,
   "id": "6a516d52",
   "metadata": {},
   "outputs": [
    {
     "name": "stdout",
     "output_type": "stream",
     "text": [
      "HELLO WORLD\n"
     ]
    }
   ],
   "source": [
    "x = 'hello world'\n",
    "x = x.upper()\n",
    "print(x)"
   ]
  },
  {
   "cell_type": "code",
   "execution_count": 21,
   "id": "39fa8952",
   "metadata": {},
   "outputs": [
    {
     "data": {
      "text/plain": [
       "'HELLO WORLD'"
      ]
     },
     "execution_count": 21,
     "metadata": {},
     "output_type": "execute_result"
    }
   ],
   "source": [
    "e = 'hello world'\n",
    "e = e.upper()\n",
    "e"
   ]
  },
  {
   "cell_type": "code",
   "execution_count": 20,
   "id": "037c72e4",
   "metadata": {},
   "outputs": [
    {
     "name": "stdout",
     "output_type": "stream",
     "text": [
      "HELLO WORLD\n",
      "hello world\n"
     ]
    }
   ],
   "source": [
    "z = 'hello world'\n",
    "print(z.upper())\n",
    "print(z)"
   ]
  },
  {
   "cell_type": "code",
   "execution_count": 49,
   "id": "9f367315",
   "metadata": {},
   "outputs": [
    {
     "ename": "TypeError",
     "evalue": "str.upper() takes no arguments (1 given)",
     "output_type": "error",
     "traceback": [
      "\u001b[1;31m---------------------------------------------------------------------------\u001b[0m",
      "\u001b[1;31mTypeError\u001b[0m                                 Traceback (most recent call last)",
      "Cell \u001b[1;32mIn[49], line 2\u001b[0m\n\u001b[0;32m      1\u001b[0m py \u001b[38;5;241m=\u001b[39m \u001b[38;5;124m'\u001b[39m\u001b[38;5;124mpython is easy \u001b[39m\u001b[38;5;124m'\u001b[39m\n\u001b[1;32m----> 2\u001b[0m \u001b[38;5;28mprint\u001b[39m(\u001b[43mpy\u001b[49m\u001b[38;5;241;43m.\u001b[39;49m\u001b[43mupper\u001b[49m\u001b[43m(\u001b[49m\u001b[43mpy\u001b[49m\u001b[43m[\u001b[49m\u001b[38;5;241;43m-\u001b[39;49m\u001b[38;5;241;43m5\u001b[39;49m\u001b[43m:\u001b[49m\u001b[43m]\u001b[49m\u001b[43m)\u001b[49m)\n",
      "\u001b[1;31mTypeError\u001b[0m: str.upper() takes no arguments (1 given)"
     ]
    }
   ],
   "source": [
    "py = 'python is easy '\n",
    "print(py.upper(py[-5:]))"
   ]
  },
  {
   "cell_type": "code",
   "execution_count": 59,
   "id": "d5d88a48",
   "metadata": {},
   "outputs": [
    {
     "name": "stdout",
     "output_type": "stream",
     "text": [
      "hello world\n",
      "gllo world\n"
     ]
    }
   ],
   "source": [
    "#  .replace()\n",
    "name = 'hello world'\n",
    "name.replace('h','n')\n",
    "print(name)\n",
    "\n",
    "x = name.replace('he','g')\n",
    "print(x)\n",
    "\n",
    "# or you can do permanently"
   ]
  },
  {
   "cell_type": "code",
   "execution_count": 22,
   "id": "2e23e56d",
   "metadata": {},
   "outputs": [
    {
     "name": "stdout",
     "output_type": "stream",
     "text": [
      "hello world\n",
      "ghgeglglgog gwgogrglgdg\n"
     ]
    }
   ],
   "source": [
    "name = 'hello world'\n",
    "name.replace('h','n')\n",
    "print(name)\n",
    "\n",
    "x = name.replace('','g')\n",
    "print(x)\n"
   ]
  },
  {
   "cell_type": "code",
   "execution_count": 30,
   "id": "f1125b4b",
   "metadata": {},
   "outputs": [
    {
     "name": "stdout",
     "output_type": "stream",
     "text": [
      "-r- -i- -s-h- -i-\n"
     ]
    }
   ],
   "source": [
    "name = 'r i sh i'\n",
    "name = name.replace(\"\",\"-\")  # ??\n",
    "print(name)"
   ]
  },
  {
   "cell_type": "code",
   "execution_count": 1,
   "id": "11b7f8a0",
   "metadata": {},
   "outputs": [
    {
     "name": "stdout",
     "output_type": "stream",
     "text": [
      "+D+A+T+A+\n"
     ]
    }
   ],
   "source": [
    "name = \"DATA\"\n",
    "name = name.replace('','+')\n",
    "print(name)      "
   ]
  },
  {
   "cell_type": "code",
   "execution_count": 2,
   "id": "c6ad1fd2",
   "metadata": {},
   "outputs": [
    {
     "name": "stdout",
     "output_type": "stream",
     "text": [
      "+D+A+T+A+\n"
     ]
    }
   ],
   "source": [
    "name = \"DATA\"\n",
    "name = name.replace('','+')\n",
    "print(name)      "
   ]
  },
  {
   "cell_type": "code",
   "execution_count": 24,
   "id": "c447e93b",
   "metadata": {},
   "outputs": [
    {
     "ename": "IndentationError",
     "evalue": "unexpected indent (2977880366.py, line 6)",
     "output_type": "error",
     "traceback": [
      "\u001b[1;36m  Cell \u001b[1;32mIn[24], line 6\u001b[1;36m\u001b[0m\n\u001b[1;33m    t = t.replace('',k)\u001b[0m\n\u001b[1;37m    ^\u001b[0m\n\u001b[1;31mIndentationError\u001b[0m\u001b[1;31m:\u001b[0m unexpected indent\n"
     ]
    }
   ],
   "source": [
    "t = 'how are you'\n",
    "t.replace('how','where')\n",
    "print(t)\n",
    "\n",
    "t.replace(' ','y')\n",
    " t = t.replace('',k)"
   ]
  },
  {
   "cell_type": "code",
   "execution_count": 70,
   "id": "0798e1b6",
   "metadata": {},
   "outputs": [
    {
     "name": "stdout",
     "output_type": "stream",
     "text": [
      "rishi\n"
     ]
    }
   ],
   "source": [
    "y = 'stride'\n",
    "y = y.replace('stride','rishi')\n",
    "print(y)"
   ]
  },
  {
   "cell_type": "code",
   "execution_count": 72,
   "id": "84671d43",
   "metadata": {},
   "outputs": [
    {
     "data": {
      "text/plain": [
       "1"
      ]
     },
     "execution_count": 72,
     "metadata": {},
     "output_type": "execute_result"
    }
   ],
   "source": [
    "r = 'rishi'\n",
    "r.count('rishi')"
   ]
  },
  {
   "cell_type": "code",
   "execution_count": 76,
   "id": "8113b0d9",
   "metadata": {},
   "outputs": [
    {
     "data": {
      "text/plain": [
       "1"
      ]
     },
     "execution_count": 76,
     "metadata": {},
     "output_type": "execute_result"
    }
   ],
   "source": [
    "h = 'hello my name is rishi'\n",
    "h.count('hello my name is rishi')"
   ]
  },
  {
   "cell_type": "code",
   "execution_count": 84,
   "id": "17a006cb",
   "metadata": {},
   "outputs": [
    {
     "data": {
      "text/plain": [
       "3"
      ]
     },
     "execution_count": 84,
     "metadata": {},
     "output_type": "execute_result"
    }
   ],
   "source": [
    "h = 'hello my name is rishi'\n",
    "h.count('i')"
   ]
  },
  {
   "cell_type": "code",
   "execution_count": 86,
   "id": "87274809",
   "metadata": {},
   "outputs": [
    {
     "data": {
      "text/plain": [
       "5"
      ]
     },
     "execution_count": 86,
     "metadata": {},
     "output_type": "execute_result"
    }
   ],
   "source": [
    "b = 'we will be going dlkj go lkkl go ksjj gone'\n",
    "b.count('g')"
   ]
  },
  {
   "cell_type": "code",
   "execution_count": 4,
   "id": "21cb30e6",
   "metadata": {},
   "outputs": [
    {
     "name": "stdout",
     "output_type": "stream",
     "text": [
      "('aabbc rbshb sbngh, b am dobng my work rbght now, and trybng to work on my code bn python', 2, 'AABBC RISHI SINGH, I AM DOING MY WORK RIGHT NOW, AND TRYING TO WORK ON MY CODE IN PYTHON')\n"
     ]
    }
   ],
   "source": [
    "w = 'aabbc rishi singh, i am doing my work right now, and trying to work on my code in python'\n",
    "w = w.replace('i','b'),w.count('b'),w.upper()\n",
    "w\n",
    "print(w)"
   ]
  },
  {
   "cell_type": "code",
   "execution_count": 25,
   "id": "15441379",
   "metadata": {},
   "outputs": [],
   "source": [
    "# change a sentence into upper case without using upper.()??"
   ]
  },
  {
   "cell_type": "code",
   "execution_count": 35,
   "id": "fe300e90",
   "metadata": {},
   "outputs": [
    {
     "name": "stdout",
     "output_type": "stream",
     "text": [
      "pDpApTpAp\n"
     ]
    }
   ],
   "source": [
    "x = 'DATA'\n",
    "x = x.replace(\"\",\"p\")\n",
    "print(x)"
   ]
  },
  {
   "cell_type": "code",
   "execution_count": 36,
   "id": "e5fc1f73",
   "metadata": {},
   "outputs": [
    {
     "name": "stdout",
     "output_type": "stream",
     "text": [
      "pDpApTpAp\n"
     ]
    }
   ],
   "source": [
    "x = 'DATA'\n",
    "x = x.replace('','p')\n",
    "print(x)"
   ]
  },
  {
   "cell_type": "code",
   "execution_count": 1,
   "id": "ad34c301",
   "metadata": {},
   "outputs": [
    {
     "name": "stdout",
     "output_type": "stream",
     "text": [
      "kk\n"
     ]
    }
   ],
   "source": [
    "w = \"kk\"\n",
    "w.replace(\"kk\",'rishi')\n",
    "print(w)"
   ]
  },
  {
   "cell_type": "code",
   "execution_count": null,
   "id": "75f74d39",
   "metadata": {},
   "outputs": [],
   "source": []
  }
 ],
 "metadata": {
  "kernelspec": {
   "display_name": "Python 3 (ipykernel)",
   "language": "python",
   "name": "python3"
  },
  "language_info": {
   "codemirror_mode": {
    "name": "ipython",
    "version": 3
   },
   "file_extension": ".py",
   "mimetype": "text/x-python",
   "name": "python",
   "nbconvert_exporter": "python",
   "pygments_lexer": "ipython3",
   "version": "3.10.9"
  }
 },
 "nbformat": 4,
 "nbformat_minor": 5
}
