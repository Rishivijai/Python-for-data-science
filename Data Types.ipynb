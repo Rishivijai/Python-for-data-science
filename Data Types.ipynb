{
 "cells": [
  {
   "cell_type": "markdown",
   "id": "c773fae0",
   "metadata": {},
   "source": [
    "# Type casting"
   ]
  },
  {
   "cell_type": "markdown",
   "id": "cb7714c3",
   "metadata": {},
   "source": [
    "- int()\n",
    "- float()\n",
    "- bool()\n",
    "- complex()\n",
    "- str()\n",
    "- list()\n",
    "- tuple()\n",
    "- dict()\n",
    "- set()"
   ]
  },
  {
   "cell_type": "code",
   "execution_count": 1,
   "id": "b2e6654c",
   "metadata": {},
   "outputs": [
    {
     "data": {
      "text/plain": [
       "20.0"
      ]
     },
     "execution_count": 1,
     "metadata": {},
     "output_type": "execute_result"
    }
   ],
   "source": [
    "a = 20\n",
    "float(a)"
   ]
  },
  {
   "cell_type": "code",
   "execution_count": 2,
   "id": "e8d994ae",
   "metadata": {},
   "outputs": [
    {
     "data": {
      "text/plain": [
       "34"
      ]
     },
     "execution_count": 2,
     "metadata": {},
     "output_type": "execute_result"
    }
   ],
   "source": [
    "b = 34.6\n",
    "int(b)"
   ]
  },
  {
   "cell_type": "code",
   "execution_count": 3,
   "id": "ef831e48",
   "metadata": {},
   "outputs": [
    {
     "ename": "TypeError",
     "evalue": "int() argument must be a string, a bytes-like object or a real number, not 'complex'",
     "output_type": "error",
     "traceback": [
      "\u001b[1;31m---------------------------------------------------------------------------\u001b[0m",
      "\u001b[1;31mTypeError\u001b[0m                                 Traceback (most recent call last)",
      "Cell \u001b[1;32mIn[3], line 2\u001b[0m\n\u001b[0;32m      1\u001b[0m c \u001b[38;5;241m=\u001b[39m \u001b[38;5;241m23\u001b[39mj\n\u001b[1;32m----> 2\u001b[0m \u001b[38;5;28;43mint\u001b[39;49m\u001b[43m(\u001b[49m\u001b[43mc\u001b[49m\u001b[43m)\u001b[49m\n",
      "\u001b[1;31mTypeError\u001b[0m: int() argument must be a string, a bytes-like object or a real number, not 'complex'"
     ]
    }
   ],
   "source": [
    "c = 23j\n",
    "int(c)"
   ]
  },
  {
   "cell_type": "code",
   "execution_count": 4,
   "id": "4e0d5883",
   "metadata": {},
   "outputs": [
    {
     "ename": "TypeError",
     "evalue": "float() argument must be a string or a real number, not 'complex'",
     "output_type": "error",
     "traceback": [
      "\u001b[1;31m---------------------------------------------------------------------------\u001b[0m",
      "\u001b[1;31mTypeError\u001b[0m                                 Traceback (most recent call last)",
      "Cell \u001b[1;32mIn[4], line 2\u001b[0m\n\u001b[0;32m      1\u001b[0m d \u001b[38;5;241m=\u001b[39m \u001b[38;5;241m33\u001b[39mj\n\u001b[1;32m----> 2\u001b[0m \u001b[38;5;28;43mfloat\u001b[39;49m\u001b[43m(\u001b[49m\u001b[43md\u001b[49m\u001b[43m)\u001b[49m\n",
      "\u001b[1;31mTypeError\u001b[0m: float() argument must be a string or a real number, not 'complex'"
     ]
    }
   ],
   "source": [
    "d = 33j\n",
    "float(d)"
   ]
  },
  {
   "cell_type": "code",
   "execution_count": 5,
   "id": "28fd0d96",
   "metadata": {},
   "outputs": [
    {
     "data": {
      "text/plain": [
       "'36j'"
      ]
     },
     "execution_count": 5,
     "metadata": {},
     "output_type": "execute_result"
    }
   ],
   "source": [
    "e = 36j\n",
    "str(e)"
   ]
  },
  {
   "cell_type": "code",
   "execution_count": 6,
   "id": "9f2c7271",
   "metadata": {},
   "outputs": [
    {
     "data": {
      "text/plain": [
       "'45'"
      ]
     },
     "execution_count": 6,
     "metadata": {},
     "output_type": "execute_result"
    }
   ],
   "source": [
    "f = 45\n",
    "str(f)"
   ]
  },
  {
   "cell_type": "code",
   "execution_count": 7,
   "id": "1301a65e",
   "metadata": {},
   "outputs": [
    {
     "ename": "ValueError",
     "evalue": "invalid literal for int() with base 10: 'rishi'",
     "output_type": "error",
     "traceback": [
      "\u001b[1;31m---------------------------------------------------------------------------\u001b[0m",
      "\u001b[1;31mValueError\u001b[0m                                Traceback (most recent call last)",
      "Cell \u001b[1;32mIn[7], line 2\u001b[0m\n\u001b[0;32m      1\u001b[0m g \u001b[38;5;241m=\u001b[39m \u001b[38;5;124m'\u001b[39m\u001b[38;5;124mrishi\u001b[39m\u001b[38;5;124m'\u001b[39m\n\u001b[1;32m----> 2\u001b[0m \u001b[38;5;28;43mint\u001b[39;49m\u001b[43m(\u001b[49m\u001b[43mg\u001b[49m\u001b[43m)\u001b[49m\n",
      "\u001b[1;31mValueError\u001b[0m: invalid literal for int() with base 10: 'rishi'"
     ]
    }
   ],
   "source": [
    "g = 'rishi'\n",
    "int(g)\n"
   ]
  },
  {
   "cell_type": "code",
   "execution_count": 8,
   "id": "3542a9d9",
   "metadata": {},
   "outputs": [
    {
     "data": {
      "text/plain": [
       "'1'"
      ]
     },
     "execution_count": 8,
     "metadata": {},
     "output_type": "execute_result"
    }
   ],
   "source": [
    "str(\"1\")"
   ]
  },
  {
   "cell_type": "code",
   "execution_count": 9,
   "id": "c6a3a677",
   "metadata": {},
   "outputs": [
    {
     "data": {
      "text/plain": [
       "'abc'"
      ]
     },
     "execution_count": 9,
     "metadata": {},
     "output_type": "execute_result"
    }
   ],
   "source": [
    "str(\"abc\")"
   ]
  },
  {
   "cell_type": "code",
   "execution_count": 13,
   "id": "31f1c3a3",
   "metadata": {},
   "outputs": [
    {
     "data": {
      "text/plain": [
       "1"
      ]
     },
     "execution_count": 13,
     "metadata": {},
     "output_type": "execute_result"
    }
   ],
   "source": [
    "int(\"1\")"
   ]
  },
  {
   "cell_type": "code",
   "execution_count": 12,
   "id": "604ae98f",
   "metadata": {},
   "outputs": [
    {
     "data": {
      "text/plain": [
       "int"
      ]
     },
     "execution_count": 12,
     "metadata": {},
     "output_type": "execute_result"
    }
   ],
   "source": [
    "type(int(\"1\"))\n"
   ]
  },
  {
   "cell_type": "code",
   "execution_count": 11,
   "id": "20938aca",
   "metadata": {},
   "outputs": [
    {
     "ename": "ValueError",
     "evalue": "invalid literal for int() with base 10: 'abc'",
     "output_type": "error",
     "traceback": [
      "\u001b[1;31m---------------------------------------------------------------------------\u001b[0m",
      "\u001b[1;31mValueError\u001b[0m                                Traceback (most recent call last)",
      "Cell \u001b[1;32mIn[11], line 1\u001b[0m\n\u001b[1;32m----> 1\u001b[0m \u001b[38;5;28;43mint\u001b[39;49m\u001b[43m(\u001b[49m\u001b[38;5;124;43m\"\u001b[39;49m\u001b[38;5;124;43mabc\u001b[39;49m\u001b[38;5;124;43m\"\u001b[39;49m\u001b[43m)\u001b[49m\n",
      "\u001b[1;31mValueError\u001b[0m: invalid literal for int() with base 10: 'abc'"
     ]
    }
   ],
   "source": [
    "int(\"abc\")"
   ]
  },
  {
   "cell_type": "markdown",
   "id": "8a939e21",
   "metadata": {},
   "source": [
    "# Escape sequences"
   ]
  },
  {
   "cell_type": "markdown",
   "id": "ba98c11d",
   "metadata": {},
   "source": [
    "CODE                                      RESULT\n",
    "-     \\'                             - Single quote\n",
    "-   \\\\                             - Backslash\n",
    "-   \\n                             - New Line\n",
    "-   \\b                             - Bacskpace\n",
    "-   \\t                             - Tab\n",
    "-   \\r                             - Carriage Return"
   ]
  },
  {
   "cell_type": "code",
   "execution_count": 17,
   "id": "8c9d903f",
   "metadata": {},
   "outputs": [
    {
     "ename": "SyntaxError",
     "evalue": "invalid syntax. Perhaps you forgot a comma? (107405224.py, line 1)",
     "output_type": "error",
     "traceback": [
      "\u001b[1;36m  Cell \u001b[1;32mIn[17], line 1\u001b[1;36m\u001b[0m\n\u001b[1;33m    print(''python'')\u001b[0m\n\u001b[1;37m          ^\u001b[0m\n\u001b[1;31mSyntaxError\u001b[0m\u001b[1;31m:\u001b[0m invalid syntax. Perhaps you forgot a comma?\n"
     ]
    }
   ],
   "source": [
    "print(''python'')"
   ]
  },
  {
   "cell_type": "code",
   "execution_count": 33,
   "id": "8347b978",
   "metadata": {},
   "outputs": [
    {
     "name": "stdout",
     "output_type": "stream",
     "text": [
      "'python'\n"
     ]
    }
   ],
   "source": [
    "print('\\'python\\'')"
   ]
  },
  {
   "cell_type": "code",
   "execution_count": 19,
   "id": "96a70a33",
   "metadata": {},
   "outputs": [
    {
     "ename": "SyntaxError",
     "evalue": "incomplete input (4027521966.py, line 1)",
     "output_type": "error",
     "traceback": [
      "\u001b[1;36m  Cell \u001b[1;32mIn[19], line 1\u001b[1;36m\u001b[0m\n\u001b[1;33m    print('''python'')\u001b[0m\n\u001b[1;37m          ^\u001b[0m\n\u001b[1;31mSyntaxError\u001b[0m\u001b[1;31m:\u001b[0m incomplete input\n"
     ]
    }
   ],
   "source": [
    "print('''python'')"
   ]
  },
  {
   "cell_type": "code",
   "execution_count": 22,
   "id": "e21efde7",
   "metadata": {},
   "outputs": [
    {
     "ename": "SyntaxError",
     "evalue": "unterminated string literal (detected at line 1) (2378476496.py, line 1)",
     "output_type": "error",
     "traceback": [
      "\u001b[1;36m  Cell \u001b[1;32mIn[22], line 1\u001b[1;36m\u001b[0m\n\u001b[1;33m    print(\"PYTHON\u001b[0m\n\u001b[1;37m          ^\u001b[0m\n\u001b[1;31mSyntaxError\u001b[0m\u001b[1;31m:\u001b[0m unterminated string literal (detected at line 1)\n"
     ]
    }
   ],
   "source": [
    "print(\"PYTHON\n",
    "      Data science\")"
   ]
  },
  {
   "cell_type": "code",
   "execution_count": 4,
   "id": "a98259bd",
   "metadata": {},
   "outputs": [
    {
     "name": "stdout",
     "output_type": "stream",
     "text": [
      "python\n",
      "      Data Science\n"
     ]
    }
   ],
   "source": [
    "print('''python\n",
    "      Data Science''')"
   ]
  },
  {
   "cell_type": "code",
   "execution_count": 30,
   "id": "1d9fe59f",
   "metadata": {},
   "outputs": [
    {
     "name": "stdout",
     "output_type": "stream",
     "text": [
      "\n",
      "\n"
     ]
    }
   ],
   "source": [
    "print(\"\\n\") # trying to print new line character"
   ]
  },
  {
   "cell_type": "code",
   "execution_count": 31,
   "id": "f2d7f1ee",
   "metadata": {},
   "outputs": [
    {
     "name": "stdout",
     "output_type": "stream",
     "text": [
      "\\n\n"
     ]
    }
   ],
   "source": [
    "print(\"\\\\n\") # double slash prints single slash. therefore we get \\n printed"
   ]
  },
  {
   "cell_type": "code",
   "execution_count": 1,
   "id": "812f9f50",
   "metadata": {},
   "outputs": [
    {
     "data": {
      "text/plain": [
       "20.0"
      ]
     },
     "execution_count": 1,
     "metadata": {},
     "output_type": "execute_result"
    }
   ],
   "source": [
    "float(20)"
   ]
  },
  {
   "cell_type": "code",
   "execution_count": 2,
   "id": "cf7f92d9",
   "metadata": {},
   "outputs": [
    {
     "data": {
      "text/plain": [
       "34"
      ]
     },
     "execution_count": 2,
     "metadata": {},
     "output_type": "execute_result"
    }
   ],
   "source": [
    "int(34.56)"
   ]
  },
  {
   "cell_type": "code",
   "execution_count": 4,
   "id": "601ac29c",
   "metadata": {},
   "outputs": [
    {
     "data": {
      "text/plain": [
       "int"
      ]
     },
     "execution_count": 4,
     "metadata": {},
     "output_type": "execute_result"
    }
   ],
   "source": [
    "type(int('20'))"
   ]
  },
  {
   "cell_type": "code",
   "execution_count": 1,
   "id": "bb450153",
   "metadata": {},
   "outputs": [
    {
     "name": "stdout",
     "output_type": "stream",
     "text": [
      "\\\n"
     ]
    }
   ],
   "source": [
    "print('\\\\') # double backslash returns single slash"
   ]
  },
  {
   "cell_type": "code",
   "execution_count": 2,
   "id": "fec03f11",
   "metadata": {},
   "outputs": [
    {
     "name": "stdout",
     "output_type": "stream",
     "text": [
      "my name is rishi\n"
     ]
    },
    {
     "data": {
      "text/plain": [
       "'hello, this is a class of python'"
      ]
     },
     "execution_count": 2,
     "metadata": {},
     "output_type": "execute_result"
    }
   ],
   "source": [
    "print('my name is rishi')\n",
    "'''hello, this is a class of python'''"
   ]
  },
  {
   "cell_type": "code",
   "execution_count": 5,
   "id": "89c06539",
   "metadata": {},
   "outputs": [
    {
     "name": "stdout",
     "output_type": "stream",
     "text": [
      "hello my name ' rishi singh ' this is a class of python\n"
     ]
    }
   ],
   "source": [
    "print('hello my name \\' rishi singh \\' this is a class of python')"
   ]
  },
  {
   "cell_type": "code",
   "execution_count": 6,
   "id": "e39131d7",
   "metadata": {},
   "outputs": [
    {
     "name": "stdout",
     "output_type": "stream",
     "text": [
      "hello my name rishi singh this is a class of python\n"
     ]
    }
   ],
   "source": [
    "print('hello my name rishi singh this is a class of python')"
   ]
  },
  {
   "cell_type": "code",
   "execution_count": 10,
   "id": "19e30867",
   "metadata": {},
   "outputs": [
    {
     "name": "stdout",
     "output_type": "stream",
     "text": [
      "hello, my name is r \bishi singh\n"
     ]
    }
   ],
   "source": [
    "print('hello, my name is r \\bishi singh') # using backslash b"
   ]
  },
  {
   "cell_type": "code",
   "execution_count": 11,
   "id": "13b7d9d4",
   "metadata": {},
   "outputs": [
    {
     "name": "stdout",
     "output_type": "stream",
     "text": [
      "hello, my name is r  \b\bishi singh\n"
     ]
    }
   ],
   "source": [
    "print('hello, my name is r  \\b\\bishi singh')"
   ]
  },
  {
   "cell_type": "code",
   "execution_count": 12,
   "id": "ce41d761",
   "metadata": {},
   "outputs": [
    {
     "name": "stdout",
     "output_type": "stream",
     "text": [
      "hello, my name is \t rishi singh\n"
     ]
    }
   ],
   "source": [
    "print('hello, my name is \\t rishi singh') # using tab"
   ]
  },
  {
   "cell_type": "code",
   "execution_count": 13,
   "id": "21adb33c",
   "metadata": {},
   "outputs": [
    {
     "name": "stdout",
     "output_type": "stream",
     "text": [
      "hello, my name is \t\t rishi singh\n"
     ]
    }
   ],
   "source": [
    "print('hello, my name is \\t\\t rishi singh')"
   ]
  },
  {
   "cell_type": "code",
   "execution_count": 14,
   "id": "c75ae214",
   "metadata": {},
   "outputs": [
    {
     "name": "stdout",
     "output_type": "stream",
     "text": [
      "hello, my name is \r",
      " rishi singh\n"
     ]
    }
   ],
   "source": [
    "print('hello, my name is \\r rishi singh')"
   ]
  },
  {
   "cell_type": "code",
   "execution_count": 16,
   "id": "72578aa3",
   "metadata": {},
   "outputs": [
    {
     "name": "stdout",
     "output_type": "stream",
     "text": [
      "right now \b im in the class of \t\n",
      " 'data science'\n"
     ]
    }
   ],
   "source": [
    "print('right now \\b im in the class of \\t\\n \\'data science\\'') # using escape sequence"
   ]
  },
  {
   "cell_type": "code",
   "execution_count": 17,
   "id": "45d1f144",
   "metadata": {},
   "outputs": [
    {
     "name": "stdout",
     "output_type": "stream",
     "text": [
      "hello, my name is \r",
      " rishi singh\n"
     ]
    }
   ],
   "source": [
    "print('hello, my name is \\r rishi singh')"
   ]
  },
  {
   "cell_type": "code",
   "execution_count": 18,
   "id": "ca4931d0",
   "metadata": {},
   "outputs": [
    {
     "data": {
      "text/plain": [
       "True"
      ]
     },
     "execution_count": 18,
     "metadata": {},
     "output_type": "execute_result"
    }
   ],
   "source": [
    "bool(20.9)"
   ]
  },
  {
   "cell_type": "code",
   "execution_count": 19,
   "id": "451ea54f",
   "metadata": {},
   "outputs": [
    {
     "data": {
      "text/plain": [
       "(1+0j)"
      ]
     },
     "execution_count": 19,
     "metadata": {},
     "output_type": "execute_result"
    }
   ],
   "source": [
    "complex(True)"
   ]
  },
  {
   "cell_type": "code",
   "execution_count": 23,
   "id": "cb95edbc",
   "metadata": {},
   "outputs": [
    {
     "data": {
      "text/plain": [
       "True"
      ]
     },
     "execution_count": 23,
     "metadata": {},
     "output_type": "execute_result"
    }
   ],
   "source": [
    "bool('rishi') # because we are not lying as we have given quotaion mark"
   ]
  },
  {
   "cell_type": "code",
   "execution_count": 21,
   "id": "3587e91d",
   "metadata": {},
   "outputs": [
    {
     "data": {
      "text/plain": [
       "35.0"
      ]
     },
     "execution_count": 21,
     "metadata": {},
     "output_type": "execute_result"
    }
   ],
   "source": [
    "float(35)"
   ]
  },
  {
   "cell_type": "code",
   "execution_count": 22,
   "id": "1d6441ee",
   "metadata": {},
   "outputs": [
    {
     "ename": "NameError",
     "evalue": "name 'rishi' is not defined",
     "output_type": "error",
     "traceback": [
      "\u001b[1;31m---------------------------------------------------------------------------\u001b[0m",
      "\u001b[1;31mNameError\u001b[0m                                 Traceback (most recent call last)",
      "Cell \u001b[1;32mIn[22], line 1\u001b[0m\n\u001b[1;32m----> 1\u001b[0m \u001b[38;5;28mbool\u001b[39m(\u001b[43mrishi\u001b[49m)\n",
      "\u001b[1;31mNameError\u001b[0m: name 'rishi' is not defined"
     ]
    }
   ],
   "source": [
    "bool(rishi)"
   ]
  },
  {
   "cell_type": "code",
   "execution_count": 24,
   "id": "025f1c64",
   "metadata": {},
   "outputs": [
    {
     "name": "stdout",
     "output_type": "stream",
     "text": [
      "\\n\n"
     ]
    }
   ],
   "source": [
    "print('\\\\n')"
   ]
  },
  {
   "cell_type": "code",
   "execution_count": 25,
   "id": "59409129",
   "metadata": {},
   "outputs": [
    {
     "name": "stdout",
     "output_type": "stream",
     "text": [
      "python\b\n"
     ]
    }
   ],
   "source": [
    "print('python\\b')"
   ]
  },
  {
   "cell_type": "code",
   "execution_count": 26,
   "id": "22c5cdf1",
   "metadata": {},
   "outputs": [
    {
     "name": "stdout",
     "output_type": "stream",
     "text": [
      "python\b\b\n"
     ]
    }
   ],
   "source": [
    "print('python\\b\\b')"
   ]
  },
  {
   "cell_type": "code",
   "execution_count": 28,
   "id": "47cd3e16",
   "metadata": {},
   "outputs": [
    {
     "name": "stdout",
     "output_type": "stream",
     "text": [
      "python\b\b\b\n"
     ]
    }
   ],
   "source": [
    "print('python\\b\\b\\b') # when odd number of times backspace is given continously it removes one character\n",
    "                     # in even numbers it removes two character"
   ]
  },
  {
   "cell_type": "code",
   "execution_count": 30,
   "id": "78692370",
   "metadata": {},
   "outputs": [
    {
     "name": "stdout",
     "output_type": "stream",
     "text": [
      "py\bt\bh\bo\bn\b\n"
     ]
    }
   ],
   "source": [
    "print('py\\bt\\bh\\bo\\bn\\b')"
   ]
  },
  {
   "cell_type": "code",
   "execution_count": 31,
   "id": "3fbde03e",
   "metadata": {},
   "outputs": [
    {
     "name": "stdout",
     "output_type": "stream",
     "text": [
      "i am\t learning python\n"
     ]
    }
   ],
   "source": [
    "print('i am\\t learning python')"
   ]
  },
  {
   "cell_type": "code",
   "execution_count": 33,
   "id": "0bb31913",
   "metadata": {},
   "outputs": [
    {
     "name": "stdout",
     "output_type": "stream",
     "text": [
      "PYTHON\r",
      "DATA\n"
     ]
    }
   ],
   "source": [
    "print(\"PYTHON\\rDATA\") # carriage return example"
   ]
  },
  {
   "cell_type": "code",
   "execution_count": 34,
   "id": "01d103d4",
   "metadata": {},
   "outputs": [
    {
     "name": "stdout",
     "output_type": "stream",
     "text": [
      "PYTHON\r",
      "DATALE\n"
     ]
    }
   ],
   "source": [
    "print(\"PYTHON\\rDATALE\") # carriage return \n",
    "                      # here It is now equal character of PYTHON"
   ]
  },
  {
   "cell_type": "code",
   "execution_count": 35,
   "id": "e3bd7376",
   "metadata": {},
   "outputs": [
    {
     "name": "stdout",
     "output_type": "stream",
     "text": [
      "PYTHON\r",
      "DATALEF\n"
     ]
    }
   ],
   "source": [
    "print(\"PYTHON\\rDATALEF\") # now it forgets python and took extra character - DATALEF"
   ]
  },
  {
   "cell_type": "code",
   "execution_count": 36,
   "id": "df978770",
   "metadata": {},
   "outputs": [
    {
     "name": "stdout",
     "output_type": "stream",
     "text": [
      "PYTHON\r",
      "DATA\r",
      "HE\n"
     ]
    }
   ],
   "source": [
    "print(\"PYTHON\\rDATA\\rHE\")"
   ]
  },
  {
   "cell_type": "code",
   "execution_count": 39,
   "id": "6a89c201",
   "metadata": {},
   "outputs": [
    {
     "name": "stdout",
     "output_type": "stream",
     "text": [
      "DATAON\r",
      "HE\n"
     ]
    }
   ],
   "source": [
    "print('DATAON\\rHE')"
   ]
  },
  {
   "cell_type": "code",
   "execution_count": 40,
   "id": "d1e02be6",
   "metadata": {},
   "outputs": [
    {
     "name": "stdout",
     "output_type": "stream",
     "text": [
      "HELLO\r",
      "HAVE\r",
      "WORD\n"
     ]
    }
   ],
   "source": [
    "print(\"HELLO\\rHAVE\\rWORD\")"
   ]
  },
  {
   "cell_type": "markdown",
   "id": "a79d4856",
   "metadata": {},
   "source": [
    "# Non Primitive Data Type /  Data Structure Data Type \n",
    "- non primitive data types are also called Data Structures.\n",
    "- In data structures primitive and non primitive data types can both be stored in a sequence or structure.\n",
    "\n",
    "# List"
   ]
  },
  {
   "cell_type": "code",
   "execution_count": 17,
   "id": "91937a71",
   "metadata": {},
   "outputs": [
    {
     "name": "stdout",
     "output_type": "stream",
     "text": [
      "1\n",
      "1\n",
      "4\n",
      "3\n",
      "4\n"
     ]
    }
   ],
   "source": [
    "y = ['str', 'hello', True, [1, 2, [1, 2, 3, 4]]]\n",
    "x = y[3]\n",
    "q = x[2]\n",
    "print(q[0])\n",
    "\n",
    "# another method\n",
    "\n",
    "print(y[3][0])\n",
    "\n",
    "print(len(y))\n",
    "print(len(y[3]))\n",
    "print(len(y[3][2]))"
   ]
  },
  {
   "cell_type": "code",
   "execution_count": 22,
   "id": "e344b083",
   "metadata": {},
   "outputs": [
    {
     "data": {
      "text/plain": [
       "0"
      ]
     },
     "execution_count": 22,
     "metadata": {},
     "output_type": "execute_result"
    }
   ],
   "source": [
    "e = ['rishi','rohit', 1 ,1, 2 , 2,[2, 'gaurav', 'hello',[ 'hello', 'hello']]]\n",
    "e.count(6)\n"
   ]
  },
  {
   "cell_type": "code",
   "execution_count": null,
   "id": "d6789fa2",
   "metadata": {},
   "outputs": [],
   "source": [
    "# list striding , slicing etc are as same as string"
   ]
  },
  {
   "cell_type": "code",
   "execution_count": 24,
   "id": "6ccb5d9a",
   "metadata": {},
   "outputs": [
    {
     "ename": "AttributeError",
     "evalue": "'list' object has no attribute 'endswith'",
     "output_type": "error",
     "traceback": [
      "\u001b[1;31m---------------------------------------------------------------------------\u001b[0m",
      "\u001b[1;31mAttributeError\u001b[0m                            Traceback (most recent call last)",
      "Cell \u001b[1;32mIn[24], line 1\u001b[0m\n\u001b[1;32m----> 1\u001b[0m \u001b[38;5;28mprint\u001b[39m(\u001b[43my\u001b[49m\u001b[38;5;241;43m.\u001b[39;49m\u001b[43mendswith\u001b[49m(\u001b[38;5;28;01mTrue\u001b[39;00m))\n",
      "\u001b[1;31mAttributeError\u001b[0m: 'list' object has no attribute 'endswith'"
     ]
    }
   ],
   "source": [
    "print(y.endswith(True))"
   ]
  },
  {
   "cell_type": "code",
   "execution_count": 25,
   "id": "9d24ed1e",
   "metadata": {},
   "outputs": [
    {
     "ename": "AttributeError",
     "evalue": "'list' object has no attribute 'split'",
     "output_type": "error",
     "traceback": [
      "\u001b[1;31m---------------------------------------------------------------------------\u001b[0m",
      "\u001b[1;31mAttributeError\u001b[0m                            Traceback (most recent call last)",
      "Cell \u001b[1;32mIn[25], line 1\u001b[0m\n\u001b[1;32m----> 1\u001b[0m \u001b[38;5;28mprint\u001b[39m(\u001b[43my\u001b[49m\u001b[38;5;241;43m.\u001b[39;49m\u001b[43msplit\u001b[49m(\u001b[38;5;124m'\u001b[39m\u001b[38;5;124mhello\u001b[39m\u001b[38;5;124m'\u001b[39m))\n",
      "\u001b[1;31mAttributeError\u001b[0m: 'list' object has no attribute 'split'"
     ]
    }
   ],
   "source": [
    "print(y.split('hello'))"
   ]
  },
  {
   "cell_type": "code",
   "execution_count": 2,
   "id": "5075f3cb",
   "metadata": {},
   "outputs": [
    {
     "ename": "AttributeError",
     "evalue": "'list' object has no attribute 'endswith'",
     "output_type": "error",
     "traceback": [
      "\u001b[1;31m---------------------------------------------------------------------------\u001b[0m",
      "\u001b[1;31mAttributeError\u001b[0m                            Traceback (most recent call last)",
      "Cell \u001b[1;32mIn[2], line 1\u001b[0m\n\u001b[1;32m----> 1\u001b[0m \u001b[38;5;28mprint\u001b[39m(\u001b[43my\u001b[49m\u001b[38;5;241;43m.\u001b[39;49m\u001b[43mendswith\u001b[49m([\u001b[38;5;241m1\u001b[39m,\u001b[38;5;241m2\u001b[39m, [\u001b[38;5;241m1\u001b[39m,\u001b[38;5;241m2\u001b[39m,\u001b[38;5;241m3\u001b[39m,\u001b[38;5;241m4\u001b[39m]]))\n",
      "\u001b[1;31mAttributeError\u001b[0m: 'list' object has no attribute 'endswith'"
     ]
    }
   ],
   "source": [
    "print(y.endswith([1,2, [1,2,3,4]]))"
   ]
  },
  {
   "cell_type": "code",
   "execution_count": 28,
   "id": "6c72f5b6",
   "metadata": {},
   "outputs": [
    {
     "ename": "AttributeError",
     "evalue": "'list' object has no attribute 'find'",
     "output_type": "error",
     "traceback": [
      "\u001b[1;31m---------------------------------------------------------------------------\u001b[0m",
      "\u001b[1;31mAttributeError\u001b[0m                            Traceback (most recent call last)",
      "Cell \u001b[1;32mIn[28], line 1\u001b[0m\n\u001b[1;32m----> 1\u001b[0m \u001b[38;5;28mprint\u001b[39m(\u001b[43my\u001b[49m\u001b[38;5;241;43m.\u001b[39;49m\u001b[43mfind\u001b[49m(\u001b[38;5;124m'\u001b[39m\u001b[38;5;124mhello\u001b[39m\u001b[38;5;124m'\u001b[39m))\n",
      "\u001b[1;31mAttributeError\u001b[0m: 'list' object has no attribute 'find'"
     ]
    }
   ],
   "source": [
    "print(y.find('hello'))"
   ]
  },
  {
   "cell_type": "code",
   "execution_count": 42,
   "id": "f37263d0",
   "metadata": {},
   "outputs": [
    {
     "name": "stdout",
     "output_type": "stream",
     "text": [
      "[1, 2, 123]\n",
      "[1, 2, 123, ['rishi', 1, 2, 3]]\n",
      "[1, 2, 3, 'h', 'e', 'l', 'l', 'o']\n"
     ]
    }
   ],
   "source": [
    "# List Methods\n",
    "\n",
    "# list.append(item) - add a single item at the end of the list\n",
    "x = [1,2]\n",
    "x.append(123) # can take any data type\n",
    "print(x)\n",
    "x.append(['rishi',1,2,3]) # adds the list at the end\n",
    "print(x)\n",
    "\n",
    "# .extend(iterable) -  can take only iterable data types\n",
    "# iterable - strings, list, tuples, set, dictionary\n",
    "lst = [1,2,3]\n",
    "lst.extend('hello')\n",
    "print(lst)\n",
    "lst.extend([\"hello\",1,2,3]) # extend the current list with elements in the argument\n",
    "\n",
    "# .remove()\n",
    "\n",
    "# .count()"
   ]
  },
  {
   "cell_type": "code",
   "execution_count": 41,
   "id": "5b66a622",
   "metadata": {},
   "outputs": [
    {
     "name": "stdout",
     "output_type": "stream",
     "text": [
      "['rishi', 1, 2, 'rohit', 3, 4, 'gaurav', ['    ', 'hello', 'world']]\n",
      "['rishi', 1, 2, 'rohit', 3, 4, 'gaurav', ['    ', 'hello', 'world'], '    ', 'hello', 'world']\n",
      "['rishi', 1, 2, 'rohit', 3, 4, 'gaurav', '    ', 'hello', 'world']\n"
     ]
    }
   ],
   "source": [
    "lt = ['rishi',1,2,'rohit',3,4,'gaurav']\n",
    "lt.append(['    ','hello','world'])\n",
    "print(lt)\n",
    "lt.extend(['    ','hello','world'])\n",
    "print(lt)\n",
    "\n",
    "lt = ['rishi',1,2,'rohit',3,4,'gaurav']\n",
    "lt.extend(['    ','hello','world'])\n",
    "print(lt)"
   ]
  },
  {
   "cell_type": "code",
   "execution_count": 11,
   "id": "1c03bb4b",
   "metadata": {},
   "outputs": [
    {
     "name": "stdout",
     "output_type": "stream",
     "text": [
      "[1, 2, 'rohit', 3, 4, 'gaurav', 1, 'rishi']\n",
      "[1, 2, 'rohit', 3, 4, 'gaurav', 1]\n"
     ]
    }
   ],
   "source": [
    "lt = ['rishi',1,2,'rohit',3,4,'gaurav',1,'rishi']\n",
    "lt.remove('rishi')\n",
    "print(lt)\n",
    "lt.remove('rishi')\n",
    "print(lt)"
   ]
  },
  {
   "cell_type": "code",
   "execution_count": 15,
   "id": "d95ccd06",
   "metadata": {},
   "outputs": [
    {
     "name": "stdout",
     "output_type": "stream",
     "text": [
      "<class 'list'>\n"
     ]
    }
   ],
   "source": [
    "h = ['rishi',1,3,4,'roshit',6,7,8]\n",
    "print(type(h))"
   ]
  },
  {
   "cell_type": "code",
   "execution_count": 20,
   "id": "e105d8d1",
   "metadata": {},
   "outputs": [
    {
     "name": "stdout",
     "output_type": "stream",
     "text": [
      "['rishi', 1, 3, 4, ['roshit', 6, 7, 8], 9]\n"
     ]
    },
    {
     "data": {
      "text/plain": [
       "['rishi', 1, 3, 4, ['roshit', 6, 7, 8], 9, ['my', 'name', 22, 44, 55]]"
      ]
     },
     "execution_count": 20,
     "metadata": {},
     "output_type": "execute_result"
    }
   ],
   "source": [
    "h = ['rishi',1,3,4,['roshit',6,7,8]] # append function\n",
    "h.append(9)\n",
    "print(h)\n",
    "h.append(['my','name',22,44,55])\n",
    "h"
   ]
  },
  {
   "cell_type": "code",
   "execution_count": 22,
   "id": "0769eacd",
   "metadata": {},
   "outputs": [
    {
     "data": {
      "text/plain": [
       "['rishi', 1, 3, 4, ['roshit', 6, 7, 8], 'my', 'name', 22, 44, 55]"
      ]
     },
     "execution_count": 22,
     "metadata": {},
     "output_type": "execute_result"
    }
   ],
   "source": [
    "h = ['rishi',1,3,4,['roshit',6,7,8]]\n",
    "h.extend(['my','name',22,44,55])\n",
    "h"
   ]
  },
  {
   "cell_type": "code",
   "execution_count": 25,
   "id": "0f754173",
   "metadata": {},
   "outputs": [
    {
     "data": {
      "text/plain": [
       "7"
      ]
     },
     "execution_count": 25,
     "metadata": {},
     "output_type": "execute_result"
    }
   ],
   "source": [
    "g = [1,2,[3,4,5,6,7,[1,2,3,4,5,6,7]]]\n",
    "g[2][4]"
   ]
  },
  {
   "cell_type": "code",
   "execution_count": 2,
   "id": "41d1f231",
   "metadata": {},
   "outputs": [
    {
     "name": "stdout",
     "output_type": "stream",
     "text": [
      "2360242297088\n",
      "[1, 2, 3, 4, 5, 6, 7, 1, 1, 2, 2, 3, 4, 5, 6, 7]\n",
      "2360241942976\n"
     ]
    }
   ],
   "source": [
    "g = [1,2,[3,4,5,6,7,['hello',1,1,2,2,3,4,5,6,7]]]\n",
    "print(id(g))\n",
    "r = g[0:2]\n",
    "a = g[2]\n",
    "c = a[0:5]\n",
    "b = g[2][5]\n",
    "g = r\n",
    "g.extend(c)\n",
    "g.extend(b)\n",
    "g.remove('hello')\n",
    "print(g)\n",
    "print(id(g))"
   ]
  },
  {
   "cell_type": "code",
   "execution_count": 1,
   "id": "1482e77a",
   "metadata": {},
   "outputs": [
    {
     "name": "stdout",
     "output_type": "stream",
     "text": [
      "2360213864896\n"
     ]
    },
    {
     "ename": "AttributeError",
     "evalue": "'list' object has no attribute 'split'",
     "output_type": "error",
     "traceback": [
      "\u001b[1;31m---------------------------------------------------------------------------\u001b[0m",
      "\u001b[1;31mAttributeError\u001b[0m                            Traceback (most recent call last)",
      "Cell \u001b[1;32mIn[1], line 10\u001b[0m\n\u001b[0;32m      8\u001b[0m g\u001b[38;5;241m.\u001b[39mextend(c)\n\u001b[0;32m      9\u001b[0m g\u001b[38;5;241m.\u001b[39mextend(b)\n\u001b[1;32m---> 10\u001b[0m \u001b[43mg\u001b[49m\u001b[38;5;241;43m.\u001b[39;49m\u001b[43msplit\u001b[49m(\u001b[38;5;124m'\u001b[39m\u001b[38;5;124mhello\u001b[39m\u001b[38;5;124m'\u001b[39m)\n\u001b[0;32m     11\u001b[0m \u001b[38;5;28mprint\u001b[39m(g)\n\u001b[0;32m     12\u001b[0m \u001b[38;5;28mprint\u001b[39m(\u001b[38;5;28mid\u001b[39m(g))\n",
      "\u001b[1;31mAttributeError\u001b[0m: 'list' object has no attribute 'split'"
     ]
    }
   ],
   "source": [
    "g = [1,2,[3,4,5,6,7,['hello',1,1,2,2,3,4,5,6,7]]]\n",
    "print(id(g))\n",
    "r = g[0:2]\n",
    "a = g[2]\n",
    "c = a[0:5]\n",
    "b = g[2][5]\n",
    "g = r\n",
    "g.extend(c)\n",
    "g.extend(b)\n",
    "g.split('hello')\n",
    "print(g)\n",
    "print(id(g))"
   ]
  },
  {
   "cell_type": "code",
   "execution_count": 21,
   "id": "b1b6045e",
   "metadata": {},
   "outputs": [
    {
     "data": {
      "text/plain": [
       "2"
      ]
     },
     "execution_count": 21,
     "metadata": {},
     "output_type": "execute_result"
    }
   ],
   "source": [
    "g = ['rishi','rishi',1,2,3,3,6,3]\n",
    "g.count(g[1])"
   ]
  },
  {
   "cell_type": "code",
   "execution_count": 30,
   "id": "607e0747",
   "metadata": {},
   "outputs": [
    {
     "name": "stdout",
     "output_type": "stream",
     "text": [
      "[1, 2, 2, 3, 3, 4, 4, 5, 6, 6, 7, 8.7, 23]\n",
      "None\n",
      "[23, 8.7, 7, 6, 6, 5, 4, 4, 3, 3, 2, 2, 1]\n",
      "\n",
      "\n"
     ]
    },
    {
     "ename": "TypeError",
     "evalue": "'<' not supported between instances of 'str' and 'int'",
     "output_type": "error",
     "traceback": [
      "\u001b[1;31m---------------------------------------------------------------------------\u001b[0m",
      "\u001b[1;31mTypeError\u001b[0m                                 Traceback (most recent call last)",
      "Cell \u001b[1;32mIn[30], line 11\u001b[0m\n\u001b[0;32m      9\u001b[0m \u001b[38;5;28mprint\u001b[39m(\u001b[38;5;124m'\u001b[39m\u001b[38;5;130;01m\\n\u001b[39;00m\u001b[38;5;124m'\u001b[39m)\n\u001b[0;32m     10\u001b[0m lst \u001b[38;5;241m=\u001b[39m [\u001b[38;5;241m1\u001b[39m,\u001b[38;5;241m2\u001b[39m,\u001b[38;5;241m3\u001b[39m,\u001b[38;5;241m4\u001b[39m,\u001b[38;5;241m2\u001b[39m,\u001b[38;5;124m'\u001b[39m\u001b[38;5;124mrishi\u001b[39m\u001b[38;5;124m'\u001b[39m,\u001b[38;5;241m4\u001b[39m,\u001b[38;5;241m5\u001b[39m,\u001b[38;5;241m6\u001b[39m,\u001b[38;5;241m3\u001b[39m,\u001b[38;5;241m23\u001b[39m,\u001b[38;5;241m6\u001b[39m,\u001b[38;5;241m7\u001b[39m,\u001b[38;5;241m8.7\u001b[39m]\n\u001b[1;32m---> 11\u001b[0m \u001b[43mlst\u001b[49m\u001b[38;5;241;43m.\u001b[39;49m\u001b[43msort\u001b[49m\u001b[43m(\u001b[49m\u001b[43m)\u001b[49m\n\u001b[0;32m     12\u001b[0m \u001b[38;5;28mprint\u001b[39m(lst)\n",
      "\u001b[1;31mTypeError\u001b[0m: '<' not supported between instances of 'str' and 'int'"
     ]
    }
   ],
   "source": [
    "# .sort()- only works with integers and gives list in ascending order\n",
    "# lst.sort(reverse=True) - gives list in descending order\n",
    "\n",
    "lst = [1,2,3,4,2,4,5,6,3,23,6,7,8.7]\n",
    "lst.sort()\n",
    "print(lst)\n",
    "print(lst.sort(reverse=True)) # gives none with print?\n",
    "print(lst)\n",
    "print('\\n')\n",
    "lst = [1,2,3,4,2,'rishi',4,5,6,3,23,6,7,8.7]- #does not work with string\n",
    "lst.sort()\n",
    "print(lst)\n"
   ]
  },
  {
   "cell_type": "code",
   "execution_count": 35,
   "id": "4ae3e55e",
   "metadata": {},
   "outputs": [
    {
     "name": "stdout",
     "output_type": "stream",
     "text": [
      "['rahul', 23, 'rohan', 'rishi']\n"
     ]
    }
   ],
   "source": [
    "# x.reverse() - it reverses the order of the list\n",
    "\n",
    "v = ['rishi','rohan',23,'rahul']\n",
    "v.reverse()\n",
    "print(v)"
   ]
  },
  {
   "cell_type": "code",
   "execution_count": 3,
   "id": "99b3f02b",
   "metadata": {},
   "outputs": [
    {
     "name": "stdout",
     "output_type": "stream",
     "text": [
      "[]\n"
     ]
    }
   ],
   "source": [
    "v = ['rishi','rohan',23,'rahul']\n",
    "v.clear()\n",
    "print(v)"
   ]
  },
  {
   "cell_type": "code",
   "execution_count": 10,
   "id": "307e6519",
   "metadata": {},
   "outputs": [
    {
     "name": "stdout",
     "output_type": "stream",
     "text": [
      "['rishi', 'rohan', 33, 23, 'rahul']\n"
     ]
    }
   ],
   "source": [
    "v = ['rishi','rohan',23,'rahul'] \n",
    "v.insert(2,33) # first argument will be the index no and second item to be added\n",
    "print(v)"
   ]
  },
  {
   "cell_type": "markdown",
   "id": "4503dc76",
   "metadata": {},
   "source": [
    "# Tuple\n",
    "- Group of any data type seperated by , iside or outside () are tuple\n",
    "- .count() can be used with tuple\n",
    "- .index()- it will give the index number of the argument where it first occured"
   ]
  },
  {
   "cell_type": "code",
   "execution_count": 41,
   "id": "9575f9fc",
   "metadata": {},
   "outputs": [
    {
     "name": "stdout",
     "output_type": "stream",
     "text": [
      "<class 'tuple'>\n",
      "<class 'int'>\n",
      "<class 'tuple'>\n",
      "<class 'tuple'>\n"
     ]
    }
   ],
   "source": [
    "#example\n",
    "\n",
    "x = (1,3,'rishi',True)\n",
    "print(type(x))\n",
    "x = (1)\n",
    "print(type(x))\n",
    "x = (1,'rishi')\n",
    "print(type(x))\n",
    "x = 1,2\n",
    "print(type(x))"
   ]
  },
  {
   "cell_type": "code",
   "execution_count": 12,
   "id": "ac57e91a",
   "metadata": {},
   "outputs": [
    {
     "name": "stdout",
     "output_type": "stream",
     "text": [
      "2\n",
      "1\n"
     ]
    }
   ],
   "source": [
    "# .index()\n",
    "\n",
    "z = ['rishi',5,2,4,2,5,7]\n",
    "print(z.index(2))\n",
    "print(z.index(5))\n"
   ]
  },
  {
   "cell_type": "code",
   "execution_count": 51,
   "id": "d5a1452f",
   "metadata": {},
   "outputs": [
    {
     "data": {
      "text/plain": [
       "12"
      ]
     },
     "execution_count": 51,
     "metadata": {},
     "output_type": "execute_result"
    }
   ],
   "source": [
    "x = 12 \n",
    "id(x)\n",
    "x"
   ]
  },
  {
   "cell_type": "code",
   "execution_count": 47,
   "id": "428f70d1",
   "metadata": {},
   "outputs": [
    {
     "data": {
      "text/plain": [
       "2189660980144"
      ]
     },
     "execution_count": 47,
     "metadata": {},
     "output_type": "execute_result"
    }
   ],
   "source": [
    "x = 23\n",
    "id(x)"
   ]
  },
  {
   "cell_type": "code",
   "execution_count": 48,
   "id": "e5989a19",
   "metadata": {},
   "outputs": [
    {
     "data": {
      "text/plain": [
       "2189770410624"
      ]
     },
     "execution_count": 48,
     "metadata": {},
     "output_type": "execute_result"
    }
   ],
   "source": [
    "x = [34]\n",
    "id(x)"
   ]
  },
  {
   "cell_type": "markdown",
   "id": "1359cb9e",
   "metadata": {},
   "source": [
    "# Mutable Data Types\n",
    "An object that allows you to change its values without changing its identity is a mutable object\n",
    "- list\n",
    "- set\n",
    "- dictionaries"
   ]
  },
  {
   "cell_type": "code",
   "execution_count": 63,
   "id": "ecf7a9c1",
   "metadata": {},
   "outputs": [
    {
     "data": {
      "text/plain": [
       "2189770916096"
      ]
     },
     "execution_count": 63,
     "metadata": {},
     "output_type": "execute_result"
    }
   ],
   "source": [
    "x = ['rishi',1,2]\n",
    "id(x)"
   ]
  },
  {
   "cell_type": "code",
   "execution_count": 64,
   "id": "2b06a55c",
   "metadata": {},
   "outputs": [
    {
     "name": "stdout",
     "output_type": "stream",
     "text": [
      "[1, 2]\n"
     ]
    },
    {
     "data": {
      "text/plain": [
       "2189770916096"
      ]
     },
     "execution_count": 64,
     "metadata": {},
     "output_type": "execute_result"
    }
   ],
   "source": [
    "x.remove('rishi')\n",
    "print(x)\n",
    "id(x)"
   ]
  },
  {
   "cell_type": "code",
   "execution_count": 65,
   "id": "481aecfb",
   "metadata": {},
   "outputs": [],
   "source": [
    "x = [1,2,3,4,5,6,7,8] # have to sort and reverse 4,5,6,7,8         ?\n",
    "                      # remove 4 with del"
   ]
  },
  {
   "cell_type": "code",
   "execution_count": 4,
   "id": "a4f8e860",
   "metadata": {},
   "outputs": [
    {
     "name": "stdout",
     "output_type": "stream",
     "text": [
      "[8, 7, 6, 5, 4]\n"
     ]
    }
   ],
   "source": [
    "x = [1,2,3,4,5,6,7,8]\n",
    "a = x[3:]\n",
    "a.sort(reverse=True)\n",
    "print(a)"
   ]
  },
  {
   "cell_type": "code",
   "execution_count": 6,
   "id": "304c690d",
   "metadata": {},
   "outputs": [
    {
     "name": "stdout",
     "output_type": "stream",
     "text": [
      "[1, 2, 3, 5, 6, 7, 8]\n"
     ]
    }
   ],
   "source": [
    "# remove 4 with dell\n",
    "\n",
    "x = [1,2,3,4,5,6,7,8]\n",
    "del(x[3])\n",
    "print(x)"
   ]
  },
  {
   "cell_type": "code",
   "execution_count": null,
   "id": "610a4049",
   "metadata": {},
   "outputs": [],
   "source": []
  },
  {
   "cell_type": "code",
   "execution_count": null,
   "id": "5a20f981",
   "metadata": {},
   "outputs": [],
   "source": []
  },
  {
   "cell_type": "code",
   "execution_count": null,
   "id": "a5422f27",
   "metadata": {},
   "outputs": [],
   "source": []
  },
  {
   "cell_type": "code",
   "execution_count": null,
   "id": "0d433195",
   "metadata": {},
   "outputs": [],
   "source": []
  },
  {
   "cell_type": "code",
   "execution_count": null,
   "id": "cfd9d0d1",
   "metadata": {},
   "outputs": [],
   "source": []
  },
  {
   "cell_type": "code",
   "execution_count": null,
   "id": "520801e1",
   "metadata": {},
   "outputs": [],
   "source": []
  },
  {
   "cell_type": "code",
   "execution_count": null,
   "id": "e75fab5b",
   "metadata": {},
   "outputs": [],
   "source": []
  },
  {
   "cell_type": "code",
   "execution_count": null,
   "id": "dae1b1e4",
   "metadata": {},
   "outputs": [],
   "source": []
  },
  {
   "cell_type": "code",
   "execution_count": 8,
   "id": "ac3d91a7",
   "metadata": {},
   "outputs": [
    {
     "name": "stdout",
     "output_type": "stream",
     "text": [
      "[1, 2, [3, 4, 5, 6, 7, [1, 1, 2, 2, 3, 4, 5, 6, 7]]]\n"
     ]
    }
   ],
   "source": [
    "d = [1,2,[3,4,5,6,7,['hello',1,1,2,2,3,4,5,6,7]]]\n",
    "del(d[2][5][0])\n",
    "print(d)"
   ]
  },
  {
   "cell_type": "code",
   "execution_count": 14,
   "id": "f283af06",
   "metadata": {},
   "outputs": [
    {
     "name": "stdout",
     "output_type": "stream",
     "text": [
      "2162952331328\n",
      "['rihsi', 2, 3, 4, 5, 4, 3, 6, 'gaurav']\n",
      "2162952331328\n"
     ]
    }
   ],
   "source": [
    "n = ['rihsi',2,3,4,5,'rohit',4,3,6,'gaurav']\n",
    "print(id(n))\n",
    "n.remove('rohit')\n",
    "print(n)\n",
    "print(id(n))"
   ]
  },
  {
   "cell_type": "code",
   "execution_count": 20,
   "id": "00cdb322",
   "metadata": {},
   "outputs": [
    {
     "name": "stdout",
     "output_type": "stream",
     "text": [
      "2162953162304\n"
     ]
    },
    {
     "ename": "AttributeError",
     "evalue": "'tuple' object has no attribute 'append'",
     "output_type": "error",
     "traceback": [
      "\u001b[1;31m---------------------------------------------------------------------------\u001b[0m",
      "\u001b[1;31mAttributeError\u001b[0m                            Traceback (most recent call last)",
      "Cell \u001b[1;32mIn[20], line 3\u001b[0m\n\u001b[0;32m      1\u001b[0m r \u001b[38;5;241m=\u001b[39m (\u001b[38;5;124m'\u001b[39m\u001b[38;5;124mrihsi\u001b[39m\u001b[38;5;124m'\u001b[39m,\u001b[38;5;241m2\u001b[39m,\u001b[38;5;241m3\u001b[39m,\u001b[38;5;241m4\u001b[39m,\u001b[38;5;241m5\u001b[39m,\u001b[38;5;124m'\u001b[39m\u001b[38;5;124mrohit\u001b[39m\u001b[38;5;124m'\u001b[39m,\u001b[38;5;241m4\u001b[39m,\u001b[38;5;241m3\u001b[39m,\u001b[38;5;241m6\u001b[39m,\u001b[38;5;124m'\u001b[39m\u001b[38;5;124mgaurav\u001b[39m\u001b[38;5;124m'\u001b[39m)\n\u001b[0;32m      2\u001b[0m \u001b[38;5;28mprint\u001b[39m(\u001b[38;5;28mid\u001b[39m(r))\n\u001b[1;32m----> 3\u001b[0m \u001b[43mr\u001b[49m\u001b[38;5;241;43m.\u001b[39;49m\u001b[43mappend\u001b[49m(\u001b[38;5;124m'\u001b[39m\u001b[38;5;124mhello\u001b[39m\u001b[38;5;124m'\u001b[39m)\n",
      "\u001b[1;31mAttributeError\u001b[0m: 'tuple' object has no attribute 'append'"
     ]
    }
   ],
   "source": [
    "r = ('rihsi',2,3,4,5,'rohit',4,3,6,'gaurav')\n",
    "print(id(r))\n"
   ]
  },
  {
   "cell_type": "code",
   "execution_count": 8,
   "id": "3fbb051b",
   "metadata": {},
   "outputs": [],
   "source": [
    "w = ['5867','857','937']\n"
   ]
  },
  {
   "cell_type": "markdown",
   "id": "0bba343d",
   "metadata": {},
   "source": [
    "# Object"
   ]
  },
  {
   "cell_type": "markdown",
   "id": "55537a87",
   "metadata": {},
   "source": [
    "# All data in a python program is represented by objects\n",
    "# Every object has an identity(address, memory location), a type and a value.\n",
    "- An object's type determines the operations that the object supports and also defines the possible values for objects of that type.\n",
    "- you can tell the possible value for objects and also know about the operations which can be supported by that objects type\n",
    "- The value of some objects can CHANGE. Objects whose value can change are said to be mutable; objects whose value is unchangeable once they are created are called IMMUTABLE.\n",
    "\n",
    "# An object that alllows you to change its value without changing its identity is a mutable object"
   ]
  },
  {
   "cell_type": "code",
   "execution_count": 8,
   "id": "8b229f5b",
   "metadata": {},
   "outputs": [
    {
     "name": "stdout",
     "output_type": "stream",
     "text": [
      "[12, 'rishi', 3, 4, 2, 'hello']\n",
      "None\n",
      "2429178314432\n",
      "140733904023232\n"
     ]
    }
   ],
   "source": [
    "''' MUTABLE---the id or location or addres of a list never changes even if the same list elements\n",
    "are edited(appended or extended)'''\n",
    "\n",
    "list = [12,'rishi',3,4,2]\n",
    "z = list.append('hello')\n",
    "print(list)\n",
    "print(z)\n",
    "print(id(list))\n",
    "print(id(z))"
   ]
  },
  {
   "cell_type": "code",
   "execution_count": 11,
   "id": "00bc7054",
   "metadata": {},
   "outputs": [
    {
     "name": "stdout",
     "output_type": "stream",
     "text": [
      "2429098068272\n",
      "2429098067568\n",
      "\n",
      "\n",
      "2429098068944\n",
      "2429098068944\n"
     ]
    }
   ],
   "source": [
    "x = 67\n",
    "print(id(x))\n",
    "x = 45\n",
    "print(id(x))\n",
    "\n",
    "print('\\n')\n",
    "\n",
    "\n",
    "x = 88\n",
    "print(id(x))\n",
    "x = 88\n",
    "print(id(x))"
   ]
  },
  {
   "cell_type": "code",
   "execution_count": 12,
   "id": "2abaa376",
   "metadata": {},
   "outputs": [
    {
     "name": "stdout",
     "output_type": "stream",
     "text": [
      "2429178316672\n",
      "2429178317184\n",
      "\n",
      "\n",
      "2429177502080\n",
      "2429178315968\n"
     ]
    }
   ],
   "source": [
    "x = [34]\n",
    "print(id(x))\n",
    "x = [56]\n",
    "print(id(x))\n",
    "\n",
    "print('\\n')\n",
    "\n",
    "x = [44]\n",
    "print(id(x))\n",
    "x = [44]\n",
    "print(id(x))"
   ]
  },
  {
   "cell_type": "markdown",
   "id": "f0f9aa3d",
   "metadata": {},
   "source": [
    "# Sets\n",
    "1. Unordered:- The items in the set are unordered, i.e., it will not maintain the order in which the items are inserted.\n",
    "2. Unindexed:- Set items are unindexed\n",
    "3. Unique:- There cannot be two items with the same value in the set.\n",
    "4. Set items must be immutable:- We cannot change the set items\n",
    "5. Sets are mutable\n",
    "\n",
    "Set is mutable but its elements are immutable to preserve the uniquenes of its elemtnts."
   ]
  },
  {
   "cell_type": "code",
   "execution_count": 13,
   "id": "b157b2c6",
   "metadata": {},
   "outputs": [
    {
     "data": {
      "text/plain": [
       "{1, 2, 3}"
      ]
     },
     "execution_count": 13,
     "metadata": {},
     "output_type": "execute_result"
    }
   ],
   "source": [
    "# Sets\n",
    "\n",
    "x = {1,2,3}\n",
    "x"
   ]
  },
  {
   "cell_type": "code",
   "execution_count": 21,
   "id": "fe818b36",
   "metadata": {},
   "outputs": [
    {
     "name": "stdout",
     "output_type": "stream",
     "text": [
      "{1, 2, 3, 45}\n",
      "{1, 2, 3, 's', 'r', 45, 'h', 'i'}\n",
      "{1, 2, 3, 's', 'r', 'h', 'i'}\n"
     ]
    }
   ],
   "source": [
    "# Set methods\n",
    "x = {1,2,3}\n",
    "x\n",
    "# .add(item)  -  just like .append()\n",
    "x.add(45)\n",
    "print(x)\n",
    "# .update(iterable) - like .extend(). only iterables(string, list, set, tuples, dictionary)\n",
    "x.update('rishi')\n",
    "print(x)\n",
    "# .remove()\n",
    "x.remove(45)\n",
    "print(x)"
   ]
  },
  {
   "cell_type": "code",
   "execution_count": 1,
   "id": "f08a1508",
   "metadata": {},
   "outputs": [
    {
     "name": "stdout",
     "output_type": "stream",
     "text": [
      "{1, 2, 3, 4}\n",
      "{1, 2, 3}\n",
      "{1, 2, 3, 4}\n",
      "\n",
      "\n",
      "{1, 2, 3}\n",
      "{1, 2, 3, 6, 7, 8}\n",
      "{1, 2, 3}\n",
      "\n",
      "\n",
      "{'hello', 'rishi'}\n",
      "\n",
      "\n",
      "{2, 3, 'rishi', 'Hello', 'str', 'hello'}\n"
     ]
    }
   ],
   "source": [
    "# union\n",
    "a = {1,2,3}\n",
    "b = {1,2,3,4}\n",
    "print(a.union(b))\n",
    "print(a) # but the value of a remains same\n",
    "a.update(b) # we can use update method to aplly changes on a\n",
    "print(a)\n",
    "\n",
    "print('\\n')\n",
    "\n",
    "# Intersection\n",
    "\n",
    "a = {1,2,3,6,7,8}\n",
    "b = {1,2,3,4}\n",
    "print(a.intersection(b))\n",
    "print(a)\n",
    "a.intersection_update(b)\n",
    "print(a)\n",
    "\n",
    "print('\\n')\n",
    "\n",
    "# Difference\n",
    "\n",
    "x = {\"rishi\",'hello',True,1}\n",
    "y = {1,2,3,\"Hello\",\"str\"}\n",
    "x.difference(y)\n",
    "x.difference_update(y)\n",
    "print(x)\n",
    "\n",
    "print('\\n')\n",
    "\n",
    "# Symmetric Difference\n",
    "\n",
    "x = {\"rishi\",'hello',True,1}\n",
    "y = {1,2,3,\"Hello\",\"str\"}\n",
    "x.symmetric_difference(y)\n",
    "x.symmetric_difference_update(y)\n",
    "print(x)"
   ]
  },
  {
   "cell_type": "code",
   "execution_count": 16,
   "id": "a9e9db69",
   "metadata": {},
   "outputs": [
    {
     "name": "stdout",
     "output_type": "stream",
     "text": [
      "2879209931712\n",
      "2879209935072\n",
      "{1, 2, 3}\n",
      "2879209931712\n"
     ]
    }
   ],
   "source": [
    "a = {1,2,3}\n",
    "b = {1,2,3,4}\n",
    "print(id(a))\n",
    "print()"
   ]
  },
  {
   "cell_type": "code",
   "execution_count": 17,
   "id": "0bb50d3f",
   "metadata": {},
   "outputs": [
    {
     "name": "stdout",
     "output_type": "stream",
     "text": [
      "2879209933952\n",
      "2879179976128\n",
      "140728691289792\n"
     ]
    }
   ],
   "source": [
    "a = {1,2,3,6,7,8}\n",
    "b = {1,2,3,4}\n",
    "print(id(a))\n",
    "print(id(a.intersection(b)))\n",
    "print(id(a.intersection_update(b)))"
   ]
  },
  {
   "cell_type": "code",
   "execution_count": 21,
   "id": "8036add1",
   "metadata": {},
   "outputs": [
    {
     "name": "stdout",
     "output_type": "stream",
     "text": [
      "{1, 2, 3}\n",
      "None\n",
      "2879209930816\n"
     ]
    },
    {
     "data": {
      "text/plain": [
       "140728691289792"
      ]
     },
     "execution_count": 21,
     "metadata": {},
     "output_type": "execute_result"
    }
   ],
   "source": [
    "a = {1,2,3,6,7,8}\n",
    "b = {1,2,3,4}\n",
    "z = a.intersection(b)\n",
    "k = a.intersection_update(b)\n",
    "print(z)\n",
    "print(k)\n",
    "print(id(z))\n",
    "id(k)"
   ]
  },
  {
   "cell_type": "markdown",
   "id": "360824e3",
   "metadata": {},
   "source": [
    "# Subset and Superset\n",
    "Superset must have all the values of subset"
   ]
  },
  {
   "cell_type": "code",
   "execution_count": 22,
   "id": "2dfef69c",
   "metadata": {},
   "outputs": [
    {
     "name": "stdout",
     "output_type": "stream",
     "text": [
      "False\n",
      "True\n",
      "True\n"
     ]
    }
   ],
   "source": [
    "p = {1,2,3,4,5}\n",
    "q = {1,2,3}\n",
    "print(p.issubset(q))\n",
    "print(p.issubset(p))\n",
    "print(q.issubset(p))"
   ]
  },
  {
   "cell_type": "code",
   "execution_count": 23,
   "id": "27fa2862",
   "metadata": {},
   "outputs": [
    {
     "name": "stdout",
     "output_type": "stream",
     "text": [
      "True\n",
      "True\n",
      "False\n"
     ]
    }
   ],
   "source": [
    "p = {1,2,3,4,5}\n",
    "q = {1,2,3}\n",
    "print(p.issuperset(q))\n",
    "print(p.issuperset(p))\n",
    "print(q.issuperset(p))"
   ]
  },
  {
   "cell_type": "markdown",
   "id": "111b6698",
   "metadata": {},
   "source": [
    "# Disjoint"
   ]
  },
  {
   "cell_type": "code",
   "execution_count": 26,
   "id": "60f0c4b8",
   "metadata": {},
   "outputs": [
    {
     "name": "stdout",
     "output_type": "stream",
     "text": [
      "True\n",
      "False\n"
     ]
    }
   ],
   "source": [
    "p = {1,2,3,4,5}\n",
    "q  = {6,7,8}\n",
    "print(p.isdisjoint(q))\n",
    "print(p.isdisjoint(p))"
   ]
  },
  {
   "cell_type": "markdown",
   "id": "8b2d6390",
   "metadata": {},
   "source": [
    "# Sets methods"
   ]
  },
  {
   "cell_type": "code",
   "execution_count": 3,
   "id": "3b3bc7a9",
   "metadata": {},
   "outputs": [
    {
     "data": {
      "text/plain": [
       "3"
      ]
     },
     "execution_count": 3,
     "metadata": {},
     "output_type": "execute_result"
    }
   ],
   "source": [
    "# finding length of the set\n",
    "\n",
    "a = {1,2,3}\n",
    "len(a)"
   ]
  },
  {
   "cell_type": "code",
   "execution_count": 4,
   "id": "142b78bd",
   "metadata": {},
   "outputs": [
    {
     "name": "stdout",
     "output_type": "stream",
     "text": [
      "1\n",
      "78\n"
     ]
    }
   ],
   "source": [
    "# minimum and maximum values\n",
    "\n",
    "a = {1,2,3,4,5,78}\n",
    "print(min(a))\n",
    "print(max(a))"
   ]
  },
  {
   "cell_type": "code",
   "execution_count": 11,
   "id": "e5cfb0d9",
   "metadata": {},
   "outputs": [
    {
     "name": "stdout",
     "output_type": "stream",
     "text": [
      "a\n",
      "d\n",
      "\n",
      "\n",
      "a\n",
      "\n",
      "\n",
      "b\n",
      "a\n"
     ]
    }
   ],
   "source": [
    "a = {'a','b','c','d'}\n",
    "print(min(a))\n",
    "print(max(a))\n",
    "print('\\n')\n",
    "a  = {'A','a'} # the value of lower case letter is higher\n",
    "print(max(a))\n",
    "print('\\n')\n",
    "a = {'a','b'}\n",
    "print(max(a))\n",
    "print(min(a))"
   ]
  },
  {
   "cell_type": "code",
   "execution_count": 13,
   "id": "22b9d20a",
   "metadata": {},
   "outputs": [
    {
     "name": "stdout",
     "output_type": "stream",
     "text": [
      "134\n"
     ]
    }
   ],
   "source": [
    "# adding all the values inside a set\n",
    "\n",
    "x = {True,22,45,66}\n",
    "print(sum(x))"
   ]
  },
  {
   "cell_type": "code",
   "execution_count": 15,
   "id": "d37ab104",
   "metadata": {},
   "outputs": [
    {
     "name": "stdout",
     "output_type": "stream",
     "text": [
      "{True, 66, 45}\n"
     ]
    }
   ],
   "source": [
    "x = {True,22,45,66}\n",
    "x.discard(22)\n",
    "print(x)"
   ]
  },
  {
   "cell_type": "code",
   "execution_count": 17,
   "id": "5cbf17a2",
   "metadata": {},
   "outputs": [
    {
     "name": "stdout",
     "output_type": "stream",
     "text": [
      "{True, 66, 45}\n"
     ]
    }
   ],
   "source": [
    "x = {True,22,45,66}\n",
    "x.remove(22)\n",
    "print(x)"
   ]
  },
  {
   "cell_type": "code",
   "execution_count": 18,
   "id": "7116dbd6",
   "metadata": {},
   "outputs": [
    {
     "ename": "KeyError",
     "evalue": "46",
     "output_type": "error",
     "traceback": [
      "\u001b[1;31m---------------------------------------------------------------------------\u001b[0m",
      "\u001b[1;31mKeyError\u001b[0m                                  Traceback (most recent call last)",
      "Cell \u001b[1;32mIn[18], line 2\u001b[0m\n\u001b[0;32m      1\u001b[0m x \u001b[38;5;241m=\u001b[39m {\u001b[38;5;28;01mTrue\u001b[39;00m,\u001b[38;5;241m22\u001b[39m,\u001b[38;5;241m45\u001b[39m,\u001b[38;5;241m66\u001b[39m}\n\u001b[1;32m----> 2\u001b[0m \u001b[43mx\u001b[49m\u001b[38;5;241;43m.\u001b[39;49m\u001b[43mremove\u001b[49m\u001b[43m(\u001b[49m\u001b[38;5;241;43m46\u001b[39;49m\u001b[43m)\u001b[49m\n\u001b[0;32m      3\u001b[0m \u001b[38;5;28mprint\u001b[39m(x)\n",
      "\u001b[1;31mKeyError\u001b[0m: 46"
     ]
    }
   ],
   "source": [
    "x = {True,22,45,66}\n",
    "x.remove(46)\n",
    "print(x)"
   ]
  },
  {
   "cell_type": "code",
   "execution_count": 20,
   "id": "52db0056",
   "metadata": {},
   "outputs": [
    {
     "name": "stdout",
     "output_type": "stream",
     "text": [
      "{True, 66, 45, 22}\n"
     ]
    }
   ],
   "source": [
    "x = {True,22,45,66}\n",
    "x.discard(46)\n",
    "print(x)"
   ]
  },
  {
   "cell_type": "markdown",
   "id": "14d4e1c0",
   "metadata": {},
   "source": [
    "# Dictonaries\n",
    "\n",
    "<fontsize8> Dictionaries are ordered collections of unique items stored in (key-value) pairs. Key and value pair are treated as single item.\n",
    "\n",
    "1. Ordered: Dictionaries are ordered, which means that the items have a defined order, and that order will not change.\n",
    "2. Unique: The keys in dictionaries should be unique. If we store any value with a key that already exixts, then the most recent value will replace the old value\n",
    "3. Keys must be of immutable data type\n",
    "4. Mutable"
   ]
  },
  {
   "cell_type": "code",
   "execution_count": 9,
   "id": "bb6fa1dc",
   "metadata": {},
   "outputs": [
    {
     "name": "stdout",
     "output_type": "stream",
     "text": [
      "23\n"
     ]
    }
   ],
   "source": [
    "x = {\"apple\":23,\"banana\":56}\n",
    "print(x['apple'])"
   ]
  },
  {
   "cell_type": "code",
   "execution_count": 5,
   "id": "273b8ae7",
   "metadata": {},
   "outputs": [
    {
     "name": "stdout",
     "output_type": "stream",
     "text": [
      "{'apple': 67, 56: True, 'tuple': (1, 2, 3)}\n"
     ]
    }
   ],
   "source": [
    "x = {'apple':67,56:True, \"tuple\":(1,2,3)}\n",
    "print(x)"
   ]
  },
  {
   "cell_type": "code",
   "execution_count": 15,
   "id": "98f0844b",
   "metadata": {},
   "outputs": [
    {
     "name": "stdout",
     "output_type": "stream",
     "text": [
      "{'apple': 67, 56: True, 'tuple': (1, 2, 3)}\n"
     ]
    }
   ],
   "source": [
    "x = {'apple':67,56:True, \"tuple\":(1,2,3)}\n",
    "print(x)"
   ]
  },
  {
   "cell_type": "code",
   "execution_count": 18,
   "id": "5591bffc",
   "metadata": {},
   "outputs": [
    {
     "name": "stdout",
     "output_type": "stream",
     "text": [
      "{(1, 2): 'hello'}\n"
     ]
    }
   ],
   "source": [
    "v = {(1,2):'rishi',(1,2):67,(1,2):'hello'\n",
    "    }\n",
    "print(v)"
   ]
  },
  {
   "cell_type": "code",
   "execution_count": 17,
   "id": "61b4e56c",
   "metadata": {},
   "outputs": [
    {
     "ename": "TypeError",
     "evalue": "unhashable type: 'list'",
     "output_type": "error",
     "traceback": [
      "\u001b[1;31m---------------------------------------------------------------------------\u001b[0m",
      "\u001b[1;31mTypeError\u001b[0m                                 Traceback (most recent call last)",
      "Cell \u001b[1;32mIn[17], line 1\u001b[0m\n\u001b[1;32m----> 1\u001b[0m v \u001b[38;5;241m=\u001b[39m {[\u001b[38;5;124m'\u001b[39m\u001b[38;5;124mrishi\u001b[39m\u001b[38;5;124m'\u001b[39m]:\u001b[38;5;241m56\u001b[39m}\n",
      "\u001b[1;31mTypeError\u001b[0m: unhashable type: 'list'"
     ]
    }
   ],
   "source": [
    "v = {['rishi']:56} # unhashable type means mutable type"
   ]
  },
  {
   "cell_type": "code",
   "execution_count": 57,
   "id": "bdb29a7e",
   "metadata": {},
   "outputs": [
    {
     "data": {
      "text/plain": [
       "set"
      ]
     },
     "execution_count": 57,
     "metadata": {},
     "output_type": "execute_result"
    }
   ],
   "source": [
    "# empty set\n",
    "a = set()\n",
    "type(a)"
   ]
  },
  {
   "cell_type": "markdown",
   "id": "bda112fd",
   "metadata": {},
   "source": [
    "# Accesing items in a dictionary"
   ]
  },
  {
   "cell_type": "code",
   "execution_count": 28,
   "id": "6d42c78f",
   "metadata": {},
   "outputs": [
    {
     "name": "stdout",
     "output_type": "stream",
     "text": [
      "dict_keys(['india', 'us'])\n",
      "\n",
      "\n",
      "dict_values(['delhi', 'washington'])\n",
      "\n",
      "\n",
      "dict_items([('india', 'delhi'), ('us', 'washington')])\n"
     ]
    }
   ],
   "source": [
    "# Accesing items in a dictionary\n",
    "a = {'india':'delhi','us':'washington'}\n",
    "\n",
    "# keys\n",
    "print(a.keys())\n",
    "\n",
    "print('\\n')\n",
    "\n",
    "# values\n",
    "print(a.values())\n",
    "\n",
    "print('\\n')\n",
    "\n",
    "# items\n",
    "print(a.items())"
   ]
  },
  {
   "cell_type": "code",
   "execution_count": 15,
   "id": "279e4c85",
   "metadata": {},
   "outputs": [
    {
     "ename": "TypeError",
     "evalue": "dict.keys() takes no arguments (1 given)",
     "output_type": "error",
     "traceback": [
      "\u001b[1;31m---------------------------------------------------------------------------\u001b[0m",
      "\u001b[1;31mTypeError\u001b[0m                                 Traceback (most recent call last)",
      "Cell \u001b[1;32mIn[15], line 2\u001b[0m\n\u001b[0;32m      1\u001b[0m a \u001b[38;5;241m=\u001b[39m {\u001b[38;5;124m'\u001b[39m\u001b[38;5;124mindia\u001b[39m\u001b[38;5;124m'\u001b[39m:\u001b[38;5;124m'\u001b[39m\u001b[38;5;124mdelhi\u001b[39m\u001b[38;5;124m'\u001b[39m,\u001b[38;5;124m'\u001b[39m\u001b[38;5;124mus\u001b[39m\u001b[38;5;124m'\u001b[39m:\u001b[38;5;124m'\u001b[39m\u001b[38;5;124mwashington\u001b[39m\u001b[38;5;124m'\u001b[39m}\n\u001b[1;32m----> 2\u001b[0m \u001b[38;5;28mprint\u001b[39m(\u001b[43ma\u001b[49m\u001b[38;5;241;43m.\u001b[39;49m\u001b[43mkeys\u001b[49m\u001b[43m(\u001b[49m\u001b[38;5;124;43m'\u001b[39;49m\u001b[38;5;124;43mdelhi\u001b[39;49m\u001b[38;5;124;43m'\u001b[39;49m\u001b[43m)\u001b[49m)\n",
      "\u001b[1;31mTypeError\u001b[0m: dict.keys() takes no arguments (1 given)"
     ]
    }
   ],
   "source": [
    "a = {'india':'delhi','us':'washington'}\n",
    "print(a.keys('delhi'))"
   ]
  },
  {
   "cell_type": "code",
   "execution_count": 31,
   "id": "135d1c0c",
   "metadata": {},
   "outputs": [
    {
     "name": "stdout",
     "output_type": "stream",
     "text": [
      "<class 'dict_keys'>\n",
      "<class 'dict_values'>\n",
      "<class 'dict_items'>\n"
     ]
    }
   ],
   "source": [
    "print(type(a.keys()))\n",
    "print(type(a.values()))\n",
    "print(type(a.items()))"
   ]
  },
  {
   "cell_type": "code",
   "execution_count": 33,
   "id": "dd452920",
   "metadata": {},
   "outputs": [
    {
     "name": "stdout",
     "output_type": "stream",
     "text": [
      "{'india': 'delhi', 'us': 'washington'}\n"
     ]
    }
   ],
   "source": [
    "# key value assignment\n",
    "print(a)"
   ]
  },
  {
   "cell_type": "code",
   "execution_count": 34,
   "id": "76ffaa9b",
   "metadata": {},
   "outputs": [
    {
     "name": "stdout",
     "output_type": "stream",
     "text": [
      "{'india': 'delhi', 'us': 'washington', 'pakistan': 'islamabad'}\n"
     ]
    }
   ],
   "source": [
    "a['pakistan'] = 'islamabad'\n",
    "print(a)"
   ]
  },
  {
   "cell_type": "code",
   "execution_count": 2,
   "id": "134e86e4",
   "metadata": {},
   "outputs": [
    {
     "ename": "NameError",
     "evalue": "name 'a' is not defined",
     "output_type": "error",
     "traceback": [
      "\u001b[1;31m---------------------------------------------------------------------------\u001b[0m",
      "\u001b[1;31mNameError\u001b[0m                                 Traceback (most recent call last)",
      "Cell \u001b[1;32mIn[2], line 2\u001b[0m\n\u001b[0;32m      1\u001b[0m \u001b[38;5;66;03m# .update()\u001b[39;00m\n\u001b[1;32m----> 2\u001b[0m \u001b[43ma\u001b[49m\u001b[38;5;241m.\u001b[39mupdate({\u001b[38;5;124m'\u001b[39m\u001b[38;5;124mengland\u001b[39m\u001b[38;5;124m'\u001b[39m:\u001b[38;5;124m'\u001b[39m\u001b[38;5;124mlondon\u001b[39m\u001b[38;5;124m'\u001b[39m})\n\u001b[0;32m      3\u001b[0m \u001b[38;5;28mprint\u001b[39m(a)\n",
      "\u001b[1;31mNameError\u001b[0m: name 'a' is not defined"
     ]
    }
   ],
   "source": [
    "# .update()\n",
    "a.update({'england':'london'})\n",
    "print(a)"
   ]
  },
  {
   "cell_type": "markdown",
   "id": "6385cd01",
   "metadata": {},
   "source": [
    "# removing items from a dictionary"
   ]
  },
  {
   "cell_type": "code",
   "execution_count": 22,
   "id": "fa5cadb4",
   "metadata": {},
   "outputs": [
    {
     "name": "stdout",
     "output_type": "stream",
     "text": [
      "dict_keys(['india', 'us', 'pakistan'])\n",
      "{'india': 'delhi', 'us': 'washington', 'pakistan': 'islamabad'}\n",
      "('england', 'london')\n"
     ]
    }
   ],
   "source": [
    "# .popitem() - returns and removes the last inserted item from the dictionary.\n",
    "a = {'india': 'delhi', 'us': 'washington', 'pakistan': 'islamabad', 'england': 'london'}\n",
    "x = a.popitem()\n",
    "print(a.keys())\n",
    "print(a)\n",
    "print(x)"
   ]
  },
  {
   "cell_type": "code",
   "execution_count": 10,
   "id": "4fd46ff6",
   "metadata": {},
   "outputs": [
    {
     "ename": "AttributeError",
     "evalue": "'dict' object has no attribute 'key'",
     "output_type": "error",
     "traceback": [
      "\u001b[1;31m---------------------------------------------------------------------------\u001b[0m",
      "\u001b[1;31mAttributeError\u001b[0m                            Traceback (most recent call last)",
      "Cell \u001b[1;32mIn[10], line 2\u001b[0m\n\u001b[0;32m      1\u001b[0m a \u001b[38;5;241m=\u001b[39m {\u001b[38;5;124m'\u001b[39m\u001b[38;5;124mindia\u001b[39m\u001b[38;5;124m'\u001b[39m: \u001b[38;5;124m'\u001b[39m\u001b[38;5;124mdelhi\u001b[39m\u001b[38;5;124m'\u001b[39m, \u001b[38;5;124m'\u001b[39m\u001b[38;5;124mus\u001b[39m\u001b[38;5;124m'\u001b[39m: \u001b[38;5;124m'\u001b[39m\u001b[38;5;124mwashington\u001b[39m\u001b[38;5;124m'\u001b[39m, \u001b[38;5;124m'\u001b[39m\u001b[38;5;124mpakistan\u001b[39m\u001b[38;5;124m'\u001b[39m: \u001b[38;5;124m'\u001b[39m\u001b[38;5;124mislamabad\u001b[39m\u001b[38;5;124m'\u001b[39m, \u001b[38;5;124m'\u001b[39m\u001b[38;5;124mengland\u001b[39m\u001b[38;5;124m'\u001b[39m: \u001b[38;5;124m'\u001b[39m\u001b[38;5;124mlondon\u001b[39m\u001b[38;5;124m'\u001b[39m}\n\u001b[1;32m----> 2\u001b[0m \u001b[43ma\u001b[49m\u001b[38;5;241;43m.\u001b[39;49m\u001b[43mkey\u001b[49m(a)\n",
      "\u001b[1;31mAttributeError\u001b[0m: 'dict' object has no attribute 'key'"
     ]
    }
   ],
   "source": [
    "a = {'india': 'delhi', 'us': 'washington', 'pakistan': 'islamabad', 'england': 'london'}\n"
   ]
  },
  {
   "cell_type": "code",
   "execution_count": 45,
   "id": "c9070881",
   "metadata": {},
   "outputs": [
    {
     "data": {
      "text/plain": [
       "'washington'"
      ]
     },
     "execution_count": 45,
     "metadata": {},
     "output_type": "execute_result"
    }
   ],
   "source": [
    "# .pop() - removes the item with the key and return its value\n",
    "a.pop('us')"
   ]
  },
  {
   "cell_type": "code",
   "execution_count": 46,
   "id": "a0f9f6b5",
   "metadata": {},
   "outputs": [
    {
     "data": {
      "text/plain": [
       "{'india': 'delhi', 'pakistan': 'islamabad'}"
      ]
     },
     "execution_count": 46,
     "metadata": {},
     "output_type": "execute_result"
    }
   ],
   "source": [
    "a"
   ]
  },
  {
   "cell_type": "code",
   "execution_count": 47,
   "id": "66b1369a",
   "metadata": {},
   "outputs": [
    {
     "name": "stdout",
     "output_type": "stream",
     "text": [
      "{'india': 'delhi', 'pakistan': 'islamabad'}\n",
      "{'india': 'delhi'}\n"
     ]
    }
   ],
   "source": [
    "# del\n",
    "print(a)\n",
    "del a['pakistan']\n",
    "print(a)"
   ]
  },
  {
   "cell_type": "code",
   "execution_count": 50,
   "id": "25885ebd",
   "metadata": {},
   "outputs": [
    {
     "name": "stdout",
     "output_type": "stream",
     "text": [
      "{'rishi': {'hello': 45, 'number': True, 88: 'hello'}, 'python': 3}\n"
     ]
    }
   ],
   "source": [
    "# dictionary inside dictionary  ( is also called nested dictionary )\n",
    "g = {'rishi':{'hello':45,'number':True,88:'hello'},'python':3}\n",
    "print(g)"
   ]
  },
  {
   "cell_type": "code",
   "execution_count": 51,
   "id": "9e3ed1a2",
   "metadata": {},
   "outputs": [
    {
     "data": {
      "text/plain": [
       "{'hello': 45, 'number': True, 88: 'hello'}"
      ]
     },
     "execution_count": 51,
     "metadata": {},
     "output_type": "execute_result"
    }
   ],
   "source": [
    "g['rishi']"
   ]
  },
  {
   "cell_type": "code",
   "execution_count": 1,
   "id": "a5d8c66f",
   "metadata": {},
   "outputs": [
    {
     "ename": "NameError",
     "evalue": "name 'a' is not defined",
     "output_type": "error",
     "traceback": [
      "\u001b[1;31m---------------------------------------------------------------------------\u001b[0m",
      "\u001b[1;31mNameError\u001b[0m                                 Traceback (most recent call last)",
      "Cell \u001b[1;32mIn[1], line 1\u001b[0m\n\u001b[1;32m----> 1\u001b[0m \u001b[38;5;28mbool\u001b[39m(\u001b[43ma\u001b[49m\u001b[38;5;241m.\u001b[39mkeys())\n",
      "\u001b[1;31mNameError\u001b[0m: name 'a' is not defined"
     ]
    }
   ],
   "source": []
  },
  {
   "cell_type": "markdown",
   "id": "577719ca",
   "metadata": {},
   "source": [
    "# Range\n",
    "\n",
    "**Range object (or range data type) is an immutable sequence of integers starting from the given start integer to the stop integer**"
   ]
  },
  {
   "cell_type": "code",
   "execution_count": 3,
   "id": "db226f81",
   "metadata": {},
   "outputs": [
    {
     "data": {
      "text/plain": [
       "7"
      ]
     },
     "execution_count": 3,
     "metadata": {},
     "output_type": "execute_result"
    }
   ],
   "source": [
    "# range (start, stop, step)\n",
    "x = range(1,11,2)\n",
    "x[3]"
   ]
  },
  {
   "cell_type": "code",
   "execution_count": 3,
   "id": "59355d54",
   "metadata": {},
   "outputs": [
    {
     "data": {
      "text/plain": [
       "range"
      ]
     },
     "execution_count": 3,
     "metadata": {},
     "output_type": "execute_result"
    }
   ],
   "source": [
    "# let us check the data type of range object\n",
    "type(range(1,10))"
   ]
  },
  {
   "cell_type": "code",
   "execution_count": 4,
   "id": "ad351e40",
   "metadata": {},
   "outputs": [
    {
     "data": {
      "text/plain": [
       "1"
      ]
     },
     "execution_count": 4,
     "metadata": {},
     "output_type": "execute_result"
    }
   ],
   "source": [
    "# range indexing\n",
    "range_x = range(1,10)\n",
    "range_x[0]"
   ]
  },
  {
   "cell_type": "code",
   "execution_count": 5,
   "id": "7f4be3ea",
   "metadata": {},
   "outputs": [
    {
     "data": {
      "text/plain": [
       "(1, 2, 3, 4, 5, 6, 7, 8, 9)"
      ]
     },
     "execution_count": 5,
     "metadata": {},
     "output_type": "execute_result"
    }
   ],
   "source": [
    "# typecasting\n",
    "tuple(range(1,10))"
   ]
  },
  {
   "cell_type": "code",
   "execution_count": 6,
   "id": "1083bdaf",
   "metadata": {},
   "outputs": [
    {
     "data": {
      "text/plain": [
       "[0, 1, 2, 3, 4, 5, 6, 7, 8, 9]"
      ]
     },
     "execution_count": 6,
     "metadata": {},
     "output_type": "execute_result"
    }
   ],
   "source": [
    "# what happens when i pass only one argument in range()\n",
    "list(range(10))"
   ]
  },
  {
   "cell_type": "code",
   "execution_count": 4,
   "id": "83f288d1",
   "metadata": {},
   "outputs": [
    {
     "data": {
      "text/plain": [
       "'range(0, 30)'"
      ]
     },
     "execution_count": 4,
     "metadata": {},
     "output_type": "execute_result"
    }
   ],
   "source": [
    "str(range(30))  # as it is an sequence so the output includes 0 in it"
   ]
  },
  {
   "cell_type": "code",
   "execution_count": null,
   "id": "8a191423",
   "metadata": {},
   "outputs": [],
   "source": [
    "# square each number inside a list and finally print it\n",
    "a = [1,2,3,4,5]\n",
    "b = 0\n",
    "for i in a:\n",
    "    b = [i**2]\n",
    "    a.append(i)\n",
    "print(a)\n",
    "    \n"
   ]
  },
  {
   "cell_type": "code",
   "execution_count": 2,
   "id": "18d135f8",
   "metadata": {},
   "outputs": [
    {
     "name": "stdout",
     "output_type": "stream",
     "text": [
      "[1, 25, 49, 64, 625, 4096, 16777216]\n"
     ]
    }
   ],
   "source": [
    "print(a)"
   ]
  },
  {
   "cell_type": "code",
   "execution_count": 20,
   "id": "985471f2",
   "metadata": {},
   "outputs": [
    {
     "data": {
      "text/plain": [
       "{1: 'hello', 2: 'rishi', 3: 'rohit'}"
      ]
     },
     "execution_count": 20,
     "metadata": {},
     "output_type": "execute_result"
    }
   ],
   "source": [
    "f = {1:'hello',2:'rishi',3:'rohit',4:'hello'}\n",
    "f.popitem\n",
    "f"
   ]
  },
  {
   "cell_type": "code",
   "execution_count": 5,
   "id": "db4de82c",
   "metadata": {},
   "outputs": [
    {
     "data": {
      "text/plain": [
       "(2, 3, 4, 5)"
      ]
     },
     "execution_count": 5,
     "metadata": {},
     "output_type": "execute_result"
    }
   ],
   "source": [
    "h = [2,3,4,5]\n",
    "tuple(h)"
   ]
  },
  {
   "cell_type": "code",
   "execution_count": null,
   "id": "4f973b34",
   "metadata": {},
   "outputs": [],
   "source": []
  }
 ],
 "metadata": {
  "kernelspec": {
   "display_name": "Python 3 (ipykernel)",
   "language": "python",
   "name": "python3"
  },
  "language_info": {
   "codemirror_mode": {
    "name": "ipython",
    "version": 3
   },
   "file_extension": ".py",
   "mimetype": "text/x-python",
   "name": "python",
   "nbconvert_exporter": "python",
   "pygments_lexer": "ipython3",
   "version": "3.10.9"
  }
 },
 "nbformat": 4,
 "nbformat_minor": 5
}
