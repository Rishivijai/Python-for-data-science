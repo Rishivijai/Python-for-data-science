{
 "cells": [
  {
   "cell_type": "markdown",
   "id": "c0c4b9e4",
   "metadata": {},
   "source": [
    "# Indexing"
   ]
  },
  {
   "cell_type": "markdown",
   "id": "5c432a0d",
   "metadata": {},
   "source": [
    "Indexing means accessing individual characters(elements) of a string by its position within the string.\n",
    "\n",
    "# Note : Positive Indexing Starts with 0\n",
    "(will also count the space and starts from left to right)\n",
    "# Note: Negative Indexing Starts with -1\n",
    "(will also count the space and starts from right to left)"
   ]
  },
  {
   "cell_type": "code",
   "execution_count": 2,
   "id": "cf544617",
   "metadata": {},
   "outputs": [
    {
     "name": "stdout",
     "output_type": "stream",
     "text": [
      "e\n",
      "l\n"
     ]
    }
   ],
   "source": [
    "name = ('hello everyone')\n",
    "print(name[8])\n",
    "print(name[3])"
   ]
  },
  {
   "cell_type": "code",
   "execution_count": 1,
   "id": "6fc398e3",
   "metadata": {},
   "outputs": [
    {
     "ename": "NameError",
     "evalue": "name 'name' is not defined",
     "output_type": "error",
     "traceback": [
      "\u001b[1;31m---------------------------------------------------------------------------\u001b[0m",
      "\u001b[1;31mNameError\u001b[0m                                 Traceback (most recent call last)",
      "Cell \u001b[1;32mIn[1], line 1\u001b[0m\n\u001b[1;32m----> 1\u001b[0m \u001b[38;5;28mprint\u001b[39m(\u001b[43mname\u001b[49m[\u001b[38;5;241m3\u001b[39m])\n",
      "\u001b[1;31mNameError\u001b[0m: name 'name' is not defined"
     ]
    }
   ],
   "source": [
    "print(name[3])"
   ]
  },
  {
   "cell_type": "code",
   "execution_count": 2,
   "id": "230ba61e",
   "metadata": {},
   "outputs": [
    {
     "data": {
      "text/plain": [
       "'l'"
      ]
     },
     "execution_count": 2,
     "metadata": {},
     "output_type": "execute_result"
    }
   ],
   "source": [
    "name[-11]"
   ]
  },
  {
   "cell_type": "code",
   "execution_count": 32,
   "id": "1871634c",
   "metadata": {},
   "outputs": [
    {
     "ename": "IndexError",
     "evalue": "string index out of range",
     "output_type": "error",
     "traceback": [
      "\u001b[1;31m---------------------------------------------------------------------------\u001b[0m",
      "\u001b[1;31mIndexError\u001b[0m                                Traceback (most recent call last)",
      "Cell \u001b[1;32mIn[32], line 1\u001b[0m\n\u001b[1;32m----> 1\u001b[0m \u001b[43mname\u001b[49m\u001b[43m[\u001b[49m\u001b[38;5;241;43m200\u001b[39;49m\u001b[43m]\u001b[49m\n",
      "\u001b[1;31mIndexError\u001b[0m: string index out of range"
     ]
    }
   ],
   "source": [
    "name[200]"
   ]
  },
  {
   "cell_type": "code",
   "execution_count": 3,
   "id": "aa3f9232",
   "metadata": {},
   "outputs": [
    {
     "data": {
      "text/plain": [
       "'n'"
      ]
     },
     "execution_count": 3,
     "metadata": {},
     "output_type": "execute_result"
    }
   ],
   "source": [
    "name[-2]"
   ]
  },
  {
   "cell_type": "code",
   "execution_count": 4,
   "id": "e6d70056",
   "metadata": {},
   "outputs": [
    {
     "data": {
      "text/plain": [
       "'y'"
      ]
     },
     "execution_count": 4,
     "metadata": {},
     "output_type": "execute_result"
    }
   ],
   "source": [
    "example = (\"Python is easy\")\n",
    "example[-1]"
   ]
  },
  {
   "cell_type": "code",
   "execution_count": 5,
   "id": "b9f34f05",
   "metadata": {},
   "outputs": [
    {
     "data": {
      "text/plain": [
       "('o', [3])"
      ]
     },
     "execution_count": 5,
     "metadata": {},
     "output_type": "execute_result"
    }
   ],
   "source": [
    "example[4],[3]"
   ]
  },
  {
   "cell_type": "code",
   "execution_count": 14,
   "id": "b2b151fc",
   "metadata": {},
   "outputs": [
    {
     "name": "stdout",
     "output_type": "stream",
     "text": [
      "s\n"
     ]
    }
   ],
   "source": [
    "print(example[-7])"
   ]
  },
  {
   "cell_type": "code",
   "execution_count": 8,
   "id": "62f7e19e",
   "metadata": {},
   "outputs": [
    {
     "data": {
      "text/plain": [
       "'P'"
      ]
     },
     "execution_count": 8,
     "metadata": {},
     "output_type": "execute_result"
    }
   ],
   "source": [
    "example[-15]"
   ]
  },
  {
   "cell_type": "code",
   "execution_count": 10,
   "id": "3f4b2aef",
   "metadata": {},
   "outputs": [
    {
     "name": "stdout",
     "output_type": "stream",
     "text": [
      "t n\n"
     ]
    }
   ],
   "source": [
    "print(example[2],example[5])"
   ]
  },
  {
   "cell_type": "code",
   "execution_count": 12,
   "id": "b5222616",
   "metadata": {},
   "outputs": [
    {
     "name": "stdout",
     "output_type": "stream",
     "text": [
      "s o a\n"
     ]
    }
   ],
   "source": [
    "print(example[-3],example[4],example[11])"
   ]
  },
  {
   "cell_type": "code",
   "execution_count": 16,
   "id": "a5c27b91",
   "metadata": {},
   "outputs": [
    {
     "name": "stdout",
     "output_type": "stream",
     "text": [
      " \n"
     ]
    }
   ],
   "source": [
    "print(example[14])"
   ]
  },
  {
   "cell_type": "markdown",
   "id": "79f68f06",
   "metadata": {},
   "source": [
    "# Slicing\n",
    "means accessing a subset of a string based on its indices.\n",
    "(positive and negative slicing can be performed.\n",
    "# Syntax:-    example[0:6]"
   ]
  },
  {
   "cell_type": "code",
   "execution_count": 17,
   "id": "ff3beed0",
   "metadata": {},
   "outputs": [
    {
     "data": {
      "text/plain": [
       "'Python'"
      ]
     },
     "execution_count": 17,
     "metadata": {},
     "output_type": "execute_result"
    }
   ],
   "source": [
    "example[0:6]"
   ]
  },
  {
   "cell_type": "code",
   "execution_count": 18,
   "id": "9e5a5874",
   "metadata": {},
   "outputs": [
    {
     "data": {
      "text/plain": [
       "'Python'"
      ]
     },
     "execution_count": 18,
     "metadata": {},
     "output_type": "execute_result"
    }
   ],
   "source": [
    "example[-15:-9]"
   ]
  },
  {
   "cell_type": "code",
   "execution_count": 4,
   "id": "0d67b6a9",
   "metadata": {},
   "outputs": [
    {
     "name": "stdout",
     "output_type": "stream",
     "text": [
      "lo si , m\n"
     ]
    }
   ],
   "source": [
    "nam = \"hello sir, my name is rishi\"\n",
    "print(nam[3:8])"
   ]
  },
  {
   "cell_type": "code",
   "execution_count": 19,
   "id": "e22877d3",
   "metadata": {},
   "outputs": [
    {
     "data": {
      "text/plain": [
       "''"
      ]
     },
     "execution_count": 19,
     "metadata": {},
     "output_type": "execute_result"
    }
   ],
   "source": [
    "example[0:-15] # taking range from positive to negative"
   ]
  },
  {
   "cell_type": "code",
   "execution_count": 20,
   "id": "c7e38cb0",
   "metadata": {},
   "outputs": [
    {
     "data": {
      "text/plain": [
       "'easy'"
      ]
     },
     "execution_count": 20,
     "metadata": {},
     "output_type": "execute_result"
    }
   ],
   "source": [
    "example[10:14]"
   ]
  },
  {
   "cell_type": "code",
   "execution_count": 24,
   "id": "04ba6dfc",
   "metadata": {},
   "outputs": [
    {
     "name": "stdout",
     "output_type": "stream",
     "text": [
      "is\n"
     ]
    }
   ],
   "source": [
    "print(example[7:9])"
   ]
  },
  {
   "cell_type": "code",
   "execution_count": 25,
   "id": "3ee763b2",
   "metadata": {},
   "outputs": [
    {
     "data": {
      "text/plain": [
       "''"
      ]
     },
     "execution_count": 25,
     "metadata": {},
     "output_type": "execute_result"
    }
   ],
   "source": [
    "example[13:-10]"
   ]
  },
  {
   "cell_type": "code",
   "execution_count": 26,
   "id": "6210eaa6",
   "metadata": {},
   "outputs": [
    {
     "data": {
      "text/plain": [
       "'is easy'"
      ]
     },
     "execution_count": 26,
     "metadata": {},
     "output_type": "execute_result"
    }
   ],
   "source": [
    "example[7:14]"
   ]
  },
  {
   "cell_type": "code",
   "execution_count": 27,
   "id": "a6fbea37",
   "metadata": {},
   "outputs": [
    {
     "data": {
      "text/plain": [
       "'easy '"
      ]
     },
     "execution_count": 27,
     "metadata": {},
     "output_type": "execute_result"
    }
   ],
   "source": [
    "example[10:]"
   ]
  },
  {
   "cell_type": "code",
   "execution_count": 28,
   "id": "b8be376b",
   "metadata": {},
   "outputs": [
    {
     "data": {
      "text/plain": [
       "'s easy '"
      ]
     },
     "execution_count": 28,
     "metadata": {},
     "output_type": "execute_result"
    }
   ],
   "source": [
    "example[8:15]"
   ]
  },
  {
   "cell_type": "code",
   "execution_count": 29,
   "id": "4bc18517",
   "metadata": {},
   "outputs": [
    {
     "data": {
      "text/plain": [
       "'Python is easy '"
      ]
     },
     "execution_count": 29,
     "metadata": {},
     "output_type": "execute_result"
    }
   ],
   "source": [
    "example[0:]"
   ]
  },
  {
   "cell_type": "code",
   "execution_count": 31,
   "id": "817418f6",
   "metadata": {},
   "outputs": [
    {
     "data": {
      "text/plain": [
       "'easy '"
      ]
     },
     "execution_count": 31,
     "metadata": {},
     "output_type": "execute_result"
    }
   ],
   "source": [
    "example[10:200]"
   ]
  },
  {
   "cell_type": "code",
   "execution_count": 36,
   "id": "139bb817",
   "metadata": {},
   "outputs": [
    {
     "data": {
      "text/plain": [
       "''"
      ]
     },
     "execution_count": 36,
     "metadata": {},
     "output_type": "execute_result"
    }
   ],
   "source": [
    "example[1000:10] # if we give an invalid input in start index. it wont give any result"
   ]
  },
  {
   "cell_type": "code",
   "execution_count": 35,
   "id": "b18b780a",
   "metadata": {},
   "outputs": [
    {
     "data": {
      "text/plain": [
       "'Python '"
      ]
     },
     "execution_count": 35,
     "metadata": {},
     "output_type": "execute_result"
    }
   ],
   "source": [
    "example[:7]"
   ]
  },
  {
   "cell_type": "code",
   "execution_count": 37,
   "id": "9340b28f",
   "metadata": {},
   "outputs": [
    {
     "data": {
      "text/plain": [
       "'Python is easy '"
      ]
     },
     "execution_count": 37,
     "metadata": {},
     "output_type": "execute_result"
    }
   ],
   "source": [
    "example[:]"
   ]
  },
  {
   "cell_type": "markdown",
   "id": "d4c54f48",
   "metadata": {},
   "source": [
    "Negative Slicing"
   ]
  },
  {
   "cell_type": "code",
   "execution_count": 40,
   "id": "664ad85c",
   "metadata": {},
   "outputs": [
    {
     "data": {
      "text/plain": [
       "'Python'"
      ]
     },
     "execution_count": 40,
     "metadata": {},
     "output_type": "execute_result"
    }
   ],
   "source": [
    "example[-15:-9]"
   ]
  },
  {
   "cell_type": "code",
   "execution_count": 41,
   "id": "dcada5fe",
   "metadata": {},
   "outputs": [
    {
     "data": {
      "text/plain": [
       "'Python is easy '"
      ]
     },
     "execution_count": 41,
     "metadata": {},
     "output_type": "execute_result"
    }
   ],
   "source": [
    "example[-15:]"
   ]
  },
  {
   "cell_type": "code",
   "execution_count": 42,
   "id": "fd214747",
   "metadata": {},
   "outputs": [
    {
     "data": {
      "text/plain": [
       "'Python is easy'"
      ]
     },
     "execution_count": 42,
     "metadata": {},
     "output_type": "execute_result"
    }
   ],
   "source": [
    "example[:-1]"
   ]
  },
  {
   "cell_type": "code",
   "execution_count": 43,
   "id": "1c1a2363",
   "metadata": {},
   "outputs": [
    {
     "data": {
      "text/plain": [
       "'is easy'"
      ]
     },
     "execution_count": 43,
     "metadata": {},
     "output_type": "execute_result"
    }
   ],
   "source": [
    "example[-8:-1]"
   ]
  },
  {
   "cell_type": "code",
   "execution_count": 44,
   "id": "b94dc5cd",
   "metadata": {},
   "outputs": [
    {
     "data": {
      "text/plain": [
       "'is easy '"
      ]
     },
     "execution_count": 44,
     "metadata": {},
     "output_type": "execute_result"
    }
   ],
   "source": [
    "example[-8:]"
   ]
  },
  {
   "cell_type": "code",
   "execution_count": 45,
   "id": "9297b05b",
   "metadata": {},
   "outputs": [
    {
     "data": {
      "text/plain": [
       "'sy '"
      ]
     },
     "execution_count": 45,
     "metadata": {},
     "output_type": "execute_result"
    }
   ],
   "source": [
    "example[-3:]"
   ]
  },
  {
   "cell_type": "code",
   "execution_count": 46,
   "id": "95aeecf8",
   "metadata": {},
   "outputs": [
    {
     "data": {
      "text/plain": [
       "''"
      ]
     },
     "execution_count": 46,
     "metadata": {},
     "output_type": "execute_result"
    }
   ],
   "source": [
    "example[-10:0]"
   ]
  },
  {
   "cell_type": "code",
   "execution_count": 47,
   "id": "57e229b2",
   "metadata": {},
   "outputs": [
    {
     "data": {
      "text/plain": [
       "'n is easy '"
      ]
     },
     "execution_count": 47,
     "metadata": {},
     "output_type": "execute_result"
    }
   ],
   "source": [
    "example[-10:]"
   ]
  },
  {
   "cell_type": "code",
   "execution_count": 48,
   "id": "cef98af8",
   "metadata": {},
   "outputs": [
    {
     "data": {
      "text/plain": [
       "''"
      ]
     },
     "execution_count": 48,
     "metadata": {},
     "output_type": "execute_result"
    }
   ],
   "source": [
    "example[-9:-15]"
   ]
  },
  {
   "cell_type": "code",
   "execution_count": 49,
   "id": "fbb580a5",
   "metadata": {},
   "outputs": [
    {
     "data": {
      "text/plain": [
       "'Python is '"
      ]
     },
     "execution_count": 49,
     "metadata": {},
     "output_type": "execute_result"
    }
   ],
   "source": [
    "example[-15:10]"
   ]
  },
  {
   "cell_type": "code",
   "execution_count": 50,
   "id": "16b646f6",
   "metadata": {},
   "outputs": [
    {
     "data": {
      "text/plain": [
       "'n is easy'"
      ]
     },
     "execution_count": 50,
     "metadata": {},
     "output_type": "execute_result"
    }
   ],
   "source": [
    "example[-10:14]"
   ]
  },
  {
   "cell_type": "code",
   "execution_count": 52,
   "id": "1b03b42d",
   "metadata": {},
   "outputs": [
    {
     "data": {
      "text/plain": [
       "'is'"
      ]
     },
     "execution_count": 52,
     "metadata": {},
     "output_type": "execute_result"
    }
   ],
   "source": [
    "example[7:-6]"
   ]
  },
  {
   "cell_type": "code",
   "execution_count": 54,
   "id": "b90aae5f",
   "metadata": {},
   "outputs": [
    {
     "data": {
      "text/plain": [
       "'is'"
      ]
     },
     "execution_count": 54,
     "metadata": {},
     "output_type": "execute_result"
    }
   ],
   "source": [
    "example[-8:9]"
   ]
  },
  {
   "cell_type": "code",
   "execution_count": 6,
   "id": "73f1efd7",
   "metadata": {},
   "outputs": [
    {
     "name": "stdout",
     "output_type": "stream",
     "text": [
      "djklj\n"
     ]
    }
   ],
   "source": [
    "name = 'rusgulksdlkjlkjd'\n",
    "print(name[-1:-6:-1])"
   ]
  },
  {
   "cell_type": "code",
   "execution_count": 9,
   "id": "2280d333",
   "metadata": {},
   "outputs": [
    {
     "data": {
      "text/plain": [
       "''"
      ]
     },
     "execution_count": 9,
     "metadata": {},
     "output_type": "execute_result"
    }
   ],
   "source": [
    "x = 'PYTHON IS EASYY'\n",
    "x[-1:-6:1]"
   ]
  },
  {
   "cell_type": "code",
   "execution_count": 10,
   "id": "37e3219a",
   "metadata": {},
   "outputs": [
    {
     "data": {
      "text/plain": [
       "str"
      ]
     },
     "execution_count": 10,
     "metadata": {},
     "output_type": "execute_result"
    }
   ],
   "source": [
    "type(x[2:7])"
   ]
  },
  {
   "cell_type": "code",
   "execution_count": 12,
   "id": "c7f6da90",
   "metadata": {},
   "outputs": [
    {
     "data": {
      "text/plain": [
       "'HTY'"
      ]
     },
     "execution_count": 12,
     "metadata": {},
     "output_type": "execute_result"
    }
   ],
   "source": [
    "x[-12:0:-1]"
   ]
  },
  {
   "cell_type": "code",
   "execution_count": 13,
   "id": "e5470e68",
   "metadata": {},
   "outputs": [
    {
     "data": {
      "text/plain": [
       "'HY'"
      ]
     },
     "execution_count": 13,
     "metadata": {},
     "output_type": "execute_result"
    }
   ],
   "source": [
    "x[-12:0:-2]"
   ]
  },
  {
   "cell_type": "code",
   "execution_count": 14,
   "id": "ca7a6222",
   "metadata": {},
   "outputs": [
    {
     "data": {
      "text/plain": [
       "'YE T'"
      ]
     },
     "execution_count": 14,
     "metadata": {},
     "output_type": "execute_result"
    }
   ],
   "source": [
    "x[::-4]"
   ]
  },
  {
   "cell_type": "code",
   "execution_count": 20,
   "id": "04a98a91",
   "metadata": {},
   "outputs": [
    {
     "name": "stdout",
     "output_type": "stream",
     "text": [
      "\n"
     ]
    }
   ],
   "source": [
    "h = 'PYTHON IS EASY ' # Traffic jam --- No movement--- No interpretation\n",
    "print(h[-3:-3])"
   ]
  },
  {
   "cell_type": "code",
   "execution_count": 3,
   "id": "62b1325f",
   "metadata": {},
   "outputs": [
    {
     "data": {
      "text/plain": [
       "''"
      ]
     },
     "execution_count": 3,
     "metadata": {},
     "output_type": "execute_result"
    }
   ],
   "source": [
    "x = 'PYTHON IS EASYT'\n",
    "x[-1:-6]"
   ]
  },
  {
   "cell_type": "code",
   "execution_count": 4,
   "id": "55f15f0c",
   "metadata": {},
   "outputs": [
    {
     "data": {
      "text/plain": [
       "' EASY'"
      ]
     },
     "execution_count": 4,
     "metadata": {},
     "output_type": "execute_result"
    }
   ],
   "source": [
    "x[-6:-1]"
   ]
  },
  {
   "cell_type": "markdown",
   "id": "c9cc299e",
   "metadata": {},
   "source": [
    "# endswith() method"
   ]
  },
  {
   "cell_type": "code",
   "execution_count": 14,
   "id": "111649a8",
   "metadata": {},
   "outputs": [
    {
     "data": {
      "text/plain": [
       "True"
      ]
     },
     "execution_count": 14,
     "metadata": {},
     "output_type": "execute_result"
    }
   ],
   "source": [
    "#  it checks wether a string is ending with given argument and returns true and false\n",
    "ex = \"Hello World\"\n",
    "ex.endswith('rld')"
   ]
  },
  {
   "cell_type": "code",
   "execution_count": 6,
   "id": "139da660",
   "metadata": {},
   "outputs": [
    {
     "data": {
      "text/plain": [
       "True"
      ]
     },
     "execution_count": 6,
     "metadata": {},
     "output_type": "execute_result"
    }
   ],
   "source": [
    "ex.endswith('d')"
   ]
  },
  {
   "cell_type": "code",
   "execution_count": 7,
   "id": "e9860a33",
   "metadata": {},
   "outputs": [
    {
     "data": {
      "text/plain": [
       "False"
      ]
     },
     "execution_count": 7,
     "metadata": {},
     "output_type": "execute_result"
    }
   ],
   "source": [
    "ex.endswith('world')"
   ]
  },
  {
   "cell_type": "code",
   "execution_count": 8,
   "id": "8292deb1",
   "metadata": {},
   "outputs": [
    {
     "data": {
      "text/plain": [
       "False"
      ]
     },
     "execution_count": 8,
     "metadata": {},
     "output_type": "execute_result"
    }
   ],
   "source": [
    "ex.endswith('hello')"
   ]
  },
  {
   "cell_type": "code",
   "execution_count": 9,
   "id": "e3018fe7",
   "metadata": {},
   "outputs": [
    {
     "data": {
      "text/plain": [
       "False"
      ]
     },
     "execution_count": 9,
     "metadata": {},
     "output_type": "execute_result"
    }
   ],
   "source": [
    "ex.endswith('llo world')"
   ]
  },
  {
   "cell_type": "code",
   "execution_count": 9,
   "id": "d704c9fb",
   "metadata": {},
   "outputs": [
    {
     "data": {
      "text/plain": [
       "True"
      ]
     },
     "execution_count": 9,
     "metadata": {},
     "output_type": "execute_result"
    }
   ],
   "source": [
    "n = ('helloworld')\n",
    "n.endswith('elloworld')"
   ]
  },
  {
   "cell_type": "code",
   "execution_count": 12,
   "id": "05a7703a",
   "metadata": {},
   "outputs": [
    {
     "data": {
      "text/plain": [
       "True"
      ]
     },
     "execution_count": 12,
     "metadata": {},
     "output_type": "execute_result"
    }
   ],
   "source": [
    "n.endswith('')"
   ]
  },
  {
   "cell_type": "code",
   "execution_count": 11,
   "id": "69565650",
   "metadata": {},
   "outputs": [
    {
     "data": {
      "text/plain": [
       "False"
      ]
     },
     "execution_count": 11,
     "metadata": {},
     "output_type": "execute_result"
    }
   ],
   "source": [
    "n.endswith(' ')"
   ]
  },
  {
   "cell_type": "markdown",
   "id": "dee4fa4e",
   "metadata": {},
   "source": [
    "# split() method\n",
    "\n",
    "- can be used to create list as it returns the data in the form of list in output."
   ]
  },
  {
   "cell_type": "code",
   "execution_count": 19,
   "id": "1e3dcfb7",
   "metadata": {},
   "outputs": [
    {
     "data": {
      "text/plain": [
       "['Hello', 'World']"
      ]
     },
     "execution_count": 19,
     "metadata": {},
     "output_type": "execute_result"
    }
   ],
   "source": [
    "# .split() method splits the string from the argument given\n",
    "ex = \"Hello World\"\n",
    "ex.split(\" \")"
   ]
  },
  {
   "cell_type": "code",
   "execution_count": 12,
   "id": "cf0c2180",
   "metadata": {},
   "outputs": [
    {
     "data": {
      "text/plain": [
       "['Hello World']"
      ]
     },
     "execution_count": 12,
     "metadata": {},
     "output_type": "execute_result"
    }
   ],
   "source": [
    "ex.split(\"h\")"
   ]
  },
  {
   "cell_type": "code",
   "execution_count": 13,
   "id": "3f24675b",
   "metadata": {},
   "outputs": [
    {
     "data": {
      "text/plain": [
       "['', 'ello World']"
      ]
     },
     "execution_count": 13,
     "metadata": {},
     "output_type": "execute_result"
    }
   ],
   "source": [
    "ex.split(\"H\")"
   ]
  },
  {
   "cell_type": "code",
   "execution_count": 14,
   "id": "619b17fd",
   "metadata": {},
   "outputs": [
    {
     "data": {
      "text/plain": [
       "['Hell', ' W', 'rld']"
      ]
     },
     "execution_count": 14,
     "metadata": {},
     "output_type": "execute_result"
    }
   ],
   "source": [
    "ex.split(\"o\")"
   ]
  },
  {
   "cell_type": "code",
   "execution_count": 32,
   "id": "0adfa9f0",
   "metadata": {},
   "outputs": [
    {
     "data": {
      "text/plain": [
       "['R', 'shi Singh']"
      ]
     },
     "execution_count": 32,
     "metadata": {},
     "output_type": "execute_result"
    }
   ],
   "source": [
    "n = \"Riishi Singh\"\n",
    "n.split(\"ii\")"
   ]
  },
  {
   "cell_type": "code",
   "execution_count": 19,
   "id": "49739a75",
   "metadata": {},
   "outputs": [
    {
     "data": {
      "text/plain": [
       "['Rishi', 'Singh']"
      ]
     },
     "execution_count": 19,
     "metadata": {},
     "output_type": "execute_result"
    }
   ],
   "source": [
    "n.split(\" \")"
   ]
  },
  {
   "cell_type": "code",
   "execution_count": 20,
   "id": "437bbf5a",
   "metadata": {},
   "outputs": [
    {
     "ename": "ValueError",
     "evalue": "empty separator",
     "output_type": "error",
     "traceback": [
      "\u001b[1;31m---------------------------------------------------------------------------\u001b[0m",
      "\u001b[1;31mValueError\u001b[0m                                Traceback (most recent call last)",
      "Cell \u001b[1;32mIn[20], line 1\u001b[0m\n\u001b[1;32m----> 1\u001b[0m \u001b[43mn\u001b[49m\u001b[38;5;241;43m.\u001b[39;49m\u001b[43msplit\u001b[49m\u001b[43m(\u001b[49m\u001b[38;5;124;43m\"\u001b[39;49m\u001b[38;5;124;43m\"\u001b[39;49m\u001b[43m)\u001b[49m\n",
      "\u001b[1;31mValueError\u001b[0m: empty separator"
     ]
    }
   ],
   "source": [
    "n.split(\"\")"
   ]
  },
  {
   "cell_type": "code",
   "execution_count": 21,
   "id": "5adea2b1",
   "metadata": {},
   "outputs": [
    {
     "name": "stdout",
     "output_type": "stream",
     "text": [
      "['hello', 'my', 'name', 'is', 'rishi', 'k', 'l', 'u']\n"
     ]
    }
   ],
   "source": [
    "r = 'hello my name is rishi k l u'\n",
    "print(r.split())"
   ]
  },
  {
   "cell_type": "markdown",
   "id": "ff4eb7a0",
   "metadata": {},
   "source": [
    "# .find() method"
   ]
  },
  {
   "cell_type": "code",
   "execution_count": 23,
   "id": "550546b9",
   "metadata": {},
   "outputs": [
    {
     "data": {
      "text/plain": [
       "4"
      ]
     },
     "execution_count": 23,
     "metadata": {},
     "output_type": "execute_result"
    }
   ],
   "source": [
    "x = \"Hello World\" #finds the nearest string given in the argument and returns its index number\n",
    "x.find('o')"
   ]
  },
  {
   "cell_type": "code",
   "execution_count": 27,
   "id": "85674a8e",
   "metadata": {},
   "outputs": [
    {
     "data": {
      "text/plain": [
       "6"
      ]
     },
     "execution_count": 27,
     "metadata": {},
     "output_type": "execute_result"
    }
   ],
   "source": [
    "x.find('Wo')"
   ]
  },
  {
   "cell_type": "code",
   "execution_count": 24,
   "id": "1cfb2081",
   "metadata": {},
   "outputs": [
    {
     "data": {
      "text/plain": [
       "0"
      ]
     },
     "execution_count": 24,
     "metadata": {},
     "output_type": "execute_result"
    }
   ],
   "source": [
    "x.find('')"
   ]
  },
  {
   "cell_type": "code",
   "execution_count": 25,
   "id": "6f2940ed",
   "metadata": {},
   "outputs": [
    {
     "data": {
      "text/plain": [
       "5"
      ]
     },
     "execution_count": 25,
     "metadata": {},
     "output_type": "execute_result"
    }
   ],
   "source": [
    "x.find(' ')"
   ]
  },
  {
   "cell_type": "code",
   "execution_count": 29,
   "id": "e7cb3f07",
   "metadata": {},
   "outputs": [
    {
     "data": {
      "text/plain": [
       "2"
      ]
     },
     "execution_count": 29,
     "metadata": {},
     "output_type": "execute_result"
    }
   ],
   "source": [
    "x.find('ll')"
   ]
  },
  {
   "cell_type": "markdown",
   "id": "eb7de426",
   "metadata": {},
   "source": [
    "# Functions:"
   ]
  },
  {
   "cell_type": "markdown",
   "id": "0b9b08e3",
   "metadata": {},
   "source": [
    "# len() : returns length of the string"
   ]
  },
  {
   "cell_type": "code",
   "execution_count": 34,
   "id": "fd8958d0",
   "metadata": {},
   "outputs": [
    {
     "data": {
      "text/plain": [
       "11"
      ]
     },
     "execution_count": 34,
     "metadata": {},
     "output_type": "execute_result"
    }
   ],
   "source": [
    "# len()\n",
    "len(\"Rishi Singh\")"
   ]
  },
  {
   "cell_type": "code",
   "execution_count": 30,
   "id": "5aad880b",
   "metadata": {},
   "outputs": [
    {
     "data": {
      "text/plain": [
       "26"
      ]
     },
     "execution_count": 30,
     "metadata": {},
     "output_type": "execute_result"
    }
   ],
   "source": [
    "len(\"                          \")"
   ]
  },
  {
   "cell_type": "code",
   "execution_count": 36,
   "id": "c676bebf",
   "metadata": {},
   "outputs": [
    {
     "ename": "TypeError",
     "evalue": "object of type 'int' has no len()",
     "output_type": "error",
     "traceback": [
      "\u001b[1;31m---------------------------------------------------------------------------\u001b[0m",
      "\u001b[1;31mTypeError\u001b[0m                                 Traceback (most recent call last)",
      "Cell \u001b[1;32mIn[36], line 1\u001b[0m\n\u001b[1;32m----> 1\u001b[0m \u001b[38;5;28;43mlen\u001b[39;49m\u001b[43m(\u001b[49m\u001b[38;5;241;43m66867786\u001b[39;49m\u001b[43m)\u001b[49m\n",
      "\u001b[1;31mTypeError\u001b[0m: object of type 'int' has no len()"
     ]
    }
   ],
   "source": [
    "len(66867786)"
   ]
  },
  {
   "cell_type": "code",
   "execution_count": 33,
   "id": "811af71a",
   "metadata": {},
   "outputs": [
    {
     "ename": "TypeError",
     "evalue": "len() takes exactly one argument (2 given)",
     "output_type": "error",
     "traceback": [
      "\u001b[1;31m---------------------------------------------------------------------------\u001b[0m",
      "\u001b[1;31mTypeError\u001b[0m                                 Traceback (most recent call last)",
      "Cell \u001b[1;32mIn[33], line 1\u001b[0m\n\u001b[1;32m----> 1\u001b[0m \u001b[38;5;28;43mlen\u001b[39;49m\u001b[43m(\u001b[49m\u001b[38;5;124;43m\"\u001b[39;49m\u001b[38;5;124;43mrishi\u001b[39;49m\u001b[38;5;124;43m\"\u001b[39;49m\u001b[43m,\u001b[49m\u001b[38;5;124;43m\"\u001b[39;49m\u001b[38;5;124;43msingh\u001b[39;49m\u001b[38;5;124;43m\"\u001b[39;49m\u001b[43m)\u001b[49m\n",
      "\u001b[1;31mTypeError\u001b[0m: len() takes exactly one argument (2 given)"
     ]
    }
   ],
   "source": [
    "\n",
    "\n",
    "len(\"rishi\",\"singh\")"
   ]
  },
  {
   "cell_type": "markdown",
   "id": "add80c5d",
   "metadata": {},
   "source": [
    "# Tokens"
   ]
  },
  {
   "cell_type": "markdown",
   "id": "20531827",
   "metadata": {},
   "source": [
    "A token is the smallest individual unit in a python program. All statements and instructions in a program are built with tokens.\n",
    "\n",
    "- Keywords : are special words which have a unique meaning and purpose in Python. They cannot be used as variable names, function names etc.\n",
    "\n",
    "- Identifiers : names given to any variables, class , function , method, etc\n",
    "\n",
    "- Literals : are simply the raw data that is assigned into the variables\n",
    "\n",
    "1. String Literal\n",
    "\n",
    "2. Numeric Literal\n",
    "       \n",
    "       A.Integer\n",
    "       b.Float\n",
    "       c.Complex\n",
    "\n",
    "3. Boolean Literal\n",
    "\n",
    "4. Special Literal(None)\n",
    "\n",
    "5. Literal Collections\n",
    "   \n",
    "       a. List Literals\n",
    "       b.Tuple Literal\n",
    "       c.Dictionary literal\n",
    "       d.Set Literal\n",
    "\n",
    "- Operators\n",
    "\n",
    "- Punctuators : are symbols that are used to structure the statements. Some commonly used punctuators                 are: ',',#,\\,( ),{ }, [ ],@,:"
   ]
  },
  {
   "cell_type": "markdown",
   "id": "e4c4e5be",
   "metadata": {},
   "source": [
    "# Operators\n",
    "are symbols which are used to perform a specfic operations between values.\n",
    "\n",
    "1. Arithmetic operators\n",
    "2. Comparision operators\n",
    "3. Assignment operators\n",
    "4. Logical operators\n",
    "5. Bitwise operators\n",
    "6. Membership operators\n",
    "7. Identity operators\n",
    "\n",
    "# Precedence (BODMAS)\n",
    "\n",
    "- ( )\n",
    "- **\n",
    "- *, /, //, %\n",
    "- +, -"
   ]
  },
  {
   "cell_type": "code",
   "execution_count": 4,
   "id": "c481374c",
   "metadata": {},
   "outputs": [],
   "source": [
    "# Arithmatic operators +   -   *   /   //   **   %"
   ]
  },
  {
   "cell_type": "code",
   "execution_count": 14,
   "id": "7ad93f41",
   "metadata": {},
   "outputs": [
    {
     "data": {
      "text/plain": [
       "2"
      ]
     },
     "execution_count": 14,
     "metadata": {},
     "output_type": "execute_result"
    }
   ],
   "source": [
    "2*3%4+5//10"
   ]
  },
  {
   "cell_type": "code",
   "execution_count": 7,
   "id": "2b85332b",
   "metadata": {},
   "outputs": [
    {
     "name": "stdout",
     "output_type": "stream",
     "text": [
      "False\n",
      "True\n",
      "True\n",
      "False\n",
      "False\n",
      "True\n"
     ]
    }
   ],
   "source": [
    "# Comparision operators ==  !=  <  >  >=  <=\n",
    "\n",
    "x = 10; y = 25\n",
    "\n",
    "print(x == 25) # equals\n",
    "print(x != 25) # not equal\n",
    "print(x < 25) #less than\n",
    "print(x > 25) # greater than\n",
    "print(x >= 25) # greater than or epual to\n",
    "print(x <= 25) # less than or equal to"
   ]
  },
  {
   "cell_type": "code",
   "execution_count": 8,
   "id": "5410cf5d",
   "metadata": {},
   "outputs": [
    {
     "data": {
      "text/plain": [
       "False"
      ]
     },
     "execution_count": 8,
     "metadata": {},
     "output_type": "execute_result"
    }
   ],
   "source": [
    "# Logical operators (mostly used to combine comparison)-  and     or      not\n",
    "x = 15; y = 20\n",
    "x <= y and x>=y"
   ]
  },
  {
   "cell_type": "markdown",
   "id": "b1cf17da",
   "metadata": {},
   "source": [
    "# and operator table\n",
    "Both the comparision must be true to get True\n",
    "\n",
    "- True and True   =   True\n",
    "- True and false  =   False\n",
    "- False and True  =   False\n",
    "- False and False =   False\n",
    "\n",
    "# or operator table\n",
    "One of the comparision should be true to get True\n",
    "\n",
    "- True or True   = True\n",
    "- True or False  = True\n",
    "- False or False = False\n",
    "- False or True  = True"
   ]
  },
  {
   "cell_type": "code",
   "execution_count": 1,
   "id": "84143ae7",
   "metadata": {},
   "outputs": [
    {
     "data": {
      "text/plain": [
       "0"
      ]
     },
     "execution_count": 1,
     "metadata": {},
     "output_type": "execute_result"
    }
   ],
   "source": [
    "0 and False"
   ]
  },
  {
   "cell_type": "code",
   "execution_count": 2,
   "id": "3d7a7a50",
   "metadata": {},
   "outputs": [
    {
     "data": {
      "text/plain": [
       "False"
      ]
     },
     "execution_count": 2,
     "metadata": {},
     "output_type": "execute_result"
    }
   ],
   "source": [
    "False and 0"
   ]
  },
  {
   "cell_type": "code",
   "execution_count": 6,
   "id": "3498d7e3",
   "metadata": {},
   "outputs": [
    {
     "data": {
      "text/plain": [
       "True"
      ]
     },
     "execution_count": 6,
     "metadata": {},
     "output_type": "execute_result"
    }
   ],
   "source": [
    "0 or True"
   ]
  },
  {
   "cell_type": "code",
   "execution_count": 5,
   "id": "61ff45b2",
   "metadata": {},
   "outputs": [
    {
     "data": {
      "text/plain": [
       "False"
      ]
     },
     "execution_count": 5,
     "metadata": {},
     "output_type": "execute_result"
    }
   ],
   "source": [
    "5 and False"
   ]
  },
  {
   "cell_type": "code",
   "execution_count": 3,
   "id": "bf6af13e",
   "metadata": {},
   "outputs": [
    {
     "data": {
      "text/plain": [
       "True"
      ]
     },
     "execution_count": 3,
     "metadata": {},
     "output_type": "execute_result"
    }
   ],
   "source": [
    "5 and True"
   ]
  },
  {
   "cell_type": "code",
   "execution_count": 4,
   "id": "67bdab74",
   "metadata": {},
   "outputs": [
    {
     "data": {
      "text/plain": [
       "5"
      ]
     },
     "execution_count": 4,
     "metadata": {},
     "output_type": "execute_result"
    }
   ],
   "source": [
    "True and 5"
   ]
  },
  {
   "cell_type": "code",
   "execution_count": 2,
   "id": "4c22d8ec",
   "metadata": {},
   "outputs": [
    {
     "data": {
      "text/plain": [
       "True"
      ]
     },
     "execution_count": 2,
     "metadata": {},
     "output_type": "execute_result"
    }
   ],
   "source": [
    "True and False or True and True or False and False"
   ]
  },
  {
   "cell_type": "code",
   "execution_count": 3,
   "id": "eb3f4315",
   "metadata": {},
   "outputs": [
    {
     "data": {
      "text/plain": [
       "True"
      ]
     },
     "execution_count": 3,
     "metadata": {},
     "output_type": "execute_result"
    }
   ],
   "source": [
    "True or False and True or True and False or False"
   ]
  },
  {
   "cell_type": "code",
   "execution_count": 4,
   "id": "6936a322",
   "metadata": {},
   "outputs": [
    {
     "data": {
      "text/plain": [
       "True"
      ]
     },
     "execution_count": 4,
     "metadata": {},
     "output_type": "execute_result"
    }
   ],
   "source": [
    "True and False or True and True or not False and False"
   ]
  },
  {
   "cell_type": "code",
   "execution_count": 5,
   "id": "65019220",
   "metadata": {},
   "outputs": [
    {
     "data": {
      "text/plain": [
       "True"
      ]
     },
     "execution_count": 5,
     "metadata": {},
     "output_type": "execute_result"
    }
   ],
   "source": [
    "True and False or True and True or not True and False"
   ]
  },
  {
   "cell_type": "code",
   "execution_count": 8,
   "id": "f6cb7f26",
   "metadata": {},
   "outputs": [
    {
     "data": {
      "text/plain": [
       "True"
      ]
     },
     "execution_count": 8,
     "metadata": {},
     "output_type": "execute_result"
    }
   ],
   "source": [
    "True and False or True and True and not False or False"
   ]
  },
  {
   "cell_type": "markdown",
   "id": "234c56ea",
   "metadata": {},
   "source": [
    "# not operator\n",
    "it doesn't combine comparision. It reverses the answer for True or False"
   ]
  },
  {
   "cell_type": "markdown",
   "id": "3c5b0bea",
   "metadata": {},
   "source": [
    "# Identity operator-       is             is not\n",
    "Checks whether two variables or objects share the same memory location or not\n"
   ]
  },
  {
   "cell_type": "code",
   "execution_count": 1,
   "id": "f6c58b6c",
   "metadata": {},
   "outputs": [
    {
     "name": "stdout",
     "output_type": "stream",
     "text": [
      "2362549797808\n",
      "2362549798480\n",
      "False\n"
     ]
    }
   ],
   "source": [
    "x = 23\n",
    "y = 44\n",
    "print(id(x))\n",
    "print(id(y))\n",
    "print(x is y) # ckecks if x and y share same memory location or not"
   ]
  },
  {
   "cell_type": "code",
   "execution_count": 2,
   "id": "04837b31",
   "metadata": {},
   "outputs": [
    {
     "name": "stdout",
     "output_type": "stream",
     "text": [
      "True\n"
     ]
    }
   ],
   "source": [
    "x = 23 # another ex with same value\n",
    "y = 23\n",
    "print(x is y)"
   ]
  },
  {
   "cell_type": "code",
   "execution_count": 7,
   "id": "6827f27e",
   "metadata": {},
   "outputs": [
    {
     "name": "stdout",
     "output_type": "stream",
     "text": [
      "2638786003536\n",
      "2638786004240\n",
      "True\n"
     ]
    }
   ],
   "source": [
    "x = 12; y = 34\n",
    "print(id(x))\n",
    "print(id(y))\n",
    "print(x is not y) # checking whether x is not sharing same memory location with y"
   ]
  },
  {
   "cell_type": "code",
   "execution_count": 5,
   "id": "0b572817",
   "metadata": {},
   "outputs": [
    {
     "name": "stdout",
     "output_type": "stream",
     "text": [
      "False\n",
      "True\n",
      "2362630689088\n",
      "2362630896512\n"
     ]
    }
   ],
   "source": [
    "a = [12] # list with same value doesnt have same memory location\n",
    "b = [12]\n",
    "print(a is b) # Checking whether a and b share same memory location\n",
    "print(a == b) # Checking whether a and b share same value\n",
    "\n",
    "print(id(a))\n",
    "print(id(b))"
   ]
  },
  {
   "cell_type": "markdown",
   "id": "b08999ae",
   "metadata": {},
   "source": [
    "# Membership Operators-          in                 not in\n",
    "Membership operators check whether a value is present in a sequence of values\n",
    "Sequence - Strings, Lists, Tuples, Sets, Dictionaries"
   ]
  },
  {
   "cell_type": "code",
   "execution_count": 7,
   "id": "1240d9a2",
   "metadata": {},
   "outputs": [
    {
     "data": {
      "text/plain": [
       "False"
      ]
     },
     "execution_count": 7,
     "metadata": {},
     "output_type": "execute_result"
    }
   ],
   "source": [
    "a = \"Data Science\"\n",
    "b = \"Data\"\n",
    "a in b"
   ]
  },
  {
   "cell_type": "code",
   "execution_count": 8,
   "id": "ba11929e",
   "metadata": {},
   "outputs": [
    {
     "data": {
      "text/plain": [
       "True"
      ]
     },
     "execution_count": 8,
     "metadata": {},
     "output_type": "execute_result"
    }
   ],
   "source": [
    "c = [1,2,3,4]\n",
    "d = 4 # checking if integer 4 is a member of variable c\n",
    "d in c"
   ]
  },
  {
   "cell_type": "code",
   "execution_count": 10,
   "id": "84da6b78",
   "metadata": {},
   "outputs": [
    {
     "data": {
      "text/plain": [
       "False"
      ]
     },
     "execution_count": 10,
     "metadata": {},
     "output_type": "execute_result"
    }
   ],
   "source": [
    "c = [1,2,3,4]\n",
    "d = [4]\n",
    "d in c # checking for a list in list c with value 4"
   ]
  },
  {
   "cell_type": "code",
   "execution_count": 14,
   "id": "279a8908",
   "metadata": {},
   "outputs": [
    {
     "data": {
      "text/plain": [
       "True"
      ]
     },
     "execution_count": 14,
     "metadata": {},
     "output_type": "execute_result"
    }
   ],
   "source": [
    "c = [1,2,3,[4]]\n",
    "d = [4]\n",
    "d in c  # checking for a list in list c with value 4"
   ]
  },
  {
   "cell_type": "markdown",
   "id": "ec4aaa33",
   "metadata": {},
   "source": [
    "# Bitwise Operators\n"
   ]
  },
  {
   "cell_type": "code",
   "execution_count": 15,
   "id": "dc144bb5",
   "metadata": {},
   "outputs": [],
   "source": [
    "#- &: Bitwise and\n",
    "#- |: BItwise or\n",
    "#- ^: BItwise xor\n",
    "#- ~: Bitwise not\n",
    "#- <<: Left shift\n",
    "#- >>: Right shift"
   ]
  },
  {
   "cell_type": "markdown",
   "id": "e3ae8ef7",
   "metadata": {},
   "source": [
    "# Assignment Operators"
   ]
  },
  {
   "cell_type": "code",
   "execution_count": 17,
   "id": "8d27e867",
   "metadata": {},
   "outputs": [
    {
     "data": {
      "text/plain": [
       "1"
      ]
     },
     "execution_count": 17,
     "metadata": {},
     "output_type": "execute_result"
    }
   ],
   "source": [
    "# Assignment op. - = += -= *= /= //= **= %= |= &= ^= >>= <<=  (~= this is not an assignment operator)\n",
    "\n",
    "x = 8\n",
    "x -= 7 # this is equals:  x = x - 7\n",
    "x"
   ]
  },
  {
   "cell_type": "code",
   "execution_count": 18,
   "id": "17465fb7",
   "metadata": {},
   "outputs": [
    {
     "data": {
      "text/plain": [
       "7"
      ]
     },
     "execution_count": 18,
     "metadata": {},
     "output_type": "execute_result"
    }
   ],
   "source": [
    "x += 6 # this is equals x = x + 6\n",
    "x"
   ]
  },
  {
   "cell_type": "code",
   "execution_count": null,
   "id": "317c57bf",
   "metadata": {},
   "outputs": [],
   "source": []
  },
  {
   "cell_type": "code",
   "execution_count": 16,
   "id": "246cd5ba",
   "metadata": {},
   "outputs": [
    {
     "name": "stdout",
     "output_type": "stream",
     "text": [
      "True\n",
      "False\n",
      "False\n",
      "False\n",
      "\n",
      "\n",
      "True\n",
      "False\n"
     ]
    }
   ],
   "source": [
    "x = 32; y = 20\n",
    "\n",
    "print(not x==y) # False\n",
    "print(not x>y) # True\n",
    "print(not x!=y) # True\n",
    "print(not x>=y) # True\n",
    "print('\\n')\n",
    "print(not False)\n",
    "print(not True)"
   ]
  },
  {
   "cell_type": "code",
   "execution_count": 19,
   "id": "2594a2b8",
   "metadata": {},
   "outputs": [
    {
     "name": "stdout",
     "output_type": "stream",
     "text": [
      "False\n",
      "False\n"
     ]
    }
   ],
   "source": [
    "print(not x)\n",
    "print(not y)"
   ]
  },
  {
   "cell_type": "markdown",
   "id": "c3f92311",
   "metadata": {},
   "source": [
    "# Ques:\n",
    "Take two value as input from the user in variables a and b. Swap the values of a and b"
   ]
  },
  {
   "cell_type": "code",
   "execution_count": 9,
   "id": "24512e99",
   "metadata": {},
   "outputs": [
    {
     "name": "stdout",
     "output_type": "stream",
     "text": [
      "Enter a number for A: 10\n",
      "Enter a number for B: 50\n",
      "value for A = 50\n",
      "10\n"
     ]
    }
   ],
   "source": [
    "A = int(input('Enter a number for A: '))\n",
    "B = int(input('Enter a number for B: '))\n",
    "print('value for A =', A-A+B)\n",
    "print(A)\n"
   ]
  },
  {
   "cell_type": "code",
   "execution_count": 1,
   "id": "a90de96d",
   "metadata": {},
   "outputs": [
    {
     "name": "stdout",
     "output_type": "stream",
     "text": [
      "Enter a number for A: 20\n",
      "Enter a number for B: 50\n",
      "value for A =  50\n",
      "value for B =  20\n"
     ]
    }
   ],
   "source": [
    "A = int(input('Enter a number for A: '))\n",
    "B = int(input('Enter a number for B: '))\n",
    "C = (A-A+B)\n",
    "B = (B-B+A)\n",
    "A = C\n",
    "print('value for A = ',A)\n",
    "print('value for B = ',B)"
   ]
  },
  {
   "cell_type": "code",
   "execution_count": 10,
   "id": "2d541b69",
   "metadata": {},
   "outputs": [
    {
     "name": "stdout",
     "output_type": "stream",
     "text": [
      "Enter a number for A: 24\n",
      "Enter a number for B: 56\n",
      "Value for A = 56\n",
      "Value for B = 24\n"
     ]
    }
   ],
   "source": [
    "A = input('Enter a number for A: ')\n",
    "B = input('Enter a number for B: ')\n",
    "C = A.replace(A,B)\n",
    "B = B.replace(B,A)\n",
    "A=C\n",
    "print(\"Value for A =\",A)\n",
    "print(\"Value for B =\",B)"
   ]
  },
  {
   "cell_type": "code",
   "execution_count": 3,
   "id": "f33c403f",
   "metadata": {},
   "outputs": [
    {
     "name": "stdout",
     "output_type": "stream",
     "text": [
      "Enter a number for A: 20\n",
      "Enter a number for B: 40\n",
      "40\n",
      "20\n"
     ]
    }
   ],
   "source": [
    "A = int(input(\"Enter a number for A: \"))\n",
    "B = int(input(\"Enter a number for B: \"))\n",
    "C = B*1\n",
    "B = A*1\n",
    "A = C\n",
    "print(A)\n",
    "print(B)"
   ]
  },
  {
   "cell_type": "code",
   "execution_count": 11,
   "id": "bb5fc968",
   "metadata": {},
   "outputs": [
    {
     "name": "stdout",
     "output_type": "stream",
     "text": [
      "Enter a number for A: 10\n",
      "Enter a number for B: 20\n",
      "20\n",
      "10\n"
     ]
    }
   ],
   "source": [
    "A = input('Enter a number for A: ')\n",
    "B = input('Enter a number for B: ')\n",
    "C = (A+'\\r'+B)\n",
    "B = (B+'\\r'+A)\n",
    "A = C\n",
    "print(A)\n",
    "print(B)"
   ]
  },
  {
   "cell_type": "code",
   "execution_count": 9,
   "id": "e867b877",
   "metadata": {},
   "outputs": [
    {
     "name": "stdout",
     "output_type": "stream",
     "text": [
      "hello my name is rishi\n"
     ]
    }
   ],
   "source": [
    "x = 'rishi'\n",
    "print('hello my name is '+x)"
   ]
  },
  {
   "cell_type": "code",
   "execution_count": 17,
   "id": "59456ebb",
   "metadata": {},
   "outputs": [
    {
     "name": "stdout",
     "output_type": "stream",
     "text": [
      "enter a value for a: 34\n",
      "enter a value for b: 45\n",
      "\n",
      "\n",
      "value for a =  ['45']\n",
      "value for b =  ['34']\n"
     ]
    }
   ],
   "source": [
    "a = input('enter a value for a: ')\n",
    "b = input('enter a value for b: ')\n",
    "c = b.split()\n",
    "b = a.split()\n",
    "a = c\n",
    "print('\\n')\n",
    "print('value for a = ',a)\n",
    "print('value for b = ',b)"
   ]
  },
  {
   "cell_type": "code",
   "execution_count": 3,
   "id": "d135971a",
   "metadata": {},
   "outputs": [
    {
     "data": {
      "text/plain": [
       "24"
      ]
     },
     "execution_count": 3,
     "metadata": {},
     "output_type": "execute_result"
    }
   ],
   "source": [
    "24%95"
   ]
  },
  {
   "cell_type": "code",
   "execution_count": 4,
   "id": "b68dcd1d",
   "metadata": {},
   "outputs": [
    {
     "data": {
      "text/plain": [
       "25"
      ]
     },
     "execution_count": 4,
     "metadata": {},
     "output_type": "execute_result"
    }
   ],
   "source": [
    "25%95"
   ]
  },
  {
   "cell_type": "code",
   "execution_count": 1,
   "id": "e9a93674",
   "metadata": {},
   "outputs": [
    {
     "data": {
      "text/plain": [
       "0"
      ]
     },
     "execution_count": 1,
     "metadata": {},
     "output_type": "execute_result"
    }
   ],
   "source": [
    "25//95"
   ]
  },
  {
   "cell_type": "code",
   "execution_count": 21,
   "id": "d29a2acf",
   "metadata": {},
   "outputs": [
    {
     "name": "stdout",
     "output_type": "stream",
     "text": [
      "value for a = rishi\n",
      "value for b = rohit\n",
      "['', 'rohit']\n",
      "rohit\n",
      "['rishi', '']\n",
      "rishi\n",
      "rohit rishi\n"
     ]
    }
   ],
   "source": [
    "# Arjun Sir Solution \n",
    "\n",
    "A = input('value for a = ')\n",
    "B = input('value for b = ')\n",
    "X = A + B\n",
    "P = X.split(A)\n",
    "print(P)\n",
    "print(P[1])\n",
    "Q = X.split(B)\n",
    "print(Q)\n",
    "print(Q[0])\n",
    "B = Q[0]\n",
    "A = P[1]\n",
    "print(A,B)"
   ]
  },
  {
   "cell_type": "code",
   "execution_count": 1,
   "id": "b06d135c",
   "metadata": {},
   "outputs": [
    {
     "ename": "AttributeError",
     "evalue": "'list' object has no attribute 'upper'",
     "output_type": "error",
     "traceback": [
      "\u001b[1;31m---------------------------------------------------------------------------\u001b[0m",
      "\u001b[1;31mAttributeError\u001b[0m                            Traceback (most recent call last)",
      "Cell \u001b[1;32mIn[1], line 3\u001b[0m\n\u001b[0;32m      1\u001b[0m a \u001b[38;5;241m=\u001b[39m [\u001b[38;5;124m'\u001b[39m\u001b[38;5;124mrishi\u001b[39m\u001b[38;5;124m'\u001b[39m, \u001b[38;5;124m'\u001b[39m\u001b[38;5;124mgaurav\u001b[39m\u001b[38;5;124m'\u001b[39m, \u001b[38;5;124m'\u001b[39m\u001b[38;5;124mrohit\u001b[39m\u001b[38;5;124m'\u001b[39m]\n\u001b[0;32m      2\u001b[0m a[\u001b[38;5;241m1\u001b[39m]\n\u001b[1;32m----> 3\u001b[0m \u001b[43ma\u001b[49m\u001b[38;5;241;43m.\u001b[39;49m\u001b[43mupper\u001b[49m()\n",
      "\u001b[1;31mAttributeError\u001b[0m: 'list' object has no attribute 'upper'"
     ]
    }
   ],
   "source": [
    "a = ['rishi', 'gaurav', 'rohit']\n",
    "a[1]\n",
    "a.upper()"
   ]
  },
  {
   "cell_type": "code",
   "execution_count": 20,
   "id": "09202d28",
   "metadata": {},
   "outputs": [
    {
     "data": {
      "text/plain": [
       "False"
      ]
     },
     "execution_count": 20,
     "metadata": {},
     "output_type": "execute_result"
    }
   ],
   "source": [
    "True is False is False is not True is False"
   ]
  },
  {
   "cell_type": "code",
   "execution_count": null,
   "id": "1bc800b5",
   "metadata": {},
   "outputs": [],
   "source": []
  },
  {
   "cell_type": "code",
   "execution_count": null,
   "id": "fae85fe9",
   "metadata": {},
   "outputs": [],
   "source": []
  },
  {
   "cell_type": "code",
   "execution_count": null,
   "id": "cdc664a5",
   "metadata": {},
   "outputs": [],
   "source": []
  },
  {
   "cell_type": "code",
   "execution_count": null,
   "id": "0ef71766",
   "metadata": {},
   "outputs": [],
   "source": [
    "g = ('hello my name is rishi')"
   ]
  },
  {
   "cell_type": "code",
   "execution_count": null,
   "id": "dfd429dc",
   "metadata": {},
   "outputs": [],
   "source": []
  },
  {
   "cell_type": "code",
   "execution_count": null,
   "id": "29914e64",
   "metadata": {},
   "outputs": [],
   "source": []
  }
 ],
 "metadata": {
  "kernelspec": {
   "display_name": "Python 3 (ipykernel)",
   "language": "python",
   "name": "python3"
  },
  "language_info": {
   "codemirror_mode": {
    "name": "ipython",
    "version": 3
   },
   "file_extension": ".py",
   "mimetype": "text/x-python",
   "name": "python",
   "nbconvert_exporter": "python",
   "pygments_lexer": "ipython3",
   "version": "3.10.9"
  }
 },
 "nbformat": 4,
 "nbformat_minor": 5
}
