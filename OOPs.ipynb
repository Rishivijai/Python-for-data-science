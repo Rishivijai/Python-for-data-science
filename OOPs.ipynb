{
 "cells": [
  {
   "cell_type": "markdown",
   "id": "835e3db7",
   "metadata": {},
   "source": [
    "# Class and Objects\n",
    "\n",
    "**Every object has the following properties:**\n",
    "\n",
    "1. Identity: Every object must be uniquely identified.\n",
    "2. State: An object has attributes that represent the state of an object\n",
    "3. Behavior: An object has methods that represent its behaviour"
   ]
  },
  {
   "cell_type": "markdown",
   "id": "1fed4da1",
   "metadata": {},
   "source": [
    "**Object is an instance of a class**"
   ]
  },
  {
   "cell_type": "markdown",
   "id": "9fbbff2b",
   "metadata": {},
   "source": [
    "**Class is a blueprint or code template for object creation. Using a class, you can create as many objects as you want.**"
   ]
  },
  {
   "cell_type": "code",
   "execution_count": 1,
   "id": "20ffc8e3",
   "metadata": {},
   "outputs": [
    {
     "data": {
      "text/plain": [
       "'This is docstring. I have created a class'"
      ]
     },
     "execution_count": 1,
     "metadata": {},
     "output_type": "execute_result"
    }
   ],
   "source": [
    "# Creating a class\n",
    "class class_name:\n",
    "    '''This is docstring. I have created a class'''\n",
    "    \n",
    "class_name.__doc__"
   ]
  },
  {
   "cell_type": "code",
   "execution_count": 1,
   "id": "1fca8919",
   "metadata": {},
   "outputs": [],
   "source": [
    "# Define a class\n",
    "class person:\n",
    "    def __init__(self, name,gender,profession): # Object initialization\n",
    "        #Static(attributes - variables)\n",
    "        self.name_ = name\n",
    "        self.gender_ = gender\n",
    "        self.name_ = profession\n",
    "        \n",
    "    # Behaviour (methods)"
   ]
  },
  {
   "cell_type": "code",
   "execution_count": 2,
   "id": "d2ed9ab3",
   "metadata": {},
   "outputs": [],
   "source": [
    "# Object creation\n",
    "\n",
    "ram = person('ram','male','software develoer')\n",
    "shyam = person('shyam','male','data scientist')"
   ]
  },
  {
   "cell_type": "code",
   "execution_count": 3,
   "id": "2c54e12b",
   "metadata": {},
   "outputs": [
    {
     "data": {
      "text/plain": [
       "<__main__.person at 0x24a2ad321a0>"
      ]
     },
     "execution_count": 3,
     "metadata": {},
     "output_type": "execute_result"
    }
   ],
   "source": [
    "person('ram','male','software develoer')"
   ]
  },
  {
   "cell_type": "code",
   "execution_count": 32,
   "id": "411abb5d",
   "metadata": {},
   "outputs": [],
   "source": [
    "class Students:\n",
    "    def __init__(self,name,subject,time,place):\n",
    "        self.namee = name\n",
    "        self.subjectt = subject\n",
    "        self.timee = time\n",
    "        \n",
    "    def met(self):\n",
    "        print('I have made a class of python')\n",
    "        \n",
    "    def intro(self):\n",
    "        x = input('enter your name:  ')\n",
    "        print('Hello ',x)\n",
    "        y = input('where are you from?  ')\n",
    "        print('nice place')\n",
    "        z = input('ok then bye:  ')\n",
    "        print('bye')\n",
    "        \n",
    "        "
   ]
  },
  {
   "cell_type": "code",
   "execution_count": 33,
   "id": "b986c73d",
   "metadata": {},
   "outputs": [],
   "source": [
    "Pdcs = Students('pdcs','communication',10,'Haldwani')"
   ]
  },
  {
   "cell_type": "code",
   "execution_count": 34,
   "id": "a01294aa",
   "metadata": {},
   "outputs": [],
   "source": [
    "Pdcs.teacher = 'Rishi Singh'"
   ]
  },
  {
   "cell_type": "code",
   "execution_count": 35,
   "id": "540843dc",
   "metadata": {},
   "outputs": [],
   "source": [
    "Pdcs.institute = 'VijAI'"
   ]
  },
  {
   "cell_type": "code",
   "execution_count": 36,
   "id": "d828dab8",
   "metadata": {},
   "outputs": [],
   "source": [
    "Pdcs.institute = 'VIJAI'"
   ]
  },
  {
   "cell_type": "code",
   "execution_count": 37,
   "id": "efb88304",
   "metadata": {},
   "outputs": [
    {
     "data": {
      "text/plain": [
       "'VIJAI'"
      ]
     },
     "execution_count": 37,
     "metadata": {},
     "output_type": "execute_result"
    }
   ],
   "source": [
    "Pdcs.institute"
   ]
  },
  {
   "cell_type": "code",
   "execution_count": 38,
   "id": "2e7b34b2",
   "metadata": {},
   "outputs": [
    {
     "name": "stdout",
     "output_type": "stream",
     "text": [
      "enter your name:  rishi\n",
      "Hello  rishi\n",
      "where are you from?  hld\n",
      "nice place\n",
      "ok then bye:  bye\n",
      "bye\n"
     ]
    }
   ],
   "source": [
    "Pdcs.intro()"
   ]
  },
  {
   "cell_type": "code",
   "execution_count": 9,
   "id": "4ee49a4c",
   "metadata": {},
   "outputs": [],
   "source": [
    "# difference between a function and method?"
   ]
  },
  {
   "cell_type": "code",
   "execution_count": 50,
   "id": "b2974cc9",
   "metadata": {},
   "outputs": [],
   "source": [
    "# methods are defined for  the objects of a particular class whereas functions are not defined ffor\n",
    "# a particular class\n",
    "# methods are the functions defined inside a class"
   ]
  },
  {
   "cell_type": "markdown",
   "id": "8b5b4f4a",
   "metadata": {},
   "source": [
    "# Class Attributes\n",
    "\n",
    "1. **Instance variables**\n",
    "2. **Class variables**"
   ]
  },
  {
   "cell_type": "code",
   "execution_count": 39,
   "id": "83129209",
   "metadata": {},
   "outputs": [],
   "source": [
    " # Instance variavles - Attached to an instance(Object) of a class.\n",
    " #                    - Drefined inside any method but generally inside the __init__() method\n",
    " \n",
    " # Class variables - Attached to the class\n",
    " #                 - Declared inside the class but outside of any method"
   ]
  },
  {
   "cell_type": "code",
   "execution_count": 45,
   "id": "cfcfebe6",
   "metadata": {},
   "outputs": [],
   "source": [
    "class Student:\n",
    "    # class variables\n",
    "    school_name = \"ABC School\"\n",
    "    \n",
    "    def __init__(self,name,age):\n",
    "        # instance variables\n",
    "        self.name = name\n",
    "        self.age = age\n",
    "        \n",
    "s1 = Student('Rishi',25)"
   ]
  },
  {
   "cell_type": "code",
   "execution_count": 47,
   "id": "c6cefc84",
   "metadata": {},
   "outputs": [
    {
     "name": "stdout",
     "output_type": "stream",
     "text": [
      "Student:   Rishi 25\n"
     ]
    }
   ],
   "source": [
    "# access instance variables\n",
    "print('Student:  ',s1.name,s1.age)"
   ]
  },
  {
   "cell_type": "code",
   "execution_count": 48,
   "id": "1b1f6ac0",
   "metadata": {},
   "outputs": [
    {
     "name": "stdout",
     "output_type": "stream",
     "text": [
      "School name:  ABC School\n"
     ]
    }
   ],
   "source": [
    "# access class variables\n",
    "print('School name: ',Student.school_name)"
   ]
  },
  {
   "cell_type": "code",
   "execution_count": 49,
   "id": "75a1bbbe",
   "metadata": {},
   "outputs": [
    {
     "data": {
      "text/plain": [
       "'ABC School'"
      ]
     },
     "execution_count": 49,
     "metadata": {},
     "output_type": "execute_result"
    }
   ],
   "source": [
    "s1.school_name"
   ]
  },
  {
   "cell_type": "code",
   "execution_count": 1,
   "id": "b9ad91c7",
   "metadata": {},
   "outputs": [],
   "source": [
    "# make a program to create a student form. Add different attributes and methods\n",
    "# and also delete some"
   ]
  },
  {
   "cell_type": "markdown",
   "id": "c9dc03c5",
   "metadata": {},
   "source": [
    "<font size=5> Increasing font size<br>\n",
    "Next <br> line\n",
    "<br>**Bold**\n",
    "<br>*Italics*"
   ]
  },
  {
   "cell_type": "code",
   "execution_count": 20,
   "id": "a8cb0a06",
   "metadata": {},
   "outputs": [],
   "source": [
    "class form():\n",
    "    \n",
    "    def __init__(self,name,ph_no,e_mail,prof_exp,com_ef):\n",
    "        self.name = name\n",
    "        self.ph_no = ph_no\n",
    "        self.e_mail = e_mail\n",
    "        self.prof_exp = prof_exp\n",
    "        self.com_ef = com_ef\n",
    "        \n",
    "    def performance(self,marks):\n",
    "        \n",
    "        if marks>=50 and marks<=70:\n",
    "            print('average')\n",
    "        elif marks>=70 and marks<=80:\n",
    "            print('good')\n",
    "        elif marks>=80:\n",
    "            print('excellent')\n",
    "        \n",
    "s1 = form('Rishi',873833992,'rishi@gmail.com','yes','yes')\n",
    "s2 = form('priyanshu',98787879,'priyanshu@gmial.com','no','yes')\n",
    "s3 = form('jack',98798789,'jack@gmail.com','no','no')\n",
    "s4 = form('sam',987987987,'sam@gmail.com','yes','no')\n",
    "    "
   ]
  },
  {
   "cell_type": "code",
   "execution_count": 19,
   "id": "5c72c0e5",
   "metadata": {},
   "outputs": [
    {
     "name": "stdout",
     "output_type": "stream",
     "text": [
      "average\n"
     ]
    }
   ],
   "source": [
    "s1.performance(50)"
   ]
  },
  {
   "cell_type": "markdown",
   "id": "9baed265",
   "metadata": {},
   "source": [
    "# Inheritance"
   ]
  },
  {
   "cell_type": "markdown",
   "id": "6009d761",
   "metadata": {},
   "source": [
    "<font size=5>Process of inheriting the parent class into a child class is called inheritance<br>\n",
    "    \n",
    "The child class apuires all the attributes and methods from the parent class. Also, a child class acan provide its specific implementation to the attributes and methods of the parent class"
   ]
  },
  {
   "cell_type": "code",
   "execution_count": 22,
   "id": "a5a778cf",
   "metadata": {},
   "outputs": [],
   "source": [
    "class Parentclass:\n",
    "    pass\n",
    "class Childclass(Parentclass):\n",
    "    pass"
   ]
  },
  {
   "cell_type": "markdown",
   "id": "12bb52a6",
   "metadata": {},
   "source": [
    "# Types of Inheritance\n",
    "\n",
    "1. Single inheritance\n",
    "2. Multiple inheritance\n",
    "3. Multilevel inheritance\n",
    "4. Hierarchical inhertance\n",
    "5. Hybrid inheritance"
   ]
  },
  {
   "cell_type": "code",
   "execution_count": 37,
   "id": "1d0f3496",
   "metadata": {},
   "outputs": [],
   "source": [
    "class Employee:\n",
    "    def __init__(self,name,age,gender,salary,id):\n",
    "        self.name = name\n",
    "        self.age = age\n",
    "        self.gender = gender\n",
    "        self.salary = salary\n",
    "        self.id = id\n",
    "\n",
    "class Programmer(Employee):\n",
    "    def prog(self,prog_lang):\n",
    "        self.prog_lang = prog_lang\n",
    "        \n",
    "class Manager(Employee):\n",
    "    def Man(self,Domain):\n",
    "        self.Domain = Domain\n",
    "    "
   ]
  },
  {
   "cell_type": "code",
   "execution_count": 38,
   "id": "bc084416",
   "metadata": {},
   "outputs": [],
   "source": [
    "pr = Programmer('Rishi',25,'Male',98000000,6873)"
   ]
  },
  {
   "cell_type": "code",
   "execution_count": 39,
   "id": "8168832a",
   "metadata": {},
   "outputs": [],
   "source": [
    "pr.prog('java')"
   ]
  },
  {
   "cell_type": "code",
   "execution_count": 40,
   "id": "c92522eb",
   "metadata": {},
   "outputs": [],
   "source": [
    "mn = Manager('jhd',45,'Female',98733,6593)"
   ]
  },
  {
   "cell_type": "markdown",
   "id": "0170aa2b",
   "metadata": {},
   "source": [
    "# super()\n",
    "**The super() function is used to refer to the parent class.**"
   ]
  },
  {
   "cell_type": "code",
   "execution_count": 1,
   "id": "735b9245",
   "metadata": {},
   "outputs": [
    {
     "name": "stdout",
     "output_type": "stream",
     "text": [
      "This is Tech Dept\n",
      "This is a programmer\n"
     ]
    }
   ],
   "source": [
    "class Tech_dept:\n",
    "    def descrip(self):\n",
    "        print(\"This is Tech Dept\")\n",
    "        \n",
    "class Programmer(Tech_dept):\n",
    "    def descrip(self):\n",
    "        print(\"This is Tech Dept\")\n",
    "        print('This is a programmer')\n",
    "        \n",
    "tech1 = Programmer()\n",
    "tech1.descrip()"
   ]
  },
  {
   "cell_type": "code",
   "execution_count": 2,
   "id": "55c36021",
   "metadata": {},
   "outputs": [
    {
     "name": "stdout",
     "output_type": "stream",
     "text": [
      "This is Tech Dept\n",
      "This is a programmer\n"
     ]
    }
   ],
   "source": [
    "class Tech_dept:\n",
    "    def descrip(self):\n",
    "        print(\"This is Tech Dept\")\n",
    "        \n",
    "class Programmer(Tech_dept):\n",
    "    def descrip(self):\n",
    "        super().descrip()\n",
    "        print('This is a programmer')\n",
    "        \n",
    "tech1 = Programmer()\n",
    "tech1.descrip()"
   ]
  },
  {
   "cell_type": "code",
   "execution_count": null,
   "id": "41d46729",
   "metadata": {},
   "outputs": [],
   "source": [
    "class Tech_dept:\n",
    "    def descrip(self):\n",
    "        print(\"This is Tech Dept\")\n",
    "        \n",
    "class Programmer(Tech_dept):\n",
    "    def descrip(self):\n",
    "        self.descrip()    # instead of super() its written self\n",
    "        print('This is a programmer')\n",
    "        \n",
    "tech1 = Programmer()\n",
    "tech1.descrip()"
   ]
  },
  {
   "cell_type": "markdown",
   "id": "51d8d157",
   "metadata": {},
   "source": [
    "# Method Overriding"
   ]
  },
  {
   "cell_type": "markdown",
   "id": "efa7c85c",
   "metadata": {},
   "source": [
    "**Method overriding is a powerful feature that allows you to redefine a method of the parent class in the child class.<br>\n",
    "<br>When a child class method has the same name, same patameters, and same return type as a method in its parent class, then the method in the child is said to override the method in the parent class.**"
   ]
  },
  {
   "cell_type": "code",
   "execution_count": 1,
   "id": "4089633c",
   "metadata": {},
   "outputs": [],
   "source": [
    "class Animal:\n",
    "    def show_name(self):\n",
    "        print('This is Animal Class')\n",
    "        \n",
    "class Dog(Animal):\n",
    "    def show_name(self):\n",
    "        print('This is Dog Class')"
   ]
  },
  {
   "cell_type": "code",
   "execution_count": 2,
   "id": "3aa4a225",
   "metadata": {},
   "outputs": [
    {
     "name": "stdout",
     "output_type": "stream",
     "text": [
      "This is Dog Class\n"
     ]
    }
   ],
   "source": [
    "dog1 = Dog()\n",
    "dog1.show_name()"
   ]
  },
  {
   "cell_type": "markdown",
   "id": "8b623149",
   "metadata": {},
   "source": [
    "# Method Resolution Order\n",
    "**It is the order in which methods are searched for an object**"
   ]
  },
  {
   "cell_type": "code",
   "execution_count": 4,
   "id": "077ba3e7",
   "metadata": {},
   "outputs": [
    {
     "name": "stdout",
     "output_type": "stream",
     "text": [
      "In class B\n"
     ]
    }
   ],
   "source": [
    "class A:\n",
    "    def process(self):\n",
    "        print('In class A')\n",
    "        \n",
    "class B:\n",
    "    def process(self):\n",
    "        print('In class B')\n",
    "        \n",
    "class C(B,A):\n",
    "    pass\n",
    "\n",
    "\n",
    "# Creating object of C class\n",
    "C1 = C()\n",
    "C1.process()"
   ]
  },
  {
   "cell_type": "code",
   "execution_count": 6,
   "id": "b949527e",
   "metadata": {},
   "outputs": [
    {
     "data": {
      "text/plain": [
       "(__main__.C, __main__.B, __main__.A, object)"
      ]
     },
     "execution_count": 6,
     "metadata": {},
     "output_type": "execute_result"
    }
   ],
   "source": [
    "C.__mro__  # Method Resolution Order"
   ]
  },
  {
   "cell_type": "code",
   "execution_count": 7,
   "id": "1aea5c7e",
   "metadata": {},
   "outputs": [
    {
     "data": {
      "text/plain": [
       "(__main__.A, object)"
      ]
     },
     "execution_count": 7,
     "metadata": {},
     "output_type": "execute_result"
    }
   ],
   "source": [
    "A.__mro__ # All classes inherit the object class"
   ]
  },
  {
   "cell_type": "code",
   "execution_count": 9,
   "id": "f2cea5c4",
   "metadata": {},
   "outputs": [
    {
     "name": "stdout",
     "output_type": "stream",
     "text": [
      "<class 'type'>\n"
     ]
    }
   ],
   "source": [
    "print(type(B)) # All the classes are objects of type class"
   ]
  },
  {
   "cell_type": "code",
   "execution_count": 12,
   "id": "18716202",
   "metadata": {},
   "outputs": [
    {
     "name": "stdout",
     "output_type": "stream",
     "text": [
      "<class 'type'>\n"
     ]
    }
   ],
   "source": [
    "print(type(type)) # Type is a class"
   ]
  },
  {
   "cell_type": "code",
   "execution_count": null,
   "id": "150fc92f",
   "metadata": {},
   "outputs": [],
   "source": []
  }
 ],
 "metadata": {
  "kernelspec": {
   "display_name": "Python 3 (ipykernel)",
   "language": "python",
   "name": "python3"
  },
  "language_info": {
   "codemirror_mode": {
    "name": "ipython",
    "version": 3
   },
   "file_extension": ".py",
   "mimetype": "text/x-python",
   "name": "python",
   "nbconvert_exporter": "python",
   "pygments_lexer": "ipython3",
   "version": "3.10.9"
  }
 },
 "nbformat": 4,
 "nbformat_minor": 5
}
