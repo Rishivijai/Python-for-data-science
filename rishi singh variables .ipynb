{
 "cells": [
  {
   "cell_type": "markdown",
   "id": "989678e5",
   "metadata": {},
   "source": [
    "# Variables 30/05/2023"
   ]
  },
  {
   "cell_type": "code",
   "execution_count": 2,
   "id": "cc265c5e",
   "metadata": {},
   "outputs": [],
   "source": [
    "x = 63"
   ]
  },
  {
   "cell_type": "code",
   "execution_count": 3,
   "id": "803dbeeb",
   "metadata": {},
   "outputs": [
    {
     "name": "stdout",
     "output_type": "stream",
     "text": [
      "63\n"
     ]
    }
   ],
   "source": [
    "print(x)"
   ]
  },
  {
   "cell_type": "code",
   "execution_count": 14,
   "id": "f8c35350",
   "metadata": {},
   "outputs": [
    {
     "data": {
      "text/plain": [
       "int"
      ]
     },
     "execution_count": 14,
     "metadata": {},
     "output_type": "execute_result"
    }
   ],
   "source": [
    "type(x)"
   ]
  },
  {
   "cell_type": "code",
   "execution_count": 4,
   "id": "aa610529",
   "metadata": {},
   "outputs": [],
   "source": [
    "y = 22.5"
   ]
  },
  {
   "cell_type": "code",
   "execution_count": 5,
   "id": "f940293f",
   "metadata": {},
   "outputs": [
    {
     "name": "stdout",
     "output_type": "stream",
     "text": [
      "22.5\n"
     ]
    }
   ],
   "source": [
    "print(y)"
   ]
  },
  {
   "cell_type": "code",
   "execution_count": 15,
   "id": "1364bcaa",
   "metadata": {},
   "outputs": [
    {
     "data": {
      "text/plain": [
       "float"
      ]
     },
     "execution_count": 15,
     "metadata": {},
     "output_type": "execute_result"
    }
   ],
   "source": [
    "type(y)"
   ]
  },
  {
   "cell_type": "code",
   "execution_count": 6,
   "id": "63c5b0f8",
   "metadata": {},
   "outputs": [],
   "source": [
    "q = 22j"
   ]
  },
  {
   "cell_type": "code",
   "execution_count": 7,
   "id": "12daf1f3",
   "metadata": {},
   "outputs": [
    {
     "name": "stdout",
     "output_type": "stream",
     "text": [
      "22j\n"
     ]
    }
   ],
   "source": [
    "print(q)"
   ]
  },
  {
   "cell_type": "code",
   "execution_count": 16,
   "id": "48ce4097",
   "metadata": {},
   "outputs": [
    {
     "data": {
      "text/plain": [
       "complex"
      ]
     },
     "execution_count": 16,
     "metadata": {},
     "output_type": "execute_result"
    }
   ],
   "source": [
    "type(q)"
   ]
  },
  {
   "cell_type": "code",
   "execution_count": 8,
   "id": "a8f4e3de",
   "metadata": {},
   "outputs": [],
   "source": [
    "w = True"
   ]
  },
  {
   "cell_type": "code",
   "execution_count": 9,
   "id": "5739305f",
   "metadata": {},
   "outputs": [
    {
     "name": "stdout",
     "output_type": "stream",
     "text": [
      "True\n"
     ]
    }
   ],
   "source": [
    "print(w)"
   ]
  },
  {
   "cell_type": "code",
   "execution_count": 17,
   "id": "b300ac47",
   "metadata": {},
   "outputs": [
    {
     "data": {
      "text/plain": [
       "bool"
      ]
     },
     "execution_count": 17,
     "metadata": {},
     "output_type": "execute_result"
    }
   ],
   "source": [
    "type(w)"
   ]
  },
  {
   "cell_type": "code",
   "execution_count": 10,
   "id": "dafc535e",
   "metadata": {},
   "outputs": [],
   "source": [
    "r = ('rishi')"
   ]
  },
  {
   "cell_type": "code",
   "execution_count": 11,
   "id": "f5e7cc6d",
   "metadata": {},
   "outputs": [
    {
     "name": "stdout",
     "output_type": "stream",
     "text": [
      "rishi\n"
     ]
    }
   ],
   "source": [
    "print(r)"
   ]
  },
  {
   "cell_type": "code",
   "execution_count": 18,
   "id": "e8f9a8d8",
   "metadata": {},
   "outputs": [
    {
     "data": {
      "text/plain": [
       "str"
      ]
     },
     "execution_count": 18,
     "metadata": {},
     "output_type": "execute_result"
    }
   ],
   "source": [
    "type(r)"
   ]
  },
  {
   "cell_type": "code",
   "execution_count": 12,
   "id": "577c5042",
   "metadata": {},
   "outputs": [],
   "source": [
    "n = None"
   ]
  },
  {
   "cell_type": "code",
   "execution_count": 13,
   "id": "400cb7de",
   "metadata": {},
   "outputs": [
    {
     "name": "stdout",
     "output_type": "stream",
     "text": [
      "None\n"
     ]
    }
   ],
   "source": [
    "print(n)"
   ]
  },
  {
   "cell_type": "code",
   "execution_count": 19,
   "id": "aa5a77ec",
   "metadata": {},
   "outputs": [
    {
     "data": {
      "text/plain": [
       "NoneType"
      ]
     },
     "execution_count": 19,
     "metadata": {},
     "output_type": "execute_result"
    }
   ],
   "source": [
    "type(n)"
   ]
  },
  {
   "cell_type": "code",
   "execution_count": 21,
   "id": "98b499ed",
   "metadata": {},
   "outputs": [
    {
     "ename": "SyntaxError",
     "evalue": "invalid decimal literal (1925398480.py, line 1)",
     "output_type": "error",
     "traceback": [
      "\u001b[1;36m  Cell \u001b[1;32mIn[21], line 1\u001b[1;36m\u001b[0m\n\u001b[1;33m    78abc = \"str\"\u001b[0m\n\u001b[1;37m     ^\u001b[0m\n\u001b[1;31mSyntaxError\u001b[0m\u001b[1;31m:\u001b[0m invalid decimal literal\n"
     ]
    }
   ],
   "source": [
    "78abc = \"str\""
   ]
  },
  {
   "cell_type": "markdown",
   "id": "cc6fba7e",
   "metadata": {},
   "source": [
    "# Variable rules\n",
    "\n",
    "- A variable name must start with an alphabet or an underscore\n",
    "- A variable name cannot start with a number or any special character (@,#,$,%,^)\n",
    "- A variable name can only contain alphabets, numbers, and underscores\n",
    "- The use of special characters is prohibited\n",
    "- Variable names are case-sensitive in python\n",
    "- Python keywords cannot be used as variable names"
   ]
  },
  {
   "cell_type": "code",
   "execution_count": 24,
   "id": "af1da200",
   "metadata": {},
   "outputs": [],
   "source": [
    "__abc = 78 # variable name starting with underscore"
   ]
  },
  {
   "cell_type": "code",
   "execution_count": 25,
   "id": "cda599e0",
   "metadata": {},
   "outputs": [
    {
     "ename": "SyntaxError",
     "evalue": "invalid syntax. Maybe you meant '==' or ':=' instead of '='? (481057621.py, line 1)",
     "output_type": "error",
     "traceback": [
      "\u001b[1;36m  Cell \u001b[1;32mIn[25], line 1\u001b[1;36m\u001b[0m\n\u001b[1;33m    @abc = \"rishi\"\u001b[0m\n\u001b[1;37m     ^\u001b[0m\n\u001b[1;31mSyntaxError\u001b[0m\u001b[1;31m:\u001b[0m invalid syntax. Maybe you meant '==' or ':=' instead of '='?\n"
     ]
    }
   ],
   "source": [
    "@abc = \"rishi\""
   ]
  },
  {
   "cell_type": "code",
   "execution_count": 28,
   "id": "d3a8c1a4",
   "metadata": {},
   "outputs": [
    {
     "ename": "SyntaxError",
     "evalue": "cannot assign to True (2421482644.py, line 1)",
     "output_type": "error",
     "traceback": [
      "\u001b[1;36m  Cell \u001b[1;32mIn[28], line 1\u001b[1;36m\u001b[0m\n\u001b[1;33m    True  = 23\u001b[0m\n\u001b[1;37m    ^\u001b[0m\n\u001b[1;31mSyntaxError\u001b[0m\u001b[1;31m:\u001b[0m cannot assign to True\n"
     ]
    }
   ],
   "source": [
    "True  = 23"
   ]
  },
  {
   "cell_type": "code",
   "execution_count": 29,
   "id": "4305c6a7",
   "metadata": {},
   "outputs": [
    {
     "ename": "SyntaxError",
     "evalue": "cannot assign to None (2572093044.py, line 1)",
     "output_type": "error",
     "traceback": [
      "\u001b[1;36m  Cell \u001b[1;32mIn[29], line 1\u001b[1;36m\u001b[0m\n\u001b[1;33m    None = 34\u001b[0m\n\u001b[1;37m    ^\u001b[0m\n\u001b[1;31mSyntaxError\u001b[0m\u001b[1;31m:\u001b[0m cannot assign to None\n"
     ]
    }
   ],
   "source": [
    "None = 34"
   ]
  },
  {
   "cell_type": "code",
   "execution_count": 30,
   "id": "17d2283d",
   "metadata": {},
   "outputs": [
    {
     "ename": "SyntaxError",
     "evalue": "invalid syntax (1639225582.py, line 1)",
     "output_type": "error",
     "traceback": [
      "\u001b[1;36m  Cell \u001b[1;32mIn[30], line 1\u001b[1;36m\u001b[0m\n\u001b[1;33m    and = 25\u001b[0m\n\u001b[1;37m    ^\u001b[0m\n\u001b[1;31mSyntaxError\u001b[0m\u001b[1;31m:\u001b[0m invalid syntax\n"
     ]
    }
   ],
   "source": [
    "and = 25"
   ]
  },
  {
   "cell_type": "code",
   "execution_count": 31,
   "id": "c442114b",
   "metadata": {},
   "outputs": [
    {
     "ename": "SyntaxError",
     "evalue": "invalid syntax (1955616281.py, line 1)",
     "output_type": "error",
     "traceback": [
      "\u001b[1;36m  Cell \u001b[1;32mIn[31], line 1\u001b[1;36m\u001b[0m\n\u001b[1;33m    class = 90\u001b[0m\n\u001b[1;37m          ^\u001b[0m\n\u001b[1;31mSyntaxError\u001b[0m\u001b[1;31m:\u001b[0m invalid syntax\n"
     ]
    }
   ],
   "source": [
    "class = 90"
   ]
  },
  {
   "cell_type": "code",
   "execution_count": 32,
   "id": "1de9a399",
   "metadata": {},
   "outputs": [
    {
     "ename": "SyntaxError",
     "evalue": "invalid syntax (3659175368.py, line 1)",
     "output_type": "error",
     "traceback": [
      "\u001b[1;36m  Cell \u001b[1;32mIn[32], line 1\u001b[1;36m\u001b[0m\n\u001b[1;33m    for = 67\u001b[0m\n\u001b[1;37m        ^\u001b[0m\n\u001b[1;31mSyntaxError\u001b[0m\u001b[1;31m:\u001b[0m invalid syntax\n"
     ]
    }
   ],
   "source": [
    "for = 67"
   ]
  },
  {
   "cell_type": "code",
   "execution_count": 33,
   "id": "78dbd916",
   "metadata": {},
   "outputs": [
    {
     "ename": "SyntaxError",
     "evalue": "invalid syntax (240786277.py, line 1)",
     "output_type": "error",
     "traceback": [
      "\u001b[1;36m  Cell \u001b[1;32mIn[33], line 1\u001b[1;36m\u001b[0m\n\u001b[1;33m    finally = 55\u001b[0m\n\u001b[1;37m    ^\u001b[0m\n\u001b[1;31mSyntaxError\u001b[0m\u001b[1;31m:\u001b[0m invalid syntax\n"
     ]
    }
   ],
   "source": [
    "finally = 55"
   ]
  },
  {
   "cell_type": "code",
   "execution_count": 35,
   "id": "756e61b3",
   "metadata": {},
   "outputs": [
    {
     "ename": "SyntaxError",
     "evalue": "invalid syntax (199009820.py, line 1)",
     "output_type": "error",
     "traceback": [
      "\u001b[1;36m  Cell \u001b[1;32mIn[35], line 1\u001b[1;36m\u001b[0m\n\u001b[1;33m    not = 64 # we cannot assign a data to keywords\u001b[0m\n\u001b[1;37m        ^\u001b[0m\n\u001b[1;31mSyntaxError\u001b[0m\u001b[1;31m:\u001b[0m invalid syntax\n"
     ]
    }
   ],
   "source": [
    "not = 64 # we cannot assign a data to keywords"
   ]
  },
  {
   "cell_type": "code",
   "execution_count": 38,
   "id": "c8929da1",
   "metadata": {},
   "outputs": [
    {
     "ename": "SyntaxError",
     "evalue": "cannot assign to literal here. Maybe you meant '==' instead of '='? (1727931555.py, line 1)",
     "output_type": "error",
     "traceback": [
      "\u001b[1;36m  Cell \u001b[1;32mIn[38], line 1\u001b[1;36m\u001b[0m\n\u001b[1;33m    'class' = 12\u001b[0m\n\u001b[1;37m    ^\u001b[0m\n\u001b[1;31mSyntaxError\u001b[0m\u001b[1;31m:\u001b[0m cannot assign to literal here. Maybe you meant '==' instead of '='?\n"
     ]
    }
   ],
   "source": [
    "'class' = 12"
   ]
  },
  {
   "cell_type": "code",
   "execution_count": 36,
   "id": "4974c41f",
   "metadata": {},
   "outputs": [],
   "source": [
    "Class = 12"
   ]
  },
  {
   "cell_type": "code",
   "execution_count": 37,
   "id": "2fb02e67",
   "metadata": {},
   "outputs": [],
   "source": [
    "__class = 33"
   ]
  },
  {
   "cell_type": "code",
   "execution_count": 5,
   "id": "40d41006",
   "metadata": {},
   "outputs": [
    {
     "name": "stdout",
     "output_type": "stream",
     "text": [
      "20\n",
      "<class 'int'>\n"
     ]
    }
   ],
   "source": [
    "# Integer variable\n",
    "money = 20\n",
    "print(money)\n",
    "print(type(money))"
   ]
  },
  {
   "cell_type": "code",
   "execution_count": 6,
   "id": "615bf5cb",
   "metadata": {},
   "outputs": [
    {
     "name": "stdout",
     "output_type": "stream",
     "text": [
      "20.34\n",
      "<class 'float'>\n"
     ]
    }
   ],
   "source": [
    "# float variable\n",
    "num = 20.34\n",
    "print(num)\n",
    "print(type(num))"
   ]
  },
  {
   "cell_type": "code",
   "execution_count": 7,
   "id": "0082401d",
   "metadata": {},
   "outputs": [
    {
     "name": "stdout",
     "output_type": "stream",
     "text": [
      "(3+5j)\n",
      "<class 'complex'>\n"
     ]
    }
   ],
   "source": [
    "# complex type\n",
    "_h = 3 + 5j\n",
    "print(_h)\n",
    "print(type(_h))"
   ]
  },
  {
   "cell_type": "code",
   "execution_count": 8,
   "id": "828c63c9",
   "metadata": {},
   "outputs": [
    {
     "name": "stdout",
     "output_type": "stream",
     "text": [
      "rishi\n",
      "<class 'str'>\n"
     ]
    }
   ],
   "source": [
    "# string variable\n",
    "name = 'rishi'\n",
    "print(name)\n",
    "print(type(name))"
   ]
  },
  {
   "cell_type": "code",
   "execution_count": 1,
   "id": "ff2e1491",
   "metadata": {},
   "outputs": [],
   "source": [
    "_123 = 55"
   ]
  },
  {
   "cell_type": "code",
   "execution_count": 2,
   "id": "f078a639",
   "metadata": {},
   "outputs": [
    {
     "ename": "SyntaxError",
     "evalue": "cannot assign to literal here. Maybe you meant '==' instead of '='? (463764452.py, line 1)",
     "output_type": "error",
     "traceback": [
      "\u001b[1;36m  Cell \u001b[1;32mIn[2], line 1\u001b[1;36m\u001b[0m\n\u001b[1;33m    123 = 45\u001b[0m\n\u001b[1;37m    ^\u001b[0m\n\u001b[1;31mSyntaxError\u001b[0m\u001b[1;31m:\u001b[0m cannot assign to literal here. Maybe you meant '==' instead of '='?\n"
     ]
    }
   ],
   "source": [
    "123 = 45"
   ]
  },
  {
   "cell_type": "code",
   "execution_count": 3,
   "id": "3ab409a2",
   "metadata": {},
   "outputs": [],
   "source": [
    "a123 = 9"
   ]
  },
  {
   "cell_type": "code",
   "execution_count": 5,
   "id": "60acd493",
   "metadata": {},
   "outputs": [
    {
     "ename": "SyntaxError",
     "evalue": "cannot assign to expression here. Maybe you meant '==' instead of '='? (166718547.py, line 1)",
     "output_type": "error",
     "traceback": [
      "\u001b[1;36m  Cell \u001b[1;32mIn[5], line 1\u001b[1;36m\u001b[0m\n\u001b[1;33m    python@gmail=65 # special characters are not used for variables\u001b[0m\n\u001b[1;37m    ^\u001b[0m\n\u001b[1;31mSyntaxError\u001b[0m\u001b[1;31m:\u001b[0m cannot assign to expression here. Maybe you meant '==' instead of '='?\n"
     ]
    }
   ],
   "source": [
    "python@gmail=65 # special characters are not used for variables"
   ]
  },
  {
   "cell_type": "code",
   "execution_count": 7,
   "id": "78db7a1d",
   "metadata": {},
   "outputs": [
    {
     "name": "stdout",
     "output_type": "stream",
     "text": [
      "2820703584784\n",
      "2820703584784\n"
     ]
    }
   ],
   "source": [
    "a = 10\n",
    "b = 10\n",
    "print(id(b))\n",
    "print(id(a))"
   ]
  },
  {
   "cell_type": "code",
   "execution_count": 9,
   "id": "34f77648",
   "metadata": {},
   "outputs": [
    {
     "name": "stdout",
     "output_type": "stream",
     "text": [
      "2820703584784\n",
      "2820703584784\n",
      "2820703584784\n",
      "2820703584784 2820703584784 2820703584784\n"
     ]
    }
   ],
   "source": [
    "x = 10\n",
    "y = 10\n",
    "z = x\n",
    "print(id(x))\n",
    "print(id(y))\n",
    "print(id(z))\n",
    "print(id(x),id(y),id(z))"
   ]
  },
  {
   "cell_type": "code",
   "execution_count": 10,
   "id": "383081e4",
   "metadata": {},
   "outputs": [
    {
     "name": "stdout",
     "output_type": "stream",
     "text": [
      "2820703585552 2820703585552 2820703585552\n"
     ]
    }
   ],
   "source": [
    "a = b = c = 34\n",
    "print(id(a),id(b),id(c))"
   ]
  },
  {
   "cell_type": "code",
   "execution_count": 16,
   "id": "3c38381b",
   "metadata": {},
   "outputs": [
    {
     "name": "stdout",
     "output_type": "stream",
     "text": [
      "rishi\n",
      "27\n",
      "5500000000.34\n"
     ]
    }
   ],
   "source": [
    "name = 'rishi' # string assignment\n",
    "age = 27 # integer assignment\n",
    "salary = 5500000000.34 # float assignment\n",
    "\n",
    "print(name)\n",
    "print(age)\n",
    "print(salary)"
   ]
  },
  {
   "cell_type": "code",
   "execution_count": 19,
   "id": "b19f3056",
   "metadata": {},
   "outputs": [
    {
     "name": "stdout",
     "output_type": "stream",
     "text": [
      "10\n",
      "<class 'int'>\n",
      "rishi\n",
      "<class 'str'>\n",
      "22.4\n",
      "<class 'float'>\n",
      "2j\n",
      "<class 'complex'>\n"
     ]
    }
   ],
   "source": [
    "var = 10\n",
    "print(var)\n",
    "print(type(var))\n",
    "\n",
    "var = 'rishi'\n",
    "print(var)\n",
    "print(type(var))\n",
    "\n",
    "var = 22.4\n",
    "print(var)\n",
    "print(type(var))\n",
    "\n",
    "var = 2j\n",
    "print(var)\n",
    "print(type(var))"
   ]
  },
  {
   "cell_type": "code",
   "execution_count": 20,
   "id": "4dea116d",
   "metadata": {},
   "outputs": [
    {
     "ename": "NameError",
     "evalue": "name 'h' is not defined",
     "output_type": "error",
     "traceback": [
      "\u001b[1;31m---------------------------------------------------------------------------\u001b[0m",
      "\u001b[1;31mNameError\u001b[0m                                 Traceback (most recent call last)",
      "Cell \u001b[1;32mIn[20], line 1\u001b[0m\n\u001b[1;32m----> 1\u001b[0m \u001b[38;5;28mprint\u001b[39m(\u001b[43mh\u001b[49m)\n",
      "\u001b[1;31mNameError\u001b[0m: name 'h' is not defined"
     ]
    }
   ],
   "source": [
    "print(h)"
   ]
  },
  {
   "cell_type": "markdown",
   "id": "9c20d2e9",
   "metadata": {},
   "source": [
    "Python is a dynamically typed language and c++ is a statically typed language.\n",
    "Why?\n",
    "\n",
    "In statically typed language we have to declare and define the variable. This declared and defined variable never changes or static.\n",
    "\n",
    "While python is a dynamically typed language because here we can change the variable without declaring it and in python since we are not declaring the variable so we can change it and this is called the dynamic nature of python language.\n",
    "\n",
    "Therefore in python we can define the variable without declaring it.\n",
    "\n",
    "Define means assigning(=) some value to the variable\n",
    "Declare means specifying the data type\n"
   ]
  },
  {
   "cell_type": "markdown",
   "id": "4ab1b60e",
   "metadata": {},
   "source": [
    "# Expressions"
   ]
  },
  {
   "cell_type": "markdown",
   "id": "8170567c",
   "metadata": {},
   "source": [
    "An expression  is a piece of code( must include operators and operands) that evaluate to a value. For example, basic arithmatic operations like adding multiple numbers."
   ]
  },
  {
   "cell_type": "code",
   "execution_count": 3,
   "id": "2351fb8f",
   "metadata": {},
   "outputs": [
    {
     "data": {
      "text/plain": [
       "38"
      ]
     },
     "execution_count": 3,
     "metadata": {},
     "output_type": "execute_result"
    }
   ],
   "source": [
    "4+4+4+4+\\\n",
    "4+5+6+7"
   ]
  },
  {
   "cell_type": "code",
   "execution_count": 4,
   "id": "8ec9b2c7",
   "metadata": {},
   "outputs": [
    {
     "data": {
      "text/plain": [
       "'heello;my name is/ngaurav'"
      ]
     },
     "execution_count": 4,
     "metadata": {},
     "output_type": "execute_result"
    }
   ],
   "source": [
    "'heello;my name is/ngaurav'"
   ]
  },
  {
   "cell_type": "code",
   "execution_count": 7,
   "id": "282a2518",
   "metadata": {},
   "outputs": [
    {
     "name": "stdout",
     "output_type": "stream",
     "text": [
      "hello;my name is/ngaurav\n"
     ]
    }
   ],
   "source": [
    "'hello;my name is/ngaurav'\n",
    "print('hello;my name is/ngaurav')"
   ]
  },
  {
   "cell_type": "code",
   "execution_count": 2,
   "id": "54025dc8",
   "metadata": {},
   "outputs": [
    {
     "name": "stdout",
     "output_type": "stream",
     "text": [
      "35+36 = 3536\n",
      "3536\n"
     ]
    }
   ],
   "source": [
    "print(int(input('35+36 = ')))"
   ]
  },
  {
   "cell_type": "code",
   "execution_count": 3,
   "id": "d91d8760",
   "metadata": {},
   "outputs": [
    {
     "name": "stdout",
     "output_type": "stream",
     "text": [
      "35+36 = 2536\n",
      "<class 'int'>\n"
     ]
    }
   ],
   "source": [
    "print(type(int(input('35+36 = '))))"
   ]
  },
  {
   "cell_type": "code",
   "execution_count": 1,
   "id": "09fa43c8",
   "metadata": {},
   "outputs": [
    {
     "name": "stdout",
     "output_type": "stream",
     "text": [
      "10\n"
     ]
    }
   ],
   "source": [
    "# take any two numbers(two digit positive integers) as input from the user as 25,35 - 5*3+2*5 = 25\n",
    "print(2*5)"
   ]
  },
  {
   "cell_type": "code",
   "execution_count": null,
   "id": "794094d5",
   "metadata": {},
   "outputs": [],
   "source": []
  }
 ],
 "metadata": {
  "kernelspec": {
   "display_name": "Python 3 (ipykernel)",
   "language": "python",
   "name": "python3"
  },
  "language_info": {
   "codemirror_mode": {
    "name": "ipython",
    "version": 3
   },
   "file_extension": ".py",
   "mimetype": "text/x-python",
   "name": "python",
   "nbconvert_exporter": "python",
   "pygments_lexer": "ipython3",
   "version": "3.10.9"
  }
 },
 "nbformat": 4,
 "nbformat_minor": 5
}
