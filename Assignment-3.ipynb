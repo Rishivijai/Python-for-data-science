{
 "cells": [
  {
   "cell_type": "code",
   "execution_count": 64,
   "id": "1e111e5c",
   "metadata": {},
   "outputs": [
    {
     "name": "stdout",
     "output_type": "stream",
     "text": [
      "   Age\n",
      "0   12\n",
      "1   13\n",
      "2   14\n",
      "3   23\n",
      "4   32\n",
      "5   52\n",
      "6   27\n",
      "7   12\n",
      "8   75\n",
      "9   45\n",
      "  Category\n",
      "0    Minor\n",
      "1    Minor\n",
      "2    Minor\n",
      "3    Adult\n",
      "4    Adult\n",
      "5   Senior\n",
      "6    Adult\n",
      "7    Minor\n",
      "8   Senior\n",
      "9    Adult\n"
     ]
    }
   ],
   "source": [
    "# for the below DataFrame create a column \"Age Category\" which classifies the ages a Minor, Adult or Senior\n",
    "import pandas as pd\n",
    "import numpy as np\n",
    "data = {\"Age\":[12,13,14,23,32,52,27,12,75,45]}\n",
    "df = pd.DataFrame(data)\n",
    "d = list(data.values())\n",
    "data2 = []\n",
    "for i in d:\n",
    "    if i in data.values():\n",
    "        d = i\n",
    "for i in d:\n",
    "    if i <18:\n",
    "        data2.append(\"Minor\")\n",
    "    elif i >= 18 and i < 50:\n",
    "        data2.append(\"Adult\")\n",
    "    else:\n",
    "        data2.append(\"Senior\")\n",
    "data3 = {\"Category\":data2}       \n",
    "df2 = pd.DataFrame(data3)\n",
    "print(df)\n",
    "print(df2)"
   ]
  },
  {
   "cell_type": "code",
   "execution_count": 73,
   "id": "042aadc7",
   "metadata": {},
   "outputs": [
    {
     "data": {
      "text/html": [
       "<div>\n",
       "<style scoped>\n",
       "    .dataframe tbody tr th:only-of-type {\n",
       "        vertical-align: middle;\n",
       "    }\n",
       "\n",
       "    .dataframe tbody tr th {\n",
       "        vertical-align: top;\n",
       "    }\n",
       "\n",
       "    .dataframe thead th {\n",
       "        text-align: right;\n",
       "    }\n",
       "</style>\n",
       "<table border=\"1\" class=\"dataframe\">\n",
       "  <thead>\n",
       "    <tr style=\"text-align: right;\">\n",
       "      <th></th>\n",
       "      <th>Age</th>\n",
       "      <th>Category</th>\n",
       "    </tr>\n",
       "  </thead>\n",
       "  <tbody>\n",
       "    <tr>\n",
       "      <th>0</th>\n",
       "      <td>NaN</td>\n",
       "      <td>NaN</td>\n",
       "    </tr>\n",
       "    <tr>\n",
       "      <th>1</th>\n",
       "      <td>NaN</td>\n",
       "      <td>NaN</td>\n",
       "    </tr>\n",
       "    <tr>\n",
       "      <th>2</th>\n",
       "      <td>NaN</td>\n",
       "      <td>NaN</td>\n",
       "    </tr>\n",
       "    <tr>\n",
       "      <th>3</th>\n",
       "      <td>NaN</td>\n",
       "      <td>NaN</td>\n",
       "    </tr>\n",
       "    <tr>\n",
       "      <th>4</th>\n",
       "      <td>NaN</td>\n",
       "      <td>NaN</td>\n",
       "    </tr>\n",
       "    <tr>\n",
       "      <th>5</th>\n",
       "      <td>NaN</td>\n",
       "      <td>NaN</td>\n",
       "    </tr>\n",
       "    <tr>\n",
       "      <th>6</th>\n",
       "      <td>NaN</td>\n",
       "      <td>NaN</td>\n",
       "    </tr>\n",
       "    <tr>\n",
       "      <th>7</th>\n",
       "      <td>NaN</td>\n",
       "      <td>NaN</td>\n",
       "    </tr>\n",
       "    <tr>\n",
       "      <th>8</th>\n",
       "      <td>NaN</td>\n",
       "      <td>NaN</td>\n",
       "    </tr>\n",
       "    <tr>\n",
       "      <th>9</th>\n",
       "      <td>NaN</td>\n",
       "      <td>NaN</td>\n",
       "    </tr>\n",
       "  </tbody>\n",
       "</table>\n",
       "</div>"
      ],
      "text/plain": [
       "   Age Category\n",
       "0  NaN      NaN\n",
       "1  NaN      NaN\n",
       "2  NaN      NaN\n",
       "3  NaN      NaN\n",
       "4  NaN      NaN\n",
       "5  NaN      NaN\n",
       "6  NaN      NaN\n",
       "7  NaN      NaN\n",
       "8  NaN      NaN\n",
       "9  NaN      NaN"
      ]
     },
     "execution_count": 73,
     "metadata": {},
     "output_type": "execute_result"
    }
   ],
   "source": [
    "df+df2"
   ]
  },
  {
   "cell_type": "code",
   "execution_count": null,
   "id": "0f6781d8",
   "metadata": {},
   "outputs": [],
   "source": []
  },
  {
   "cell_type": "code",
   "execution_count": null,
   "id": "7f732196",
   "metadata": {},
   "outputs": [],
   "source": []
  },
  {
   "cell_type": "code",
   "execution_count": null,
   "id": "1b972adb",
   "metadata": {},
   "outputs": [],
   "source": []
  },
  {
   "cell_type": "code",
   "execution_count": 6,
   "id": "92fc2103",
   "metadata": {},
   "outputs": [
    {
     "data": {
      "text/plain": [
       "array([[1],\n",
       "       [2],\n",
       "       [3]])"
      ]
     },
     "execution_count": 6,
     "metadata": {},
     "output_type": "execute_result"
    }
   ],
   "source": [
    "# Write a NumPy program to change two array axes.\n",
    "# sample array [[1,2,3]]\n",
    "# expected output\n",
    "#  [[1]\n",
    "#   [2]\n",
    "#   [3]]\n",
    "\n",
    "nu = np.array([[1,2,3]])\n",
    "nu.reshape(3,1)"
   ]
  },
  {
   "cell_type": "code",
   "execution_count": 14,
   "id": "91e3d152",
   "metadata": {},
   "outputs": [
    {
     "name": "stdout",
     "output_type": "stream",
     "text": [
      "2418\n"
     ]
    }
   ],
   "source": [
    "# Write a NumPy program to sum all the multiples of 3 or 5 below 100.\n",
    "a = 0\n",
    "arr = np.arange(101)\n",
    "for i in arr:\n",
    "    if i%3==0 or i%5==0:\n",
    "        a+=i\n",
    "print(a)"
   ]
  },
  {
   "cell_type": "code",
   "execution_count": null,
   "id": "6c462c1e",
   "metadata": {},
   "outputs": [],
   "source": []
  },
  {
   "cell_type": "code",
   "execution_count": null,
   "id": "4b9a0472",
   "metadata": {},
   "outputs": [],
   "source": []
  },
  {
   "cell_type": "code",
   "execution_count": null,
   "id": "6f883e1b",
   "metadata": {},
   "outputs": [],
   "source": []
  },
  {
   "cell_type": "code",
   "execution_count": null,
   "id": "8ab6fb51",
   "metadata": {},
   "outputs": [],
   "source": []
  },
  {
   "cell_type": "code",
   "execution_count": null,
   "id": "f224bd2a",
   "metadata": {},
   "outputs": [],
   "source": []
  },
  {
   "cell_type": "code",
   "execution_count": null,
   "id": "65b7c0d0",
   "metadata": {},
   "outputs": [],
   "source": []
  },
  {
   "cell_type": "code",
   "execution_count": null,
   "id": "2f8698f7",
   "metadata": {},
   "outputs": [],
   "source": []
  }
 ],
 "metadata": {
  "kernelspec": {
   "display_name": "Python 3 (ipykernel)",
   "language": "python",
   "name": "python3"
  },
  "language_info": {
   "codemirror_mode": {
    "name": "ipython",
    "version": 3
   },
   "file_extension": ".py",
   "mimetype": "text/x-python",
   "name": "python",
   "nbconvert_exporter": "python",
   "pygments_lexer": "ipython3",
   "version": "3.10.9"
  }
 },
 "nbformat": 4,
 "nbformat_minor": 5
}
