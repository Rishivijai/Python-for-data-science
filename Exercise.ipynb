{
 "cells": [
  {
   "cell_type": "code",
   "execution_count": 5,
   "id": "59392d17",
   "metadata": {},
   "outputs": [
    {
     "name": "stdout",
     "output_type": "stream",
     "text": [
      "enter first number: 2\n",
      "enter second number: 3\n",
      "sum =  5 \n",
      " mult =  6\n"
     ]
    }
   ],
   "source": [
    "# Ques1.\n",
    "\n",
    "a = int(input('enter first number: '))\n",
    "b = int(input('enter second number: '))\n",
    "Sum = a + b;mult = a * b\n",
    "print('sum = ',Sum,('\\n'), 'mult = ',mult)"
   ]
  },
  {
   "cell_type": "code",
   "execution_count": 1,
   "id": "c2c62f04",
   "metadata": {},
   "outputs": [
    {
     "name": "stdout",
     "output_type": "stream",
     "text": [
      "11\n",
      "19\n"
     ]
    }
   ],
   "source": [
    "# Ques.2\n",
    "\n",
    "a = range(int(input()))\n",
    "print(a[-1]+a[-2])"
   ]
  },
  {
   "cell_type": "code",
   "execution_count": 8,
   "id": "abf77ff2",
   "metadata": {},
   "outputs": [
    {
     "name": "stdout",
     "output_type": "stream",
     "text": [
      "Enter data: hello my name is rishi singh\n",
      "lom aei ih ig\n"
     ]
    }
   ],
   "source": [
    "# Ques.3\n",
    "\n",
    "string = input('Enter data: ')\n",
    "print(string[2::2])"
   ]
  },
  {
   "cell_type": "code",
   "execution_count": 15,
   "id": "92a7e549",
   "metadata": {},
   "outputs": [
    {
     "name": "stdout",
     "output_type": "stream",
     "text": [
      "enter a list: 'rishi',45,True,87\n"
     ]
    },
    {
     "data": {
      "text/plain": [
       "False"
      ]
     },
     "execution_count": 15,
     "metadata": {},
     "output_type": "execute_result"
    }
   ],
   "source": [
    "# Ques.5\n",
    "\n",
    "a = list(input('enter a list: '))\n",
    "a[0] == a[-1]"
   ]
  },
  {
   "cell_type": "code",
   "execution_count": 19,
   "id": "262b4f1b",
   "metadata": {},
   "outputs": [
    {
     "name": "stdout",
     "output_type": "stream",
     "text": [
      "enter any data: rishi singh\n",
      "i singh\n"
     ]
    }
   ],
   "source": [
    "# Ques.4\n",
    "\n",
    "a = input('enter any data: ')\n",
    "a = a[4:]\n",
    "print(a)\n",
    "\n"
   ]
  },
  {
   "cell_type": "code",
   "execution_count": 4,
   "id": "3c985753",
   "metadata": {},
   "outputs": [
    {
     "name": "stdout",
     "output_type": "stream",
     "text": [
      "enter first number2\n",
      "enter second number4\n",
      "6 -2 8 0.5\n"
     ]
    }
   ],
   "source": [
    "a = int(input('enter first number'))\n",
    "b = int(input('enter second number'))\n",
    "sum = a+b\n",
    "min = a-b\n",
    "mult = a*b\n",
    "div = a/b\n",
    "print(sum,min,mult,div)"
   ]
  },
  {
   "cell_type": "code",
   "execution_count": 12,
   "id": "c354829e",
   "metadata": {},
   "outputs": [
    {
     "name": "stdout",
     "output_type": "stream",
     "text": [
      "5\n"
     ]
    }
   ],
   "source": [
    "o = [2,4,5,4,10,6,4,15]\n",
    "if o[0]%5==0:\n",
    "    print(o[0])\n",
    "elif o[1]%5==0:\n",
    "    print(o[1])\n",
    "elif o[2]%5==0:\n",
    "    print(o[2])\n",
    "elif o[3]%5==0:\n",
    "    print(o[3])\n",
    "elif o[4]%5==0:\n",
    "    print(o[4])\n",
    "elif o[5]%5==0:\n",
    "    print(o[5])\n",
    "elif o[6]%5==0:\n",
    "    print(o[6])\n",
    "elif o[7]%5==0:\n",
    "    print(o[7])\n",
    "else:\n",
    "    print('no number is divisible by 5')"
   ]
  },
  {
   "cell_type": "code",
   "execution_count": null,
   "id": "c94a5069",
   "metadata": {},
   "outputs": [],
   "source": []
  }
 ],
 "metadata": {
  "kernelspec": {
   "display_name": "Python 3 (ipykernel)",
   "language": "python",
   "name": "python3"
  },
  "language_info": {
   "codemirror_mode": {
    "name": "ipython",
    "version": 3
   },
   "file_extension": ".py",
   "mimetype": "text/x-python",
   "name": "python",
   "nbconvert_exporter": "python",
   "pygments_lexer": "ipython3",
   "version": "3.10.9"
  }
 },
 "nbformat": 4,
 "nbformat_minor": 5
}
