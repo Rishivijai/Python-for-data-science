{
 "cells": [
  {
   "cell_type": "code",
   "execution_count": 1,
   "id": "de9c31ce",
   "metadata": {},
   "outputs": [
    {
     "data": {
      "text/plain": [
       "2503052296720"
      ]
     },
     "execution_count": 1,
     "metadata": {},
     "output_type": "execute_result"
    }
   ],
   "source": [
    "x=10\n",
    "id(x)"
   ]
  },
  {
   "cell_type": "code",
   "execution_count": 2,
   "id": "4111d6a9",
   "metadata": {},
   "outputs": [
    {
     "data": {
      "text/plain": [
       "2503052296720"
      ]
     },
     "execution_count": 2,
     "metadata": {},
     "output_type": "execute_result"
    }
   ],
   "source": [
    "y=10\n",
    "id(y)"
   ]
  },
  {
   "cell_type": "code",
   "execution_count": 3,
   "id": "e4b97321",
   "metadata": {},
   "outputs": [
    {
     "data": {
      "text/plain": [
       "2503052296720"
      ]
     },
     "execution_count": 3,
     "metadata": {},
     "output_type": "execute_result"
    }
   ],
   "source": [
    "z=10\n",
    "id(z)"
   ]
  },
  {
   "cell_type": "code",
   "execution_count": 4,
   "id": "1a629e21",
   "metadata": {},
   "outputs": [
    {
     "data": {
      "text/plain": [
       "2503052296720"
      ]
     },
     "execution_count": 4,
     "metadata": {},
     "output_type": "execute_result"
    }
   ],
   "source": [
    "a=10\n",
    "id(10)"
   ]
  },
  {
   "cell_type": "code",
   "execution_count": 5,
   "id": "68e6a962",
   "metadata": {},
   "outputs": [
    {
     "name": "stdout",
     "output_type": "stream",
     "text": [
      "2503052296720\n"
     ]
    }
   ],
   "source": [
    "x=10\n",
    "print(id (x))"
   ]
  },
  {
   "cell_type": "code",
   "execution_count": 42,
   "id": "abaaec1e",
   "metadata": {
    "scrolled": true
   },
   "outputs": [
    {
     "ename": "SyntaxError",
     "evalue": "invalid syntax (4031942036.py, line 4)",
     "output_type": "error",
     "traceback": [
      "\u001b[1;36m  Cell \u001b[1;32mIn[42], line 4\u001b[1;36m\u001b[0m\n\u001b[1;33m    print(id(x);id(y);id(z))\u001b[0m\n\u001b[1;37m               ^\u001b[0m\n\u001b[1;31mSyntaxError\u001b[0m\u001b[1;31m:\u001b[0m invalid syntax\n"
     ]
    }
   ],
   "source": [
    "x=10\n",
    "y=12\n",
    "z=14\n",
    "print(id(x);id(y);id(z))"
   ]
  },
  {
   "cell_type": "code",
   "execution_count": 9,
   "id": "584723e5",
   "metadata": {},
   "outputs": [
    {
     "data": {
      "text/plain": [
       "2503052296720"
      ]
     },
     "execution_count": 9,
     "metadata": {},
     "output_type": "execute_result"
    }
   ],
   "source": [
    "id(x);id(y);id(z)"
   ]
  },
  {
   "cell_type": "code",
   "execution_count": 12,
   "id": "7246e49e",
   "metadata": {},
   "outputs": [],
   "source": [
    "z=12"
   ]
  },
  {
   "cell_type": "code",
   "execution_count": 13,
   "id": "27863655",
   "metadata": {},
   "outputs": [
    {
     "data": {
      "text/plain": [
       "2503052296784"
      ]
     },
     "execution_count": 13,
     "metadata": {},
     "output_type": "execute_result"
    }
   ],
   "source": [
    "id(x);id(y);id(z)"
   ]
  },
  {
   "cell_type": "code",
   "execution_count": 14,
   "id": "cd67b5f3",
   "metadata": {},
   "outputs": [],
   "source": [
    "p=10"
   ]
  },
  {
   "cell_type": "code",
   "execution_count": 15,
   "id": "22d9cd8f",
   "metadata": {},
   "outputs": [
    {
     "name": "stdout",
     "output_type": "stream",
     "text": [
      "10\n"
     ]
    }
   ],
   "source": [
    "print(p)"
   ]
  },
  {
   "cell_type": "code",
   "execution_count": 16,
   "id": "6e760ee5",
   "metadata": {},
   "outputs": [],
   "source": [
    "p=11"
   ]
  },
  {
   "cell_type": "code",
   "execution_count": 17,
   "id": "f937772a",
   "metadata": {},
   "outputs": [
    {
     "name": "stdout",
     "output_type": "stream",
     "text": [
      "11\n"
     ]
    }
   ],
   "source": [
    "print(p)"
   ]
  },
  {
   "cell_type": "code",
   "execution_count": 18,
   "id": "261ccb43",
   "metadata": {},
   "outputs": [],
   "source": [
    "p=5;P=90"
   ]
  },
  {
   "cell_type": "code",
   "execution_count": 19,
   "id": "5fa9ec98",
   "metadata": {},
   "outputs": [
    {
     "name": "stdout",
     "output_type": "stream",
     "text": [
      "5\n"
     ]
    }
   ],
   "source": [
    "print(p)"
   ]
  },
  {
   "cell_type": "code",
   "execution_count": 20,
   "id": "26964361",
   "metadata": {},
   "outputs": [
    {
     "name": "stdout",
     "output_type": "stream",
     "text": [
      "90\n"
     ]
    }
   ],
   "source": [
    "print(P)"
   ]
  },
  {
   "cell_type": "markdown",
   "id": "0bd3d7f3",
   "metadata": {},
   "source": [
    "X=10 it is in upeer case so this capital X is treated or taken as constant in python."
   ]
  },
  {
   "cell_type": "markdown",
   "id": "64b09aaa",
   "metadata": {},
   "source": [
    "123=425"
   ]
  },
  {
   "cell_type": "code",
   "execution_count": 21,
   "id": "b91eca35",
   "metadata": {},
   "outputs": [],
   "source": [
    "total_=10"
   ]
  },
  {
   "cell_type": "code",
   "execution_count": 22,
   "id": "fd7c3be7",
   "metadata": {},
   "outputs": [
    {
     "ename": "SyntaxError",
     "evalue": "invalid syntax (1645396272.py, line 1)",
     "output_type": "error",
     "traceback": [
      "\u001b[1;36m  Cell \u001b[1;32mIn[22], line 1\u001b[1;36m\u001b[0m\n\u001b[1;33m    @=10\u001b[0m\n\u001b[1;37m    ^\u001b[0m\n\u001b[1;31mSyntaxError\u001b[0m\u001b[1;31m:\u001b[0m invalid syntax\n"
     ]
    }
   ],
   "source": [
    "@=10"
   ]
  },
  {
   "cell_type": "code",
   "execution_count": 23,
   "id": "9445f664",
   "metadata": {},
   "outputs": [
    {
     "ename": "SyntaxError",
     "evalue": "invalid decimal literal (49084493.py, line 1)",
     "output_type": "error",
     "traceback": [
      "\u001b[1;36m  Cell \u001b[1;32mIn[23], line 1\u001b[1;36m\u001b[0m\n\u001b[1;33m    1student=\"DISHA\"\u001b[0m\n\u001b[1;37m    ^\u001b[0m\n\u001b[1;31mSyntaxError\u001b[0m\u001b[1;31m:\u001b[0m invalid decimal literal\n"
     ]
    }
   ],
   "source": [
    "1student=\"DISHA\""
   ]
  },
  {
   "cell_type": "code",
   "execution_count": 29,
   "id": "d831ed6d",
   "metadata": {},
   "outputs": [],
   "source": [
    "student_1=(\"DISHA\")"
   ]
  },
  {
   "cell_type": "code",
   "execution_count": 35,
   "id": "6ab62676",
   "metadata": {},
   "outputs": [
    {
     "name": "stdout",
     "output_type": "stream",
     "text": [
      "disha\n"
     ]
    }
   ],
   "source": [
    "student_1=\"disha\"\n",
    "print(student_1)"
   ]
  },
  {
   "cell_type": "code",
   "execution_count": 34,
   "id": "e2f908a3",
   "metadata": {},
   "outputs": [
    {
     "data": {
      "text/plain": [
       "2503052296848"
      ]
     },
     "execution_count": 34,
     "metadata": {},
     "output_type": "execute_result"
    }
   ],
   "source": [
    "x=10;y=12;z=14\n",
    "id(x);id(y);id(z)"
   ]
  },
  {
   "cell_type": "code",
   "execution_count": 44,
   "id": "21457b84",
   "metadata": {},
   "outputs": [
    {
     "data": {
      "text/plain": [
       "-11.0"
      ]
     },
     "execution_count": 44,
     "metadata": {},
     "output_type": "execute_result"
    }
   ],
   "source": [
    "2*4/2-15"
   ]
  },
  {
   "cell_type": "code",
   "execution_count": 45,
   "id": "da377ca5",
   "metadata": {},
   "outputs": [
    {
     "ename": "NameError",
     "evalue": "name 'true' is not defined",
     "output_type": "error",
     "traceback": [
      "\u001b[1;31m---------------------------------------------------------------------------\u001b[0m",
      "\u001b[1;31mNameError\u001b[0m                                 Traceback (most recent call last)",
      "Cell \u001b[1;32mIn[45], line 1\u001b[0m\n\u001b[1;32m----> 1\u001b[0m \u001b[43mtrue\u001b[49m \u001b[38;5;129;01mand\u001b[39;00m false\n",
      "\u001b[1;31mNameError\u001b[0m: name 'true' is not defined"
     ]
    }
   ],
   "source": [
    "true and false"
   ]
  },
  {
   "cell_type": "code",
   "execution_count": 46,
   "id": "f9da328d",
   "metadata": {},
   "outputs": [
    {
     "name": "stdout",
     "output_type": "stream",
     "text": [
      "False\n"
     ]
    }
   ],
   "source": [
    "print(not 10)"
   ]
  },
  {
   "cell_type": "code",
   "execution_count": 48,
   "id": "8eae2406",
   "metadata": {},
   "outputs": [
    {
     "name": "stdout",
     "output_type": "stream",
     "text": [
      "False\n"
     ]
    }
   ],
   "source": [
    "print(not 1)"
   ]
  },
  {
   "cell_type": "markdown",
   "id": "a555172d",
   "metadata": {},
   "source": [
    "in the case of airthmatic logical\"not\" always return false for non zero value."
   ]
  },
  {
   "cell_type": "markdown",
   "id": "a4f0e2f9",
   "metadata": {},
   "source": [
    "# PYTHON OPERATOR PRECEDENCE"
   ]
  },
  {
   "cell_type": "code",
   "execution_count": 51,
   "id": "16661823",
   "metadata": {},
   "outputs": [
    {
     "data": {
      "text/plain": [
       "True"
      ]
     },
     "execution_count": 51,
     "metadata": {},
     "output_type": "execute_result"
    }
   ],
   "source": [
    "5 and True"
   ]
  },
  {
   "cell_type": "code",
   "execution_count": 52,
   "id": "7f20e337",
   "metadata": {},
   "outputs": [
    {
     "data": {
      "text/plain": [
       "False"
      ]
     },
     "execution_count": 52,
     "metadata": {},
     "output_type": "execute_result"
    }
   ],
   "source": [
    "5 and False"
   ]
  },
  {
   "cell_type": "code",
   "execution_count": 53,
   "id": "d7f14ebf",
   "metadata": {},
   "outputs": [
    {
     "name": "stdout",
     "output_type": "stream",
     "text": [
      "24\n"
     ]
    }
   ],
   "source": [
    "print((10-4)*2+ (10+2))"
   ]
  },
  {
   "cell_type": "code",
   "execution_count": 54,
   "id": "0562f33e",
   "metadata": {},
   "outputs": [
    {
     "name": "stdout",
     "output_type": "stream",
     "text": [
      "24\n"
     ]
    },
    {
     "data": {
      "text/plain": [
       "True"
      ]
     },
     "execution_count": 54,
     "metadata": {},
     "output_type": "execute_result"
    }
   ],
   "source": [
    "print((10-4)*2+ (10+2)) and True or False or True"
   ]
  },
  {
   "cell_type": "code",
   "execution_count": null,
   "id": "25fb01b7",
   "metadata": {},
   "outputs": [],
   "source": []
  }
 ],
 "metadata": {
  "kernelspec": {
   "display_name": "Python 3 (ipykernel)",
   "language": "python",
   "name": "python3"
  },
  "language_info": {
   "codemirror_mode": {
    "name": "ipython",
    "version": 3
   },
   "file_extension": ".py",
   "mimetype": "text/x-python",
   "name": "python",
   "nbconvert_exporter": "python",
   "pygments_lexer": "ipython3",
   "version": "3.10.9"
  }
 },
 "nbformat": 4,
 "nbformat_minor": 5
}
