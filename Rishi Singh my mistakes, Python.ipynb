{
 "cells": [
  {
   "cell_type": "markdown",
   "id": "95133883",
   "metadata": {},
   "source": [
    "# FATHER OF PYTHON - Guido Van Rossum in (1980) worked on ABC programming language and made a new command line to which he named PYTHON which was released in 1991 as Python 0.9.0. in 2000 python 2.0 was released. in 2008 python 3.0 was released ,,,,current version- 3.11.4"
   ]
  },
  {
   "cell_type": "markdown",
   "id": "e5614368",
   "metadata": {},
   "source": [
    "#python is a high level general purpose programming language (GPL)\n",
    "a) GPL - \n",
    "b) DSL - Domain specific programming language, eg -SQL and HTML\n",
    "\n",
    "functions of DSL can be performed by GPL like Python"
   ]
  },
  {
   "cell_type": "markdown",
   "id": "16543e05",
   "metadata": {},
   "source": [
    "Dynamically Typed - in python coding there is no requirement of telling during typing that which data type we are using"
   ]
  },
  {
   "cell_type": "markdown",
   "id": "985a5947",
   "metadata": {},
   "source": [
    "High Level Programming Language - easy to understand by humans\n",
    "                                  eg - python, C , C++, etc\n",
    "Low Level Programming Language - hard to understand                               \n",
    "                                  eg - asembly language and machine code\n",
    "                                  \n",
    "CONCLUSION - Python is a high level programming language and GPL and is dynimaclly typed                                  "
   ]
  },
  {
   "cell_type": "markdown",
   "id": "a25d2133",
   "metadata": {},
   "source": [
    "Types of IDE (integrated development environment)\n",
    "is a software where you can write a code\n",
    "eg - jupyter notebook, jupyter lab, spyder, pycharm"
   ]
  },
  {
   "cell_type": "code",
   "execution_count": null,
   "id": "bd59da44",
   "metadata": {},
   "outputs": [],
   "source": [
    "print() # print can only take arguments that are pre-defined\n",
    "     "
   ]
  },
  {
   "cell_type": "code",
   "execution_count": 21,
   "id": "4d7d3b27",
   "metadata": {},
   "outputs": [
    {
     "name": "stdout",
     "output_type": "stream",
     "text": [
      "this is a class of ai \n",
      " which is very usefull and easy to learn. its second day of class\n",
      "in haldwani\n"
     ]
    }
   ],
   "source": [
    "x = \"\"\"this is a class of ai \\n which is very usefull \\\n",
    "and easy to learn. its second day of class\n",
    "in haldwani\"\"\"\n",
    "\n",
    "print(x)"
   ]
  },
  {
   "cell_type": "code",
   "execution_count": 6,
   "id": "1edc4762",
   "metadata": {},
   "outputs": [
    {
     "name": "stdout",
     "output_type": "stream",
     "text": [
      "2\n"
     ]
    }
   ],
   "source": [
    "x = 7\n",
    "y = 20\n",
    "\n",
    "z = y//x\n",
    "print(z)\n",
    "\n",
    "'gives the result by removing the decimal part....floor division'"
   ]
  },
  {
   "cell_type": "code",
   "execution_count": 8,
   "id": "08b11beb",
   "metadata": {},
   "outputs": [
    {
     "name": "stdout",
     "output_type": "stream",
     "text": [
      "5\n"
     ]
    }
   ],
   "source": [
    "x = 20\n",
    "y = 5\n",
    "\n",
    "z = y%x\n",
    "print(z)"
   ]
  },
  {
   "cell_type": "code",
   "execution_count": 9,
   "id": "49379dd8",
   "metadata": {},
   "outputs": [
    {
     "data": {
      "text/plain": [
       "1"
      ]
     },
     "execution_count": 9,
     "metadata": {},
     "output_type": "execute_result"
    }
   ],
   "source": [
    "5%2\n",
    "\"gives the remainder....modulo\""
   ]
  },
  {
   "cell_type": "code",
   "execution_count": 11,
   "id": "fd539725",
   "metadata": {},
   "outputs": [
    {
     "data": {
      "text/plain": [
       "'50+20'"
      ]
     },
     "execution_count": 11,
     "metadata": {},
     "output_type": "execute_result"
    }
   ],
   "source": [
    "\"50+20\"\n",
    "\"if calculation is performed inside quotes it will print as it is\""
   ]
  },
  {
   "cell_type": "code",
   "execution_count": 13,
   "id": "899586f2",
   "metadata": {},
   "outputs": [
    {
     "name": "stdout",
     "output_type": "stream",
     "text": [
      "x\n"
     ]
    }
   ],
   "source": [
    "x = 20+30\n",
    "\n",
    "print   ()"
   ]
  },
  {
   "cell_type": "code",
   "execution_count": 14,
   "id": "5768ccfc",
   "metadata": {},
   "outputs": [
    {
     "data": {
      "text/plain": [
       "True"
      ]
     },
     "execution_count": 14,
     "metadata": {},
     "output_type": "execute_result"
    }
   ],
   "source": [
    "True"
   ]
  },
  {
   "cell_type": "code",
   "execution_count": 15,
   "id": "8c1d78b1",
   "metadata": {},
   "outputs": [
    {
     "data": {
      "text/plain": [
       "False"
      ]
     },
     "execution_count": 15,
     "metadata": {},
     "output_type": "execute_result"
    }
   ],
   "source": [
    "False"
   ]
  },
  {
   "cell_type": "code",
   "execution_count": 16,
   "id": "1acc74a0",
   "metadata": {},
   "outputs": [
    {
     "ename": "NameError",
     "evalue": "name 'true' is not defined",
     "output_type": "error",
     "traceback": [
      "\u001b[1;31m---------------------------------------------------------------------------\u001b[0m",
      "\u001b[1;31mNameError\u001b[0m                                 Traceback (most recent call last)",
      "Cell \u001b[1;32mIn[16], line 1\u001b[0m\n\u001b[1;32m----> 1\u001b[0m \u001b[43mtrue\u001b[49m\n",
      "\u001b[1;31mNameError\u001b[0m: name 'true' is not defined"
     ]
    }
   ],
   "source": [
    "true"
   ]
  },
  {
   "cell_type": "code",
   "execution_count": 17,
   "id": "3f95e1f9",
   "metadata": {},
   "outputs": [
    {
     "ename": "NameError",
     "evalue": "name 'false' is not defined",
     "output_type": "error",
     "traceback": [
      "\u001b[1;31m---------------------------------------------------------------------------\u001b[0m",
      "\u001b[1;31mNameError\u001b[0m                                 Traceback (most recent call last)",
      "Cell \u001b[1;32mIn[17], line 1\u001b[0m\n\u001b[1;32m----> 1\u001b[0m \u001b[43mfalse\u001b[49m\n",
      "\u001b[1;31mNameError\u001b[0m: name 'false' is not defined"
     ]
    }
   ],
   "source": [
    "false"
   ]
  },
  {
   "cell_type": "code",
   "execution_count": 18,
   "id": "a3cc8999",
   "metadata": {},
   "outputs": [
    {
     "ename": "NameError",
     "evalue": "name 'FALSE' is not defined",
     "output_type": "error",
     "traceback": [
      "\u001b[1;31m---------------------------------------------------------------------------\u001b[0m",
      "\u001b[1;31mNameError\u001b[0m                                 Traceback (most recent call last)",
      "Cell \u001b[1;32mIn[18], line 1\u001b[0m\n\u001b[1;32m----> 1\u001b[0m \u001b[43mFALSE\u001b[49m\n",
      "\u001b[1;31mNameError\u001b[0m: name 'FALSE' is not defined"
     ]
    }
   ],
   "source": [
    "FALSE"
   ]
  },
  {
   "cell_type": "markdown",
   "id": "7adea3af",
   "metadata": {},
   "source": [
    "Python is case sensetive. therefore if we write True in wrong form like 'true' or TRUE it will throw error."
   ]
  },
  {
   "cell_type": "markdown",
   "id": "79ee90f9",
   "metadata": {},
   "source": [
    "any number written with j is a complex number like 5 + 2j"
   ]
  },
  {
   "cell_type": "code",
   "execution_count": 19,
   "id": "d872f089",
   "metadata": {},
   "outputs": [
    {
     "data": {
      "text/plain": [
       "(30+45j)"
      ]
     },
     "execution_count": 19,
     "metadata": {},
     "output_type": "execute_result"
    }
   ],
   "source": [
    "30+45j"
   ]
  },
  {
   "cell_type": "code",
   "execution_count": 20,
   "id": "55d64fe2",
   "metadata": {},
   "outputs": [
    {
     "data": {
      "text/plain": [
       "60j"
      ]
     },
     "execution_count": 20,
     "metadata": {},
     "output_type": "execute_result"
    }
   ],
   "source": [
    "30j * 2"
   ]
  },
  {
   "cell_type": "code",
   "execution_count": 1,
   "id": "3fb1a392",
   "metadata": {},
   "outputs": [
    {
     "data": {
      "text/plain": [
       "(62-22j)"
      ]
     },
     "execution_count": 1,
     "metadata": {},
     "output_type": "execute_result"
    }
   ],
   "source": [
    "62-22j"
   ]
  },
  {
   "cell_type": "code",
   "execution_count": 2,
   "id": "25e452cb",
   "metadata": {},
   "outputs": [
    {
     "ename": "SyntaxError",
     "evalue": "invalid decimal literal (1136761191.py, line 1)",
     "output_type": "error",
     "traceback": [
      "\u001b[1;36m  Cell \u001b[1;32mIn[2], line 1\u001b[1;36m\u001b[0m\n\u001b[1;33m    43+13k\u001b[0m\n\u001b[1;37m        ^\u001b[0m\n\u001b[1;31mSyntaxError\u001b[0m\u001b[1;31m:\u001b[0m invalid decimal literal\n"
     ]
    }
   ],
   "source": [
    "43+13k"
   ]
  },
  {
   "cell_type": "code",
   "execution_count": 4,
   "id": "0b1d59bc",
   "metadata": {},
   "outputs": [
    {
     "name": "stdout",
     "output_type": "stream",
     "text": [
      "1\n"
     ]
    },
    {
     "ename": "NameError",
     "evalue": "name 'x' is not defined",
     "output_type": "error",
     "traceback": [
      "\u001b[1;31m---------------------------------------------------------------------------\u001b[0m",
      "\u001b[1;31mNameError\u001b[0m                                 Traceback (most recent call last)",
      "Cell \u001b[1;32mIn[4], line 10\u001b[0m\n\u001b[0;32m      6\u001b[0m \u001b[38;5;28mprint\u001b[39m(z)\n\u001b[0;32m      8\u001b[0m \u001b[38;5;28;01mdel\u001b[39;00m(x)\n\u001b[1;32m---> 10\u001b[0m \u001b[38;5;28mprint\u001b[39m(\u001b[43mx\u001b[49m)\n",
      "\u001b[1;31mNameError\u001b[0m: name 'x' is not defined"
     ]
    }
   ],
   "source": [
    "x = 2\n",
    "y = 3\n",
    "\n",
    "z = y//x\n",
    "\n",
    "print(z)\n",
    "\n",
    "# hello my name is rishi\n",
    "\n",
    "del(x)\n",
    "\n",
    "print(x)"
   ]
  },
  {
   "cell_type": "code",
   "execution_count": 3,
   "id": "a811771f",
   "metadata": {},
   "outputs": [
    {
     "name": "stdout",
     "output_type": "stream",
     "text": [
      "rishi\n"
     ]
    }
   ],
   "source": [
    "print('rishi')"
   ]
  },
  {
   "cell_type": "code",
   "execution_count": 7,
   "id": "51682105",
   "metadata": {},
   "outputs": [
    {
     "name": "stdout",
     "output_type": "stream",
     "text": [
      "9\n"
     ]
    }
   ],
   "source": [
    "x=3**2\n",
    "\n",
    "print(x)"
   ]
  },
  {
   "cell_type": "markdown",
   "id": "df1fea6b",
   "metadata": {},
   "source": [
    "# experiments with print"
   ]
  },
  {
   "cell_type": "code",
   "execution_count": 1,
   "id": "f2160e2d",
   "metadata": {},
   "outputs": [
    {
     "name": "stdout",
     "output_type": "stream",
     "text": [
      "rishi\n"
     ]
    }
   ],
   "source": [
    "print('rishi')"
   ]
  },
  {
   "cell_type": "code",
   "execution_count": 3,
   "id": "5dbecfa3",
   "metadata": {},
   "outputs": [
    {
     "ename": "NameError",
     "evalue": "name 'rishi' is not defined",
     "output_type": "error",
     "traceback": [
      "\u001b[1;31m---------------------------------------------------------------------------\u001b[0m",
      "\u001b[1;31mNameError\u001b[0m                                 Traceback (most recent call last)",
      "Cell \u001b[1;32mIn[3], line 1\u001b[0m\n\u001b[1;32m----> 1\u001b[0m \u001b[38;5;28mprint\u001b[39m(\u001b[43mrishi\u001b[49m)\n",
      "\u001b[1;31mNameError\u001b[0m: name 'rishi' is not defined"
     ]
    }
   ],
   "source": [
    "print(rishi) # printing name without quotation"
   ]
  },
  {
   "cell_type": "code",
   "execution_count": 4,
   "id": "57ae4f5a",
   "metadata": {},
   "outputs": [
    {
     "ename": "NameError",
     "evalue": "name 'r' is not defined",
     "output_type": "error",
     "traceback": [
      "\u001b[1;31m---------------------------------------------------------------------------\u001b[0m",
      "\u001b[1;31mNameError\u001b[0m                                 Traceback (most recent call last)",
      "Cell \u001b[1;32mIn[4], line 1\u001b[0m\n\u001b[1;32m----> 1\u001b[0m \u001b[38;5;28mprint\u001b[39m(\u001b[43mr\u001b[49m \u001b[38;5;241m+\u001b[39m i \u001b[38;5;241m+\u001b[39m s \u001b[38;5;241m+\u001b[39m h \u001b[38;5;241m+\u001b[39m i)\n",
      "\u001b[1;31mNameError\u001b[0m: name 'r' is not defined"
     ]
    }
   ],
   "source": [
    "print(r + i + s + h + i) # adding alphabets without quotation"
   ]
  },
  {
   "cell_type": "code",
   "execution_count": 5,
   "id": "9bb39205",
   "metadata": {},
   "outputs": [
    {
     "name": "stdout",
     "output_type": "stream",
     "text": [
      "rishi\n"
     ]
    }
   ],
   "source": [
    "print('r'+'i'+'s'+'h'+'i') # adding alphabets with quotaion"
   ]
  },
  {
   "cell_type": "code",
   "execution_count": 8,
   "id": "759f2b23",
   "metadata": {},
   "outputs": [
    {
     "name": "stdout",
     "output_type": "stream",
     "text": [
      "rishi\n"
     ]
    }
   ],
   "source": [
    "print('r'+'i'+'s'        'h'+'i') # using space while adding alphabets"
   ]
  },
  {
   "cell_type": "code",
   "execution_count": 9,
   "id": "9e385587",
   "metadata": {},
   "outputs": [
    {
     "name": "stdout",
     "output_type": "stream",
     "text": [
      "rishi\n"
     ]
    }
   ],
   "source": [
    "print('r''i''s''h''i')"
   ]
  },
  {
   "cell_type": "code",
   "execution_count": 12,
   "id": "9302dd1b",
   "metadata": {},
   "outputs": [
    {
     "ename": "SyntaxError",
     "evalue": "invalid syntax (2008431986.py, line 1)",
     "output_type": "error",
     "traceback": [
      "\u001b[1;36m  Cell \u001b[1;32mIn[12], line 1\u001b[1;36m\u001b[0m\n\u001b[1;33m    print('r'+'i'+; 's'+'h'+'i')\u001b[0m\n\u001b[1;37m                  ^\u001b[0m\n\u001b[1;31mSyntaxError\u001b[0m\u001b[1;31m:\u001b[0m invalid syntax\n"
     ]
    }
   ],
   "source": [
    "print('r'+'i'; 's'+'h'+'i')"
   ]
  },
  {
   "cell_type": "code",
   "execution_count": 21,
   "id": "d01be276",
   "metadata": {},
   "outputs": [
    {
     "name": "stdout",
     "output_type": "stream",
     "text": [
      "rishi;            rahul\n"
     ]
    }
   ],
   "source": [
    "print('rishi;            rahul')"
   ]
  },
  {
   "cell_type": "code",
   "execution_count": 17,
   "id": "3fe2334a",
   "metadata": {},
   "outputs": [
    {
     "ename": "TypeError",
     "evalue": "can only concatenate str (not \"int\") to str",
     "output_type": "error",
     "traceback": [
      "\u001b[1;31m---------------------------------------------------------------------------\u001b[0m",
      "\u001b[1;31mTypeError\u001b[0m                                 Traceback (most recent call last)",
      "Cell \u001b[1;32mIn[17], line 1\u001b[0m\n\u001b[1;32m----> 1\u001b[0m \u001b[38;5;28mprint\u001b[39m(\u001b[38;5;124;43m'\u001b[39;49m\u001b[38;5;124;43mr\u001b[39;49m\u001b[38;5;124;43m'\u001b[39;49m\u001b[43m \u001b[49m\u001b[38;5;241;43m+\u001b[39;49m\u001b[43m \u001b[49m\u001b[38;5;241;43m8\u001b[39;49m)\n",
      "\u001b[1;31mTypeError\u001b[0m: can only concatenate str (not \"int\") to str"
     ]
    }
   ],
   "source": [
    "print('r' + 8)"
   ]
  },
  {
   "cell_type": "code",
   "execution_count": 44,
   "id": "e469b6a3",
   "metadata": {},
   "outputs": [
    {
     "name": "stdout",
     "output_type": "stream",
     "text": [
      "r8\n"
     ]
    }
   ],
   "source": [
    "print('r'+'8')"
   ]
  },
  {
   "cell_type": "code",
   "execution_count": 22,
   "id": "abc32614",
   "metadata": {},
   "outputs": [
    {
     "name": "stdout",
     "output_type": "stream",
     "text": [
      "r + i; s + h + i\n"
     ]
    }
   ],
   "source": [
    "print('r + i; s + h + i')"
   ]
  },
  {
   "cell_type": "code",
   "execution_count": 23,
   "id": "e00ee35f",
   "metadata": {},
   "outputs": [
    {
     "name": "stdout",
     "output_type": "stream",
     "text": [
      "r,i,s+h,i\n"
     ]
    }
   ],
   "source": [
    "print('r,i,s+h,i')"
   ]
  },
  {
   "cell_type": "code",
   "execution_count": 25,
   "id": "36c49726",
   "metadata": {},
   "outputs": [
    {
     "name": "stdout",
     "output_type": "stream",
     "text": [
      "rishiisintheclassroom\n"
     ]
    }
   ],
   "source": [
    "print('rishi' + 'is'        'in' + 'the' + 'classroom')"
   ]
  },
  {
   "cell_type": "code",
   "execution_count": 27,
   "id": "2bfc58dd",
   "metadata": {},
   "outputs": [
    {
     "name": "stdout",
     "output_type": "stream",
     "text": [
      "rishi is in the;                     clasroom\n"
     ]
    }
   ],
   "source": [
    "print('rishi is in the;                     clasroom')"
   ]
  },
  {
   "cell_type": "code",
   "execution_count": 28,
   "id": "4c7c9c46",
   "metadata": {},
   "outputs": [
    {
     "ename": "SyntaxError",
     "evalue": "unterminated string literal (detected at line 1) (3256453279.py, line 1)",
     "output_type": "error",
     "traceback": [
      "\u001b[1;36m  Cell \u001b[1;32mIn[28], line 1\u001b[1;36m\u001b[0m\n\u001b[1;33m    print('r + i + s  h + i)\u001b[0m\n\u001b[1;37m          ^\u001b[0m\n\u001b[1;31mSyntaxError\u001b[0m\u001b[1;31m:\u001b[0m unterminated string literal (detected at line 1)\n"
     ]
    }
   ],
   "source": [
    "print('r + i + s  h + i)"
   ]
  },
  {
   "cell_type": "code",
   "execution_count": 29,
   "id": "5efcd6ca",
   "metadata": {},
   "outputs": [
    {
     "name": "stdout",
     "output_type": "stream",
     "text": [
      "r + i + s h + i\n"
     ]
    }
   ],
   "source": [
    "print('r + i + s h + i')"
   ]
  },
  {
   "cell_type": "code",
   "execution_count": 30,
   "id": "cbb0664c",
   "metadata": {},
   "outputs": [
    {
     "name": "stdout",
     "output_type": "stream",
     "text": [
      "17\n"
     ]
    }
   ],
   "source": [
    "print     (8+9)"
   ]
  },
  {
   "cell_type": "code",
   "execution_count": 31,
   "id": "68269dce",
   "metadata": {},
   "outputs": [
    {
     "ename": "NameError",
     "evalue": "name 'j' is not defined",
     "output_type": "error",
     "traceback": [
      "\u001b[1;31m---------------------------------------------------------------------------\u001b[0m",
      "\u001b[1;31mNameError\u001b[0m                                 Traceback (most recent call last)",
      "Cell \u001b[1;32mIn[31], line 1\u001b[0m\n\u001b[1;32m----> 1\u001b[0m \u001b[38;5;28mprint\u001b[39m(\u001b[38;5;241m9\u001b[39m \u001b[38;5;241m+\u001b[39m \u001b[38;5;241m4\u001b[39m \u001b[38;5;241m+\u001b[39m \u001b[43mj\u001b[49m)\n",
      "\u001b[1;31mNameError\u001b[0m: name 'j' is not defined"
     ]
    }
   ],
   "source": [
    "print(9 + 4 + j)"
   ]
  },
  {
   "cell_type": "code",
   "execution_count": 32,
   "id": "bce64c2c",
   "metadata": {},
   "outputs": [
    {
     "ename": "TypeError",
     "evalue": "unsupported operand type(s) for +: 'int' and 'str'",
     "output_type": "error",
     "traceback": [
      "\u001b[1;31m---------------------------------------------------------------------------\u001b[0m",
      "\u001b[1;31mTypeError\u001b[0m                                 Traceback (most recent call last)",
      "Cell \u001b[1;32mIn[32], line 1\u001b[0m\n\u001b[1;32m----> 1\u001b[0m \u001b[38;5;28mprint\u001b[39m(\u001b[38;5;241;43m9\u001b[39;49m\u001b[43m \u001b[49m\u001b[38;5;241;43m+\u001b[39;49m\u001b[43m \u001b[49m\u001b[38;5;241;43m1\u001b[39;49m\u001b[43m \u001b[49m\u001b[38;5;241;43m+\u001b[39;49m\u001b[43m \u001b[49m\u001b[38;5;124;43m'\u001b[39;49m\u001b[38;5;124;43mR\u001b[39;49m\u001b[38;5;124;43m'\u001b[39;49m)\n",
      "\u001b[1;31mTypeError\u001b[0m: unsupported operand type(s) for +: 'int' and 'str'"
     ]
    }
   ],
   "source": [
    "print(9 + 1 + 'R')"
   ]
  },
  {
   "cell_type": "markdown",
   "id": "d66c1271",
   "metadata": {},
   "source": [
    "# experiments with hash"
   ]
  },
  {
   "cell_type": "code",
   "execution_count": 33,
   "id": "406983b6",
   "metadata": {},
   "outputs": [],
   "source": [
    "# this is my first comment "
   ]
  },
  {
   "cell_type": "code",
   "execution_count": 34,
   "id": "5dd4d440",
   "metadata": {},
   "outputs": [],
   "source": [
    "## using double hash"
   ]
  },
  {
   "cell_type": "code",
   "execution_count": 35,
   "id": "8f7d18ca",
   "metadata": {},
   "outputs": [],
   "source": [
    "### using triple hash"
   ]
  },
  {
   "cell_type": "code",
   "execution_count": 36,
   "id": "a40fd002",
   "metadata": {},
   "outputs": [],
   "source": [
    "#                                                          comment giving space"
   ]
  },
  {
   "cell_type": "code",
   "execution_count": 37,
   "id": "c189a63d",
   "metadata": {},
   "outputs": [
    {
     "ename": "SyntaxError",
     "evalue": "invalid syntax (81652729.py, line 2)",
     "output_type": "error",
     "traceback": [
      "\u001b[1;36m  Cell \u001b[1;32mIn[37], line 2\u001b[1;36m\u001b[0m\n\u001b[1;33m    hello, my name is Rishi\u001b[0m\n\u001b[1;37m              ^\u001b[0m\n\u001b[1;31mSyntaxError\u001b[0m\u001b[1;31m:\u001b[0m invalid syntax\n"
     ]
    }
   ],
   "source": [
    "#          commenting multiline with single hash\n",
    "hello, my name is Rishi"
   ]
  },
  {
   "cell_type": "code",
   "execution_count": 38,
   "id": "386dd3e6",
   "metadata": {},
   "outputs": [
    {
     "ename": "NameError",
     "evalue": "name 'hello' is not defined",
     "output_type": "error",
     "traceback": [
      "\u001b[1;31m---------------------------------------------------------------------------\u001b[0m",
      "\u001b[1;31mNameError\u001b[0m                                 Traceback (most recent call last)",
      "Cell \u001b[1;32mIn[38], line 2\u001b[0m\n\u001b[0;32m      1\u001b[0m \u001b[38;5;66;03m## commenting multiline with double hash\u001b[39;00m\n\u001b[1;32m----> 2\u001b[0m \u001b[43mhello\u001b[49m\n",
      "\u001b[1;31mNameError\u001b[0m: name 'hello' is not defined"
     ]
    }
   ],
   "source": [
    "## commenting multiline with double hash\n",
    "hello"
   ]
  },
  {
   "cell_type": "code",
   "execution_count": 39,
   "id": "ecbd4e93",
   "metadata": {},
   "outputs": [
    {
     "ename": "NameError",
     "evalue": "name 'threrfore' is not defined",
     "output_type": "error",
     "traceback": [
      "\u001b[1;31m---------------------------------------------------------------------------\u001b[0m",
      "\u001b[1;31mNameError\u001b[0m                                 Traceback (most recent call last)",
      "Cell \u001b[1;32mIn[39], line 4\u001b[0m\n\u001b[0;32m      1\u001b[0m \u001b[38;5;66;03m### commenting with tripple hash\u001b[39;00m\n\u001b[1;32m----> 4\u001b[0m \u001b[43mthrerfore\u001b[49m\n",
      "\u001b[1;31mNameError\u001b[0m: name 'threrfore' is not defined"
     ]
    }
   ],
   "source": [
    "### commenting with tripple hash\n",
    "\n",
    "\n",
    "threrfore # is used for single line comment"
   ]
  },
  {
   "cell_type": "code",
   "execution_count": 43,
   "id": "bed3d03f",
   "metadata": {},
   "outputs": [
    {
     "ename": "SyntaxError",
     "evalue": "invalid syntax (2370417809.py, line 3)",
     "output_type": "error",
     "traceback": [
      "\u001b[1;36m  Cell \u001b[1;32mIn[43], line 3\u001b[1;36m\u001b[0m\n\u001b[1;33m    same line can have two comments\u001b[0m\n\u001b[1;37m         ^\u001b[0m\n\u001b[1;31mSyntaxError\u001b[0m\u001b[1;31m:\u001b[0m invalid syntax\n"
     ]
    }
   ],
   "source": [
    "###  hello, my name is Rishi Singh and i have joined this class of Data Science in VIJAI ### And this is a great place to enhance your skill\n",
    "\n",
    "same line can have two comments"
   ]
  },
  {
   "cell_type": "markdown",
   "id": "9cdbe5fe",
   "metadata": {},
   "source": [
    "# experiments with forward and backword slash"
   ]
  },
  {
   "cell_type": "code",
   "execution_count": 58,
   "id": "7d0d2ec5",
   "metadata": {},
   "outputs": [
    {
     "name": "stdout",
     "output_type": "stream",
     "text": [
      "we will become data scientist in next one year/ and will study about AI\n"
     ]
    }
   ],
   "source": [
    "print(\"we will become data scientist in next one year\\ and will study about AI\") # using backword slash in sentence"
   ]
  },
  {
   "cell_type": "code",
   "execution_count": 49,
   "id": "0b502f2e",
   "metadata": {},
   "outputs": [
    {
     "name": "stdout",
     "output_type": "stream",
     "text": [
      "we will become data scientist in next one year\\ and will study about AI\n"
     ]
    }
   ],
   "source": [
    "print(\"we will become data scientist in next one year\\\\ and will study about AI\")"
   ]
  },
  {
   "cell_type": "code",
   "execution_count": 60,
   "id": "59586abe",
   "metadata": {},
   "outputs": [
    {
     "ename": "SyntaxError",
     "evalue": "unexpected character after line continuation character (533926593.py, line 1)",
     "output_type": "error",
     "traceback": [
      "\u001b[1;36m  Cell \u001b[1;32mIn[60], line 1\u001b[1;36m\u001b[0m\n\u001b[1;33m    hello, where are\\ you going\u001b[0m\n\u001b[1;37m                     ^\u001b[0m\n\u001b[1;31mSyntaxError\u001b[0m\u001b[1;31m:\u001b[0m unexpected character after line continuation character\n"
     ]
    }
   ],
   "source": [
    "hello, where are\\ you going"
   ]
  },
  {
   "cell_type": "code",
   "execution_count": 63,
   "id": "58f55b60",
   "metadata": {},
   "outputs": [
    {
     "name": "stdout",
     "output_type": "stream",
     "text": [
      "121\n"
     ]
    }
   ],
   "source": [
    "x = 33 + 44 + \\\n",
    "    20 + 10 + \\\n",
    "    12 + 2 \n",
    "print(x)"
   ]
  },
  {
   "cell_type": "code",
   "execution_count": 69,
   "id": "f5ff8c89",
   "metadata": {},
   "outputs": [
    {
     "name": "stdout",
     "output_type": "stream",
     "text": [
      "121\n"
     ]
    }
   ],
   "source": [
    "x = 33 + 44 + \\\n",
    "20 + 10 + \\\n",
    "12 + 2 \n",
    "\n",
    "print(x)"
   ]
  },
  {
   "cell_type": "code",
   "execution_count": 70,
   "id": "feaa775a",
   "metadata": {},
   "outputs": [
    {
     "name": "stdout",
     "output_type": "stream",
     "text": [
      "121\n"
     ]
    }
   ],
   "source": [
    "x = 33 + 44 + \\\n",
    "                                        20 + 10 + \\\n",
    "12 + 2 \n",
    "\n",
    "print(x)\n"
   ]
  },
  {
   "cell_type": "code",
   "execution_count": 71,
   "id": "1e0e403a",
   "metadata": {},
   "outputs": [
    {
     "ename": "SyntaxError",
     "evalue": "unexpected character after line continuation character (2250906221.py, line 2)",
     "output_type": "error",
     "traceback": [
      "\u001b[1;36m  Cell \u001b[1;32mIn[71], line 2\u001b[1;36m\u001b[0m\n\u001b[1;33m    20 + 10 + \\\\\u001b[0m\n\u001b[1;37m                \n^\u001b[0m\n\u001b[1;31mSyntaxError\u001b[0m\u001b[1;31m:\u001b[0m unexpected character after line continuation character\n"
     ]
    }
   ],
   "source": [
    "x = 33 + 44 + \\\n",
    "    20 + 10 + \\\\\n",
    "    12 + 2 \n",
    "\n",
    "print(x)\n"
   ]
  },
  {
   "cell_type": "code",
   "execution_count": 72,
   "id": "f581c874",
   "metadata": {},
   "outputs": [
    {
     "name": "stdout",
     "output_type": "stream",
     "text": [
      "rishi\n"
     ]
    }
   ],
   "source": [
    "x = 'r' + 'i' + \\\n",
    "'s' + 'h' + 'i'\n",
    "\n",
    "print(x)"
   ]
  },
  {
   "cell_type": "code",
   "execution_count": 65,
   "id": "228ef970",
   "metadata": {},
   "outputs": [
    {
     "ename": "SyntaxError",
     "evalue": "unexpected character after line continuation character (1936469561.py, line 1)",
     "output_type": "error",
     "traceback": [
      "\u001b[1;36m  Cell \u001b[1;32mIn[65], line 1\u001b[1;36m\u001b[0m\n\u001b[1;33m    x = 10 + 20 + \\ 10 + 20\u001b[0m\n\u001b[1;37m                   ^\u001b[0m\n\u001b[1;31mSyntaxError\u001b[0m\u001b[1;31m:\u001b[0m unexpected character after line continuation character\n"
     ]
    }
   ],
   "source": [
    "x = 10 + 20 + \\ 10 + 20 \n",
    "\n",
    "print(x)"
   ]
  },
  {
   "cell_type": "code",
   "execution_count": 66,
   "id": "2aadc22a",
   "metadata": {
    "scrolled": true
   },
   "outputs": [
    {
     "ename": "TypeError",
     "evalue": "unsupported operand type(s) for +: 'int' and 'str'",
     "output_type": "error",
     "traceback": [
      "\u001b[1;31m---------------------------------------------------------------------------\u001b[0m",
      "\u001b[1;31mTypeError\u001b[0m                                 Traceback (most recent call last)",
      "Cell \u001b[1;32mIn[66], line 1\u001b[0m\n\u001b[1;32m----> 1\u001b[0m x \u001b[38;5;241m=\u001b[39m \u001b[38;5;241;43m10\u001b[39;49m\u001b[43m \u001b[49m\u001b[38;5;241;43m+\u001b[39;49m\u001b[43m \u001b[49m\u001b[38;5;241;43m20\u001b[39;49m\u001b[43m \u001b[49m\u001b[38;5;241;43m+\u001b[39;49m\u001b[43m \u001b[49m\u001b[38;5;124;43m'\u001b[39;49m\u001b[38;5;124;43mr\u001b[39;49m\u001b[38;5;124;43m'\u001b[39;49m \u001b[38;5;241m+\u001b[39m \\\n\u001b[0;32m      2\u001b[0m     \u001b[38;5;241m25\u001b[39m \u001b[38;5;241m+\u001b[39m \u001b[38;5;241m25\u001b[39m \u001b[38;5;241m+\u001b[39m \\\n\u001b[0;32m      3\u001b[0m     \u001b[38;5;241m30\u001b[39m\n",
      "\u001b[1;31mTypeError\u001b[0m: unsupported operand type(s) for +: 'int' and 'str'"
     ]
    }
   ],
   "source": [
    "x = 10 + 20 + 'r' + \\\n",
    "    25 + 25 + \\\n",
    "    30"
   ]
  },
  {
   "cell_type": "code",
   "execution_count": 67,
   "id": "f230faa6",
   "metadata": {},
   "outputs": [
    {
     "ename": "TypeError",
     "evalue": "unsupported operand type(s) for +: 'int' and 'str'",
     "output_type": "error",
     "traceback": [
      "\u001b[1;31m---------------------------------------------------------------------------\u001b[0m",
      "\u001b[1;31mTypeError\u001b[0m                                 Traceback (most recent call last)",
      "Cell \u001b[1;32mIn[67], line 1\u001b[0m\n\u001b[1;32m----> 1\u001b[0m x \u001b[38;5;241m=\u001b[39m \u001b[38;5;241;43m10\u001b[39;49m\u001b[43m \u001b[49m\u001b[38;5;241;43m+\u001b[39;49m\u001b[43m \u001b[49m\u001b[38;5;241;43m20\u001b[39;49m\u001b[43m \u001b[49m\u001b[38;5;241;43m+\u001b[39;49m\u001b[43m \u001b[49m\u001b[38;5;124;43m'\u001b[39;49m\u001b[38;5;124;43mr\u001b[39;49m\u001b[38;5;124;43m'\u001b[39;49m \u001b[38;5;241m+\u001b[39m \\\n\u001b[0;32m      2\u001b[0m \u001b[38;5;241m25\u001b[39m \u001b[38;5;241m+\u001b[39m \u001b[38;5;241m25\u001b[39m \u001b[38;5;241m+\u001b[39m \\\n\u001b[0;32m      3\u001b[0m \u001b[38;5;241m30\u001b[39m\n",
      "\u001b[1;31mTypeError\u001b[0m: unsupported operand type(s) for +: 'int' and 'str'"
     ]
    }
   ],
   "source": [
    "x = 10 + 20 + 'r' + \\\n",
    "25 + 25 + \\\n",
    "30\n",
    "    "
   ]
  },
  {
   "cell_type": "code",
   "execution_count": null,
   "id": "5b959e42",
   "metadata": {},
   "outputs": [],
   "source": []
  },
  {
   "cell_type": "code",
   "execution_count": 48,
   "id": "60a0bb95",
   "metadata": {},
   "outputs": [
    {
     "name": "stdout",
     "output_type": "stream",
     "text": [
      "we are doing experiments \n",
      " with backword slash\n"
     ]
    }
   ],
   "source": [
    "'we are doing experiments \\n with backword slash'"
   ]
  },
  {
   "cell_type": "code",
   "execution_count": 52,
   "id": "5507a30a",
   "metadata": {},
   "outputs": [
    {
     "name": "stdout",
     "output_type": "stream",
     "text": [
      "we will become data scientist in next one year\\n and will study about AI\n"
     ]
    }
   ],
   "source": [
    "print(\"we will become data scientist in next one year\\\\n and will study about AI\")"
   ]
  },
  {
   "cell_type": "code",
   "execution_count": 53,
   "id": "dd3fd1fb",
   "metadata": {},
   "outputs": [
    {
     "name": "stdout",
     "output_type": "stream",
     "text": [
      "we will become data scientist in next one year\n",
      " and will study\\ about AI\n"
     ]
    }
   ],
   "source": [
    "print(\"we will become data scientist in next one year\\n and will study\\ about AI\")"
   ]
  },
  {
   "cell_type": "code",
   "execution_count": 54,
   "id": "2f715c9e",
   "metadata": {},
   "outputs": [
    {
     "name": "stdout",
     "output_type": "stream",
     "text": [
      "we will become data scientist in next one year\n",
      " and will study\n",
      " about AI\n"
     ]
    }
   ],
   "source": [
    "print(\"we will become data scientist in next one year\\n and will study\\n about AI\")"
   ]
  },
  {
   "cell_type": "code",
   "execution_count": 55,
   "id": "3b9cc8e3",
   "metadata": {},
   "outputs": [
    {
     "name": "stdout",
     "output_type": "stream",
     "text": [
      "\n",
      " we are doing experiments \n",
      " with backword slash\n"
     ]
    }
   ],
   "source": [
    "print('\\n we are doing experiments \\n with backword slash')"
   ]
  },
  {
   "cell_type": "code",
   "execution_count": 56,
   "id": "dce05f7a",
   "metadata": {},
   "outputs": [
    {
     "name": "stdout",
     "output_type": "stream",
     "text": [
      "we are doing experiments \n",
      "                                                    with backword slash\n"
     ]
    }
   ],
   "source": [
    "print('we are doing experiments \\n                                                    with backword slash')"
   ]
  },
  {
   "cell_type": "code",
   "execution_count": 57,
   "id": "51ccd063",
   "metadata": {},
   "outputs": [
    {
     "name": "stdout",
     "output_type": "stream",
     "text": [
      "we are doing experiments \n",
      "    64383\n"
     ]
    }
   ],
   "source": [
    "print('we are doing experiments \\n    64383')"
   ]
  },
  {
   "cell_type": "markdown",
   "id": "088093c9",
   "metadata": {},
   "source": [
    "# forward slash"
   ]
  },
  {
   "cell_type": "code",
   "execution_count": 73,
   "id": "919447a7",
   "metadata": {},
   "outputs": [
    {
     "data": {
      "text/plain": [
       "1.0"
      ]
     },
     "execution_count": 73,
     "metadata": {},
     "output_type": "execute_result"
    }
   ],
   "source": [
    "5/5"
   ]
  },
  {
   "cell_type": "code",
   "execution_count": 74,
   "id": "9b0173f6",
   "metadata": {},
   "outputs": [
    {
     "data": {
      "text/plain": [
       "2.5"
      ]
     },
     "execution_count": 74,
     "metadata": {},
     "output_type": "execute_result"
    }
   ],
   "source": [
    "5      /        2"
   ]
  },
  {
   "cell_type": "code",
   "execution_count": 76,
   "id": "0e55645c",
   "metadata": {},
   "outputs": [
    {
     "ename": "SyntaxError",
     "evalue": "invalid syntax (443163371.py, line 1)",
     "output_type": "error",
     "traceback": [
      "\u001b[1;36m  Cell \u001b[1;32mIn[76], line 1\u001b[1;36m\u001b[0m\n\u001b[1;33m    5/\u001b[0m\n\u001b[1;37m      ^\u001b[0m\n\u001b[1;31mSyntaxError\u001b[0m\u001b[1;31m:\u001b[0m invalid syntax\n"
     ]
    }
   ],
   "source": [
    "5/\n",
    "2"
   ]
  },
  {
   "cell_type": "code",
   "execution_count": 77,
   "id": "cdf8a87a",
   "metadata": {},
   "outputs": [
    {
     "ename": "NameError",
     "evalue": "name 'rishi' is not defined",
     "output_type": "error",
     "traceback": [
      "\u001b[1;31m---------------------------------------------------------------------------\u001b[0m",
      "\u001b[1;31mNameError\u001b[0m                                 Traceback (most recent call last)",
      "Cell \u001b[1;32mIn[77], line 1\u001b[0m\n\u001b[1;32m----> 1\u001b[0m \u001b[43mrishi\u001b[49m\u001b[38;5;241m/\u001b[39mrahul\n",
      "\u001b[1;31mNameError\u001b[0m: name 'rishi' is not defined"
     ]
    }
   ],
   "source": [
    "rishi/rahul"
   ]
  },
  {
   "cell_type": "code",
   "execution_count": 78,
   "id": "71809a06",
   "metadata": {},
   "outputs": [
    {
     "data": {
      "text/plain": [
       "110.0"
      ]
     },
     "execution_count": 78,
     "metadata": {},
     "output_type": "execute_result"
    }
   ],
   "source": [
    "550/5"
   ]
  },
  {
   "cell_type": "code",
   "execution_count": 79,
   "id": "d8901720",
   "metadata": {},
   "outputs": [
    {
     "data": {
      "text/plain": [
       "42.4"
      ]
     },
     "execution_count": 79,
     "metadata": {},
     "output_type": "execute_result"
    }
   ],
   "source": [
    "212/5"
   ]
  },
  {
   "cell_type": "code",
   "execution_count": 80,
   "id": "1fb8cfc6",
   "metadata": {},
   "outputs": [
    {
     "data": {
      "text/plain": [
       "42"
      ]
     },
     "execution_count": 80,
     "metadata": {},
     "output_type": "execute_result"
    }
   ],
   "source": [
    "212//5"
   ]
  },
  {
   "cell_type": "code",
   "execution_count": 81,
   "id": "5bfe9340",
   "metadata": {},
   "outputs": [
    {
     "ename": "SyntaxError",
     "evalue": "invalid syntax (2770425128.py, line 1)",
     "output_type": "error",
     "traceback": [
      "\u001b[1;36m  Cell \u001b[1;32mIn[81], line 1\u001b[1;36m\u001b[0m\n\u001b[1;33m    212///5\u001b[0m\n\u001b[1;37m         ^\u001b[0m\n\u001b[1;31mSyntaxError\u001b[0m\u001b[1;31m:\u001b[0m invalid syntax\n"
     ]
    }
   ],
   "source": [
    "212///5"
   ]
  },
  {
   "cell_type": "code",
   "execution_count": 82,
   "id": "c457bd2d",
   "metadata": {},
   "outputs": [
    {
     "data": {
      "text/plain": [
       "1.0"
      ]
     },
     "execution_count": 82,
     "metadata": {},
     "output_type": "execute_result"
    }
   ],
   "source": [
    "6/2/3"
   ]
  },
  {
   "cell_type": "markdown",
   "id": "e8c76e6e",
   "metadata": {},
   "source": [
    "# docstring"
   ]
  },
  {
   "cell_type": "code",
   "execution_count": 83,
   "id": "a0d115fa",
   "metadata": {},
   "outputs": [
    {
     "data": {
      "text/plain": [
       "'hello, my name is rishi singh and i am from banaras'"
      ]
     },
     "execution_count": 83,
     "metadata": {},
     "output_type": "execute_result"
    }
   ],
   "source": [
    "'''hello, my name is rishi singh and i am from banaras'''"
   ]
  },
  {
   "cell_type": "code",
   "execution_count": 84,
   "id": "cc6b6c43",
   "metadata": {},
   "outputs": [
    {
     "data": {
      "text/plain": [
       "'here we are learning python\\nin VIJAI'"
      ]
     },
     "execution_count": 84,
     "metadata": {},
     "output_type": "execute_result"
    }
   ],
   "source": [
    "'''here we are learning python\n",
    "in VIJAI'''"
   ]
  },
  {
   "cell_type": "code",
   "execution_count": 85,
   "id": "9edcf2d9",
   "metadata": {},
   "outputs": [
    {
     "ename": "SyntaxError",
     "evalue": "unterminated string literal (detected at line 1) (3049716836.py, line 1)",
     "output_type": "error",
     "traceback": [
      "\u001b[1;36m  Cell \u001b[1;32mIn[85], line 1\u001b[1;36m\u001b[0m\n\u001b[1;33m    ''''hello, my name is rishi singh and i am from banaras''''\u001b[0m\n\u001b[1;37m                                                              ^\u001b[0m\n\u001b[1;31mSyntaxError\u001b[0m\u001b[1;31m:\u001b[0m unterminated string literal (detected at line 1)\n"
     ]
    }
   ],
   "source": [
    "''''hello, my name is rishi singh and i am from banaras''''"
   ]
  },
  {
   "cell_type": "code",
   "execution_count": 86,
   "id": "3cc66d8d",
   "metadata": {},
   "outputs": [
    {
     "data": {
      "text/plain": [
       "'hello, my name is rishi singh and i am from banaras'"
      ]
     },
     "execution_count": 86,
     "metadata": {},
     "output_type": "execute_result"
    }
   ],
   "source": [
    "\"\"\"hello, my name is rishi singh and i am from banaras\"\"\""
   ]
  },
  {
   "cell_type": "code",
   "execution_count": 87,
   "id": "dc0c647d",
   "metadata": {},
   "outputs": [
    {
     "data": {
      "text/plain": [
       "'hello, my name is rishi\\n singh and i am from banaras'"
      ]
     },
     "execution_count": 87,
     "metadata": {},
     "output_type": "execute_result"
    }
   ],
   "source": [
    "\"\"\"hello, my name is rishi\\n singh and i am from banaras\"\"\""
   ]
  },
  {
   "cell_type": "code",
   "execution_count": 88,
   "id": "7fadcb41",
   "metadata": {},
   "outputs": [
    {
     "data": {
      "text/plain": [
       "'hello, my name is rishi singh and i am from banaras'"
      ]
     },
     "execution_count": 88,
     "metadata": {},
     "output_type": "execute_result"
    }
   ],
   "source": [
    "'hello, my name is rishi singh and i am from banaras'"
   ]
  },
  {
   "cell_type": "code",
   "execution_count": 89,
   "id": "348d4455",
   "metadata": {},
   "outputs": [
    {
     "ename": "SyntaxError",
     "evalue": "unterminated string literal (detected at line 1) (1921598296.py, line 1)",
     "output_type": "error",
     "traceback": [
      "\u001b[1;36m  Cell \u001b[1;32mIn[89], line 1\u001b[1;36m\u001b[0m\n\u001b[1;33m    'hello, my name is rishi singh and i am from banaras\u001b[0m\n\u001b[1;37m    ^\u001b[0m\n\u001b[1;31mSyntaxError\u001b[0m\u001b[1;31m:\u001b[0m unterminated string literal (detected at line 1)\n"
     ]
    }
   ],
   "source": [
    "'hello, my name is rishi singh and i am from banaras\n",
    "here we are learning python\n",
    "in VIJAI'"
   ]
  },
  {
   "cell_type": "code",
   "execution_count": 90,
   "id": "1e02312b",
   "metadata": {},
   "outputs": [
    {
     "data": {
      "text/plain": [
       "'hello, my name is rishi singh and i am from banaras\\nhere we are learning python\\nin VIJAI'"
      ]
     },
     "execution_count": 90,
     "metadata": {},
     "output_type": "execute_result"
    }
   ],
   "source": [
    "'''hello, my name is rishi singh and i am from banaras\n",
    "here we are learning python\n",
    "in VIJAI'''"
   ]
  },
  {
   "cell_type": "markdown",
   "id": "d7a7f1be",
   "metadata": {},
   "source": [
    "# mistake recognisition"
   ]
  },
  {
   "cell_type": "code",
   "execution_count": 24,
   "id": "ace10d52",
   "metadata": {},
   "outputs": [
    {
     "ename": "SyntaxError",
     "evalue": "invalid syntax. Perhaps you forgot a comma? (3139353583.py, line 1)",
     "output_type": "error",
     "traceback": [
      "\u001b[1;36m  Cell \u001b[1;32mIn[24], line 1\u001b[1;36m\u001b[0m\n\u001b[1;33m    Print(This is my pythons first chapter;,                      'I am Rishi')\u001b[0m\n\u001b[1;37m          ^\u001b[0m\n\u001b[1;31mSyntaxError\u001b[0m\u001b[1;31m:\u001b[0m invalid syntax. Perhaps you forgot a comma?\n"
     ]
    }
   ],
   "source": [
    "Print(This is my pythons first chapter;,                      'I am Rishi') \n",
    "#quotation mark was not used for string"
   ]
  },
  {
   "cell_type": "code",
   "execution_count": 23,
   "id": "09c2f8d0",
   "metadata": {},
   "outputs": [
    {
     "name": "stdout",
     "output_type": "stream",
     "text": [
      "This is my pythons first chapter;,I am Rishi\n"
     ]
    }
   ],
   "source": [
    "# correct way\n",
    "print('This is my pythons first chapter;,'                    'I am Rishi')\n",
    "# there is no effect of space"
   ]
  },
  {
   "cell_type": "code",
   "execution_count": 10,
   "id": "9b79a546",
   "metadata": {},
   "outputs": [
    {
     "ename": "NameError",
     "evalue": "name 'Print' is not defined",
     "output_type": "error",
     "traceback": [
      "\u001b[1;31m---------------------------------------------------------------------------\u001b[0m",
      "\u001b[1;31mNameError\u001b[0m                                 Traceback (most recent call last)",
      "Cell \u001b[1;32mIn[10], line 1\u001b[0m\n\u001b[1;32m----> 1\u001b[0m \u001b[43mPrint\u001b[49m(\u001b[38;5;241m7\u001b[39m,\u001b[38;5;124m'\u001b[39m\u001b[38;5;124m8\u001b[39m\u001b[38;5;124m'\u001b[39m)\n",
      "\u001b[1;31mNameError\u001b[0m: name 'Print' is not defined"
     ]
    }
   ],
   "source": [
    "Print(7,'8')"
   ]
  },
  {
   "cell_type": "code",
   "execution_count": 11,
   "id": "6b72795c",
   "metadata": {},
   "outputs": [
    {
     "name": "stdout",
     "output_type": "stream",
     "text": [
      "7 8\n"
     ]
    }
   ],
   "source": [
    "print(7,'8') # here 7 is integer and 8 is string as quotation is used in 8"
   ]
  },
  {
   "cell_type": "code",
   "execution_count": 12,
   "id": "94fdda42",
   "metadata": {},
   "outputs": [
    {
     "ename": "NameError",
     "evalue": "name 'Print' is not defined",
     "output_type": "error",
     "traceback": [
      "\u001b[1;31m---------------------------------------------------------------------------\u001b[0m",
      "\u001b[1;31mNameError\u001b[0m                                 Traceback (most recent call last)",
      "Cell \u001b[1;32mIn[12], line 1\u001b[0m\n\u001b[1;32m----> 1\u001b[0m \u001b[43mPrint\u001b[49m(\u001b[38;5;124m'\u001b[39m\u001b[38;5;124m7\u001b[39m\u001b[38;5;124m'\u001b[39m\u001b[38;5;241m+\u001b[39m\u001b[38;5;124m'\u001b[39m\u001b[38;5;124m8\u001b[39m\u001b[38;5;124m'\u001b[39m)\n",
      "\u001b[1;31mNameError\u001b[0m: name 'Print' is not defined"
     ]
    }
   ],
   "source": [
    "Print('7'+'8')"
   ]
  },
  {
   "cell_type": "code",
   "execution_count": 13,
   "id": "200ce66e",
   "metadata": {},
   "outputs": [
    {
     "name": "stdout",
     "output_type": "stream",
     "text": [
      "78\n"
     ]
    }
   ],
   "source": [
    "# correct way\n",
    "print('7'+'8') # here both are string"
   ]
  },
  {
   "cell_type": "code",
   "execution_count": 14,
   "id": "1630427a",
   "metadata": {},
   "outputs": [
    {
     "ename": "NameError",
     "evalue": "name 'Print' is not defined",
     "output_type": "error",
     "traceback": [
      "\u001b[1;31m---------------------------------------------------------------------------\u001b[0m",
      "\u001b[1;31mNameError\u001b[0m                                 Traceback (most recent call last)",
      "Cell \u001b[1;32mIn[14], line 1\u001b[0m\n\u001b[1;32m----> 1\u001b[0m \u001b[43mPrint\u001b[49m(\u001b[38;5;124m'\u001b[39m\u001b[38;5;124ma\u001b[39m\u001b[38;5;124m'\u001b[39m\u001b[38;5;241m+\u001b[39m\u001b[38;5;124m'\u001b[39m\u001b[38;5;124mb\u001b[39m\u001b[38;5;124m'\u001b[39m\u001b[38;5;241m+\u001b[39m\u001b[38;5;124m'\u001b[39m\u001b[38;5;124mc\u001b[39m\u001b[38;5;124m'\u001b[39m\u001b[38;5;241m+\u001b[39m\u001b[38;5;124m'\u001b[39m\u001b[38;5;124md\u001b[39m\u001b[38;5;124m'\u001b[39m)\n",
      "\u001b[1;31mNameError\u001b[0m: name 'Print' is not defined"
     ]
    }
   ],
   "source": [
    "Print('a'+'b'+'c'+'d')"
   ]
  },
  {
   "cell_type": "code",
   "execution_count": 15,
   "id": "022690a5",
   "metadata": {},
   "outputs": [
    {
     "name": "stdout",
     "output_type": "stream",
     "text": [
      "abcd\n"
     ]
    }
   ],
   "source": [
    "print('a'+'b'+'c'+'d')"
   ]
  },
  {
   "cell_type": "code",
   "execution_count": 25,
   "id": "1e0667cf",
   "metadata": {},
   "outputs": [
    {
     "name": "stdout",
     "output_type": "stream",
     "text": [
      "a bc d\n"
     ]
    }
   ],
   "source": [
    "print('a','b'+'c','d') # this is because b and c have plus in between"
   ]
  },
  {
   "cell_type": "code",
   "execution_count": 8,
   "id": "0bd593ac",
   "metadata": {},
   "outputs": [
    {
     "ename": "TypeError",
     "evalue": "unsupported operand type(s) for +: 'int' and 'str'",
     "output_type": "error",
     "traceback": [
      "\u001b[1;31m---------------------------------------------------------------------------\u001b[0m",
      "\u001b[1;31mTypeError\u001b[0m                                 Traceback (most recent call last)",
      "Cell \u001b[1;32mIn[8], line 1\u001b[0m\n\u001b[1;32m----> 1\u001b[0m \u001b[38;5;28mprint\u001b[39m(\u001b[38;5;241;43m8\u001b[39;49m\u001b[38;5;241;43m+\u001b[39;49m\u001b[38;5;124;43m'\u001b[39;49m\u001b[38;5;124;43my\u001b[39;49m\u001b[38;5;124;43m'\u001b[39;49m)\n",
      "\u001b[1;31mTypeError\u001b[0m: unsupported operand type(s) for +: 'int' and 'str'"
     ]
    }
   ],
   "source": [
    "print(8+'y') # most recent call last means mistake is on the most recent command"
   ]
  },
  {
   "cell_type": "code",
   "execution_count": 9,
   "id": "39c8d29f",
   "metadata": {},
   "outputs": [
    {
     "name": "stdout",
     "output_type": "stream",
     "text": [
      "8y\n"
     ]
    }
   ],
   "source": [
    "#correct way\n",
    "print('8'+'y')"
   ]
  },
  {
   "cell_type": "code",
   "execution_count": 16,
   "id": "d4f30a8d",
   "metadata": {},
   "outputs": [
    {
     "ename": "NameError",
     "evalue": "name 'y' is not defined",
     "output_type": "error",
     "traceback": [
      "\u001b[1;31m---------------------------------------------------------------------------\u001b[0m",
      "\u001b[1;31mNameError\u001b[0m                                 Traceback (most recent call last)",
      "Cell \u001b[1;32mIn[16], line 1\u001b[0m\n\u001b[1;32m----> 1\u001b[0m \u001b[38;5;28mprint\u001b[39m(\u001b[38;5;241m8\u001b[39m\u001b[38;5;241m+\u001b[39m\u001b[43my\u001b[49m)\n",
      "\u001b[1;31mNameError\u001b[0m: name 'y' is not defined"
     ]
    }
   ],
   "source": [
    "print(8+y) # in general not defined means you have not converted it into string and not assigned any value"
   ]
  },
  {
   "cell_type": "code",
   "execution_count": 18,
   "id": "71391437",
   "metadata": {},
   "outputs": [
    {
     "name": "stdout",
     "output_type": "stream",
     "text": [
      "8y\n"
     ]
    }
   ],
   "source": [
    "print('8'+'y')"
   ]
  },
  {
   "cell_type": "code",
   "execution_count": 20,
   "id": "67d5c196",
   "metadata": {},
   "outputs": [
    {
     "ename": "TypeError",
     "evalue": "unsupported operand type(s) for +: 'int' and 'str'",
     "output_type": "error",
     "traceback": [
      "\u001b[1;31m---------------------------------------------------------------------------\u001b[0m",
      "\u001b[1;31mTypeError\u001b[0m                                 Traceback (most recent call last)",
      "Cell \u001b[1;32mIn[20], line 2\u001b[0m\n\u001b[0;32m      1\u001b[0m y \u001b[38;5;241m=\u001b[39m \u001b[38;5;241m15\u001b[39m\n\u001b[1;32m----> 2\u001b[0m \u001b[38;5;28mprint\u001b[39m(\u001b[38;5;241;43m8\u001b[39;49m\u001b[38;5;241;43m+\u001b[39;49m\u001b[38;5;124;43m'\u001b[39;49m\u001b[38;5;124;43my\u001b[39;49m\u001b[38;5;124;43m'\u001b[39;49m)\n",
      "\u001b[1;31mTypeError\u001b[0m: unsupported operand type(s) for +: 'int' and 'str'"
     ]
    }
   ],
   "source": [
    "y = 15\n",
    "print(8+'y') # string and integer will never add up"
   ]
  },
  {
   "cell_type": "code",
   "execution_count": 22,
   "id": "c67aae0a",
   "metadata": {},
   "outputs": [
    {
     "name": "stdout",
     "output_type": "stream",
     "text": [
      "23\n"
     ]
    }
   ],
   "source": [
    "# correct way\n",
    "y = 15\n",
    "print(8+y)"
   ]
  },
  {
   "cell_type": "code",
   "execution_count": 27,
   "id": "43127608",
   "metadata": {},
   "outputs": [
    {
     "ename": "SyntaxError",
     "evalue": "unterminated string literal (detected at line 1) (2236100094.py, line 1)",
     "output_type": "error",
     "traceback": [
      "\u001b[1;36m  Cell \u001b[1;32mIn[27], line 1\u001b[1;36m\u001b[0m\n\u001b[1;33m    ''''i am learning python''''\u001b[0m\n\u001b[1;37m                               ^\u001b[0m\n\u001b[1;31mSyntaxError\u001b[0m\u001b[1;31m:\u001b[0m unterminated string literal (detected at line 1)\n"
     ]
    }
   ],
   "source": [
    "''''i am learning python''''"
   ]
  },
  {
   "cell_type": "code",
   "execution_count": 34,
   "id": "292de44b",
   "metadata": {},
   "outputs": [
    {
     "ename": "SyntaxError",
     "evalue": "unterminated string literal (detected at line 2) (1827897575.py, line 2)",
     "output_type": "error",
     "traceback": [
      "\u001b[1;36m  Cell \u001b[1;32mIn[34], line 2\u001b[1;36m\u001b[0m\n\u001b[1;33m    i am learning python    \"\"\"\" # have to find reason for unterminated statement. HW\u001b[0m\n\u001b[1;37m                               ^\u001b[0m\n\u001b[1;31mSyntaxError\u001b[0m\u001b[1;31m:\u001b[0m unterminated string literal (detected at line 2)\n"
     ]
    }
   ],
   "source": [
    "\"\"\"\"\"\n",
    "    i am learning python    \"\"\"\" # have to find reason for unterminated statement. HW"
   ]
  },
  {
   "cell_type": "code",
   "execution_count": 7,
   "id": "31d74c1f",
   "metadata": {},
   "outputs": [
    {
     "ename": "SyntaxError",
     "evalue": "incomplete input (1245328655.py, line 1)",
     "output_type": "error",
     "traceback": [
      "\u001b[1;36m  Cell \u001b[1;32mIn[7], line 1\u001b[1;36m\u001b[0m\n\u001b[1;33m    '''25'' # have to find the mistake\u001b[0m\n\u001b[1;37m    ^\u001b[0m\n\u001b[1;31mSyntaxError\u001b[0m\u001b[1;31m:\u001b[0m incomplete input\n"
     ]
    }
   ],
   "source": [
    "'''25''\n"
   ]
  },
  {
   "cell_type": "code",
   "execution_count": 9,
   "id": "14bcee28",
   "metadata": {},
   "outputs": [
    {
     "data": {
      "text/plain": [
       "'25'"
      ]
     },
     "execution_count": 9,
     "metadata": {},
     "output_type": "execute_result"
    }
   ],
   "source": [
    "# correct way\n",
    "'''25'''\n",
    "# if a quotation is missing it shows incomplete input"
   ]
  },
  {
   "cell_type": "code",
   "execution_count": 2,
   "id": "9435f81b",
   "metadata": {},
   "outputs": [
    {
     "ename": "SyntaxError",
     "evalue": "unterminated string literal (detected at line 2) (3520891895.py, line 2)",
     "output_type": "error",
     "traceback": [
      "\u001b[1;36m  Cell \u001b[1;32mIn[2], line 2\u001b[1;36m\u001b[0m\n\u001b[1;33m    hello, my name is rishi singh\"\"\"\"\u001b[0m\n\u001b[1;37m                                    ^\u001b[0m\n\u001b[1;31mSyntaxError\u001b[0m\u001b[1;31m:\u001b[0m unterminated string literal (detected at line 2)\n"
     ]
    }
   ],
   "source": [
    "\"\"\"\n",
    "hello, my name is rishi singh\"\"\"\" \n",
    "# here unterminated string literal means quotaion havent been closed"
   ]
  },
  {
   "cell_type": "code",
   "execution_count": 4,
   "id": "e517bf6e",
   "metadata": {},
   "outputs": [
    {
     "data": {
      "text/plain": [
       "'\"\\nhello, my name is rishi singh'"
      ]
     },
     "execution_count": 4,
     "metadata": {},
     "output_type": "execute_result"
    }
   ],
   "source": [
    "# correct way to write\n",
    "\"\"\"\"\n",
    "hello, my name is rishi singh\"\"\""
   ]
  },
  {
   "cell_type": "code",
   "execution_count": 1,
   "id": "a642406b",
   "metadata": {},
   "outputs": [
    {
     "data": {
      "text/plain": [
       "'\\nhello, my name is rishi singhhello, my name is rishi singh'"
      ]
     },
     "execution_count": 1,
     "metadata": {},
     "output_type": "execute_result"
    }
   ],
   "source": [
    "\"\"\"\n",
    "hello, my name is rishi singh\"\"\"\"\"\"hello, my name is rishi singh\"\"\"\n",
    "# multi docstring"
   ]
  },
  {
   "cell_type": "code",
   "execution_count": 2,
   "id": "d1914465",
   "metadata": {},
   "outputs": [
    {
     "name": "stdout",
     "output_type": "stream",
     "text": [
      "hello, my name is rishi singh\n"
     ]
    }
   ],
   "source": [
    "print('hello, my name is rishi singh')"
   ]
  },
  {
   "cell_type": "code",
   "execution_count": 3,
   "id": "0f607bd1",
   "metadata": {},
   "outputs": [],
   "source": [
    "# sentence iside the bracket is a string, so i have to putquotation mark to \n",
    "                           # show it as string"
   ]
  },
  {
   "cell_type": "code",
   "execution_count": 5,
   "id": "e7807a81",
   "metadata": {},
   "outputs": [
    {
     "name": "stdout",
     "output_type": "stream",
     "text": [
      "my name is rishi\n"
     ]
    },
    {
     "ename": "NameError",
     "evalue": "name 'i' is not defined",
     "output_type": "error",
     "traceback": [
      "\u001b[1;31m---------------------------------------------------------------------------\u001b[0m",
      "\u001b[1;31mNameError\u001b[0m                                 Traceback (most recent call last)",
      "Cell \u001b[1;32mIn[5], line 3\u001b[0m\n\u001b[0;32m      1\u001b[0m \u001b[38;5;28mprint\u001b[39m(\u001b[38;5;124m'\u001b[39m\u001b[38;5;124mmy name is rishi\u001b[39m\u001b[38;5;124m'\u001b[39m) \u001b[38;5;66;03m# i have written i in this cell and as i is not a data type therefore it shows error\u001b[39;00m\n\u001b[0;32m      2\u001b[0m               \u001b[38;5;66;03m# if i will make i as string, there will be no error\u001b[39;00m\n\u001b[1;32m----> 3\u001b[0m \u001b[43mi\u001b[49m\n",
      "\u001b[1;31mNameError\u001b[0m: name 'i' is not defined"
     ]
    }
   ],
   "source": [
    "print('my name is rishi') # i have written i in this cell and as i is not a data type therefore it shows error\n",
    "              # if i will make i as string, there will be no error\n",
    "i"
   ]
  },
  {
   "cell_type": "code",
   "execution_count": 9,
   "id": "09431ce9",
   "metadata": {},
   "outputs": [
    {
     "ename": "SyntaxError",
     "evalue": "invalid syntax (3393260145.py, line 2)",
     "output_type": "error",
     "traceback": [
      "\u001b[1;36m  Cell \u001b[1;32mIn[9], line 2\u001b[1;36m\u001b[0m\n\u001b[1;33m    45 + 35 +\u001b[0m\n\u001b[1;37m              ^\u001b[0m\n\u001b[1;31mSyntaxError\u001b[0m\u001b[1;31m:\u001b[0m invalid syntax\n"
     ]
    }
   ],
   "source": [
    "x = 20 + 35 + \\\n",
    "    45 + 35 + "
   ]
  },
  {
   "cell_type": "code",
   "execution_count": 18,
   "id": "9a0abfa5",
   "metadata": {},
   "outputs": [
    {
     "ename": "SyntaxError",
     "evalue": "unexpected character after line continuation character (1678829074.py, line 1)",
     "output_type": "error",
     "traceback": [
      "\u001b[1;36m  Cell \u001b[1;32mIn[18], line 1\u001b[1;36m\u001b[0m\n\u001b[1;33m    'x' = 20 + 54 + \\      # a data cannot assign data\u001b[0m\n\u001b[1;37m                     ^\u001b[0m\n\u001b[1;31mSyntaxError\u001b[0m\u001b[1;31m:\u001b[0m unexpected character after line continuation character\n"
     ]
    }
   ],
   "source": [
    "'x' = 20 + 54 + \\      # a data cannot assign data\n",
    "    45 + 35 + 20\n",
    "print('x')"
   ]
  },
  {
   "cell_type": "code",
   "execution_count": 19,
   "id": "b7d90e53",
   "metadata": {},
   "outputs": [
    {
     "data": {
      "text/plain": [
       "'hello, this is a class of data science'"
      ]
     },
     "execution_count": 19,
     "metadata": {},
     "output_type": "execute_result"
    }
   ],
   "source": [
    "\"hello, this is a class of data science\""
   ]
  },
  {
   "cell_type": "code",
   "execution_count": 21,
   "id": "acfc2acd",
   "metadata": {},
   "outputs": [
    {
     "name": "stdout",
     "output_type": "stream",
     "text": [
      "hello, this is a class of data science\n"
     ]
    }
   ],
   "source": [
    "print(\"hello, this is a class of data science\")"
   ]
  },
  {
   "cell_type": "code",
   "execution_count": 22,
   "id": "6c15c94c",
   "metadata": {},
   "outputs": [
    {
     "ename": "SyntaxError",
     "evalue": "invalid syntax (2962567126.py, line 1)",
     "output_type": "error",
     "traceback": [
      "\u001b[1;36m  Cell \u001b[1;32mIn[22], line 1\u001b[1;36m\u001b[0m\n\u001b[1;33m    hello, this is a class of data science\u001b[0m\n\u001b[1;37m                     ^\u001b[0m\n\u001b[1;31mSyntaxError\u001b[0m\u001b[1;31m:\u001b[0m invalid syntax\n"
     ]
    }
   ],
   "source": [
    "hello, this is a class of data science"
   ]
  },
  {
   "cell_type": "code",
   "execution_count": 24,
   "id": "bf4e95df",
   "metadata": {},
   "outputs": [
    {
     "data": {
      "text/plain": [
       "'name is rishi'"
      ]
     },
     "execution_count": 24,
     "metadata": {},
     "output_type": "execute_result"
    }
   ],
   "source": [
    "\"hello my name is rishi\"    # will always print the last string without print\n",
    "\"name is rishi\""
   ]
  },
  {
   "cell_type": "code",
   "execution_count": 25,
   "id": "6ae9f33f",
   "metadata": {},
   "outputs": [
    {
     "name": "stdout",
     "output_type": "stream",
     "text": [
      "my name is rishi\n",
      "hello, everyone\n"
     ]
    }
   ],
   "source": [
    "print(\"my name is rishi\")   # will get result form both print command\n",
    "print(\"hello, everyone\")"
   ]
  },
  {
   "cell_type": "code",
   "execution_count": 27,
   "id": "b1c87293",
   "metadata": {},
   "outputs": [
    {
     "name": "stdout",
     "output_type": "stream",
     "text": [
      "my name is rishi\n"
     ]
    },
    {
     "data": {
      "text/plain": [
       "'my name is rishi'"
      ]
     },
     "execution_count": 27,
     "metadata": {},
     "output_type": "execute_result"
    }
   ],
   "source": [
    "print(\"my name is rishi\") # result in our language\n",
    "\"my name is rishi\"   # result in our language"
   ]
  },
  {
   "cell_type": "markdown",
   "id": "af571eda",
   "metadata": {},
   "source": [
    "# print experiments"
   ]
  },
  {
   "cell_type": "code",
   "execution_count": 2,
   "id": "372f1f7e",
   "metadata": {},
   "outputs": [
    {
     "name": "stdout",
     "output_type": "stream",
     "text": [
      "my name is rishi singh\n"
     ]
    }
   ],
   "source": [
    "print             ('my name is rishi singh') #here i have given space beteen print and brackets\n",
    "\n",
    "# it had no effect on code and sentence was printed"
   ]
  },
  {
   "cell_type": "code",
   "execution_count": 4,
   "id": "ada5aa67",
   "metadata": {},
   "outputs": [
    {
     "name": "stdout",
     "output_type": "stream",
     "text": [
      "my name is rishi singh\n"
     ]
    }
   ],
   "source": [
    "print(         'my name is rishi singh'           ) \n",
    "# here i have left some space between sentence and brackets\n",
    "# it had no effect on the code"
   ]
  },
  {
   "cell_type": "code",
   "execution_count": 6,
   "id": "af042c76",
   "metadata": {},
   "outputs": [
    {
     "data": {
      "text/plain": [
       "'my name is rishi singh'"
      ]
     },
     "execution_count": 6,
     "metadata": {},
     "output_type": "execute_result"
    }
   ],
   "source": [
    "print\n",
    "('my name is rishi singh')\n",
    "# sentece has been written on another line\n",
    "# it had no effect on code"
   ]
  },
  {
   "cell_type": "code",
   "execution_count": 8,
   "id": "f8217ef9",
   "metadata": {},
   "outputs": [
    {
     "data": {
      "text/plain": [
       "'my name is rishi singh'"
      ]
     },
     "execution_count": 8,
     "metadata": {},
     "output_type": "execute_result"
    }
   ],
   "source": [
    "print\n",
    "\n",
    "\n",
    "('my name is rishi singh')\n",
    "\n",
    "# print command and sentece if are written on another line, thers no effect on the code"
   ]
  },
  {
   "cell_type": "code",
   "execution_count": 10,
   "id": "d72a2459",
   "metadata": {},
   "outputs": [
    {
     "name": "stdout",
     "output_type": "stream",
     "text": [
      "       my name is rishi singh        \n"
     ]
    }
   ],
   "source": [
    "print('       my name is rishi singh        ')\n",
    "# space between quotaion and sentence \n",
    "# sentence was printed  with some space"
   ]
  },
  {
   "cell_type": "code",
   "execution_count": 3,
   "id": "37f558cf",
   "metadata": {},
   "outputs": [
    {
     "name": "stdout",
     "output_type": "stream",
     "text": [
      "    \n"
     ]
    }
   ],
   "source": [
    "print('    ') # here we have given space between quotation\n",
    "             # no effect on code\n",
    "            # hence it shows that python also read spaces"
   ]
  },
  {
   "cell_type": "code",
   "execution_count": 14,
   "id": "aa849878",
   "metadata": {},
   "outputs": [
    {
     "name": "stdout",
     "output_type": "stream",
     "text": [
      "my name is rishi singh\n"
     ]
    }
   ],
   "source": [
    "print(\"\"\"my name is rishi singh\"\"\") # three quotation marks can be used with print"
   ]
  },
  {
   "cell_type": "code",
   "execution_count": 19,
   "id": "4c902c05",
   "metadata": {},
   "outputs": [
    {
     "ename": "SyntaxError",
     "evalue": "unterminated string literal (detected at line 2) (1597228075.py, line 1)",
     "output_type": "error",
     "traceback": [
      "\u001b[1;36m  Cell \u001b[1;32mIn[19], line 1\u001b[1;36m\u001b[0m\n\u001b[1;33m    print(\"\\\u001b[0m\n\u001b[1;37m          ^\u001b[0m\n\u001b[1;31mSyntaxError\u001b[0m\u001b[1;31m:\u001b[0m unterminated string literal (detected at line 2)\n"
     ]
    }
   ],
   "source": [
    "print(\"\\\n",
    "\n",
    "\n",
    "       \")"
   ]
  },
  {
   "cell_type": "code",
   "execution_count": 18,
   "id": "c2000818",
   "metadata": {},
   "outputs": [
    {
     "name": "stdout",
     "output_type": "stream",
     "text": [
      "\n"
     ]
    }
   ],
   "source": [
    "print(\"\"\\\n",
    "     \n",
    "     \n",
    "     )    # if we want to make the second line bracket the closing bracket we will use new line character"
   ]
  },
  {
   "cell_type": "code",
   "execution_count": 20,
   "id": "5f4317e3",
   "metadata": {},
   "outputs": [
    {
     "name": "stdout",
     "output_type": "stream",
     "text": [
      "hows is it?\n"
     ]
    }
   ],
   "source": [
    "print('how's is it?')"
   ]
  },
  {
   "cell_type": "code",
   "execution_count": 10,
   "id": "2caaddfb",
   "metadata": {},
   "outputs": [
    {
     "name": "stdout",
     "output_type": "stream",
     "text": [
      "how's is it?\n"
     ]
    }
   ],
   "source": [
    "print(\"how's is it?\")"
   ]
  },
  {
   "cell_type": "markdown",
   "id": "54c0b930",
   "metadata": {},
   "source": [
    "# data types"
   ]
  },
  {
   "cell_type": "code",
   "execution_count": 7,
   "id": "847809fe",
   "metadata": {},
   "outputs": [
    {
     "data": {
      "text/plain": [
       "str"
      ]
     },
     "execution_count": 7,
     "metadata": {},
     "output_type": "execute_result"
    }
   ],
   "source": [
    "type(\"rishi\")"
   ]
  },
  {
   "cell_type": "code",
   "execution_count": 10,
   "id": "a93de621",
   "metadata": {},
   "outputs": [
    {
     "data": {
      "text/plain": [
       "bool"
      ]
     },
     "execution_count": 10,
     "metadata": {},
     "output_type": "execute_result"
    }
   ],
   "source": [
    "type(True)"
   ]
  },
  {
   "cell_type": "code",
   "execution_count": 12,
   "id": "8783bb2c",
   "metadata": {},
   "outputs": [
    {
     "ename": "TypeError",
     "evalue": "unsupported operand type(s) for +: 'bool' and 'NoneType'",
     "output_type": "error",
     "traceback": [
      "\u001b[1;31m---------------------------------------------------------------------------\u001b[0m",
      "\u001b[1;31mTypeError\u001b[0m                                 Traceback (most recent call last)",
      "Cell \u001b[1;32mIn[12], line 1\u001b[0m\n\u001b[1;32m----> 1\u001b[0m \u001b[38;5;28mprint\u001b[39m(\u001b[38;5;28;43;01mTrue\u001b[39;49;00m\u001b[43m \u001b[49m\u001b[38;5;241;43m+\u001b[39;49m\u001b[43m \u001b[49m\u001b[38;5;28;43;01mNone\u001b[39;49;00m)\n",
      "\u001b[1;31mTypeError\u001b[0m: unsupported operand type(s) for +: 'bool' and 'NoneType'"
     ]
    }
   ],
   "source": [
    "print(True + None)"
   ]
  },
  {
   "cell_type": "code",
   "execution_count": 13,
   "id": "62981dc8",
   "metadata": {},
   "outputs": [
    {
     "name": "stdout",
     "output_type": "stream",
     "text": [
      "(43+24j)\n"
     ]
    }
   ],
   "source": [
    "print(43+24j)"
   ]
  },
  {
   "cell_type": "code",
   "execution_count": 14,
   "id": "b9da2e0a",
   "metadata": {},
   "outputs": [
    {
     "data": {
      "text/plain": [
       "23j"
      ]
     },
     "execution_count": 14,
     "metadata": {},
     "output_type": "execute_result"
    }
   ],
   "source": [
    "False + 23j"
   ]
  },
  {
   "cell_type": "code",
   "execution_count": 15,
   "id": "42055ebb",
   "metadata": {},
   "outputs": [
    {
     "data": {
      "text/plain": [
       "1"
      ]
     },
     "execution_count": 15,
     "metadata": {},
     "output_type": "execute_result"
    }
   ],
   "source": [
    "True + False"
   ]
  },
  {
   "cell_type": "code",
   "execution_count": 16,
   "id": "f0de10cc",
   "metadata": {},
   "outputs": [
    {
     "ename": "TypeError",
     "evalue": "unsupported operand type(s) for +: 'NoneType' and 'float'",
     "output_type": "error",
     "traceback": [
      "\u001b[1;31m---------------------------------------------------------------------------\u001b[0m",
      "\u001b[1;31mTypeError\u001b[0m                                 Traceback (most recent call last)",
      "Cell \u001b[1;32mIn[16], line 1\u001b[0m\n\u001b[1;32m----> 1\u001b[0m \u001b[38;5;28;43;01mNone\u001b[39;49;00m\u001b[43m \u001b[49m\u001b[38;5;241;43m+\u001b[39;49m\u001b[43m \u001b[49m\u001b[38;5;241;43m4.5\u001b[39;49m\n",
      "\u001b[1;31mTypeError\u001b[0m: unsupported operand type(s) for +: 'NoneType' and 'float'"
     ]
    }
   ],
   "source": [
    "None + 4.5"
   ]
  },
  {
   "cell_type": "code",
   "execution_count": 17,
   "id": "731fcbcd",
   "metadata": {},
   "outputs": [
    {
     "ename": "TypeError",
     "evalue": "can only concatenate str (not \"int\") to str",
     "output_type": "error",
     "traceback": [
      "\u001b[1;31m---------------------------------------------------------------------------\u001b[0m",
      "\u001b[1;31mTypeError\u001b[0m                                 Traceback (most recent call last)",
      "Cell \u001b[1;32mIn[17], line 1\u001b[0m\n\u001b[1;32m----> 1\u001b[0m \u001b[38;5;124;43m\"\u001b[39;49m\u001b[38;5;124;43mrishi\u001b[39;49m\u001b[38;5;124;43m\"\u001b[39;49m\u001b[43m \u001b[49m\u001b[38;5;241;43m+\u001b[39;49m\u001b[43m \u001b[49m\u001b[38;5;241;43m32\u001b[39;49m\n",
      "\u001b[1;31mTypeError\u001b[0m: can only concatenate str (not \"int\") to str"
     ]
    }
   ],
   "source": [
    "\"rishi\" + 32"
   ]
  },
  {
   "cell_type": "code",
   "execution_count": 18,
   "id": "f1d3d22a",
   "metadata": {},
   "outputs": [
    {
     "data": {
      "text/plain": [
       "46"
      ]
     },
     "execution_count": 18,
     "metadata": {},
     "output_type": "execute_result"
    }
   ],
   "source": [
    "True+45"
   ]
  },
  {
   "cell_type": "code",
   "execution_count": 19,
   "id": "b7b0a71d",
   "metadata": {},
   "outputs": [
    {
     "ename": "TypeError",
     "evalue": "unsupported operand type(s) for -: 'NoneType' and 'int'",
     "output_type": "error",
     "traceback": [
      "\u001b[1;31m---------------------------------------------------------------------------\u001b[0m",
      "\u001b[1;31mTypeError\u001b[0m                                 Traceback (most recent call last)",
      "Cell \u001b[1;32mIn[19], line 1\u001b[0m\n\u001b[1;32m----> 1\u001b[0m \u001b[38;5;28;43;01mNone\u001b[39;49;00m\u001b[38;5;241;43m-\u001b[39;49m\u001b[38;5;241;43m56\u001b[39;49m\n",
      "\u001b[1;31mTypeError\u001b[0m: unsupported operand type(s) for -: 'NoneType' and 'int'"
     ]
    }
   ],
   "source": [
    "None-56"
   ]
  },
  {
   "cell_type": "code",
   "execution_count": 20,
   "id": "e826c9a0",
   "metadata": {},
   "outputs": [
    {
     "data": {
      "text/plain": [
       "35"
      ]
     },
     "execution_count": 20,
     "metadata": {},
     "output_type": "execute_result"
    }
   ],
   "source": [
    "True+34"
   ]
  },
  {
   "cell_type": "code",
   "execution_count": 21,
   "id": "f8d46f21",
   "metadata": {},
   "outputs": [
    {
     "data": {
      "text/plain": [
       "2"
      ]
     },
     "execution_count": 21,
     "metadata": {},
     "output_type": "execute_result"
    }
   ],
   "source": [
    "True + True"
   ]
  },
  {
   "cell_type": "code",
   "execution_count": 24,
   "id": "cde6a19a",
   "metadata": {},
   "outputs": [
    {
     "data": {
      "text/plain": [
       "int"
      ]
     },
     "execution_count": 24,
     "metadata": {},
     "output_type": "execute_result"
    }
   ],
   "source": [
    "type(True + 12)"
   ]
  },
  {
   "cell_type": "code",
   "execution_count": 26,
   "id": "a3a208ad",
   "metadata": {},
   "outputs": [
    {
     "name": "stdout",
     "output_type": "stream",
     "text": [
      "24\n"
     ]
    }
   ],
   "source": [
    "print(True + 23)"
   ]
  },
  {
   "cell_type": "code",
   "execution_count": 27,
   "id": "6e534a61",
   "metadata": {},
   "outputs": [
    {
     "ename": "NameError",
     "evalue": "name 'abc' is not defined",
     "output_type": "error",
     "traceback": [
      "\u001b[1;31m---------------------------------------------------------------------------\u001b[0m",
      "\u001b[1;31mNameError\u001b[0m                                 Traceback (most recent call last)",
      "Cell \u001b[1;32mIn[27], line 1\u001b[0m\n\u001b[1;32m----> 1\u001b[0m \u001b[38;5;28mprint\u001b[39m(\u001b[43mabc\u001b[49m \u001b[38;5;241m+\u001b[39m \u001b[38;5;241m23\u001b[39m)\n",
      "\u001b[1;31mNameError\u001b[0m: name 'abc' is not defined"
     ]
    }
   ],
   "source": [
    "print(abc + 23)"
   ]
  },
  {
   "cell_type": "code",
   "execution_count": 29,
   "id": "fd865fe3",
   "metadata": {},
   "outputs": [
    {
     "name": "stdout",
     "output_type": "stream",
     "text": [
      "abc34\n"
     ]
    }
   ],
   "source": [
    "print(\"abc\"+\"34\")"
   ]
  },
  {
   "cell_type": "code",
   "execution_count": 31,
   "id": "43143075",
   "metadata": {},
   "outputs": [
    {
     "data": {
      "text/plain": [
       "'abc23'"
      ]
     },
     "execution_count": 31,
     "metadata": {},
     "output_type": "execute_result"
    }
   ],
   "source": [
    "\"abc\"  + \"23\""
   ]
  },
  {
   "cell_type": "code",
   "execution_count": 37,
   "id": "ec9232f7",
   "metadata": {},
   "outputs": [
    {
     "name": "stdout",
     "output_type": "stream",
     "text": [
      "x+23\n"
     ]
    }
   ],
   "source": [
    "print('x+23')"
   ]
  },
  {
   "cell_type": "code",
   "execution_count": 45,
   "id": "26568078",
   "metadata": {},
   "outputs": [
    {
     "data": {
      "text/plain": [
       "str"
      ]
     },
     "execution_count": 45,
     "metadata": {},
     "output_type": "execute_result"
    }
   ],
   "source": [
    "type('x+23')"
   ]
  },
  {
   "cell_type": "code",
   "execution_count": 12,
   "id": "77aa3476",
   "metadata": {},
   "outputs": [
    {
     "data": {
      "text/plain": [
       "tuple"
      ]
     },
     "execution_count": 12,
     "metadata": {},
     "output_type": "execute_result"
    }
   ],
   "source": [
    "z = ('hello','rishi','singh',78,'hello')\n",
    "z.count(\"hello\")\n",
    "type(z)"
   ]
  },
  {
   "cell_type": "code",
   "execution_count": null,
   "id": "94db4b8d",
   "metadata": {},
   "outputs": [],
   "source": []
  }
 ],
 "metadata": {
  "kernelspec": {
   "display_name": "Python 3 (ipykernel)",
   "language": "python",
   "name": "python3"
  },
  "language_info": {
   "codemirror_mode": {
    "name": "ipython",
    "version": 3
   },
   "file_extension": ".py",
   "mimetype": "text/x-python",
   "name": "python",
   "nbconvert_exporter": "python",
   "pygments_lexer": "ipython3",
   "version": "3.10.9"
  }
 },
 "nbformat": 4,
 "nbformat_minor": 5
}
